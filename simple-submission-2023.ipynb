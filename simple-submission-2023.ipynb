{
 "cells": [
  {
   "cell_type": "code",
   "execution_count": 1,
   "id": "d0a8ea8c",
   "metadata": {
    "_cell_guid": "b1076dfc-b9ad-4769-8c92-a6c4dae69d19",
    "_uuid": "8f2839f25d086af736a60e9eeb907d3b93b6e0e5",
    "execution": {
     "iopub.execute_input": "2023-03-08T14:43:43.873286Z",
     "iopub.status.busy": "2023-03-08T14:43:43.872596Z",
     "iopub.status.idle": "2023-03-08T14:43:47.000696Z",
     "shell.execute_reply": "2023-03-08T14:43:46.999387Z"
    },
    "papermill": {
     "duration": 3.172096,
     "end_time": "2023-03-08T14:43:47.000897",
     "exception": false,
     "start_time": "2023-03-08T14:43:43.828801",
     "status": "completed"
    },
    "tags": []
   },
   "outputs": [],
   "source": [
    "\n",
    "import numpy as np # linear algebra\n",
    "import pandas as pd # data processing, CSV file I/O (e.g. pd.read_csv)\n",
    "import os\n",
    "import json\n",
    "import librosa\n",
    "import librosa.display\n",
    "import matplotlib.pyplot as plt\n",
    "from scipy import signal\n",
    "from scipy.io import wavfile\n",
    "#reading CSV with pandas\n",
    "Taxonomy = pd.read_csv('../input/birdclef-2022/eBird_Taxonomy_v2021.csv')\n",
    "test = pd.read_csv('../input/birdclef-2022/test.csv')\n",
    "train_metadata = pd.read_csv('../input/birdclef-2022/train_metadata.csv')\n",
    "submission = pd.read_csv('../input/birdclef-2022/sample_submission.csv')\n",
    "from os import path\n",
    "from pydub import AudioSegment\n",
    "import seaborn as sns\n",
    "from scipy.io.wavfile import read\n",
    "from statsmodels.graphics.tsaplots import plot_acf\n",
    "from scipy import signal\n",
    "from scipy.io import wavfile\n",
    "\n",
    "\n",
    "#transform into dataframe\n",
    "df_taxonomy = pd.DataFrame(Taxonomy)\n",
    "\n",
    "df_test = pd.DataFrame(test)\n",
    "\n",
    "df_train = pd.DataFrame(train_metadata)\n",
    "\n",
    "df_submission = pd.DataFrame(submission)\n",
    "\n",
    "\n",
    "\n",
    "\n",
    "\n",
    "\n",
    "\n"
   ]
  },
  {
   "cell_type": "markdown",
   "id": "db750c14",
   "metadata": {
    "papermill": {
     "duration": 0.030035,
     "end_time": "2023-03-08T14:43:47.062004",
     "exception": false,
     "start_time": "2023-03-08T14:43:47.031969",
     "status": "completed"
    },
    "tags": []
   },
   "source": []
  },
  {
   "cell_type": "code",
   "execution_count": 2,
   "id": "f74c42d1",
   "metadata": {
    "execution": {
     "iopub.execute_input": "2023-03-08T14:43:47.127765Z",
     "iopub.status.busy": "2023-03-08T14:43:47.126618Z",
     "iopub.status.idle": "2023-03-08T14:43:47.136709Z",
     "shell.execute_reply": "2023-03-08T14:43:47.136129Z"
    },
    "papermill": {
     "duration": 0.044793,
     "end_time": "2023-03-08T14:43:47.136867",
     "exception": false,
     "start_time": "2023-03-08T14:43:47.092074",
     "status": "completed"
    },
    "tags": []
   },
   "outputs": [],
   "source": [
    "#opening the scored bird file\n",
    "with open('../input/birdclef-2022/scored_birds.json','r') as f:\n",
    "    data = json.load(f)\n",
    "    "
   ]
  },
  {
   "cell_type": "code",
   "execution_count": 3,
   "id": "34a0da5d",
   "metadata": {
    "execution": {
     "iopub.execute_input": "2023-03-08T14:43:47.208021Z",
     "iopub.status.busy": "2023-03-08T14:43:47.207121Z",
     "iopub.status.idle": "2023-03-08T14:43:49.203737Z",
     "shell.execute_reply": "2023-03-08T14:43:49.203176Z"
    },
    "papermill": {
     "duration": 2.036839,
     "end_time": "2023-03-08T14:43:49.203886",
     "exception": false,
     "start_time": "2023-03-08T14:43:47.167047",
     "status": "completed"
    },
    "tags": []
   },
   "outputs": [],
   "source": [
    "#index of the scored rows\n",
    "index_row_scored = []\n",
    "for i in data:\n",
    "    a=i.strip('\"')\n",
    "    for j in range(len(df_train[\"primary_label\"])):\n",
    "        if df_train[\"primary_label\"][j] == a:\n",
    "            index_row_scored.append(j)\n"
   ]
  },
  {
   "cell_type": "code",
   "execution_count": 4,
   "id": "cbdcce56",
   "metadata": {
    "execution": {
     "iopub.execute_input": "2023-03-08T14:43:49.276234Z",
     "iopub.status.busy": "2023-03-08T14:43:49.275484Z",
     "iopub.status.idle": "2023-03-08T14:43:49.752963Z",
     "shell.execute_reply": "2023-03-08T14:43:49.753561Z"
    },
    "papermill": {
     "duration": 0.516754,
     "end_time": "2023-03-08T14:43:49.753758",
     "exception": false,
     "start_time": "2023-03-08T14:43:49.237004",
     "status": "completed"
    },
    "tags": []
   },
   "outputs": [],
   "source": [
    "\n",
    "from os import listdir\n",
    "from os.path import isfile, join\n",
    "rated_list = []\n",
    "for i in data:\n",
    "    onlyfiles = [f for f in listdir(\"../input/birdclef-2022/train_audio/\"+i) if isfile(join(\"../input/birdclef-2022/train_audio/\"+i,f))]\n",
    "    rated_list.append(i)\n",
    "    rated_list.append(onlyfiles)\n",
    "    "
   ]
  },
  {
   "cell_type": "code",
   "execution_count": 5,
   "id": "bdfd4c3e",
   "metadata": {
    "execution": {
     "iopub.execute_input": "2023-03-08T14:43:49.823008Z",
     "iopub.status.busy": "2023-03-08T14:43:49.821917Z",
     "iopub.status.idle": "2023-03-08T14:43:49.825073Z",
     "shell.execute_reply": "2023-03-08T14:43:49.824368Z"
    },
    "papermill": {
     "duration": 0.039638,
     "end_time": "2023-03-08T14:43:49.825224",
     "exception": false,
     "start_time": "2023-03-08T14:43:49.785586",
     "status": "completed"
    },
    "tags": []
   },
   "outputs": [],
   "source": [
    "#Function to extract features from the audios\n",
    "def features_extractor(file):\n",
    "    #load the file (audio)\n",
    "    audio, sample_rate = librosa.load(file_name, res_type='kaiser_fast') \n",
    "    #we extract mfcc\n",
    "    mfccs_features = librosa.feature.mfcc(y=audio, sr=sample_rate, n_mfcc=40)\n",
    "    #in order to find out scaled feature we do mean of transpose of value\n",
    "    mfccs_scaled_features = np.mean(mfccs_features.T,axis=0)\n",
    "    return mfccs_scaled_features\n"
   ]
  },
  {
   "cell_type": "code",
   "execution_count": 6,
   "id": "3deaeb18",
   "metadata": {
    "execution": {
     "iopub.execute_input": "2023-03-08T14:43:49.894091Z",
     "iopub.status.busy": "2023-03-08T14:43:49.893363Z",
     "iopub.status.idle": "2023-03-08T14:43:56.993389Z",
     "shell.execute_reply": "2023-03-08T14:43:56.992604Z"
    },
    "papermill": {
     "duration": 7.136234,
     "end_time": "2023-03-08T14:43:56.993562",
     "exception": false,
     "start_time": "2023-03-08T14:43:49.857328",
     "status": "completed"
    },
    "tags": []
   },
   "outputs": [],
   "source": [
    "#We will use a dataframe with the scored birds just to see that everything works fine \n",
    "#without spending so much time\n",
    "df_scored = df_train.copy()\n",
    "for i in df_train.index:\n",
    "    #if df_train['rating'][i]<2.5:\n",
    "        #df_train.drop([i],axis = 0, inplace = True)\n",
    "    if i not in index_row_scored:\n",
    "        df_scored.loc[i,'primary_label'] = 'other'"
   ]
  },
  {
   "cell_type": "code",
   "execution_count": 7,
   "id": "7e6da641",
   "metadata": {
    "execution": {
     "iopub.execute_input": "2023-03-08T14:43:57.069948Z",
     "iopub.status.busy": "2023-03-08T14:43:57.069262Z",
     "iopub.status.idle": "2023-03-08T14:43:57.094538Z",
     "shell.execute_reply": "2023-03-08T14:43:57.095042Z"
    },
    "papermill": {
     "duration": 0.069316,
     "end_time": "2023-03-08T14:43:57.095227",
     "exception": false,
     "start_time": "2023-03-08T14:43:57.025911",
     "status": "completed"
    },
    "tags": []
   },
   "outputs": [
    {
     "data": {
      "text/html": [
       "<div>\n",
       "<style scoped>\n",
       "    .dataframe tbody tr th:only-of-type {\n",
       "        vertical-align: middle;\n",
       "    }\n",
       "\n",
       "    .dataframe tbody tr th {\n",
       "        vertical-align: top;\n",
       "    }\n",
       "\n",
       "    .dataframe thead th {\n",
       "        text-align: right;\n",
       "    }\n",
       "</style>\n",
       "<table border=\"1\" class=\"dataframe\">\n",
       "  <thead>\n",
       "    <tr style=\"text-align: right;\">\n",
       "      <th></th>\n",
       "      <th>primary_label</th>\n",
       "      <th>secondary_labels</th>\n",
       "      <th>type</th>\n",
       "      <th>latitude</th>\n",
       "      <th>longitude</th>\n",
       "      <th>scientific_name</th>\n",
       "      <th>common_name</th>\n",
       "      <th>author</th>\n",
       "      <th>license</th>\n",
       "      <th>rating</th>\n",
       "      <th>time</th>\n",
       "      <th>url</th>\n",
       "      <th>filename</th>\n",
       "    </tr>\n",
       "  </thead>\n",
       "  <tbody>\n",
       "    <tr>\n",
       "      <th>0</th>\n",
       "      <td>other</td>\n",
       "      <td>[]</td>\n",
       "      <td>['call', 'flight call']</td>\n",
       "      <td>12.3910</td>\n",
       "      <td>-1.4930</td>\n",
       "      <td>Euodice cantans</td>\n",
       "      <td>African Silverbill</td>\n",
       "      <td>Bram Piot</td>\n",
       "      <td>Creative Commons Attribution-NonCommercial-Sha...</td>\n",
       "      <td>2.5</td>\n",
       "      <td>08:00</td>\n",
       "      <td>https://www.xeno-canto.org/125458</td>\n",
       "      <td>afrsil1/XC125458.ogg</td>\n",
       "    </tr>\n",
       "    <tr>\n",
       "      <th>1</th>\n",
       "      <td>other</td>\n",
       "      <td>['houspa', 'redava', 'zebdov']</td>\n",
       "      <td>['call']</td>\n",
       "      <td>19.8801</td>\n",
       "      <td>-155.7254</td>\n",
       "      <td>Euodice cantans</td>\n",
       "      <td>African Silverbill</td>\n",
       "      <td>Dan Lane</td>\n",
       "      <td>Creative Commons Attribution-NonCommercial-Sha...</td>\n",
       "      <td>3.5</td>\n",
       "      <td>08:30</td>\n",
       "      <td>https://www.xeno-canto.org/175522</td>\n",
       "      <td>afrsil1/XC175522.ogg</td>\n",
       "    </tr>\n",
       "    <tr>\n",
       "      <th>2</th>\n",
       "      <td>other</td>\n",
       "      <td>[]</td>\n",
       "      <td>['call', 'song']</td>\n",
       "      <td>16.2901</td>\n",
       "      <td>-16.0321</td>\n",
       "      <td>Euodice cantans</td>\n",
       "      <td>African Silverbill</td>\n",
       "      <td>Bram Piot</td>\n",
       "      <td>Creative Commons Attribution-NonCommercial-Sha...</td>\n",
       "      <td>4.0</td>\n",
       "      <td>11:30</td>\n",
       "      <td>https://www.xeno-canto.org/177993</td>\n",
       "      <td>afrsil1/XC177993.ogg</td>\n",
       "    </tr>\n",
       "    <tr>\n",
       "      <th>3</th>\n",
       "      <td>other</td>\n",
       "      <td>[]</td>\n",
       "      <td>['alarm call', 'call']</td>\n",
       "      <td>17.0922</td>\n",
       "      <td>54.2958</td>\n",
       "      <td>Euodice cantans</td>\n",
       "      <td>African Silverbill</td>\n",
       "      <td>Oscar Campbell</td>\n",
       "      <td>Creative Commons Attribution-NonCommercial-Sha...</td>\n",
       "      <td>4.0</td>\n",
       "      <td>11:00</td>\n",
       "      <td>https://www.xeno-canto.org/205893</td>\n",
       "      <td>afrsil1/XC205893.ogg</td>\n",
       "    </tr>\n",
       "    <tr>\n",
       "      <th>4</th>\n",
       "      <td>other</td>\n",
       "      <td>[]</td>\n",
       "      <td>['flight call']</td>\n",
       "      <td>21.4581</td>\n",
       "      <td>-157.7252</td>\n",
       "      <td>Euodice cantans</td>\n",
       "      <td>African Silverbill</td>\n",
       "      <td>Ross Gallardy</td>\n",
       "      <td>Creative Commons Attribution-NonCommercial-Sha...</td>\n",
       "      <td>3.0</td>\n",
       "      <td>16:30</td>\n",
       "      <td>https://www.xeno-canto.org/207431</td>\n",
       "      <td>afrsil1/XC207431.ogg</td>\n",
       "    </tr>\n",
       "    <tr>\n",
       "      <th>...</th>\n",
       "      <td>...</td>\n",
       "      <td>...</td>\n",
       "      <td>...</td>\n",
       "      <td>...</td>\n",
       "      <td>...</td>\n",
       "      <td>...</td>\n",
       "      <td>...</td>\n",
       "      <td>...</td>\n",
       "      <td>...</td>\n",
       "      <td>...</td>\n",
       "      <td>...</td>\n",
       "      <td>...</td>\n",
       "      <td>...</td>\n",
       "    </tr>\n",
       "    <tr>\n",
       "      <th>14847</th>\n",
       "      <td>other</td>\n",
       "      <td>[]</td>\n",
       "      <td>['adult', 'song']</td>\n",
       "      <td>22.6499</td>\n",
       "      <td>120.2872</td>\n",
       "      <td>Geopelia striata</td>\n",
       "      <td>Zebra Dove</td>\n",
       "      <td>Jerome Chie-Jen Ko</td>\n",
       "      <td>Creative Commons Attribution-NonCommercial-Sha...</td>\n",
       "      <td>2.5</td>\n",
       "      <td>08:36</td>\n",
       "      <td>https://www.xeno-canto.org/629769</td>\n",
       "      <td>zebdov/XC629769.ogg</td>\n",
       "    </tr>\n",
       "    <tr>\n",
       "      <th>14848</th>\n",
       "      <td>other</td>\n",
       "      <td>[]</td>\n",
       "      <td>['adult', 'sex uncertain', 'song']</td>\n",
       "      <td>1.4168</td>\n",
       "      <td>103.7287</td>\n",
       "      <td>Geopelia striata</td>\n",
       "      <td>Zebra Dove</td>\n",
       "      <td>Kim Chuah Lim</td>\n",
       "      <td>Creative Commons Attribution-NonCommercial-Sha...</td>\n",
       "      <td>4.0</td>\n",
       "      <td>08:00</td>\n",
       "      <td>https://www.xeno-canto.org/642415</td>\n",
       "      <td>zebdov/XC642415.ogg</td>\n",
       "    </tr>\n",
       "    <tr>\n",
       "      <th>14849</th>\n",
       "      <td>other</td>\n",
       "      <td>[]</td>\n",
       "      <td>['adult', 'call', 'sex uncertain']</td>\n",
       "      <td>1.4347</td>\n",
       "      <td>103.7043</td>\n",
       "      <td>Geopelia striata</td>\n",
       "      <td>Zebra Dove</td>\n",
       "      <td>Kim Chuah Lim</td>\n",
       "      <td>Creative Commons Attribution-NonCommercial-Sha...</td>\n",
       "      <td>4.0</td>\n",
       "      <td>09:00</td>\n",
       "      <td>https://www.xeno-canto.org/665873</td>\n",
       "      <td>zebdov/XC665873.ogg</td>\n",
       "    </tr>\n",
       "    <tr>\n",
       "      <th>14850</th>\n",
       "      <td>other</td>\n",
       "      <td>[]</td>\n",
       "      <td>['song']</td>\n",
       "      <td>3.3508</td>\n",
       "      <td>101.2451</td>\n",
       "      <td>Geopelia striata</td>\n",
       "      <td>Zebra Dove</td>\n",
       "      <td>Jelle Scharringa</td>\n",
       "      <td>Creative Commons Attribution-NonCommercial-Sha...</td>\n",
       "      <td>2.5</td>\n",
       "      <td>11:15</td>\n",
       "      <td>https://www.xeno-canto.org/666194</td>\n",
       "      <td>zebdov/XC666194.ogg</td>\n",
       "    </tr>\n",
       "    <tr>\n",
       "      <th>14851</th>\n",
       "      <td>other</td>\n",
       "      <td>[]</td>\n",
       "      <td>['song']</td>\n",
       "      <td>3.3508</td>\n",
       "      <td>101.2451</td>\n",
       "      <td>Geopelia striata</td>\n",
       "      <td>Zebra Dove</td>\n",
       "      <td>Jelle Scharringa</td>\n",
       "      <td>Creative Commons Attribution-NonCommercial-Sha...</td>\n",
       "      <td>2.5</td>\n",
       "      <td>10:00</td>\n",
       "      <td>https://www.xeno-canto.org/666195</td>\n",
       "      <td>zebdov/XC666195.ogg</td>\n",
       "    </tr>\n",
       "  </tbody>\n",
       "</table>\n",
       "<p>14852 rows × 13 columns</p>\n",
       "</div>"
      ],
      "text/plain": [
       "      primary_label                secondary_labels  \\\n",
       "0             other                              []   \n",
       "1             other  ['houspa', 'redava', 'zebdov']   \n",
       "2             other                              []   \n",
       "3             other                              []   \n",
       "4             other                              []   \n",
       "...             ...                             ...   \n",
       "14847         other                              []   \n",
       "14848         other                              []   \n",
       "14849         other                              []   \n",
       "14850         other                              []   \n",
       "14851         other                              []   \n",
       "\n",
       "                                     type  latitude  longitude  \\\n",
       "0                 ['call', 'flight call']   12.3910    -1.4930   \n",
       "1                                ['call']   19.8801  -155.7254   \n",
       "2                        ['call', 'song']   16.2901   -16.0321   \n",
       "3                  ['alarm call', 'call']   17.0922    54.2958   \n",
       "4                         ['flight call']   21.4581  -157.7252   \n",
       "...                                   ...       ...        ...   \n",
       "14847                   ['adult', 'song']   22.6499   120.2872   \n",
       "14848  ['adult', 'sex uncertain', 'song']    1.4168   103.7287   \n",
       "14849  ['adult', 'call', 'sex uncertain']    1.4347   103.7043   \n",
       "14850                            ['song']    3.3508   101.2451   \n",
       "14851                            ['song']    3.3508   101.2451   \n",
       "\n",
       "        scientific_name         common_name              author  \\\n",
       "0       Euodice cantans  African Silverbill           Bram Piot   \n",
       "1       Euodice cantans  African Silverbill            Dan Lane   \n",
       "2       Euodice cantans  African Silverbill           Bram Piot   \n",
       "3       Euodice cantans  African Silverbill      Oscar Campbell   \n",
       "4       Euodice cantans  African Silverbill       Ross Gallardy   \n",
       "...                 ...                 ...                 ...   \n",
       "14847  Geopelia striata          Zebra Dove  Jerome Chie-Jen Ko   \n",
       "14848  Geopelia striata          Zebra Dove       Kim Chuah Lim   \n",
       "14849  Geopelia striata          Zebra Dove       Kim Chuah Lim   \n",
       "14850  Geopelia striata          Zebra Dove    Jelle Scharringa   \n",
       "14851  Geopelia striata          Zebra Dove    Jelle Scharringa   \n",
       "\n",
       "                                                 license  rating   time  \\\n",
       "0      Creative Commons Attribution-NonCommercial-Sha...     2.5  08:00   \n",
       "1      Creative Commons Attribution-NonCommercial-Sha...     3.5  08:30   \n",
       "2      Creative Commons Attribution-NonCommercial-Sha...     4.0  11:30   \n",
       "3      Creative Commons Attribution-NonCommercial-Sha...     4.0  11:00   \n",
       "4      Creative Commons Attribution-NonCommercial-Sha...     3.0  16:30   \n",
       "...                                                  ...     ...    ...   \n",
       "14847  Creative Commons Attribution-NonCommercial-Sha...     2.5  08:36   \n",
       "14848  Creative Commons Attribution-NonCommercial-Sha...     4.0  08:00   \n",
       "14849  Creative Commons Attribution-NonCommercial-Sha...     4.0  09:00   \n",
       "14850  Creative Commons Attribution-NonCommercial-Sha...     2.5  11:15   \n",
       "14851  Creative Commons Attribution-NonCommercial-Sha...     2.5  10:00   \n",
       "\n",
       "                                     url              filename  \n",
       "0      https://www.xeno-canto.org/125458  afrsil1/XC125458.ogg  \n",
       "1      https://www.xeno-canto.org/175522  afrsil1/XC175522.ogg  \n",
       "2      https://www.xeno-canto.org/177993  afrsil1/XC177993.ogg  \n",
       "3      https://www.xeno-canto.org/205893  afrsil1/XC205893.ogg  \n",
       "4      https://www.xeno-canto.org/207431  afrsil1/XC207431.ogg  \n",
       "...                                  ...                   ...  \n",
       "14847  https://www.xeno-canto.org/629769   zebdov/XC629769.ogg  \n",
       "14848  https://www.xeno-canto.org/642415   zebdov/XC642415.ogg  \n",
       "14849  https://www.xeno-canto.org/665873   zebdov/XC665873.ogg  \n",
       "14850  https://www.xeno-canto.org/666194   zebdov/XC666194.ogg  \n",
       "14851  https://www.xeno-canto.org/666195   zebdov/XC666195.ogg  \n",
       "\n",
       "[14852 rows x 13 columns]"
      ]
     },
     "execution_count": 7,
     "metadata": {},
     "output_type": "execute_result"
    }
   ],
   "source": [
    "df_scored"
   ]
  },
  {
   "cell_type": "code",
   "execution_count": 8,
   "id": "7fae11cf",
   "metadata": {
    "execution": {
     "iopub.execute_input": "2023-03-08T14:43:57.163469Z",
     "iopub.status.busy": "2023-03-08T14:43:57.162785Z",
     "iopub.status.idle": "2023-03-08T17:06:24.022897Z",
     "shell.execute_reply": "2023-03-08T17:06:24.024048Z"
    },
    "papermill": {
     "duration": 8546.896488,
     "end_time": "2023-03-08T17:06:24.024482",
     "exception": false,
     "start_time": "2023-03-08T14:43:57.127994",
     "status": "completed"
    },
    "tags": []
   },
   "outputs": [
    {
     "name": "stderr",
     "output_type": "stream",
     "text": [
      "1423it [10:41,  1.68it/s]/opt/conda/lib/python3.7/site-packages/librosa/util/decorators.py:88: UserWarning: n_fft=2048 is too small for input signal of length=769\n",
      "  return f(*args, **kwargs)\n",
      "14852it [2:22:26,  1.74it/s]\n"
     ]
    }
   ],
   "source": [
    "\n",
    "from tqdm import tqdm\n",
    "# Now we iterate through every audio file and extract features \n",
    "# using Mel-Frequency Cepstral Coefficients\n",
    "extracted_features=[]\n",
    "for index_num,row in tqdm(df_scored.iterrows()):\n",
    "    file_name = os.path.join(os.path.abspath(\"../input/birdclef-2022/train_audio/\"),str(row[\"filename\"]))\n",
    "    final_class_labels=row[\"primary_label\"]\n",
    "    data=features_extractor(file_name)\n",
    "    extracted_features.append([data,final_class_labels])"
   ]
  },
  {
   "cell_type": "code",
   "execution_count": 9,
   "id": "5e6dcf6e",
   "metadata": {
    "execution": {
     "iopub.execute_input": "2023-03-08T17:06:34.135938Z",
     "iopub.status.busy": "2023-03-08T17:06:34.135235Z",
     "iopub.status.idle": "2023-03-08T17:06:34.158677Z",
     "shell.execute_reply": "2023-03-08T17:06:34.157878Z"
    },
    "papermill": {
     "duration": 5.089809,
     "end_time": "2023-03-08T17:06:34.158863",
     "exception": false,
     "start_time": "2023-03-08T17:06:29.069054",
     "status": "completed"
    },
    "tags": []
   },
   "outputs": [
    {
     "data": {
      "text/html": [
       "<div>\n",
       "<style scoped>\n",
       "    .dataframe tbody tr th:only-of-type {\n",
       "        vertical-align: middle;\n",
       "    }\n",
       "\n",
       "    .dataframe tbody tr th {\n",
       "        vertical-align: top;\n",
       "    }\n",
       "\n",
       "    .dataframe thead th {\n",
       "        text-align: right;\n",
       "    }\n",
       "</style>\n",
       "<table border=\"1\" class=\"dataframe\">\n",
       "  <thead>\n",
       "    <tr style=\"text-align: right;\">\n",
       "      <th></th>\n",
       "      <th>feature</th>\n",
       "      <th>primary_label</th>\n",
       "    </tr>\n",
       "  </thead>\n",
       "  <tbody>\n",
       "    <tr>\n",
       "      <th>0</th>\n",
       "      <td>[-209.96172, 140.32973, 21.45812, 29.218266, -...</td>\n",
       "      <td>other</td>\n",
       "    </tr>\n",
       "    <tr>\n",
       "      <th>1</th>\n",
       "      <td>[-415.57217, -15.821701, -135.9282, -53.240498...</td>\n",
       "      <td>other</td>\n",
       "    </tr>\n",
       "    <tr>\n",
       "      <th>2</th>\n",
       "      <td>[-337.71393, -79.26902, -65.06684, -21.978933,...</td>\n",
       "      <td>other</td>\n",
       "    </tr>\n",
       "    <tr>\n",
       "      <th>3</th>\n",
       "      <td>[-313.7879, 40.414795, 4.386944, 25.52493, -12...</td>\n",
       "      <td>other</td>\n",
       "    </tr>\n",
       "    <tr>\n",
       "      <th>4</th>\n",
       "      <td>[-370.467, -31.756365, -94.0014, 3.2903733, -2...</td>\n",
       "      <td>other</td>\n",
       "    </tr>\n",
       "  </tbody>\n",
       "</table>\n",
       "</div>"
      ],
      "text/plain": [
       "                                             feature primary_label\n",
       "0  [-209.96172, 140.32973, 21.45812, 29.218266, -...         other\n",
       "1  [-415.57217, -15.821701, -135.9282, -53.240498...         other\n",
       "2  [-337.71393, -79.26902, -65.06684, -21.978933,...         other\n",
       "3  [-313.7879, 40.414795, 4.386944, 25.52493, -12...         other\n",
       "4  [-370.467, -31.756365, -94.0014, 3.2903733, -2...         other"
      ]
     },
     "execution_count": 9,
     "metadata": {},
     "output_type": "execute_result"
    }
   ],
   "source": [
    "extracted_features_df=pd.DataFrame(extracted_features,columns=['feature','primary_label'])\n",
    "extracted_features_df.head()"
   ]
  },
  {
   "cell_type": "code",
   "execution_count": 10,
   "id": "6c4ef675",
   "metadata": {
    "execution": {
     "iopub.execute_input": "2023-03-08T17:06:44.408488Z",
     "iopub.status.busy": "2023-03-08T17:06:44.407568Z",
     "iopub.status.idle": "2023-03-08T17:06:51.438819Z",
     "shell.execute_reply": "2023-03-08T17:06:51.438201Z"
    },
    "papermill": {
     "duration": 12.087573,
     "end_time": "2023-03-08T17:06:51.438992",
     "exception": false,
     "start_time": "2023-03-08T17:06:39.351419",
     "status": "completed"
    },
    "tags": []
   },
   "outputs": [],
   "source": [
    "#Now we split the data into train and test\n",
    "from imblearn.over_sampling import RandomOverSampler #we improved accuracy with this!\n",
    "oversample = RandomOverSampler(sampling_strategy='minority')\n",
    "# Split the dataset into independent and dependent dataset\n",
    "X=np.array(extracted_features_df['feature'].tolist())\n",
    "y=np.array(extracted_features_df['primary_label'].tolist())\n",
    "# Label Encoding -> Label Encoder\n",
    "from tensorflow.keras.utils import to_categorical\n",
    "from sklearn.preprocessing import LabelEncoder\n",
    "labelencoder=LabelEncoder()\n",
    "y=to_categorical(labelencoder.fit_transform(y))\n",
    "### Train Test Split\n",
    "from sklearn.model_selection import train_test_split\n",
    "#X,y = oversample.fit_resample(X, y)\n",
    "X_train,X_test,y_train,y_test=train_test_split(X,y,test_size=0.02)"
   ]
  },
  {
   "cell_type": "code",
   "execution_count": 11,
   "id": "89d0e4a5",
   "metadata": {
    "execution": {
     "iopub.execute_input": "2023-03-08T17:07:01.599301Z",
     "iopub.status.busy": "2023-03-08T17:07:01.598269Z",
     "iopub.status.idle": "2023-03-08T17:12:28.297357Z",
     "shell.execute_reply": "2023-03-08T17:12:28.296762Z"
    },
    "papermill": {
     "duration": 331.802075,
     "end_time": "2023-03-08T17:12:28.297547",
     "exception": false,
     "start_time": "2023-03-08T17:06:56.495472",
     "status": "completed"
    },
    "tags": []
   },
   "outputs": [
    {
     "name": "stdout",
     "output_type": "stream",
     "text": [
      "              precision    recall  f1-score   support\n",
      "\n",
      "           0       0.00      0.00      0.00         1\n",
      "           1       0.00      0.00      0.00         0\n",
      "           2       0.00      0.00      0.00         2\n",
      "           3       0.00      0.00      0.00         1\n",
      "           4       0.00      0.00      0.00         0\n",
      "           5       0.00      0.00      0.00         1\n",
      "           6       0.00      0.00      0.00         0\n",
      "           7       0.00      0.00      0.00         0\n",
      "           8       0.00      0.00      0.00         0\n",
      "           9       0.00      0.00      0.00         0\n",
      "          10       0.00      0.00      0.00         0\n",
      "          11       0.00      0.00      0.00         1\n",
      "          12       0.00      0.00      0.00         8\n",
      "          13       0.00      0.00      0.00         0\n",
      "          14       0.00      0.00      0.00         1\n",
      "          15       0.00      0.00      0.00         0\n",
      "          16       0.00      0.00      0.00         0\n",
      "          17       0.93      1.00      0.96       273\n",
      "          18       0.00      0.00      0.00         0\n",
      "          19       1.00      0.33      0.50         6\n",
      "          20       0.00      0.00      0.00         1\n",
      "          21       0.00      0.00      0.00         3\n",
      "\n",
      "   micro avg       0.93      0.92      0.92       298\n",
      "   macro avg       0.09      0.06      0.07       298\n",
      "weighted avg       0.87      0.92      0.89       298\n",
      " samples avg       0.92      0.92      0.92       298\n",
      "\n"
     ]
    },
    {
     "name": "stderr",
     "output_type": "stream",
     "text": [
      "/opt/conda/lib/python3.7/site-packages/sklearn/metrics/_classification.py:1308: UndefinedMetricWarning: Precision and F-score are ill-defined and being set to 0.0 in labels with no predicted samples. Use `zero_division` parameter to control this behavior.\n",
      "  _warn_prf(average, modifier, msg_start, len(result))\n",
      "/opt/conda/lib/python3.7/site-packages/sklearn/metrics/_classification.py:1308: UndefinedMetricWarning: Recall and F-score are ill-defined and being set to 0.0 in labels with no true samples. Use `zero_division` parameter to control this behavior.\n",
      "  _warn_prf(average, modifier, msg_start, len(result))\n",
      "/opt/conda/lib/python3.7/site-packages/sklearn/metrics/_classification.py:1308: UndefinedMetricWarning: Precision and F-score are ill-defined and being set to 0.0 in samples with no predicted labels. Use `zero_division` parameter to control this behavior.\n",
      "  _warn_prf(average, modifier, msg_start, len(result))\n"
     ]
    }
   ],
   "source": [
    "from sklearn.metrics import classification_report\n",
    "from sklearn.ensemble import RandomForestClassifier\n",
    "trainedforest = RandomForestClassifier(n_estimators = 700).fit(X_train, y_train)\n",
    "predictionforest = trainedforest.predict(X_test)\n",
    "print(classification_report(y_test,predictionforest))"
   ]
  },
  {
   "cell_type": "markdown",
   "id": "d69dacc1",
   "metadata": {
    "papermill": {
     "duration": 5.088106,
     "end_time": "2023-03-08T17:12:38.544162",
     "exception": false,
     "start_time": "2023-03-08T17:12:33.456056",
     "status": "completed"
    },
    "tags": []
   },
   "source": []
  },
  {
   "cell_type": "code",
   "execution_count": 12,
   "id": "1573e53c",
   "metadata": {
    "execution": {
     "iopub.execute_input": "2023-03-08T17:12:48.769648Z",
     "iopub.status.busy": "2023-03-08T17:12:48.768951Z",
     "iopub.status.idle": "2023-03-08T17:12:49.079145Z",
     "shell.execute_reply": "2023-03-08T17:12:49.078578Z"
    },
    "papermill": {
     "duration": 5.379537,
     "end_time": "2023-03-08T17:12:49.079316",
     "exception": false,
     "start_time": "2023-03-08T17:12:43.699779",
     "status": "completed"
    },
    "tags": []
   },
   "outputs": [],
   "source": [
    "#we create feature names\n",
    "X=np.array(extracted_features_df['feature'].tolist())\n",
    "X_t = []\n",
    "X__t = []\n",
    "for j in range(0,40):\n",
    "    X_t = []\n",
    "    for i in range(len(X)):\n",
    "        X_t.append(X[i][j])\n",
    "    X__t.append(X_t)\n",
    "    \n",
    "feature_names = [f\"feature {i}\" for i in range(X.shape[1])]\n"
   ]
  },
  {
   "cell_type": "code",
   "execution_count": 13,
   "id": "2ecfc82a",
   "metadata": {
    "execution": {
     "iopub.execute_input": "2023-03-08T17:12:59.376269Z",
     "iopub.status.busy": "2023-03-08T17:12:59.375538Z",
     "iopub.status.idle": "2023-03-08T17:13:00.063058Z",
     "shell.execute_reply": "2023-03-08T17:13:00.063592Z"
    },
    "papermill": {
     "duration": 5.764706,
     "end_time": "2023-03-08T17:13:00.063773",
     "exception": false,
     "start_time": "2023-03-08T17:12:54.299067",
     "status": "completed"
    },
    "tags": []
   },
   "outputs": [
    {
     "data": {
      "text/plain": [
       "<AxesSubplot:>"
      ]
     },
     "execution_count": 13,
     "metadata": {},
     "output_type": "execute_result"
    },
    {
     "data": {
      "image/png": "[encoded data removed]",
      "text/plain": [
       "<Figure size 800x880 with 1 Axes>"
      ]
     },
     "metadata": {},
     "output_type": "display_data"
    }
   ],
   "source": [
    "#Feature importance\n",
    "from matplotlib.pyplot import figure\n",
    "figure(num = None, figsize=(10,11), dpi = 80, facecolor = 'w', edgecolor = 'k')\n",
    "feat_importances = pd.Series(trainedforest.feature_importances_, index = feature_names)\n",
    "feat_importances.nlargest(40).plot(kind = 'barh')"
   ]
  },
  {
   "cell_type": "code",
   "execution_count": 14,
   "id": "fefad302",
   "metadata": {
    "execution": {
     "iopub.execute_input": "2023-03-08T17:13:10.216461Z",
     "iopub.status.busy": "2023-03-08T17:13:10.215763Z",
     "iopub.status.idle": "2023-03-08T17:13:10.559379Z",
     "shell.execute_reply": "2023-03-08T17:13:10.559882Z"
    },
    "papermill": {
     "duration": 5.445608,
     "end_time": "2023-03-08T17:13:10.560078",
     "exception": false,
     "start_time": "2023-03-08T17:13:05.114470",
     "status": "completed"
    },
    "tags": []
   },
   "outputs": [
    {
     "data": {
      "text/plain": [
       "<AxesSubplot:>"
      ]
     },
     "execution_count": 14,
     "metadata": {},
     "output_type": "execute_result"
    },
    {
     "data": {
      "image/png": "[encoded data removed]",
      "text/plain": [
       "<Figure size 800x880 with 1 Axes>"
      ]
     },
     "metadata": {},
     "output_type": "display_data"
    }
   ],
   "source": [
    "#We use 7 features\n",
    "\n",
    "from matplotlib.pyplot import figure\n",
    "figure(num = None, figsize=(10,11), dpi = 80, facecolor = 'w', edgecolor = 'k')\n",
    "feat_importances = pd.Series(trainedforest.feature_importances_, index = feature_names)\n",
    "feat_importances.nlargest(7).plot(kind = 'barh')"
   ]
  },
  {
   "cell_type": "code",
   "execution_count": 15,
   "id": "1bab09d4",
   "metadata": {
    "execution": {
     "iopub.execute_input": "2023-03-08T17:13:20.811652Z",
     "iopub.status.busy": "2023-03-08T17:13:20.758487Z",
     "iopub.status.idle": "2023-03-08T17:13:21.073595Z",
     "shell.execute_reply": "2023-03-08T17:13:21.073012Z"
    },
    "jupyter": {
     "source_hidden": true
    },
    "papermill": {
     "duration": 5.375772,
     "end_time": "2023-03-08T17:13:21.073752",
     "exception": false,
     "start_time": "2023-03-08T17:13:15.697980",
     "status": "completed"
    },
    "tags": []
   },
   "outputs": [
    {
     "name": "stdout",
     "output_type": "stream",
     "text": [
      "[[-2.09961716e+02  1.40329727e+02  2.92182655e+01 ... -3.11416149e-01\n",
      "   2.38069344e+01  4.18138027e+00]\n",
      " [-4.15572174e+02 -1.58217010e+01 -5.32404976e+01 ... -6.62748146e+00\n",
      "   2.20181198e+01  8.31092358e-01]\n",
      " [-3.37713928e+02 -7.92690201e+01 -2.19789333e+01 ... -1.66052227e+01\n",
      "  -2.42225289e+00 -1.58864288e+01]\n",
      " ...\n",
      " [-2.63763916e+02  1.08203835e+02  1.42176476e+01 ... -1.06825571e+01\n",
      "   3.67041626e+01 -2.24737453e+01]\n",
      " [-1.88085556e+02  4.05243530e+01  1.82351708e+00 ... -8.83461571e+00\n",
      "   1.93095245e+01 -2.69057655e+01]\n",
      " [-1.48702011e+02  6.53274384e+01 -4.06950998e+00 ... -6.78990841e+00\n",
      "   1.79850903e+01 -3.21687737e+01]]\n"
     ]
    },
    {
     "data": {
      "text/plain": [
       "14852"
      ]
     },
     "execution_count": 15,
     "metadata": {},
     "output_type": "execute_result"
    }
   ],
   "source": [
    "#We select the 7 features with more importance in our data\n",
    "X_prueba = X\n",
    "X_prueb = X_prueba.tolist()\n",
    "X_pru = []\n",
    "X_pri = []\n",
    "\n",
    "for i in range(len(X)):\n",
    "    for j in range(0,40):\n",
    "        if j==6 or j==8 or j==3 or j==1 or j==0 or j==7 or j==4:\n",
    "            X_pru.append(X_prueb[i][j])\n",
    "    X_pri.append(X_pru)\n",
    "    X_pru = []\n",
    "            \n",
    "                \n",
    "X_pro = np.array([np.array(xi) for xi in X_pri])\n",
    "print(X_pro)\n",
    "len(X_pro)"
   ]
  },
  {
   "cell_type": "code",
   "execution_count": 16,
   "id": "8383d9bc",
   "metadata": {
    "execution": {
     "iopub.execute_input": "2023-03-08T17:13:31.227085Z",
     "iopub.status.busy": "2023-03-08T17:13:31.226395Z",
     "iopub.status.idle": "2023-03-08T17:13:31.234973Z",
     "shell.execute_reply": "2023-03-08T17:13:31.235577Z"
    },
    "papermill": {
     "duration": 5.026757,
     "end_time": "2023-03-08T17:13:31.235765",
     "exception": false,
     "start_time": "2023-03-08T17:13:26.209008",
     "status": "completed"
    },
    "tags": []
   },
   "outputs": [
    {
     "data": {
      "text/plain": [
       "(2971, 7)"
      ]
     },
     "execution_count": 16,
     "metadata": {},
     "output_type": "execute_result"
    }
   ],
   "source": [
    "#wedivide again between train and test\n",
    "X_train,X_test,y_train,y_test=train_test_split(X_pro,y,test_size=0.2)\n",
    "X_train.shape\n",
    "X_test.shape"
   ]
  },
  {
   "cell_type": "code",
   "execution_count": 17,
   "id": "2c981c7c",
   "metadata": {
    "execution": {
     "iopub.execute_input": "2023-03-08T17:13:41.301912Z",
     "iopub.status.busy": "2023-03-08T17:13:41.299611Z",
     "iopub.status.idle": "2023-03-08T17:13:41.305749Z",
     "shell.execute_reply": "2023-03-08T17:13:41.306256Z"
    },
    "papermill": {
     "duration": 5.112693,
     "end_time": "2023-03-08T17:13:41.306438",
     "exception": false,
     "start_time": "2023-03-08T17:13:36.193745",
     "status": "completed"
    },
    "tags": []
   },
   "outputs": [],
   "source": [
    "from tensorflow.keras.models import Sequential\n",
    "from tensorflow.keras.layers import Dense,Dropout,Activation,Flatten\n",
    "from tensorflow.keras.optimizers import Adam\n",
    "from sklearn import metrics\n",
    "# No of classes\n",
    "num_labels=y.shape[1]"
   ]
  },
  {
   "cell_type": "code",
   "execution_count": 18,
   "id": "7d368d3c",
   "metadata": {
    "execution": {
     "iopub.execute_input": "2023-03-08T17:13:51.387996Z",
     "iopub.status.busy": "2023-03-08T17:13:51.387254Z",
     "iopub.status.idle": "2023-03-08T17:13:51.789939Z",
     "shell.execute_reply": "2023-03-08T17:13:51.789356Z"
    },
    "papermill": {
     "duration": 5.507596,
     "end_time": "2023-03-08T17:13:51.790085",
     "exception": false,
     "start_time": "2023-03-08T17:13:46.282489",
     "status": "completed"
    },
    "tags": []
   },
   "outputs": [],
   "source": [
    "#Creation of the model\n",
    "model=Sequential()\n",
    "###first layer\n",
    "model.add(Dense(100,input_shape=(7,)))\n",
    "model.add(Activation('sigmoid'))\n",
    "model.add(Dropout(0.5))\n",
    "###second layer\n",
    "model.add(Dense(200))\n",
    "model.add(Activation('sigmoid'))\n",
    "model.add(Dropout(0.5))\n",
    "###third layer\n",
    "model.add(Dense(100))\n",
    "model.add(Activation('sigmoid'))\n",
    "model.add(Dropout(0.5))\n",
    "###final layer\n",
    "model.add(Dense(num_labels))\n",
    "model.add(Activation('softmax'))"
   ]
  },
  {
   "cell_type": "code",
   "execution_count": 19,
   "id": "958b1ebd",
   "metadata": {
    "execution": {
     "iopub.execute_input": "2023-03-08T17:14:01.899418Z",
     "iopub.status.busy": "2023-03-08T17:14:01.898696Z",
     "iopub.status.idle": "2023-03-08T17:14:01.912073Z",
     "shell.execute_reply": "2023-03-08T17:14:01.912620Z"
    },
    "papermill": {
     "duration": 5.105663,
     "end_time": "2023-03-08T17:14:01.912802",
     "exception": false,
     "start_time": "2023-03-08T17:13:56.807139",
     "status": "completed"
    },
    "tags": []
   },
   "outputs": [],
   "source": [
    "model.compile(loss='categorical_crossentropy',metrics=['accuracy'],optimizer='adam')"
   ]
  },
  {
   "cell_type": "code",
   "execution_count": 20,
   "id": "563a080b",
   "metadata": {
    "execution": {
     "iopub.execute_input": "2023-03-08T17:14:11.959676Z",
     "iopub.status.busy": "2023-03-08T17:14:11.958596Z",
     "iopub.status.idle": "2023-03-08T17:19:19.766581Z",
     "shell.execute_reply": "2023-03-08T17:19:19.767169Z"
    },
    "papermill": {
     "duration": 312.88213,
     "end_time": "2023-03-08T17:19:19.767390",
     "exception": false,
     "start_time": "2023-03-08T17:14:06.885260",
     "status": "completed"
    },
    "tags": []
   },
   "outputs": [
    {
     "name": "stdout",
     "output_type": "stream",
     "text": [
      "Epoch 1/200\n",
      "372/372 [==============================] - 2s 4ms/step - loss: 0.5818 - accuracy: 0.8996 - val_loss: 0.4340 - val_accuracy: 0.9179\n",
      "\n",
      "Epoch 00001: val_loss improved from inf to 0.43399, saving model to ./audio_classification.hdf5\n",
      "Epoch 2/200\n",
      "372/372 [==============================] - 1s 4ms/step - loss: 0.4906 - accuracy: 0.9140 - val_loss: 0.4274 - val_accuracy: 0.9179\n",
      "\n",
      "Epoch 00002: val_loss improved from 0.43399 to 0.42737, saving model to ./audio_classification.hdf5\n",
      "Epoch 3/200\n",
      "372/372 [==============================] - 1s 4ms/step - loss: 0.4668 - accuracy: 0.9140 - val_loss: 0.4211 - val_accuracy: 0.9179\n",
      "\n",
      "Epoch 00003: val_loss improved from 0.42737 to 0.42106, saving model to ./audio_classification.hdf5\n",
      "Epoch 4/200\n",
      "372/372 [==============================] - 1s 4ms/step - loss: 0.4597 - accuracy: 0.9139 - val_loss: 0.4201 - val_accuracy: 0.9179\n",
      "\n",
      "Epoch 00004: val_loss improved from 0.42106 to 0.42011, saving model to ./audio_classification.hdf5\n",
      "Epoch 5/200\n",
      "372/372 [==============================] - 1s 4ms/step - loss: 0.4488 - accuracy: 0.9136 - val_loss: 0.4067 - val_accuracy: 0.9179\n",
      "\n",
      "Epoch 00005: val_loss improved from 0.42011 to 0.40673, saving model to ./audio_classification.hdf5\n",
      "Epoch 6/200\n",
      "372/372 [==============================] - 1s 4ms/step - loss: 0.4448 - accuracy: 0.9134 - val_loss: 0.4065 - val_accuracy: 0.9179\n",
      "\n",
      "Epoch 00006: val_loss improved from 0.40673 to 0.40655, saving model to ./audio_classification.hdf5\n",
      "Epoch 7/200\n",
      "372/372 [==============================] - 1s 4ms/step - loss: 0.4450 - accuracy: 0.9141 - val_loss: 0.4092 - val_accuracy: 0.9179\n",
      "\n",
      "Epoch 00007: val_loss did not improve from 0.40655\n",
      "Epoch 8/200\n",
      "372/372 [==============================] - 2s 4ms/step - loss: 0.4386 - accuracy: 0.9138 - val_loss: 0.4031 - val_accuracy: 0.9179\n",
      "\n",
      "Epoch 00008: val_loss improved from 0.40655 to 0.40310, saving model to ./audio_classification.hdf5\n",
      "Epoch 9/200\n",
      "372/372 [==============================] - 2s 4ms/step - loss: 0.4365 - accuracy: 0.9140 - val_loss: 0.4014 - val_accuracy: 0.9179\n",
      "\n",
      "Epoch 00009: val_loss improved from 0.40310 to 0.40144, saving model to ./audio_classification.hdf5\n",
      "Epoch 10/200\n",
      "372/372 [==============================] - 2s 4ms/step - loss: 0.4351 - accuracy: 0.9143 - val_loss: 0.3997 - val_accuracy: 0.9179\n",
      "\n",
      "Epoch 00010: val_loss improved from 0.40144 to 0.39970, saving model to ./audio_classification.hdf5\n",
      "Epoch 11/200\n",
      "372/372 [==============================] - 1s 4ms/step - loss: 0.4318 - accuracy: 0.9133 - val_loss: 0.3984 - val_accuracy: 0.9179\n",
      "\n",
      "Epoch 00011: val_loss improved from 0.39970 to 0.39837, saving model to ./audio_classification.hdf5\n",
      "Epoch 12/200\n",
      "372/372 [==============================] - 1s 4ms/step - loss: 0.4291 - accuracy: 0.9127 - val_loss: 0.4014 - val_accuracy: 0.9179\n",
      "\n",
      "Epoch 00012: val_loss did not improve from 0.39837\n",
      "Epoch 13/200\n",
      "372/372 [==============================] - 1s 4ms/step - loss: 0.4289 - accuracy: 0.9139 - val_loss: 0.3956 - val_accuracy: 0.9179\n",
      "\n",
      "Epoch 00013: val_loss improved from 0.39837 to 0.39559, saving model to ./audio_classification.hdf5\n",
      "Epoch 14/200\n",
      "372/372 [==============================] - 1s 4ms/step - loss: 0.4269 - accuracy: 0.9135 - val_loss: 0.3980 - val_accuracy: 0.9179\n",
      "\n",
      "Epoch 00014: val_loss did not improve from 0.39559\n",
      "Epoch 15/200\n",
      "372/372 [==============================] - 1s 4ms/step - loss: 0.4275 - accuracy: 0.9139 - val_loss: 0.3968 - val_accuracy: 0.9179\n",
      "\n",
      "Epoch 00015: val_loss did not improve from 0.39559\n",
      "Epoch 16/200\n",
      "372/372 [==============================] - 1s 4ms/step - loss: 0.4256 - accuracy: 0.9137 - val_loss: 0.3955 - val_accuracy: 0.9179\n",
      "\n",
      "Epoch 00016: val_loss improved from 0.39559 to 0.39555, saving model to ./audio_classification.hdf5\n",
      "Epoch 17/200\n",
      "372/372 [==============================] - 1s 4ms/step - loss: 0.4240 - accuracy: 0.9138 - val_loss: 0.3954 - val_accuracy: 0.9165\n",
      "\n",
      "Epoch 00017: val_loss improved from 0.39555 to 0.39545, saving model to ./audio_classification.hdf5\n",
      "Epoch 18/200\n",
      "372/372 [==============================] - 1s 4ms/step - loss: 0.4195 - accuracy: 0.9136 - val_loss: 0.3996 - val_accuracy: 0.9179\n",
      "\n",
      "Epoch 00018: val_loss did not improve from 0.39545\n",
      "Epoch 19/200\n",
      "372/372 [==============================] - 1s 4ms/step - loss: 0.4241 - accuracy: 0.9141 - val_loss: 0.3977 - val_accuracy: 0.9179\n",
      "\n",
      "Epoch 00019: val_loss did not improve from 0.39545\n",
      "Epoch 20/200\n",
      "372/372 [==============================] - 1s 4ms/step - loss: 0.4225 - accuracy: 0.9129 - val_loss: 0.3935 - val_accuracy: 0.9179\n",
      "\n",
      "Epoch 00020: val_loss improved from 0.39545 to 0.39348, saving model to ./audio_classification.hdf5\n",
      "Epoch 21/200\n",
      "372/372 [==============================] - 1s 4ms/step - loss: 0.4197 - accuracy: 0.9141 - val_loss: 0.3955 - val_accuracy: 0.9179\n",
      "\n",
      "Epoch 00021: val_loss did not improve from 0.39348\n",
      "Epoch 22/200\n",
      "372/372 [==============================] - 2s 4ms/step - loss: 0.4187 - accuracy: 0.9138 - val_loss: 0.3970 - val_accuracy: 0.9165\n",
      "\n",
      "Epoch 00022: val_loss did not improve from 0.39348\n",
      "Epoch 23/200\n",
      "372/372 [==============================] - 2s 4ms/step - loss: 0.4184 - accuracy: 0.9132 - val_loss: 0.3946 - val_accuracy: 0.9179\n",
      "\n",
      "Epoch 00023: val_loss did not improve from 0.39348\n",
      "Epoch 24/200\n",
      "372/372 [==============================] - 2s 4ms/step - loss: 0.4166 - accuracy: 0.9139 - val_loss: 0.3956 - val_accuracy: 0.9172\n",
      "\n",
      "Epoch 00024: val_loss did not improve from 0.39348\n",
      "Epoch 25/200\n",
      "372/372 [==============================] - 2s 4ms/step - loss: 0.4172 - accuracy: 0.9141 - val_loss: 0.3924 - val_accuracy: 0.9179\n",
      "\n",
      "Epoch 00025: val_loss improved from 0.39348 to 0.39238, saving model to ./audio_classification.hdf5\n",
      "Epoch 26/200\n",
      "372/372 [==============================] - 2s 4ms/step - loss: 0.4196 - accuracy: 0.9136 - val_loss: 0.3905 - val_accuracy: 0.9172\n",
      "\n",
      "Epoch 00026: val_loss improved from 0.39238 to 0.39047, saving model to ./audio_classification.hdf5\n",
      "Epoch 27/200\n",
      "372/372 [==============================] - 1s 4ms/step - loss: 0.4166 - accuracy: 0.9134 - val_loss: 0.3952 - val_accuracy: 0.9172\n",
      "\n",
      "Epoch 00027: val_loss did not improve from 0.39047\n",
      "Epoch 28/200\n",
      "372/372 [==============================] - 1s 4ms/step - loss: 0.4173 - accuracy: 0.9131 - val_loss: 0.3906 - val_accuracy: 0.9179\n",
      "\n",
      "Epoch 00028: val_loss did not improve from 0.39047\n",
      "Epoch 29/200\n",
      "372/372 [==============================] - 1s 4ms/step - loss: 0.4147 - accuracy: 0.9144 - val_loss: 0.3920 - val_accuracy: 0.9179\n",
      "\n",
      "Epoch 00029: val_loss did not improve from 0.39047\n",
      "Epoch 30/200\n",
      "372/372 [==============================] - 1s 4ms/step - loss: 0.4109 - accuracy: 0.9136 - val_loss: 0.3945 - val_accuracy: 0.9179\n",
      "\n",
      "Epoch 00030: val_loss did not improve from 0.39047\n",
      "Epoch 31/200\n",
      "372/372 [==============================] - 2s 5ms/step - loss: 0.4111 - accuracy: 0.9136 - val_loss: 0.3948 - val_accuracy: 0.9179\n",
      "\n",
      "Epoch 00031: val_loss did not improve from 0.39047\n",
      "Epoch 32/200\n",
      "372/372 [==============================] - 1s 4ms/step - loss: 0.4128 - accuracy: 0.9135 - val_loss: 0.3903 - val_accuracy: 0.9175\n",
      "\n",
      "Epoch 00032: val_loss improved from 0.39047 to 0.39026, saving model to ./audio_classification.hdf5\n",
      "Epoch 33/200\n",
      "372/372 [==============================] - 1s 4ms/step - loss: 0.4110 - accuracy: 0.9131 - val_loss: 0.3914 - val_accuracy: 0.9179\n",
      "\n",
      "Epoch 00033: val_loss did not improve from 0.39026\n",
      "Epoch 34/200\n",
      "372/372 [==============================] - 1s 4ms/step - loss: 0.4139 - accuracy: 0.9133 - val_loss: 0.3905 - val_accuracy: 0.9179\n",
      "\n",
      "Epoch 00034: val_loss did not improve from 0.39026\n",
      "Epoch 35/200\n",
      "372/372 [==============================] - 1s 4ms/step - loss: 0.4102 - accuracy: 0.9135 - val_loss: 0.3924 - val_accuracy: 0.9179\n",
      "\n",
      "Epoch 00035: val_loss did not improve from 0.39026\n",
      "Epoch 36/200\n",
      "372/372 [==============================] - 1s 4ms/step - loss: 0.4073 - accuracy: 0.9141 - val_loss: 0.3915 - val_accuracy: 0.9152\n",
      "\n",
      "Epoch 00036: val_loss did not improve from 0.39026\n",
      "Epoch 37/200\n",
      "372/372 [==============================] - 1s 4ms/step - loss: 0.4102 - accuracy: 0.9136 - val_loss: 0.3905 - val_accuracy: 0.9179\n",
      "\n",
      "Epoch 00037: val_loss did not improve from 0.39026\n",
      "Epoch 38/200\n",
      "372/372 [==============================] - 2s 4ms/step - loss: 0.4127 - accuracy: 0.9136 - val_loss: 0.3898 - val_accuracy: 0.9179\n",
      "\n",
      "Epoch 00038: val_loss improved from 0.39026 to 0.38976, saving model to ./audio_classification.hdf5\n",
      "Epoch 39/200\n",
      "372/372 [==============================] - 2s 4ms/step - loss: 0.4113 - accuracy: 0.9131 - val_loss: 0.3901 - val_accuracy: 0.9179\n",
      "\n",
      "Epoch 00039: val_loss did not improve from 0.38976\n",
      "Epoch 40/200\n",
      "372/372 [==============================] - 1s 4ms/step - loss: 0.4101 - accuracy: 0.9136 - val_loss: 0.3891 - val_accuracy: 0.9179\n",
      "\n",
      "Epoch 00040: val_loss improved from 0.38976 to 0.38906, saving model to ./audio_classification.hdf5\n",
      "Epoch 41/200\n",
      "372/372 [==============================] - 1s 4ms/step - loss: 0.4066 - accuracy: 0.9138 - val_loss: 0.3919 - val_accuracy: 0.9175\n",
      "\n",
      "Epoch 00041: val_loss did not improve from 0.38906\n",
      "Epoch 42/200\n",
      "372/372 [==============================] - 1s 4ms/step - loss: 0.4062 - accuracy: 0.9136 - val_loss: 0.3890 - val_accuracy: 0.9179\n",
      "\n",
      "Epoch 00042: val_loss improved from 0.38906 to 0.38897, saving model to ./audio_classification.hdf5\n",
      "Epoch 43/200\n",
      "372/372 [==============================] - 1s 4ms/step - loss: 0.4092 - accuracy: 0.9140 - val_loss: 0.3917 - val_accuracy: 0.9179\n",
      "\n",
      "Epoch 00043: val_loss did not improve from 0.38897\n",
      "Epoch 44/200\n",
      "372/372 [==============================] - 1s 4ms/step - loss: 0.4085 - accuracy: 0.9128 - val_loss: 0.3871 - val_accuracy: 0.9179\n",
      "\n",
      "Epoch 00044: val_loss improved from 0.38897 to 0.38708, saving model to ./audio_classification.hdf5\n",
      "Epoch 45/200\n",
      "372/372 [==============================] - 1s 4ms/step - loss: 0.4042 - accuracy: 0.9139 - val_loss: 0.3888 - val_accuracy: 0.9175\n",
      "\n",
      "Epoch 00045: val_loss did not improve from 0.38708\n",
      "Epoch 46/200\n",
      "372/372 [==============================] - 1s 4ms/step - loss: 0.4055 - accuracy: 0.9142 - val_loss: 0.3953 - val_accuracy: 0.9159\n",
      "\n",
      "Epoch 00046: val_loss did not improve from 0.38708\n",
      "Epoch 47/200\n",
      "372/372 [==============================] - 1s 4ms/step - loss: 0.4033 - accuracy: 0.9140 - val_loss: 0.3900 - val_accuracy: 0.9162\n",
      "\n",
      "Epoch 00047: val_loss did not improve from 0.38708\n",
      "Epoch 48/200\n",
      "372/372 [==============================] - 1s 4ms/step - loss: 0.4034 - accuracy: 0.9139 - val_loss: 0.3931 - val_accuracy: 0.9162\n",
      "\n",
      "Epoch 00048: val_loss did not improve from 0.38708\n",
      "Epoch 49/200\n",
      "372/372 [==============================] - 1s 4ms/step - loss: 0.4031 - accuracy: 0.9139 - val_loss: 0.3924 - val_accuracy: 0.9162\n",
      "\n",
      "Epoch 00049: val_loss did not improve from 0.38708\n",
      "Epoch 50/200\n",
      "372/372 [==============================] - 1s 4ms/step - loss: 0.4012 - accuracy: 0.9143 - val_loss: 0.3936 - val_accuracy: 0.9142\n",
      "\n",
      "Epoch 00050: val_loss did not improve from 0.38708\n",
      "Epoch 51/200\n",
      "372/372 [==============================] - 1s 4ms/step - loss: 0.4041 - accuracy: 0.9135 - val_loss: 0.3892 - val_accuracy: 0.9179\n",
      "\n",
      "Epoch 00051: val_loss did not improve from 0.38708\n",
      "Epoch 52/200\n",
      "372/372 [==============================] - 2s 5ms/step - loss: 0.4010 - accuracy: 0.9136 - val_loss: 0.3890 - val_accuracy: 0.9165\n",
      "\n",
      "Epoch 00052: val_loss did not improve from 0.38708\n",
      "Epoch 53/200\n",
      "372/372 [==============================] - 2s 4ms/step - loss: 0.4061 - accuracy: 0.9136 - val_loss: 0.3920 - val_accuracy: 0.9162\n",
      "\n",
      "Epoch 00053: val_loss did not improve from 0.38708\n",
      "Epoch 54/200\n",
      "372/372 [==============================] - 1s 4ms/step - loss: 0.4022 - accuracy: 0.9135 - val_loss: 0.3874 - val_accuracy: 0.9179\n",
      "\n",
      "Epoch 00054: val_loss did not improve from 0.38708\n",
      "Epoch 55/200\n",
      "372/372 [==============================] - 1s 4ms/step - loss: 0.4060 - accuracy: 0.9137 - val_loss: 0.3901 - val_accuracy: 0.9179\n",
      "\n",
      "Epoch 00055: val_loss did not improve from 0.38708\n",
      "Epoch 56/200\n",
      "372/372 [==============================] - 1s 4ms/step - loss: 0.4038 - accuracy: 0.9137 - val_loss: 0.3909 - val_accuracy: 0.9179\n",
      "\n",
      "Epoch 00056: val_loss did not improve from 0.38708\n",
      "Epoch 57/200\n",
      "372/372 [==============================] - 1s 4ms/step - loss: 0.4014 - accuracy: 0.9136 - val_loss: 0.3885 - val_accuracy: 0.9162\n",
      "\n",
      "Epoch 00057: val_loss did not improve from 0.38708\n",
      "Epoch 58/200\n",
      "372/372 [==============================] - 1s 4ms/step - loss: 0.4034 - accuracy: 0.9139 - val_loss: 0.3909 - val_accuracy: 0.9179\n",
      "\n",
      "Epoch 00058: val_loss did not improve from 0.38708\n",
      "Epoch 59/200\n",
      "372/372 [==============================] - 1s 4ms/step - loss: 0.4037 - accuracy: 0.9131 - val_loss: 0.3885 - val_accuracy: 0.9162\n",
      "\n",
      "Epoch 00059: val_loss did not improve from 0.38708\n",
      "Epoch 60/200\n",
      "372/372 [==============================] - 1s 4ms/step - loss: 0.4011 - accuracy: 0.9131 - val_loss: 0.3853 - val_accuracy: 0.9175\n",
      "\n",
      "Epoch 00060: val_loss improved from 0.38708 to 0.38532, saving model to ./audio_classification.hdf5\n",
      "Epoch 61/200\n",
      "372/372 [==============================] - 2s 4ms/step - loss: 0.3989 - accuracy: 0.9141 - val_loss: 0.3889 - val_accuracy: 0.9179\n",
      "\n",
      "Epoch 00061: val_loss did not improve from 0.38532\n",
      "Epoch 62/200\n",
      "372/372 [==============================] - 1s 4ms/step - loss: 0.3988 - accuracy: 0.9130 - val_loss: 0.3882 - val_accuracy: 0.9165\n",
      "\n",
      "Epoch 00062: val_loss did not improve from 0.38532\n",
      "Epoch 63/200\n",
      "372/372 [==============================] - 1s 4ms/step - loss: 0.4006 - accuracy: 0.9141 - val_loss: 0.3914 - val_accuracy: 0.9179\n",
      "\n",
      "Epoch 00063: val_loss did not improve from 0.38532\n",
      "Epoch 64/200\n",
      "372/372 [==============================] - 1s 4ms/step - loss: 0.3950 - accuracy: 0.9136 - val_loss: 0.3888 - val_accuracy: 0.9165\n",
      "\n",
      "Epoch 00064: val_loss did not improve from 0.38532\n",
      "Epoch 65/200\n",
      "372/372 [==============================] - 1s 4ms/step - loss: 0.3944 - accuracy: 0.9146 - val_loss: 0.3878 - val_accuracy: 0.9155\n",
      "\n",
      "Epoch 00065: val_loss did not improve from 0.38532\n",
      "Epoch 66/200\n",
      "372/372 [==============================] - 1s 4ms/step - loss: 0.3979 - accuracy: 0.9140 - val_loss: 0.3893 - val_accuracy: 0.9159\n",
      "\n",
      "Epoch 00066: val_loss did not improve from 0.38532\n",
      "Epoch 67/200\n",
      "372/372 [==============================] - 2s 4ms/step - loss: 0.3968 - accuracy: 0.9141 - val_loss: 0.3851 - val_accuracy: 0.9165\n",
      "\n",
      "Epoch 00067: val_loss improved from 0.38532 to 0.38513, saving model to ./audio_classification.hdf5\n",
      "Epoch 68/200\n",
      "372/372 [==============================] - 2s 4ms/step - loss: 0.3967 - accuracy: 0.9141 - val_loss: 0.3878 - val_accuracy: 0.9179\n",
      "\n",
      "Epoch 00068: val_loss did not improve from 0.38513\n",
      "Epoch 69/200\n",
      "372/372 [==============================] - 2s 4ms/step - loss: 0.3992 - accuracy: 0.9135 - val_loss: 0.3896 - val_accuracy: 0.9179\n",
      "\n",
      "Epoch 00069: val_loss did not improve from 0.38513\n",
      "Epoch 70/200\n",
      "372/372 [==============================] - 2s 4ms/step - loss: 0.3946 - accuracy: 0.9136 - val_loss: 0.3867 - val_accuracy: 0.9169\n",
      "\n",
      "Epoch 00070: val_loss did not improve from 0.38513\n",
      "Epoch 71/200\n",
      "372/372 [==============================] - 2s 4ms/step - loss: 0.3939 - accuracy: 0.9135 - val_loss: 0.3871 - val_accuracy: 0.9148\n",
      "\n",
      "Epoch 00071: val_loss did not improve from 0.38513\n",
      "Epoch 72/200\n",
      "372/372 [==============================] - 2s 4ms/step - loss: 0.3989 - accuracy: 0.9139 - val_loss: 0.3853 - val_accuracy: 0.9179\n",
      "\n",
      "Epoch 00072: val_loss did not improve from 0.38513\n",
      "Epoch 73/200\n",
      "372/372 [==============================] - 2s 7ms/step - loss: 0.3987 - accuracy: 0.9134 - val_loss: 0.3841 - val_accuracy: 0.9175\n",
      "\n",
      "Epoch 00073: val_loss improved from 0.38513 to 0.38411, saving model to ./audio_classification.hdf5\n",
      "Epoch 74/200\n",
      "372/372 [==============================] - 2s 4ms/step - loss: 0.3926 - accuracy: 0.9141 - val_loss: 0.3875 - val_accuracy: 0.9175\n",
      "\n",
      "Epoch 00074: val_loss did not improve from 0.38411\n",
      "Epoch 75/200\n",
      "372/372 [==============================] - 1s 4ms/step - loss: 0.3950 - accuracy: 0.9140 - val_loss: 0.3874 - val_accuracy: 0.9175\n",
      "\n",
      "Epoch 00075: val_loss did not improve from 0.38411\n",
      "Epoch 76/200\n",
      "372/372 [==============================] - 1s 4ms/step - loss: 0.3961 - accuracy: 0.9146 - val_loss: 0.3881 - val_accuracy: 0.9162\n",
      "\n",
      "Epoch 00076: val_loss did not improve from 0.38411\n",
      "Epoch 77/200\n",
      "372/372 [==============================] - 1s 4ms/step - loss: 0.3933 - accuracy: 0.9142 - val_loss: 0.3903 - val_accuracy: 0.9179\n",
      "\n",
      "Epoch 00077: val_loss did not improve from 0.38411\n",
      "Epoch 78/200\n",
      "372/372 [==============================] - 1s 4ms/step - loss: 0.3916 - accuracy: 0.9149 - val_loss: 0.3917 - val_accuracy: 0.9155\n",
      "\n",
      "Epoch 00078: val_loss did not improve from 0.38411\n",
      "Epoch 79/200\n",
      "372/372 [==============================] - 2s 4ms/step - loss: 0.3928 - accuracy: 0.9141 - val_loss: 0.3877 - val_accuracy: 0.9155\n",
      "\n",
      "Epoch 00079: val_loss did not improve from 0.38411\n",
      "Epoch 80/200\n",
      "372/372 [==============================] - 1s 4ms/step - loss: 0.3947 - accuracy: 0.9140 - val_loss: 0.3863 - val_accuracy: 0.9165\n",
      "\n",
      "Epoch 00080: val_loss did not improve from 0.38411\n",
      "Epoch 81/200\n",
      "372/372 [==============================] - 1s 4ms/step - loss: 0.3960 - accuracy: 0.9150 - val_loss: 0.3874 - val_accuracy: 0.9172\n",
      "\n",
      "Epoch 00081: val_loss did not improve from 0.38411\n",
      "Epoch 82/200\n",
      "372/372 [==============================] - 2s 4ms/step - loss: 0.3931 - accuracy: 0.9133 - val_loss: 0.3882 - val_accuracy: 0.9169\n",
      "\n",
      "Epoch 00082: val_loss did not improve from 0.38411\n",
      "Epoch 83/200\n",
      "372/372 [==============================] - 1s 4ms/step - loss: 0.3954 - accuracy: 0.9135 - val_loss: 0.3848 - val_accuracy: 0.9155\n",
      "\n",
      "Epoch 00083: val_loss did not improve from 0.38411\n",
      "Epoch 84/200\n",
      "372/372 [==============================] - 1s 4ms/step - loss: 0.3942 - accuracy: 0.9138 - val_loss: 0.3858 - val_accuracy: 0.9179\n",
      "\n",
      "Epoch 00084: val_loss did not improve from 0.38411\n",
      "Epoch 85/200\n",
      "372/372 [==============================] - 1s 4ms/step - loss: 0.3926 - accuracy: 0.9140 - val_loss: 0.3898 - val_accuracy: 0.9135\n",
      "\n",
      "Epoch 00085: val_loss did not improve from 0.38411\n",
      "Epoch 86/200\n",
      "372/372 [==============================] - 2s 4ms/step - loss: 0.3921 - accuracy: 0.9133 - val_loss: 0.3916 - val_accuracy: 0.9159\n",
      "\n",
      "Epoch 00086: val_loss did not improve from 0.38411\n",
      "Epoch 87/200\n",
      "372/372 [==============================] - 2s 4ms/step - loss: 0.3965 - accuracy: 0.9137 - val_loss: 0.3885 - val_accuracy: 0.9165\n",
      "\n",
      "Epoch 00087: val_loss did not improve from 0.38411\n",
      "Epoch 88/200\n",
      "372/372 [==============================] - 1s 4ms/step - loss: 0.3894 - accuracy: 0.9136 - val_loss: 0.3867 - val_accuracy: 0.9162\n",
      "\n",
      "Epoch 00088: val_loss did not improve from 0.38411\n",
      "Epoch 89/200\n",
      "372/372 [==============================] - 2s 4ms/step - loss: 0.3900 - accuracy: 0.9148 - val_loss: 0.3875 - val_accuracy: 0.9165\n",
      "\n",
      "Epoch 00089: val_loss did not improve from 0.38411\n",
      "Epoch 90/200\n",
      "372/372 [==============================] - 1s 4ms/step - loss: 0.3933 - accuracy: 0.9131 - val_loss: 0.3867 - val_accuracy: 0.9175\n",
      "\n",
      "Epoch 00090: val_loss did not improve from 0.38411\n",
      "Epoch 91/200\n",
      "372/372 [==============================] - 2s 4ms/step - loss: 0.3891 - accuracy: 0.9138 - val_loss: 0.3851 - val_accuracy: 0.9175\n",
      "\n",
      "Epoch 00091: val_loss did not improve from 0.38411\n",
      "Epoch 92/200\n",
      "372/372 [==============================] - 2s 4ms/step - loss: 0.3887 - accuracy: 0.9136 - val_loss: 0.3847 - val_accuracy: 0.9179\n",
      "\n",
      "Epoch 00092: val_loss did not improve from 0.38411\n",
      "Epoch 93/200\n",
      "372/372 [==============================] - 2s 5ms/step - loss: 0.3946 - accuracy: 0.9147 - val_loss: 0.3849 - val_accuracy: 0.9179\n",
      "\n",
      "Epoch 00093: val_loss did not improve from 0.38411\n",
      "Epoch 94/200\n",
      "372/372 [==============================] - 2s 4ms/step - loss: 0.3950 - accuracy: 0.9139 - val_loss: 0.3871 - val_accuracy: 0.9162\n",
      "\n",
      "Epoch 00094: val_loss did not improve from 0.38411\n",
      "Epoch 95/200\n",
      "372/372 [==============================] - 1s 4ms/step - loss: 0.3936 - accuracy: 0.9138 - val_loss: 0.3885 - val_accuracy: 0.9155\n",
      "\n",
      "Epoch 00095: val_loss did not improve from 0.38411\n",
      "Epoch 96/200\n",
      "372/372 [==============================] - 2s 4ms/step - loss: 0.3887 - accuracy: 0.9145 - val_loss: 0.3921 - val_accuracy: 0.9142\n",
      "\n",
      "Epoch 00096: val_loss did not improve from 0.38411\n",
      "Epoch 97/200\n",
      "372/372 [==============================] - 1s 4ms/step - loss: 0.3906 - accuracy: 0.9144 - val_loss: 0.3882 - val_accuracy: 0.9165\n",
      "\n",
      "Epoch 00097: val_loss did not improve from 0.38411\n",
      "Epoch 98/200\n",
      "372/372 [==============================] - 1s 4ms/step - loss: 0.3911 - accuracy: 0.9139 - val_loss: 0.3874 - val_accuracy: 0.9179\n",
      "\n",
      "Epoch 00098: val_loss did not improve from 0.38411\n",
      "Epoch 99/200\n",
      "372/372 [==============================] - 1s 4ms/step - loss: 0.3919 - accuracy: 0.9120 - val_loss: 0.3846 - val_accuracy: 0.9165\n",
      "\n",
      "Epoch 00099: val_loss did not improve from 0.38411\n",
      "Epoch 100/200\n",
      "372/372 [==============================] - 1s 4ms/step - loss: 0.3909 - accuracy: 0.9145 - val_loss: 0.3879 - val_accuracy: 0.9159\n",
      "\n",
      "Epoch 00100: val_loss did not improve from 0.38411\n",
      "Epoch 101/200\n",
      "372/372 [==============================] - 1s 4ms/step - loss: 0.3896 - accuracy: 0.9146 - val_loss: 0.3892 - val_accuracy: 0.9162\n",
      "\n",
      "Epoch 00101: val_loss did not improve from 0.38411\n",
      "Epoch 102/200\n",
      "372/372 [==============================] - 1s 4ms/step - loss: 0.3898 - accuracy: 0.9134 - val_loss: 0.3886 - val_accuracy: 0.9142\n",
      "\n",
      "Epoch 00102: val_loss did not improve from 0.38411\n",
      "Epoch 103/200\n",
      "372/372 [==============================] - 1s 4ms/step - loss: 0.3909 - accuracy: 0.9138 - val_loss: 0.3921 - val_accuracy: 0.9128\n",
      "\n",
      "Epoch 00103: val_loss did not improve from 0.38411\n",
      "Epoch 104/200\n",
      "372/372 [==============================] - 1s 4ms/step - loss: 0.3907 - accuracy: 0.9140 - val_loss: 0.3868 - val_accuracy: 0.9175\n",
      "\n",
      "Epoch 00104: val_loss did not improve from 0.38411\n",
      "Epoch 105/200\n",
      "372/372 [==============================] - 1s 4ms/step - loss: 0.3905 - accuracy: 0.9153 - val_loss: 0.3864 - val_accuracy: 0.9165\n",
      "\n",
      "Epoch 00105: val_loss did not improve from 0.38411\n",
      "Epoch 106/200\n",
      "372/372 [==============================] - 2s 4ms/step - loss: 0.3871 - accuracy: 0.9144 - val_loss: 0.3873 - val_accuracy: 0.9165\n",
      "\n",
      "Epoch 00106: val_loss did not improve from 0.38411\n",
      "Epoch 107/200\n",
      "372/372 [==============================] - 1s 4ms/step - loss: 0.3896 - accuracy: 0.9144 - val_loss: 0.3884 - val_accuracy: 0.9162\n",
      "\n",
      "Epoch 00107: val_loss did not improve from 0.38411\n",
      "Epoch 108/200\n",
      "372/372 [==============================] - 1s 4ms/step - loss: 0.3880 - accuracy: 0.9142 - val_loss: 0.3857 - val_accuracy: 0.9165\n",
      "\n",
      "Epoch 00108: val_loss did not improve from 0.38411\n",
      "Epoch 109/200\n",
      "372/372 [==============================] - 1s 4ms/step - loss: 0.3905 - accuracy: 0.9134 - val_loss: 0.3890 - val_accuracy: 0.9179\n",
      "\n",
      "Epoch 00109: val_loss did not improve from 0.38411\n",
      "Epoch 110/200\n",
      "372/372 [==============================] - 1s 4ms/step - loss: 0.3877 - accuracy: 0.9137 - val_loss: 0.3873 - val_accuracy: 0.9152\n",
      "\n",
      "Epoch 00110: val_loss did not improve from 0.38411\n",
      "Epoch 111/200\n",
      "372/372 [==============================] - 1s 4ms/step - loss: 0.3892 - accuracy: 0.9128 - val_loss: 0.3900 - val_accuracy: 0.9179\n",
      "\n",
      "Epoch 00111: val_loss did not improve from 0.38411\n",
      "Epoch 112/200\n",
      "372/372 [==============================] - 1s 4ms/step - loss: 0.3886 - accuracy: 0.9141 - val_loss: 0.3897 - val_accuracy: 0.9179\n",
      "\n",
      "Epoch 00112: val_loss did not improve from 0.38411\n",
      "Epoch 113/200\n",
      "372/372 [==============================] - 1s 4ms/step - loss: 0.3873 - accuracy: 0.9140 - val_loss: 0.3911 - val_accuracy: 0.9152\n",
      "\n",
      "Epoch 00113: val_loss did not improve from 0.38411\n",
      "Epoch 114/200\n",
      "372/372 [==============================] - 2s 4ms/step - loss: 0.3863 - accuracy: 0.9141 - val_loss: 0.3941 - val_accuracy: 0.9165\n",
      "\n",
      "Epoch 00114: val_loss did not improve from 0.38411\n",
      "Epoch 115/200\n",
      "372/372 [==============================] - 2s 7ms/step - loss: 0.3905 - accuracy: 0.9127 - val_loss: 0.3888 - val_accuracy: 0.9179\n",
      "\n",
      "Epoch 00115: val_loss did not improve from 0.38411\n",
      "Epoch 116/200\n",
      "372/372 [==============================] - 2s 4ms/step - loss: 0.3848 - accuracy: 0.9141 - val_loss: 0.3889 - val_accuracy: 0.9175\n",
      "\n",
      "Epoch 00116: val_loss did not improve from 0.38411\n",
      "Epoch 117/200\n",
      "372/372 [==============================] - 2s 4ms/step - loss: 0.3893 - accuracy: 0.9136 - val_loss: 0.3887 - val_accuracy: 0.9132\n",
      "\n",
      "Epoch 00117: val_loss did not improve from 0.38411\n",
      "Epoch 118/200\n",
      "372/372 [==============================] - 2s 5ms/step - loss: 0.3862 - accuracy: 0.9144 - val_loss: 0.3818 - val_accuracy: 0.9165\n",
      "\n",
      "Epoch 00118: val_loss improved from 0.38411 to 0.38179, saving model to ./audio_classification.hdf5\n",
      "Epoch 119/200\n",
      "372/372 [==============================] - 2s 4ms/step - loss: 0.3858 - accuracy: 0.9149 - val_loss: 0.3873 - val_accuracy: 0.9159\n",
      "\n",
      "Epoch 00119: val_loss did not improve from 0.38179\n",
      "Epoch 120/200\n",
      "372/372 [==============================] - 2s 4ms/step - loss: 0.3868 - accuracy: 0.9143 - val_loss: 0.3835 - val_accuracy: 0.9148\n",
      "\n",
      "Epoch 00120: val_loss did not improve from 0.38179\n",
      "Epoch 121/200\n",
      "372/372 [==============================] - 1s 4ms/step - loss: 0.3844 - accuracy: 0.9139 - val_loss: 0.3857 - val_accuracy: 0.9165\n",
      "\n",
      "Epoch 00121: val_loss did not improve from 0.38179\n",
      "Epoch 122/200\n",
      "372/372 [==============================] - 1s 4ms/step - loss: 0.3844 - accuracy: 0.9141 - val_loss: 0.3871 - val_accuracy: 0.9159\n",
      "\n",
      "Epoch 00122: val_loss did not improve from 0.38179\n",
      "Epoch 123/200\n",
      "372/372 [==============================] - 1s 4ms/step - loss: 0.3841 - accuracy: 0.9134 - val_loss: 0.3865 - val_accuracy: 0.9179\n",
      "\n",
      "Epoch 00123: val_loss did not improve from 0.38179\n",
      "Epoch 124/200\n",
      "372/372 [==============================] - 1s 4ms/step - loss: 0.3816 - accuracy: 0.9149 - val_loss: 0.3936 - val_accuracy: 0.9165\n",
      "\n",
      "Epoch 00124: val_loss did not improve from 0.38179\n",
      "Epoch 125/200\n",
      "372/372 [==============================] - 2s 4ms/step - loss: 0.3823 - accuracy: 0.9152 - val_loss: 0.3891 - val_accuracy: 0.9148\n",
      "\n",
      "Epoch 00125: val_loss did not improve from 0.38179\n",
      "Epoch 126/200\n",
      "372/372 [==============================] - 2s 4ms/step - loss: 0.3833 - accuracy: 0.9134 - val_loss: 0.3874 - val_accuracy: 0.9179\n",
      "\n",
      "Epoch 00126: val_loss did not improve from 0.38179\n",
      "Epoch 127/200\n",
      "372/372 [==============================] - 1s 4ms/step - loss: 0.3843 - accuracy: 0.9152 - val_loss: 0.3849 - val_accuracy: 0.9175\n",
      "\n",
      "Epoch 00127: val_loss did not improve from 0.38179\n",
      "Epoch 128/200\n",
      "372/372 [==============================] - 1s 4ms/step - loss: 0.3818 - accuracy: 0.9147 - val_loss: 0.3857 - val_accuracy: 0.9152\n",
      "\n",
      "Epoch 00128: val_loss did not improve from 0.38179\n",
      "Epoch 129/200\n",
      "372/372 [==============================] - 1s 4ms/step - loss: 0.3867 - accuracy: 0.9141 - val_loss: 0.3849 - val_accuracy: 0.9169\n",
      "\n",
      "Epoch 00129: val_loss did not improve from 0.38179\n",
      "Epoch 130/200\n",
      "372/372 [==============================] - 1s 4ms/step - loss: 0.3839 - accuracy: 0.9143 - val_loss: 0.3848 - val_accuracy: 0.9175\n",
      "\n",
      "Epoch 00130: val_loss did not improve from 0.38179\n",
      "Epoch 131/200\n",
      "372/372 [==============================] - 1s 4ms/step - loss: 0.3842 - accuracy: 0.9149 - val_loss: 0.3866 - val_accuracy: 0.9162\n",
      "\n",
      "Epoch 00131: val_loss did not improve from 0.38179\n",
      "Epoch 132/200\n",
      "372/372 [==============================] - 2s 4ms/step - loss: 0.3809 - accuracy: 0.9143 - val_loss: 0.3860 - val_accuracy: 0.9169\n",
      "\n",
      "Epoch 00132: val_loss did not improve from 0.38179\n",
      "Epoch 133/200\n",
      "372/372 [==============================] - 1s 4ms/step - loss: 0.3846 - accuracy: 0.9135 - val_loss: 0.3866 - val_accuracy: 0.9172\n",
      "\n",
      "Epoch 00133: val_loss did not improve from 0.38179\n",
      "Epoch 134/200\n",
      "372/372 [==============================] - 1s 4ms/step - loss: 0.3833 - accuracy: 0.9142 - val_loss: 0.3832 - val_accuracy: 0.9152\n",
      "\n",
      "Epoch 00134: val_loss did not improve from 0.38179\n",
      "Epoch 135/200\n",
      "372/372 [==============================] - 2s 5ms/step - loss: 0.3797 - accuracy: 0.9140 - val_loss: 0.3904 - val_accuracy: 0.9172\n",
      "\n",
      "Epoch 00135: val_loss did not improve from 0.38179\n",
      "Epoch 136/200\n",
      "372/372 [==============================] - 1s 4ms/step - loss: 0.3817 - accuracy: 0.9144 - val_loss: 0.3878 - val_accuracy: 0.9155\n",
      "\n",
      "Epoch 00136: val_loss did not improve from 0.38179\n",
      "Epoch 137/200\n",
      "372/372 [==============================] - 1s 4ms/step - loss: 0.3834 - accuracy: 0.9153 - val_loss: 0.3874 - val_accuracy: 0.9175\n",
      "\n",
      "Epoch 00137: val_loss did not improve from 0.38179\n",
      "Epoch 138/200\n",
      "372/372 [==============================] - 2s 4ms/step - loss: 0.3862 - accuracy: 0.9147 - val_loss: 0.3871 - val_accuracy: 0.9162\n",
      "\n",
      "Epoch 00138: val_loss did not improve from 0.38179\n",
      "Epoch 139/200\n",
      "372/372 [==============================] - 2s 4ms/step - loss: 0.3833 - accuracy: 0.9134 - val_loss: 0.3861 - val_accuracy: 0.9155\n",
      "\n",
      "Epoch 00139: val_loss did not improve from 0.38179\n",
      "Epoch 140/200\n",
      "372/372 [==============================] - 2s 4ms/step - loss: 0.3850 - accuracy: 0.9137 - val_loss: 0.3899 - val_accuracy: 0.9155\n",
      "\n",
      "Epoch 00140: val_loss did not improve from 0.38179\n",
      "Epoch 141/200\n",
      "372/372 [==============================] - 1s 4ms/step - loss: 0.3853 - accuracy: 0.9150 - val_loss: 0.3898 - val_accuracy: 0.9132\n",
      "\n",
      "Epoch 00141: val_loss did not improve from 0.38179\n",
      "Epoch 142/200\n",
      "372/372 [==============================] - 1s 4ms/step - loss: 0.3821 - accuracy: 0.9150 - val_loss: 0.3857 - val_accuracy: 0.9172\n",
      "\n",
      "Epoch 00142: val_loss did not improve from 0.38179\n",
      "Epoch 143/200\n",
      "372/372 [==============================] - 1s 4ms/step - loss: 0.3823 - accuracy: 0.9132 - val_loss: 0.3915 - val_accuracy: 0.9135\n",
      "\n",
      "Epoch 00143: val_loss did not improve from 0.38179\n",
      "Epoch 144/200\n",
      "372/372 [==============================] - 2s 4ms/step - loss: 0.3814 - accuracy: 0.9142 - val_loss: 0.3862 - val_accuracy: 0.9148\n",
      "\n",
      "Epoch 00144: val_loss did not improve from 0.38179\n",
      "Epoch 145/200\n",
      "372/372 [==============================] - 2s 4ms/step - loss: 0.3819 - accuracy: 0.9135 - val_loss: 0.3885 - val_accuracy: 0.9155\n",
      "\n",
      "Epoch 00145: val_loss did not improve from 0.38179\n",
      "Epoch 146/200\n",
      "372/372 [==============================] - 2s 4ms/step - loss: 0.3833 - accuracy: 0.9140 - val_loss: 0.3884 - val_accuracy: 0.9162\n",
      "\n",
      "Epoch 00146: val_loss did not improve from 0.38179\n",
      "Epoch 147/200\n",
      "372/372 [==============================] - 2s 4ms/step - loss: 0.3779 - accuracy: 0.9141 - val_loss: 0.3858 - val_accuracy: 0.9175\n",
      "\n",
      "Epoch 00147: val_loss did not improve from 0.38179\n",
      "Epoch 148/200\n",
      "372/372 [==============================] - 2s 4ms/step - loss: 0.3773 - accuracy: 0.9150 - val_loss: 0.3882 - val_accuracy: 0.9169\n",
      "\n",
      "Epoch 00148: val_loss did not improve from 0.38179\n",
      "Epoch 149/200\n",
      "372/372 [==============================] - 2s 4ms/step - loss: 0.3806 - accuracy: 0.9147 - val_loss: 0.3853 - val_accuracy: 0.9148\n",
      "\n",
      "Epoch 00149: val_loss did not improve from 0.38179\n",
      "Epoch 150/200\n",
      "372/372 [==============================] - 2s 4ms/step - loss: 0.3817 - accuracy: 0.9152 - val_loss: 0.3895 - val_accuracy: 0.9162\n",
      "\n",
      "Epoch 00150: val_loss did not improve from 0.38179\n",
      "Epoch 151/200\n",
      "372/372 [==============================] - 2s 4ms/step - loss: 0.3827 - accuracy: 0.9141 - val_loss: 0.3892 - val_accuracy: 0.9172\n",
      "\n",
      "Epoch 00151: val_loss did not improve from 0.38179\n",
      "Epoch 152/200\n",
      "372/372 [==============================] - 2s 4ms/step - loss: 0.3806 - accuracy: 0.9145 - val_loss: 0.3857 - val_accuracy: 0.9162\n",
      "\n",
      "Epoch 00152: val_loss did not improve from 0.38179\n",
      "Epoch 153/200\n",
      "372/372 [==============================] - 2s 5ms/step - loss: 0.3800 - accuracy: 0.9143 - val_loss: 0.3903 - val_accuracy: 0.9179\n",
      "\n",
      "Epoch 00153: val_loss did not improve from 0.38179\n",
      "Epoch 154/200\n",
      "372/372 [==============================] - 2s 5ms/step - loss: 0.3805 - accuracy: 0.9136 - val_loss: 0.3871 - val_accuracy: 0.9162\n",
      "\n",
      "Epoch 00154: val_loss did not improve from 0.38179\n",
      "Epoch 155/200\n",
      "372/372 [==============================] - 2s 5ms/step - loss: 0.3838 - accuracy: 0.9142 - val_loss: 0.3825 - val_accuracy: 0.9159\n",
      "\n",
      "Epoch 00155: val_loss did not improve from 0.38179\n",
      "Epoch 156/200\n",
      "372/372 [==============================] - 2s 4ms/step - loss: 0.3786 - accuracy: 0.9151 - val_loss: 0.3905 - val_accuracy: 0.9152\n",
      "\n",
      "Epoch 00156: val_loss did not improve from 0.38179\n",
      "Epoch 157/200\n",
      "372/372 [==============================] - 2s 5ms/step - loss: 0.3818 - accuracy: 0.9136 - val_loss: 0.3883 - val_accuracy: 0.9175\n",
      "\n",
      "Epoch 00157: val_loss did not improve from 0.38179\n",
      "Epoch 158/200\n",
      "372/372 [==============================] - 2s 4ms/step - loss: 0.3817 - accuracy: 0.9141 - val_loss: 0.3867 - val_accuracy: 0.9169\n",
      "\n",
      "Epoch 00158: val_loss did not improve from 0.38179\n",
      "Epoch 159/200\n",
      "372/372 [==============================] - 2s 4ms/step - loss: 0.3793 - accuracy: 0.9146 - val_loss: 0.3851 - val_accuracy: 0.9159\n",
      "\n",
      "Epoch 00159: val_loss did not improve from 0.38179\n",
      "Epoch 160/200\n",
      "372/372 [==============================] - 2s 5ms/step - loss: 0.3781 - accuracy: 0.9142 - val_loss: 0.3859 - val_accuracy: 0.9162\n",
      "\n",
      "Epoch 00160: val_loss did not improve from 0.38179\n",
      "Epoch 161/200\n",
      "372/372 [==============================] - 2s 5ms/step - loss: 0.3801 - accuracy: 0.9141 - val_loss: 0.3861 - val_accuracy: 0.9165\n",
      "\n",
      "Epoch 00161: val_loss did not improve from 0.38179\n",
      "Epoch 162/200\n",
      "372/372 [==============================] - 2s 4ms/step - loss: 0.3803 - accuracy: 0.9144 - val_loss: 0.3844 - val_accuracy: 0.9162\n",
      "\n",
      "Epoch 00162: val_loss did not improve from 0.38179\n",
      "Epoch 163/200\n",
      "372/372 [==============================] - 2s 4ms/step - loss: 0.3808 - accuracy: 0.9147 - val_loss: 0.3838 - val_accuracy: 0.9169\n",
      "\n",
      "Epoch 00163: val_loss did not improve from 0.38179\n",
      "Epoch 164/200\n",
      "372/372 [==============================] - 2s 5ms/step - loss: 0.3787 - accuracy: 0.9150 - val_loss: 0.3848 - val_accuracy: 0.9152\n",
      "\n",
      "Epoch 00164: val_loss did not improve from 0.38179\n",
      "Epoch 165/200\n",
      "372/372 [==============================] - 2s 4ms/step - loss: 0.3775 - accuracy: 0.9142 - val_loss: 0.3854 - val_accuracy: 0.9169\n",
      "\n",
      "Epoch 00165: val_loss did not improve from 0.38179\n",
      "Epoch 166/200\n",
      "372/372 [==============================] - 2s 5ms/step - loss: 0.3794 - accuracy: 0.9141 - val_loss: 0.3859 - val_accuracy: 0.9145\n",
      "\n",
      "Epoch 00166: val_loss did not improve from 0.38179\n",
      "Epoch 167/200\n",
      "372/372 [==============================] - 2s 4ms/step - loss: 0.3794 - accuracy: 0.9125 - val_loss: 0.3867 - val_accuracy: 0.9162\n",
      "\n",
      "Epoch 00167: val_loss did not improve from 0.38179\n",
      "Epoch 168/200\n",
      "372/372 [==============================] - 2s 4ms/step - loss: 0.3773 - accuracy: 0.9141 - val_loss: 0.3855 - val_accuracy: 0.9159\n",
      "\n",
      "Epoch 00168: val_loss did not improve from 0.38179\n",
      "Epoch 169/200\n",
      "372/372 [==============================] - 2s 4ms/step - loss: 0.3776 - accuracy: 0.9146 - val_loss: 0.3848 - val_accuracy: 0.9162\n",
      "\n",
      "Epoch 00169: val_loss did not improve from 0.38179\n",
      "Epoch 170/200\n",
      "372/372 [==============================] - 2s 4ms/step - loss: 0.3796 - accuracy: 0.9149 - val_loss: 0.3848 - val_accuracy: 0.9162\n",
      "\n",
      "Epoch 00170: val_loss did not improve from 0.38179\n",
      "Epoch 171/200\n",
      "372/372 [==============================] - 2s 4ms/step - loss: 0.3783 - accuracy: 0.9148 - val_loss: 0.3834 - val_accuracy: 0.9179\n",
      "\n",
      "Epoch 00171: val_loss did not improve from 0.38179\n",
      "Epoch 172/200\n",
      "372/372 [==============================] - 2s 4ms/step - loss: 0.3806 - accuracy: 0.9142 - val_loss: 0.3828 - val_accuracy: 0.9159\n",
      "\n",
      "Epoch 00172: val_loss did not improve from 0.38179\n",
      "Epoch 173/200\n",
      "372/372 [==============================] - 2s 4ms/step - loss: 0.3783 - accuracy: 0.9146 - val_loss: 0.3834 - val_accuracy: 0.9148\n",
      "\n",
      "Epoch 00173: val_loss did not improve from 0.38179\n",
      "Epoch 174/200\n",
      "372/372 [==============================] - 2s 5ms/step - loss: 0.3743 - accuracy: 0.9138 - val_loss: 0.3848 - val_accuracy: 0.9155\n",
      "\n",
      "Epoch 00174: val_loss did not improve from 0.38179\n",
      "Epoch 175/200\n",
      "372/372 [==============================] - 2s 4ms/step - loss: 0.3787 - accuracy: 0.9148 - val_loss: 0.3863 - val_accuracy: 0.9159\n",
      "\n",
      "Epoch 00175: val_loss did not improve from 0.38179\n",
      "Epoch 176/200\n",
      "372/372 [==============================] - 2s 4ms/step - loss: 0.3791 - accuracy: 0.9138 - val_loss: 0.3813 - val_accuracy: 0.9165\n",
      "\n",
      "Epoch 00176: val_loss improved from 0.38179 to 0.38135, saving model to ./audio_classification.hdf5\n",
      "Epoch 177/200\n",
      "372/372 [==============================] - 2s 4ms/step - loss: 0.3798 - accuracy: 0.9144 - val_loss: 0.3848 - val_accuracy: 0.9172\n",
      "\n",
      "Epoch 00177: val_loss did not improve from 0.38135\n",
      "Epoch 178/200\n",
      "372/372 [==============================] - 2s 4ms/step - loss: 0.3775 - accuracy: 0.9145 - val_loss: 0.3844 - val_accuracy: 0.9159\n",
      "\n",
      "Epoch 00178: val_loss did not improve from 0.38135\n",
      "Epoch 179/200\n",
      "372/372 [==============================] - 2s 4ms/step - loss: 0.3782 - accuracy: 0.9135 - val_loss: 0.3850 - val_accuracy: 0.9159\n",
      "\n",
      "Epoch 00179: val_loss did not improve from 0.38135\n",
      "Epoch 180/200\n",
      "372/372 [==============================] - 2s 4ms/step - loss: 0.3753 - accuracy: 0.9157 - val_loss: 0.3800 - val_accuracy: 0.9165\n",
      "\n",
      "Epoch 00180: val_loss improved from 0.38135 to 0.38002, saving model to ./audio_classification.hdf5\n",
      "Epoch 181/200\n",
      "372/372 [==============================] - 2s 4ms/step - loss: 0.3779 - accuracy: 0.9145 - val_loss: 0.3825 - val_accuracy: 0.9162\n",
      "\n",
      "Epoch 00181: val_loss did not improve from 0.38002\n",
      "Epoch 182/200\n",
      "372/372 [==============================] - 2s 4ms/step - loss: 0.3741 - accuracy: 0.9132 - val_loss: 0.3808 - val_accuracy: 0.9165\n",
      "\n",
      "Epoch 00182: val_loss did not improve from 0.38002\n",
      "Epoch 183/200\n",
      "372/372 [==============================] - 2s 4ms/step - loss: 0.3766 - accuracy: 0.9143 - val_loss: 0.3829 - val_accuracy: 0.9175\n",
      "\n",
      "Epoch 00183: val_loss did not improve from 0.38002\n",
      "Epoch 184/200\n",
      "372/372 [==============================] - 2s 4ms/step - loss: 0.3790 - accuracy: 0.9152 - val_loss: 0.3841 - val_accuracy: 0.9165\n",
      "\n",
      "Epoch 00184: val_loss did not improve from 0.38002\n",
      "Epoch 185/200\n",
      "372/372 [==============================] - 1s 4ms/step - loss: 0.3762 - accuracy: 0.9138 - val_loss: 0.3823 - val_accuracy: 0.9152\n",
      "\n",
      "Epoch 00185: val_loss did not improve from 0.38002\n",
      "Epoch 186/200\n",
      "372/372 [==============================] - 2s 4ms/step - loss: 0.3781 - accuracy: 0.9144 - val_loss: 0.3791 - val_accuracy: 0.9162\n",
      "\n",
      "Epoch 00186: val_loss improved from 0.38002 to 0.37913, saving model to ./audio_classification.hdf5\n",
      "Epoch 187/200\n",
      "372/372 [==============================] - 2s 4ms/step - loss: 0.3742 - accuracy: 0.9149 - val_loss: 0.3827 - val_accuracy: 0.9169\n",
      "\n",
      "Epoch 00187: val_loss did not improve from 0.37913\n",
      "Epoch 188/200\n",
      "372/372 [==============================] - 2s 4ms/step - loss: 0.3756 - accuracy: 0.9149 - val_loss: 0.3801 - val_accuracy: 0.9152\n",
      "\n",
      "Epoch 00188: val_loss did not improve from 0.37913\n",
      "Epoch 189/200\n",
      "372/372 [==============================] - 2s 4ms/step - loss: 0.3758 - accuracy: 0.9141 - val_loss: 0.3820 - val_accuracy: 0.9159\n",
      "\n",
      "Epoch 00189: val_loss did not improve from 0.37913\n",
      "Epoch 190/200\n",
      "372/372 [==============================] - 1s 4ms/step - loss: 0.3779 - accuracy: 0.9147 - val_loss: 0.3817 - val_accuracy: 0.9155\n",
      "\n",
      "Epoch 00190: val_loss did not improve from 0.37913\n",
      "Epoch 191/200\n",
      "372/372 [==============================] - 2s 4ms/step - loss: 0.3780 - accuracy: 0.9136 - val_loss: 0.3803 - val_accuracy: 0.9169\n",
      "\n",
      "Epoch 00191: val_loss did not improve from 0.37913\n",
      "Epoch 192/200\n",
      "372/372 [==============================] - 2s 4ms/step - loss: 0.3755 - accuracy: 0.9141 - val_loss: 0.3840 - val_accuracy: 0.9165\n",
      "\n",
      "Epoch 00192: val_loss did not improve from 0.37913\n",
      "Epoch 193/200\n",
      "372/372 [==============================] - 2s 4ms/step - loss: 0.3759 - accuracy: 0.9136 - val_loss: 0.3790 - val_accuracy: 0.9172\n",
      "\n",
      "Epoch 00193: val_loss improved from 0.37913 to 0.37898, saving model to ./audio_classification.hdf5\n",
      "Epoch 194/200\n",
      "372/372 [==============================] - 2s 5ms/step - loss: 0.3733 - accuracy: 0.9148 - val_loss: 0.3866 - val_accuracy: 0.9155\n",
      "\n",
      "Epoch 00194: val_loss did not improve from 0.37898\n",
      "Epoch 195/200\n",
      "372/372 [==============================] - 2s 4ms/step - loss: 0.3764 - accuracy: 0.9138 - val_loss: 0.3830 - val_accuracy: 0.9172\n",
      "\n",
      "Epoch 00195: val_loss did not improve from 0.37898\n",
      "Epoch 196/200\n",
      "372/372 [==============================] - 2s 4ms/step - loss: 0.3765 - accuracy: 0.9139 - val_loss: 0.3796 - val_accuracy: 0.9165\n",
      "\n",
      "Epoch 00196: val_loss did not improve from 0.37898\n",
      "Epoch 197/200\n",
      "372/372 [==============================] - 2s 4ms/step - loss: 0.3782 - accuracy: 0.9161 - val_loss: 0.3825 - val_accuracy: 0.9162\n",
      "\n",
      "Epoch 00197: val_loss did not improve from 0.37898\n",
      "Epoch 198/200\n",
      "372/372 [==============================] - 2s 4ms/step - loss: 0.3784 - accuracy: 0.9151 - val_loss: 0.3811 - val_accuracy: 0.9169\n",
      "\n",
      "Epoch 00198: val_loss did not improve from 0.37898\n",
      "Epoch 199/200\n",
      "372/372 [==============================] - 2s 4ms/step - loss: 0.3795 - accuracy: 0.9134 - val_loss: 0.3809 - val_accuracy: 0.9162\n",
      "\n",
      "Epoch 00199: val_loss did not improve from 0.37898\n",
      "Epoch 200/200\n",
      "372/372 [==============================] - 2s 4ms/step - loss: 0.3756 - accuracy: 0.9150 - val_loss: 0.3832 - val_accuracy: 0.9138\n",
      "\n",
      "Epoch 00200: val_loss did not improve from 0.37898\n",
      "Training completed in time:  0:05:07.801960\n"
     ]
    }
   ],
   "source": [
    "## Trianing my model\n",
    "from tensorflow.keras.callbacks import ModelCheckpoint\n",
    "from datetime import datetime \n",
    "num_epochs = 200\n",
    "num_batch_size = 32\n",
    "checkpointer = ModelCheckpoint(filepath='./audio_classification.hdf5', \n",
    "                               verbose=1, save_best_only=True)\n",
    "start = datetime.now()\n",
    "model.fit(X_train, y_train, batch_size=num_batch_size, epochs=num_epochs, validation_data=(X_test, y_test), callbacks=[checkpointer], verbose=1)\n",
    "duration = datetime.now() - start\n",
    "print(\"Training completed in time: \", duration)"
   ]
  },
  {
   "cell_type": "code",
   "execution_count": 21,
   "id": "0282ad36",
   "metadata": {
    "execution": {
     "iopub.execute_input": "2023-03-08T17:19:33.892118Z",
     "iopub.status.busy": "2023-03-08T17:19:33.891413Z",
     "iopub.status.idle": "2023-03-08T17:19:34.124069Z",
     "shell.execute_reply": "2023-03-08T17:19:34.124759Z"
    },
    "papermill": {
     "duration": 7.27239,
     "end_time": "2023-03-08T17:19:34.124952",
     "exception": false,
     "start_time": "2023-03-08T17:19:26.852562",
     "status": "completed"
    },
    "tags": []
   },
   "outputs": [
    {
     "name": "stdout",
     "output_type": "stream",
     "text": [
      "0.913833737373352\n"
     ]
    }
   ],
   "source": [
    "\n",
    "# Let's check the accuracy!\n",
    "test_accuracy=model.evaluate(X_test,y_test,verbose=0)\n",
    "print(test_accuracy[1])"
   ]
  },
  {
   "cell_type": "code",
   "execution_count": 22,
   "id": "e7c80e78",
   "metadata": {
    "execution": {
     "iopub.execute_input": "2023-03-08T17:19:48.196664Z",
     "iopub.status.busy": "2023-03-08T17:19:48.195636Z",
     "iopub.status.idle": "2023-03-08T17:19:48.486865Z",
     "shell.execute_reply": "2023-03-08T17:19:48.486275Z"
    },
    "papermill": {
     "duration": 7.32522,
     "end_time": "2023-03-08T17:19:48.487026",
     "exception": false,
     "start_time": "2023-03-08T17:19:41.161806",
     "status": "completed"
    },
    "tags": []
   },
   "outputs": [
    {
     "data": {
      "text/plain": [
       "array([1.5423133e-03, 3.6250101e-03, 1.4632998e-02, 2.1748920e-04,\n",
       "       1.6956297e-05, 4.0317611e-03, 7.9297379e-06, 3.2063022e-03,\n",
       "       9.1138048e-05, 1.0787051e-04, 1.9764843e-04, 1.8101615e-07,\n",
       "       9.0444414e-03, 1.5791878e-02, 4.1858563e-03, 2.4035054e-07,\n",
       "       1.8287908e-03, 9.0854800e-01, 2.0857019e-07, 2.8002039e-02,\n",
       "       2.0378418e-03, 2.8832993e-03], dtype=float32)"
      ]
     },
     "execution_count": 22,
     "metadata": {},
     "output_type": "execute_result"
    }
   ],
   "source": [
    "predict_x = model.predict(X_test)\n",
    "classes_x = np.argmax(predict_x, axis = 1)\n",
    "predict_x[1]"
   ]
  },
  {
   "cell_type": "code",
   "execution_count": 23,
   "id": "028a9929",
   "metadata": {
    "execution": {
     "iopub.execute_input": "2023-03-08T17:20:02.518543Z",
     "iopub.status.busy": "2023-03-08T17:20:02.517798Z",
     "iopub.status.idle": "2023-03-08T17:20:02.543486Z",
     "shell.execute_reply": "2023-03-08T17:20:02.544078Z"
    },
    "papermill": {
     "duration": 7.023811,
     "end_time": "2023-03-08T17:20:02.544283",
     "exception": false,
     "start_time": "2023-03-08T17:19:55.520472",
     "status": "completed"
    },
    "tags": []
   },
   "outputs": [],
   "source": [
    "#Here we split the test audio file\n",
    "test_audio_dir = '../input/birdclef-2022/test_soundscapes/'\n",
    "file_list = [f.split('.')[0] for f in sorted(os.listdir(test_audio_dir))]"
   ]
  },
  {
   "cell_type": "code",
   "execution_count": 24,
   "id": "46c68214",
   "metadata": {
    "execution": {
     "iopub.execute_input": "2023-03-08T17:20:16.848975Z",
     "iopub.status.busy": "2023-03-08T17:20:16.848280Z",
     "iopub.status.idle": "2023-03-08T17:20:16.858539Z",
     "shell.execute_reply": "2023-03-08T17:20:16.859552Z"
    },
    "papermill": {
     "duration": 7.186593,
     "end_time": "2023-03-08T17:20:16.859803",
     "exception": false,
     "start_time": "2023-03-08T17:20:09.673210",
     "status": "completed"
    },
    "tags": []
   },
   "outputs": [],
   "source": [
    "with open('../input/birdclef-2022/scored_birds.json') as sbfile:\n",
    "    scored_birds = json.load(sbfile)"
   ]
  },
  {
   "cell_type": "code",
   "execution_count": 25,
   "id": "35cb96d8",
   "metadata": {
    "execution": {
     "iopub.execute_input": "2023-03-08T17:20:30.873627Z",
     "iopub.status.busy": "2023-03-08T17:20:30.872547Z",
     "iopub.status.idle": "2023-03-08T17:20:30.875620Z",
     "shell.execute_reply": "2023-03-08T17:20:30.874957Z"
    },
    "papermill": {
     "duration": 6.938967,
     "end_time": "2023-03-08T17:20:30.875769",
     "exception": false,
     "start_time": "2023-03-08T17:20:23.936802",
     "status": "completed"
    },
    "tags": []
   },
   "outputs": [],
   "source": [
    "pred = {'row_id': [], 'target': []}"
   ]
  },
  {
   "cell_type": "code",
   "execution_count": 26,
   "id": "6633f85c",
   "metadata": {
    "execution": {
     "iopub.execute_input": "2023-03-08T17:20:45.015127Z",
     "iopub.status.busy": "2023-03-08T17:20:45.014372Z",
     "iopub.status.idle": "2023-03-08T17:20:45.018619Z",
     "shell.execute_reply": "2023-03-08T17:20:45.019155Z"
    },
    "papermill": {
     "duration": 7.100159,
     "end_time": "2023-03-08T17:20:45.019337",
     "exception": false,
     "start_time": "2023-03-08T17:20:37.919178",
     "status": "completed"
    },
    "tags": []
   },
   "outputs": [],
   "source": [
    "# Process audio files and make predictions\n",
    "for afile in file_list:\n",
    "    \n",
    "    # Complete file path\n",
    "    path = test_audio_dir + afile + '.ogg'\n",
    "    \n",
    "    # Open file with librosa and split signal into 5-second chunks\n",
    "    # sig, rate = librosa.load(path)\n",
    "    # ...\n",
    "    \n",
    "    # Let's assume we have a list of 12 audio chunks (1min / 5s == 12 segments)\n",
    "    chunks = [[] for i in range(12)]"
   ]
  },
  {
   "cell_type": "code",
   "execution_count": 27,
   "id": "e12f468a",
   "metadata": {
    "execution": {
     "iopub.execute_input": "2023-03-08T17:20:59.070618Z",
     "iopub.status.busy": "2023-03-08T17:20:59.069916Z",
     "iopub.status.idle": "2023-03-08T17:20:59.072615Z",
     "shell.execute_reply": "2023-03-08T17:20:59.073127Z"
    },
    "papermill": {
     "duration": 7.020849,
     "end_time": "2023-03-08T17:20:59.073303",
     "exception": false,
     "start_time": "2023-03-08T17:20:52.052454",
     "status": "completed"
    },
    "tags": []
   },
   "outputs": [
    {
     "data": {
      "text/plain": [
       "[[], [], [], [], [], [], [], [], [], [], [], []]"
      ]
     },
     "execution_count": 27,
     "metadata": {},
     "output_type": "execute_result"
    }
   ],
   "source": [
    "chunks"
   ]
  },
  {
   "cell_type": "code",
   "execution_count": 28,
   "id": "098cf582",
   "metadata": {
    "execution": {
     "iopub.execute_input": "2023-03-08T17:21:13.126765Z",
     "iopub.status.busy": "2023-03-08T17:21:13.126032Z",
     "iopub.status.idle": "2023-03-08T17:21:13.132284Z",
     "shell.execute_reply": "2023-03-08T17:21:13.132861Z"
    },
    "papermill": {
     "duration": 7.083864,
     "end_time": "2023-03-08T17:21:13.133041",
     "exception": false,
     "start_time": "2023-03-08T17:21:06.049177",
     "status": "completed"
    },
    "tags": []
   },
   "outputs": [
    {
     "data": {
      "text/plain": [
       "array([[0., 0., 0., ..., 0., 0., 0.],\n",
       "       [0., 0., 0., ..., 0., 0., 0.],\n",
       "       [0., 0., 0., ..., 0., 0., 0.],\n",
       "       ...,\n",
       "       [0., 0., 0., ..., 0., 0., 0.],\n",
       "       [0., 0., 0., ..., 0., 0., 0.],\n",
       "       [0., 0., 0., ..., 0., 0., 0.]], dtype=float32)"
      ]
     },
     "execution_count": 28,
     "metadata": {},
     "output_type": "execute_result"
    }
   ],
   "source": [
    "y_test.shape\n",
    "predict_x.shape\n",
    "from sklearn.metrics import accuracy_score\n",
    "from sklearn.metrics import f1_score\n",
    "#score = f1_score(str(y_test[1]),str(predict_x[1]).replace(\".\", \"\"), average = None)\n",
    "#fil_acc_orig = accuracy_score(X_test,predict_x)\n",
    "\n",
    "X_test\n",
    "\n",
    "y\n",
    "\n"
   ]
  },
  {
   "cell_type": "markdown",
   "id": "fe07d431",
   "metadata": {
    "papermill": {
     "duration": 7.052095,
     "end_time": "2023-03-08T17:21:27.176246",
     "exception": false,
     "start_time": "2023-03-08T17:21:20.124151",
     "status": "completed"
    },
    "tags": []
   },
   "source": [
    "Let's prepare the test file to create the submision csv"
   ]
  },
  {
   "cell_type": "code",
   "execution_count": 29,
   "id": "72ab4c5a",
   "metadata": {
    "execution": {
     "iopub.execute_input": "2023-03-08T17:21:41.169961Z",
     "iopub.status.busy": "2023-03-08T17:21:41.169244Z",
     "iopub.status.idle": "2023-03-08T17:21:44.201316Z",
     "shell.execute_reply": "2023-03-08T17:21:44.200481Z"
    },
    "papermill": {
     "duration": 9.945905,
     "end_time": "2023-03-08T17:21:44.201492",
     "exception": false,
     "start_time": "2023-03-08T17:21:34.255587",
     "status": "completed"
    },
    "tags": []
   },
   "outputs": [
    {
     "name": "stdout",
     "output_type": "stream",
     "text": [
      "exporting 0.ogg\n",
      "exporting 1.ogg\n",
      "exporting 2.ogg\n",
      "exporting 3.ogg\n",
      "exporting 4.ogg\n",
      "exporting 5.ogg\n",
      "exporting 6.ogg\n",
      "exporting 7.ogg\n",
      "exporting 8.ogg\n",
      "exporting 9.ogg\n",
      "exporting 10.ogg\n",
      "exporting 11.ogg\n"
     ]
    }
   ],
   "source": [
    "# we will divide the test audio in 12 audios of 5 seconds.\n",
    "\n",
    "from pydub import AudioSegment\n",
    "from pydub.utils import make_chunks \n",
    "sound = AudioSegment.from_file(\"../input/birdclef-2022/test_soundscapes/soundscape_453028782.ogg\")\n",
    "\n",
    "chunk_length_ms = 5000 # pydub calculates in millisec \n",
    "chunks = make_chunks(sound,chunk_length_ms) #Make chunks of one sec \n",
    "for i, chunk in enumerate(chunks): \n",
    "    chunk_name = \"{0}.ogg\".format(i) \n",
    "    print (\"exporting\", chunk_name) \n",
    "    chunk.export(chunk_name, format=\"ogg\") \n"
   ]
  },
  {
   "cell_type": "code",
   "execution_count": 30,
   "id": "a9c27f18",
   "metadata": {
    "execution": {
     "iopub.execute_input": "2023-03-08T17:21:58.320802Z",
     "iopub.status.busy": "2023-03-08T17:21:58.319992Z",
     "iopub.status.idle": "2023-03-08T17:21:59.740287Z",
     "shell.execute_reply": "2023-03-08T17:21:59.741421Z"
    },
    "papermill": {
     "duration": 8.464375,
     "end_time": "2023-03-08T17:21:59.741784",
     "exception": false,
     "start_time": "2023-03-08T17:21:51.277409",
     "status": "completed"
    },
    "tags": []
   },
   "outputs": [],
   "source": [
    "# Lets exstract the features from the test audio\n",
    "import librosa\n",
    "import numpy as np\n",
    "\n",
    "def features_extractor(file):\n",
    "    #load the file (audio)\n",
    "    audio, sample_rate = librosa.load(file_name, res_type='kaiser_fast') \n",
    "    #we extract mfcc\n",
    "    mfccs_features = librosa.feature.mfcc(y=audio, sr=sample_rate, n_mfcc=40)\n",
    "    #in order to find out scaled feature we do mean of transpose of value\n",
    "    mfccs_scaled_features = np.mean(mfccs_features.T,axis=0)\n",
    "    return mfccs_scaled_features\n",
    "\n",
    "\n",
    "import os\n",
    "extracted_features_=[]\n",
    "for i in range(0,12):\n",
    "    file_name = os.path.join(os.path.abspath(\"./\"),str(i) + \".ogg\")\n",
    "    data=features_extractor(file_name)\n",
    "    extracted_features_.append([data])"
   ]
  },
  {
   "cell_type": "code",
   "execution_count": 31,
   "id": "b5a9d08c",
   "metadata": {
    "execution": {
     "iopub.execute_input": "2023-03-08T17:22:14.023844Z",
     "iopub.status.busy": "2023-03-08T17:22:14.022464Z",
     "iopub.status.idle": "2023-03-08T17:22:14.024671Z",
     "shell.execute_reply": "2023-03-08T17:22:14.025202Z"
    },
    "papermill": {
     "duration": 7.020248,
     "end_time": "2023-03-08T17:22:14.025385",
     "exception": false,
     "start_time": "2023-03-08T17:22:07.005137",
     "status": "completed"
    },
    "tags": []
   },
   "outputs": [],
   "source": [
    "import pandas as pd\n",
    "extracted_features_df_=pd.DataFrame(extracted_features_,columns=['feature'])"
   ]
  },
  {
   "cell_type": "code",
   "execution_count": 32,
   "id": "d3a21611",
   "metadata": {
    "execution": {
     "iopub.execute_input": "2023-03-08T17:22:28.052003Z",
     "iopub.status.busy": "2023-03-08T17:22:28.051305Z",
     "iopub.status.idle": "2023-03-08T17:22:28.054531Z",
     "shell.execute_reply": "2023-03-08T17:22:28.053976Z"
    },
    "papermill": {
     "duration": 7.035644,
     "end_time": "2023-03-08T17:22:28.054685",
     "exception": false,
     "start_time": "2023-03-08T17:22:21.019041",
     "status": "completed"
    },
    "tags": []
   },
   "outputs": [],
   "source": [
    "X_=np.array(extracted_features_df_['feature'].tolist())"
   ]
  },
  {
   "cell_type": "code",
   "execution_count": 33,
   "id": "494132ab",
   "metadata": {
    "execution": {
     "iopub.execute_input": "2023-03-08T17:22:41.972787Z",
     "iopub.status.busy": "2023-03-08T17:22:41.942163Z",
     "iopub.status.idle": "2023-03-08T17:22:41.976299Z",
     "shell.execute_reply": "2023-03-08T17:22:41.975620Z"
    },
    "papermill": {
     "duration": 7.02624,
     "end_time": "2023-03-08T17:22:41.976448",
     "exception": false,
     "start_time": "2023-03-08T17:22:34.950208",
     "status": "completed"
    },
    "tags": []
   },
   "outputs": [],
   "source": [
    "#We use the same features than before\n",
    "X_prueba = X_\n",
    "X_prueb = X_prueba.tolist()\n",
    "X_pru = []\n",
    "X_pri = []\n",
    "\n",
    "for i in range(len(X_)):\n",
    "    for j in range(0,40):\n",
    "        if j==6 or j==8 or j==7 or j==4 or j==0 or j==1 or j==3:\n",
    "            X_pru.append(X_prueb[i][j])\n",
    "    X_pri.append(X_pru)\n",
    "    X_pru = []\n",
    "            \n",
    "                \n",
    "X_pro = np.array([np.array(xi) for xi in X_pri])"
   ]
  },
  {
   "cell_type": "code",
   "execution_count": 34,
   "id": "3e8c3040",
   "metadata": {
    "execution": {
     "iopub.execute_input": "2023-03-08T17:22:55.984050Z",
     "iopub.status.busy": "2023-03-08T17:22:55.983349Z",
     "iopub.status.idle": "2023-03-08T17:22:55.988749Z",
     "shell.execute_reply": "2023-03-08T17:22:55.989270Z"
    },
    "papermill": {
     "duration": 6.95438,
     "end_time": "2023-03-08T17:22:55.989460",
     "exception": false,
     "start_time": "2023-03-08T17:22:49.035080",
     "status": "completed"
    },
    "tags": []
   },
   "outputs": [],
   "source": [
    "with open('../input/birdclef-2022/scored_birds.json') as sbfile:\n",
    "    scored_birds = json.load(sbfile)"
   ]
  },
  {
   "cell_type": "code",
   "execution_count": 35,
   "id": "419343d3",
   "metadata": {
    "execution": {
     "iopub.execute_input": "2023-03-08T17:23:10.060493Z",
     "iopub.status.busy": "2023-03-08T17:23:10.059412Z",
     "iopub.status.idle": "2023-03-08T17:23:10.131081Z",
     "shell.execute_reply": "2023-03-08T17:23:10.131796Z"
    },
    "papermill": {
     "duration": 7.107296,
     "end_time": "2023-03-08T17:23:10.132077",
     "exception": false,
     "start_time": "2023-03-08T17:23:03.024781",
     "status": "completed"
    },
    "tags": []
   },
   "outputs": [],
   "source": [
    "predict__=model.predict(X_pro)"
   ]
  },
  {
   "cell_type": "code",
   "execution_count": 36,
   "id": "e98db44b",
   "metadata": {
    "execution": {
     "iopub.execute_input": "2023-03-08T17:23:24.332838Z",
     "iopub.status.busy": "2023-03-08T17:23:24.331790Z",
     "iopub.status.idle": "2023-03-08T17:23:24.334190Z",
     "shell.execute_reply": "2023-03-08T17:23:24.334805Z"
    },
    "papermill": {
     "duration": 7.223094,
     "end_time": "2023-03-08T17:23:24.334994",
     "exception": false,
     "start_time": "2023-03-08T17:23:17.111900",
     "status": "completed"
    },
    "tags": []
   },
   "outputs": [],
   "source": [
    "# This is where we will store our results\n",
    "pred = {'row_id': [], 'target': []}\n",
    "\n",
    "# Process audio files and make predictions\n",
    "for afile in file_list:\n",
    "    \n",
    "    # Complete file path\n",
    "    path = test_audio_dir + afile + '.ogg'\n",
    "    \n",
    "    # Open file with librosa and split signal into 5-second chunks\n",
    "    # sig, rate = librosa.load(path)\n",
    "    # ...\n",
    "    \n",
    "    # Let's assume we have a list of 12 audio chunks (1min / 5s == 12 segments)\n",
    "    chunks = [[] for i in range(12)]\n",
    "    \n",
    "    # Make prediction for each chunk\n",
    "    # Each scored bird gets a random value in our case\n",
    "    # since we don't actually have a model\n",
    "    for i in range(len(chunks)):        \n",
    "        chunk_end_time = (i + 1) * 5\n",
    "        j=0\n",
    "        for bird in scored_birds:\n",
    "            \n",
    "            # This is our random prediction score for this bird\n",
    "            score = predict__[i][j]\n",
    "            j=j+1\n",
    "            # Assemble the row_id which we need to do for each scored bird\n",
    "            row_id = afile + '_' + bird + '_' + str(chunk_end_time)\n",
    "            \n",
    "            # Put the result into our prediction dict and\n",
    "            # apply a \"confidence\" threshold of 0.5\n",
    "            pred['row_id'].append(row_id)\n",
    "            pred['target'].append(True if score > 0.006 else False)"
   ]
  },
  {
   "cell_type": "code",
   "execution_count": 37,
   "id": "c38738e5",
   "metadata": {
    "execution": {
     "iopub.execute_input": "2023-03-08T17:23:38.322147Z",
     "iopub.status.busy": "2023-03-08T17:23:38.321080Z",
     "iopub.status.idle": "2023-03-08T17:23:38.329323Z",
     "shell.execute_reply": "2023-03-08T17:23:38.329879Z"
    },
    "papermill": {
     "duration": 7.055875,
     "end_time": "2023-03-08T17:23:38.330060",
     "exception": false,
     "start_time": "2023-03-08T17:23:31.274185",
     "status": "completed"
    },
    "tags": []
   },
   "outputs": [
    {
     "name": "stdout",
     "output_type": "stream",
     "text": [
      "                          row_id  target\n",
      "0  soundscape_453028782_akiapo_5   False\n",
      "1  soundscape_453028782_aniani_5   False\n",
      "2  soundscape_453028782_apapan_5   False\n",
      "3  soundscape_453028782_barpet_5   False\n",
      "4  soundscape_453028782_crehon_5   False\n"
     ]
    }
   ],
   "source": [
    "results = pd.DataFrame(pred, columns = ['row_id', 'target'])\n",
    "\n",
    "# Quick sanity check\n",
    "print(results.head()) \n",
    "    \n",
    "# Convert our results to csv\n",
    "results.to_csv(\"submission.csv\", index=False)"
   ]
  }
 ],
 "metadata": {
  "kernelspec": {
   "display_name": "Python 3",
   "language": "python",
   "name": "python3"
  },
  "language_info": {
   "codemirror_mode": {
    "name": "ipython",
    "version": 3
   },
   "file_extension": ".py",
   "mimetype": "text/x-python",
   "name": "python",
   "nbconvert_exporter": "python",
   "pygments_lexer": "ipython3",
   "version": "3.7.12"
  },
  "papermill": {
   "default_parameters": {},
   "duration": 9614.463777,
   "end_time": "2023-03-08T17:23:48.475682",
   "environment_variables": {},
   "exception": null,
   "input_path": "__notebook__.ipynb",
   "output_path": "__notebook__.ipynb",
   "parameters": {},
   "start_time": "2023-03-08T14:43:34.011905",
   "version": "2.3.3"
  }
 },
 "nbformat": 4,
 "nbformat_minor": 5
}
