{
 "cells": [
  {
   "cell_type": "code",
   "execution_count": 1,
   "id": "73d90f0f",
   "metadata": {
    "_cell_guid": "b1076dfc-b9ad-4769-8c92-a6c4dae69d19",
    "_uuid": "8f2839f25d086af736a60e9eeb907d3b93b6e0e5",
    "execution": {
     "iopub.execute_input": "2022-05-06T20:57:15.268911Z",
     "iopub.status.busy": "2022-05-06T20:57:15.267100Z",
     "iopub.status.idle": "2022-05-06T20:57:18.516542Z",
     "shell.execute_reply": "2022-05-06T20:57:18.515795Z",
     "shell.execute_reply.started": "2022-05-06T20:35:35.392712Z"
    },
    "papermill": {
     "duration": 3.299447,
     "end_time": "2022-05-06T20:57:18.516734",
     "exception": false,
     "start_time": "2022-05-06T20:57:15.217287",
     "status": "completed"
    },
    "tags": []
   },
   "outputs": [],
   "source": [
    "\n",
    "import numpy as np # linear algebra\n",
    "import pandas as pd # data processing, CSV file I/O (e.g. pd.read_csv)\n",
    "import os\n",
    "import json\n",
    "import librosa\n",
    "import librosa.display\n",
    "import matplotlib.pyplot as plt\n",
    "from scipy import signal\n",
    "from scipy.io import wavfile\n",
    "#reading CSV with pandas\n",
    "Taxonomy = pd.read_csv('../input/birdclef-2022/eBird_Taxonomy_v2021.csv')\n",
    "test = pd.read_csv('../input/birdclef-2022/test.csv')\n",
    "train_metadata = pd.read_csv('../input/birdclef-2022/train_metadata.csv')\n",
    "submission = pd.read_csv('../input/birdclef-2022/sample_submission.csv')\n",
    "from os import path\n",
    "from pydub import AudioSegment\n",
    "import seaborn as sns\n",
    "from scipy.io.wavfile import read\n",
    "from statsmodels.graphics.tsaplots import plot_acf\n",
    "from scipy import signal\n",
    "from scipy.io import wavfile\n",
    "\n",
    "\n",
    "#transform into dataframe\n",
    "df_taxonomy = pd.DataFrame(Taxonomy)\n",
    "\n",
    "df_test = pd.DataFrame(test)\n",
    "\n",
    "df_train = pd.DataFrame(train_metadata)\n",
    "\n",
    "df_submission = pd.DataFrame(submission)\n",
    "\n",
    "\n",
    "\n",
    "\n",
    "\n",
    "\n",
    "\n"
   ]
  },
  {
   "cell_type": "markdown",
   "id": "96a1ba8c",
   "metadata": {
    "papermill": {
     "duration": 0.038623,
     "end_time": "2022-05-06T20:57:18.596813",
     "exception": false,
     "start_time": "2022-05-06T20:57:18.558190",
     "status": "completed"
    },
    "tags": []
   },
   "source": []
  },
  {
   "cell_type": "code",
   "execution_count": 2,
   "id": "5da77a24",
   "metadata": {
    "execution": {
     "iopub.execute_input": "2022-05-06T20:57:18.679108Z",
     "iopub.status.busy": "2022-05-06T20:57:18.678366Z",
     "iopub.status.idle": "2022-05-06T20:57:18.685073Z",
     "shell.execute_reply": "2022-05-06T20:57:18.685617Z",
     "shell.execute_reply.started": "2022-05-06T20:35:35.552915Z"
    },
    "papermill": {
     "duration": 0.050425,
     "end_time": "2022-05-06T20:57:18.685791",
     "exception": false,
     "start_time": "2022-05-06T20:57:18.635366",
     "status": "completed"
    },
    "tags": []
   },
   "outputs": [],
   "source": [
    "#opening the scored bird file\n",
    "with open('../input/birdclef-2022/scored_birds.json','r') as f:\n",
    "    data = json.load(f)\n",
    "    "
   ]
  },
  {
   "cell_type": "code",
   "execution_count": 3,
   "id": "7e93127c",
   "metadata": {
    "execution": {
     "iopub.execute_input": "2022-05-06T20:57:18.793931Z",
     "iopub.status.busy": "2022-05-06T20:57:18.770658Z",
     "iopub.status.idle": "2022-05-06T20:57:21.188848Z",
     "shell.execute_reply": "2022-05-06T20:57:21.188249Z",
     "shell.execute_reply.started": "2022-05-06T20:35:35.598244Z"
    },
    "papermill": {
     "duration": 2.459902,
     "end_time": "2022-05-06T20:57:21.189009",
     "exception": false,
     "start_time": "2022-05-06T20:57:18.729107",
     "status": "completed"
    },
    "tags": []
   },
   "outputs": [],
   "source": [
    "\n",
    "index_row_scored = []\n",
    "for i in data:\n",
    "    a=i.strip('\"')\n",
    "    for j in range(len(df_train[\"primary_label\"])):\n",
    "        if df_train[\"primary_label\"][j] == a:\n",
    "            index_row_scored.append(j)\n"
   ]
  },
  {
   "cell_type": "code",
   "execution_count": 4,
   "id": "4ffd923e",
   "metadata": {
    "execution": {
     "iopub.execute_input": "2022-05-06T20:57:21.269796Z",
     "iopub.status.busy": "2022-05-06T20:57:21.269107Z",
     "iopub.status.idle": "2022-05-06T20:57:21.433756Z",
     "shell.execute_reply": "2022-05-06T20:57:21.433141Z",
     "shell.execute_reply.started": "2022-05-06T20:35:38.010041Z"
    },
    "papermill": {
     "duration": 0.20642,
     "end_time": "2022-05-06T20:57:21.433898",
     "exception": false,
     "start_time": "2022-05-06T20:57:21.227478",
     "status": "completed"
    },
    "tags": []
   },
   "outputs": [],
   "source": [
    "\n",
    "from os import listdir\n",
    "from os.path import isfile, join\n",
    "rated_list = []\n",
    "for i in data:\n",
    "    onlyfiles = [f for f in listdir(\"../input/birdclef-2022/train_audio/\"+i) if isfile(join(\"../input/birdclef-2022/train_audio/\"+i,f))]\n",
    "    rated_list.append(i)\n",
    "    rated_list.append(onlyfiles)\n",
    "    "
   ]
  },
  {
   "cell_type": "code",
   "execution_count": 5,
   "id": "471b77a5",
   "metadata": {
    "execution": {
     "iopub.execute_input": "2022-05-06T20:57:21.514568Z",
     "iopub.status.busy": "2022-05-06T20:57:21.513588Z",
     "iopub.status.idle": "2022-05-06T20:57:21.519428Z",
     "shell.execute_reply": "2022-05-06T20:57:21.520022Z",
     "shell.execute_reply.started": "2022-05-06T20:35:38.731807Z"
    },
    "papermill": {
     "duration": 0.047761,
     "end_time": "2022-05-06T20:57:21.520221",
     "exception": false,
     "start_time": "2022-05-06T20:57:21.472460",
     "status": "completed"
    },
    "tags": []
   },
   "outputs": [],
   "source": [
    "#Function to extract features from the audios\n",
    "def features_extractor(file):\n",
    "    #load the file (audio)\n",
    "    audio, sample_rate = librosa.load(file_name, res_type='kaiser_fast') \n",
    "    #we extract mfcc\n",
    "    mfccs_features = librosa.feature.mfcc(y=audio, sr=sample_rate, n_mfcc=40)\n",
    "    #in order to find out scaled feature we do mean of transpose of value\n",
    "    mfccs_scaled_features = np.mean(mfccs_features.T,axis=0)\n",
    "    return mfccs_scaled_features\n"
   ]
  },
  {
   "cell_type": "code",
   "execution_count": 6,
   "id": "996bb5e5",
   "metadata": {
    "execution": {
     "iopub.execute_input": "2022-05-06T20:57:21.600130Z",
     "iopub.status.busy": "2022-05-06T20:57:21.599172Z",
     "iopub.status.idle": "2022-05-06T20:57:39.197153Z",
     "shell.execute_reply": "2022-05-06T20:57:39.196372Z",
     "shell.execute_reply.started": "2022-05-06T20:35:38.741141Z"
    },
    "papermill": {
     "duration": 17.638984,
     "end_time": "2022-05-06T20:57:39.197299",
     "exception": false,
     "start_time": "2022-05-06T20:57:21.558315",
     "status": "completed"
    },
    "tags": []
   },
   "outputs": [],
   "source": [
    "#We will use a dataframe with the scored birds just to see that everything works fine \n",
    "#without spending so much time\n",
    "df_scored = df_train.copy()\n",
    "for i in df_train.index:\n",
    "    #if df_train['rating'][i]<2.5:\n",
    "        #df_train.drop([i],axis = 0, inplace = True)\n",
    "    if i not in index_row_scored:\n",
    "        df_scored.drop([i],axis = 0, inplace = True)"
   ]
  },
  {
   "cell_type": "code",
   "execution_count": 7,
   "id": "2dc629c3",
   "metadata": {
    "execution": {
     "iopub.execute_input": "2022-05-06T20:57:39.278377Z",
     "iopub.status.busy": "2022-05-06T20:57:39.277712Z",
     "iopub.status.idle": "2022-05-06T21:11:21.933304Z",
     "shell.execute_reply": "2022-05-06T21:11:21.934314Z",
     "shell.execute_reply.started": "2022-05-06T20:35:56.929414Z"
    },
    "papermill": {
     "duration": 822.698055,
     "end_time": "2022-05-06T21:11:21.934955",
     "exception": false,
     "start_time": "2022-05-06T20:57:39.236900",
     "status": "completed"
    },
    "tags": []
   },
   "outputs": [
    {
     "name": "stderr",
     "output_type": "stream",
     "text": [
      "1266it [13:42,  1.54it/s]\n"
     ]
    }
   ],
   "source": [
    "\n",
    "from tqdm import tqdm\n",
    "# Now we iterate through every audio file and extract features \n",
    "# using Mel-Frequency Cepstral Coefficients\n",
    "extracted_features=[]\n",
    "for index_num,row in tqdm(df_scored.iterrows()):\n",
    "    file_name = os.path.join(os.path.abspath(\"../input/birdclef-2022/train_audio/\"),str(row[\"filename\"]))\n",
    "    final_class_labels=row[\"primary_label\"]\n",
    "    data=features_extractor(file_name)\n",
    "    extracted_features.append([data,final_class_labels])"
   ]
  },
  {
   "cell_type": "code",
   "execution_count": 8,
   "id": "0e65c1c8",
   "metadata": {
    "execution": {
     "iopub.execute_input": "2022-05-06T21:11:22.977100Z",
     "iopub.status.busy": "2022-05-06T21:11:22.976144Z",
     "iopub.status.idle": "2022-05-06T21:11:23.000015Z",
     "shell.execute_reply": "2022-05-06T21:11:23.000569Z",
     "shell.execute_reply.started": "2022-05-06T20:49:23.002656Z"
    },
    "papermill": {
     "duration": 0.52608,
     "end_time": "2022-05-06T21:11:23.000739",
     "exception": false,
     "start_time": "2022-05-06T21:11:22.474659",
     "status": "completed"
    },
    "tags": []
   },
   "outputs": [
    {
     "data": {
      "text/html": [
       "<div>\n",
       "<style scoped>\n",
       "    .dataframe tbody tr th:only-of-type {\n",
       "        vertical-align: middle;\n",
       "    }\n",
       "\n",
       "    .dataframe tbody tr th {\n",
       "        vertical-align: top;\n",
       "    }\n",
       "\n",
       "    .dataframe thead th {\n",
       "        text-align: right;\n",
       "    }\n",
       "</style>\n",
       "<table border=\"1\" class=\"dataframe\">\n",
       "  <thead>\n",
       "    <tr style=\"text-align: right;\">\n",
       "      <th></th>\n",
       "      <th>feature</th>\n",
       "      <th>primary_label</th>\n",
       "    </tr>\n",
       "  </thead>\n",
       "  <tbody>\n",
       "    <tr>\n",
       "      <th>0</th>\n",
       "      <td>[-472.28574, 60.7976, -25.217098, 57.126324, 1...</td>\n",
       "      <td>akiapo</td>\n",
       "    </tr>\n",
       "    <tr>\n",
       "      <th>1</th>\n",
       "      <td>[-446.27298, 55.930138, -19.547518, 57.774445,...</td>\n",
       "      <td>akiapo</td>\n",
       "    </tr>\n",
       "    <tr>\n",
       "      <th>2</th>\n",
       "      <td>[-266.47318, 75.57892, -7.943713, 50.27808, -4...</td>\n",
       "      <td>akiapo</td>\n",
       "    </tr>\n",
       "    <tr>\n",
       "      <th>3</th>\n",
       "      <td>[-404.56955, 26.65804, -27.88428, 29.090647, -...</td>\n",
       "      <td>akiapo</td>\n",
       "    </tr>\n",
       "    <tr>\n",
       "      <th>4</th>\n",
       "      <td>[-381.15158, 27.375917, -63.842342, 60.094864,...</td>\n",
       "      <td>akiapo</td>\n",
       "    </tr>\n",
       "  </tbody>\n",
       "</table>\n",
       "</div>"
      ],
      "text/plain": [
       "                                             feature primary_label\n",
       "0  [-472.28574, 60.7976, -25.217098, 57.126324, 1...        akiapo\n",
       "1  [-446.27298, 55.930138, -19.547518, 57.774445,...        akiapo\n",
       "2  [-266.47318, 75.57892, -7.943713, 50.27808, -4...        akiapo\n",
       "3  [-404.56955, 26.65804, -27.88428, 29.090647, -...        akiapo\n",
       "4  [-381.15158, 27.375917, -63.842342, 60.094864,...        akiapo"
      ]
     },
     "execution_count": 8,
     "metadata": {},
     "output_type": "execute_result"
    }
   ],
   "source": [
    "extracted_features_df=pd.DataFrame(extracted_features,columns=['feature','primary_label'])\n",
    "extracted_features_df.head()"
   ]
  },
  {
   "cell_type": "code",
   "execution_count": 9,
   "id": "879313a4",
   "metadata": {
    "execution": {
     "iopub.execute_input": "2022-05-06T21:11:23.987555Z",
     "iopub.status.busy": "2022-05-06T21:11:23.986743Z",
     "iopub.status.idle": "2022-05-06T21:11:30.856703Z",
     "shell.execute_reply": "2022-05-06T21:11:30.857321Z",
     "shell.execute_reply.started": "2022-05-06T20:49:23.038868Z"
    },
    "papermill": {
     "duration": 7.367146,
     "end_time": "2022-05-06T21:11:30.857579",
     "exception": false,
     "start_time": "2022-05-06T21:11:23.490433",
     "status": "completed"
    },
    "tags": []
   },
   "outputs": [],
   "source": [
    "#Now we split the data into train and test\n",
    "from imblearn.over_sampling import RandomOverSampler #we improved accuracy with this!\n",
    "oversample = RandomOverSampler(sampling_strategy='minority')\n",
    "# Split the dataset into independent and dependent dataset\n",
    "X=np.array(extracted_features_df['feature'].tolist())\n",
    "y=np.array(extracted_features_df['primary_label'].tolist())\n",
    "# Label Encoding -> Label Encoder\n",
    "from tensorflow.keras.utils import to_categorical\n",
    "from sklearn.preprocessing import LabelEncoder\n",
    "labelencoder=LabelEncoder()\n",
    "y=to_categorical(labelencoder.fit_transform(y))\n",
    "### Train Test Split\n",
    "from sklearn.model_selection import train_test_split\n",
    "#X,y = oversample.fit_resample(X, y)\n",
    "X_train,X_test,y_train,y_test=train_test_split(X,y,test_size=0.02)"
   ]
  },
  {
   "cell_type": "code",
   "execution_count": 10,
   "id": "a23d2690",
   "metadata": {
    "execution": {
     "iopub.execute_input": "2022-05-06T21:11:31.895182Z",
     "iopub.status.busy": "2022-05-06T21:11:31.894227Z",
     "iopub.status.idle": "2022-05-06T21:11:45.130143Z",
     "shell.execute_reply": "2022-05-06T21:11:45.129309Z",
     "shell.execute_reply.started": "2022-05-06T20:49:23.061051Z"
    },
    "papermill": {
     "duration": 13.737704,
     "end_time": "2022-05-06T21:11:45.130460",
     "exception": false,
     "start_time": "2022-05-06T21:11:31.392756",
     "status": "completed"
    },
    "tags": []
   },
   "outputs": [
    {
     "name": "stdout",
     "output_type": "stream",
     "text": [
      "              precision    recall  f1-score   support\n",
      "\n",
      "           0       0.00      0.00      0.00         0\n",
      "           1       0.00      0.00      0.00         0\n",
      "           2       0.00      0.00      0.00         0\n",
      "           3       0.00      0.00      0.00         0\n",
      "           4       0.00      0.00      0.00         0\n",
      "           5       0.00      0.00      0.00         1\n",
      "           6       0.00      0.00      0.00         0\n",
      "           7       0.00      0.00      0.00         1\n",
      "           8       0.00      0.00      0.00         0\n",
      "           9       0.00      0.00      0.00         0\n",
      "          10       0.00      0.00      0.00         0\n",
      "          11       0.00      0.00      0.00         0\n",
      "          12       1.00      0.33      0.50         6\n",
      "          13       0.00      0.00      0.00         0\n",
      "          14       0.00      0.00      0.00         3\n",
      "          15       0.00      0.00      0.00         0\n",
      "          16       0.00      0.00      0.00         0\n",
      "          17       0.00      0.00      0.00         0\n",
      "          18       1.00      0.57      0.73        14\n",
      "          19       0.00      0.00      0.00         1\n",
      "          20       0.00      0.00      0.00         0\n",
      "\n",
      "   micro avg       1.00      0.38      0.56        26\n",
      "   macro avg       0.10      0.04      0.06        26\n",
      "weighted avg       0.77      0.38      0.51        26\n",
      " samples avg       0.38      0.38      0.38        26\n",
      "\n"
     ]
    },
    {
     "name": "stderr",
     "output_type": "stream",
     "text": [
      "/opt/conda/lib/python3.7/site-packages/sklearn/metrics/_classification.py:1308: UndefinedMetricWarning: Precision and F-score are ill-defined and being set to 0.0 in labels with no predicted samples. Use `zero_division` parameter to control this behavior.\n",
      "  _warn_prf(average, modifier, msg_start, len(result))\n",
      "/opt/conda/lib/python3.7/site-packages/sklearn/metrics/_classification.py:1308: UndefinedMetricWarning: Recall and F-score are ill-defined and being set to 0.0 in labels with no true samples. Use `zero_division` parameter to control this behavior.\n",
      "  _warn_prf(average, modifier, msg_start, len(result))\n",
      "/opt/conda/lib/python3.7/site-packages/sklearn/metrics/_classification.py:1308: UndefinedMetricWarning: Precision and F-score are ill-defined and being set to 0.0 in samples with no predicted labels. Use `zero_division` parameter to control this behavior.\n",
      "  _warn_prf(average, modifier, msg_start, len(result))\n"
     ]
    }
   ],
   "source": [
    "from sklearn.metrics import classification_report\n",
    "from sklearn.ensemble import RandomForestClassifier\n",
    "trainedforest = RandomForestClassifier(n_estimators = 700).fit(X_train, y_train)\n",
    "predictionforest = trainedforest.predict(X_test)\n",
    "print(classification_report(y_test,predictionforest))"
   ]
  },
  {
   "cell_type": "markdown",
   "id": "3ac236b0",
   "metadata": {
    "papermill": {
     "duration": 0.490281,
     "end_time": "2022-05-06T21:11:46.111534",
     "exception": false,
     "start_time": "2022-05-06T21:11:45.621253",
     "status": "completed"
    },
    "tags": []
   },
   "source": []
  },
  {
   "cell_type": "code",
   "execution_count": 11,
   "id": "39870b3b",
   "metadata": {
    "execution": {
     "iopub.execute_input": "2022-05-06T21:11:47.098338Z",
     "iopub.status.busy": "2022-05-06T21:11:47.097613Z",
     "iopub.status.idle": "2022-05-06T21:11:47.133284Z",
     "shell.execute_reply": "2022-05-06T21:11:47.133862Z",
     "shell.execute_reply.started": "2022-05-06T20:49:35.714560Z"
    },
    "papermill": {
     "duration": 0.534789,
     "end_time": "2022-05-06T21:11:47.134061",
     "exception": false,
     "start_time": "2022-05-06T21:11:46.599272",
     "status": "completed"
    },
    "tags": []
   },
   "outputs": [],
   "source": [
    "X=np.array(extracted_features_df['feature'].tolist())\n",
    "X_t = []\n",
    "X__t = []\n",
    "for j in range(0,40):\n",
    "    X_t = []\n",
    "    for i in range(len(X)):\n",
    "        X_t.append(X[i][j])\n",
    "    X__t.append(X_t)\n",
    "    \n",
    "feature_names = [f\"feature {i}\" for i in range(X.shape[1])]\n"
   ]
  },
  {
   "cell_type": "code",
   "execution_count": 12,
   "id": "bfdde9c9",
   "metadata": {
    "execution": {
     "iopub.execute_input": "2022-05-06T21:11:48.129386Z",
     "iopub.status.busy": "2022-05-06T21:11:48.128698Z",
     "iopub.status.idle": "2022-05-06T21:11:48.714210Z",
     "shell.execute_reply": "2022-05-06T21:11:48.714712Z",
     "shell.execute_reply.started": "2022-05-06T20:49:35.763549Z"
    },
    "papermill": {
     "duration": 1.09017,
     "end_time": "2022-05-06T21:11:48.714881",
     "exception": false,
     "start_time": "2022-05-06T21:11:47.624711",
     "status": "completed"
    },
    "tags": []
   },
   "outputs": [
    {
     "data": {
      "text/plain": [
       "<AxesSubplot:>"
      ]
     },
     "execution_count": 12,
     "metadata": {},
     "output_type": "execute_result"
    },
    {
     "data": {
      "image/png": "[encoded data removed]",
      "text/plain": [
       "<Figure size 800x880 with 1 Axes>"
      ]
     },
     "metadata": {},
     "output_type": "display_data"
    }
   ],
   "source": [
    "#Feature importance\n",
    "from matplotlib.pyplot import figure\n",
    "figure(num = None, figsize=(10,11), dpi = 80, facecolor = 'w', edgecolor = 'k')\n",
    "feat_importances = pd.Series(trainedforest.feature_importances_, index = feature_names)\n",
    "feat_importances.nlargest(40).plot(kind = 'barh')"
   ]
  },
  {
   "cell_type": "code",
   "execution_count": 13,
   "id": "95dc40c4",
   "metadata": {
    "execution": {
     "iopub.execute_input": "2022-05-06T21:11:49.727279Z",
     "iopub.status.busy": "2022-05-06T21:11:49.726603Z",
     "iopub.status.idle": "2022-05-06T21:11:49.973696Z",
     "shell.execute_reply": "2022-05-06T21:11:49.972994Z",
     "shell.execute_reply.started": "2022-05-06T20:49:36.353055Z"
    },
    "papermill": {
     "duration": 0.755814,
     "end_time": "2022-05-06T21:11:49.973841",
     "exception": false,
     "start_time": "2022-05-06T21:11:49.218027",
     "status": "completed"
    },
    "tags": []
   },
   "outputs": [
    {
     "data": {
      "text/plain": [
       "<AxesSubplot:>"
      ]
     },
     "execution_count": 13,
     "metadata": {},
     "output_type": "execute_result"
    },
    {
     "data": {
      "image/png": "[encoded data removed]",
      "text/plain": [
       "<Figure size 800x880 with 1 Axes>"
      ]
     },
     "metadata": {},
     "output_type": "display_data"
    }
   ],
   "source": [
    "\n",
    "\n",
    "from matplotlib.pyplot import figure\n",
    "figure(num = None, figsize=(10,11), dpi = 80, facecolor = 'w', edgecolor = 'k')\n",
    "feat_importances = pd.Series(trainedforest.feature_importances_, index = feature_names)\n",
    "feat_importances.nlargest(7).plot(kind = 'barh')"
   ]
  },
  {
   "cell_type": "code",
   "execution_count": 14,
   "id": "7f183c53",
   "metadata": {
    "execution": {
     "iopub.execute_input": "2022-05-06T21:11:51.054286Z",
     "iopub.status.busy": "2022-05-06T21:11:51.049268Z",
     "iopub.status.idle": "2022-05-06T21:11:51.073573Z",
     "shell.execute_reply": "2022-05-06T21:11:51.074202Z",
     "shell.execute_reply.started": "2022-05-06T20:49:36.641879Z"
    },
    "papermill": {
     "duration": 0.570507,
     "end_time": "2022-05-06T21:11:51.074378",
     "exception": false,
     "start_time": "2022-05-06T21:11:50.503871",
     "status": "completed"
    },
    "tags": []
   },
   "outputs": [
    {
     "name": "stdout",
     "output_type": "stream",
     "text": [
      "[[-472.28573608   11.26227093   18.62749672 ...   -5.06986189\n",
      "    17.48283386   -1.81247914]\n",
      " [-446.27297974   -4.24799156    7.91808462 ...   -8.31196499\n",
      "    16.52576447   -3.09710312]\n",
      " [-266.47317505   -4.90197325   10.85512543 ...  -10.55334282\n",
      "    13.49816227   -9.29772758]\n",
      " ...\n",
      " [-560.30517578  -56.60279083   -2.87694883 ...   -6.43454218\n",
      "     5.96341133   -4.90424633]\n",
      " [-481.96133423  -31.65890312  -23.69248009 ...  -19.49150467\n",
      "    -8.04002953   -9.09109688]\n",
      " [-461.07327271  -65.89056396   -0.76734853 ...  -15.94899559\n",
      "    -5.16784239   -8.86606216]]\n"
     ]
    },
    {
     "data": {
      "text/plain": [
       "1266"
      ]
     },
     "execution_count": 14,
     "metadata": {},
     "output_type": "execute_result"
    }
   ],
   "source": [
    "#We select the 7 features with more importance in our data\n",
    "X_prueba = X\n",
    "X_prueb = X_prueba.tolist()\n",
    "X_pru = []\n",
    "X_pri = []\n",
    "\n",
    "for i in range(len(X)):\n",
    "    for j in range(0,40):\n",
    "        if j==6 or j==8 or j==9 or j==4 or j==0 or j==5 or j==12:\n",
    "            X_pru.append(X_prueb[i][j])\n",
    "    X_pri.append(X_pru)\n",
    "    X_pru = []\n",
    "            \n",
    "                \n",
    "X_pro = np.array([np.array(xi) for xi in X_pri])\n",
    "print(X_pro)\n",
    "len(X_pro)"
   ]
  },
  {
   "cell_type": "code",
   "execution_count": 15,
   "id": "54db56af",
   "metadata": {
    "execution": {
     "iopub.execute_input": "2022-05-06T21:11:52.183984Z",
     "iopub.status.busy": "2022-05-06T21:11:52.183352Z",
     "iopub.status.idle": "2022-05-06T21:11:52.189483Z",
     "shell.execute_reply": "2022-05-06T21:11:52.190121Z",
     "shell.execute_reply.started": "2022-05-06T20:49:36.687351Z"
    },
    "papermill": {
     "duration": 0.508538,
     "end_time": "2022-05-06T21:11:52.190293",
     "exception": false,
     "start_time": "2022-05-06T21:11:51.681755",
     "status": "completed"
    },
    "tags": []
   },
   "outputs": [
    {
     "data": {
      "text/plain": [
       "(254, 7)"
      ]
     },
     "execution_count": 15,
     "metadata": {},
     "output_type": "execute_result"
    }
   ],
   "source": [
    "X_train,X_test,y_train,y_test=train_test_split(X_pro,y,test_size=0.2)\n",
    "X_train.shape\n",
    "X_test.shape"
   ]
  },
  {
   "cell_type": "code",
   "execution_count": 16,
   "id": "48316197",
   "metadata": {
    "execution": {
     "iopub.execute_input": "2022-05-06T21:11:53.217514Z",
     "iopub.status.busy": "2022-05-06T21:11:53.216862Z",
     "iopub.status.idle": "2022-05-06T21:11:53.223799Z",
     "shell.execute_reply": "2022-05-06T21:11:53.223162Z",
     "shell.execute_reply.started": "2022-05-06T20:49:36.696864Z"
    },
    "papermill": {
     "duration": 0.533812,
     "end_time": "2022-05-06T21:11:53.223936",
     "exception": false,
     "start_time": "2022-05-06T21:11:52.690124",
     "status": "completed"
    },
    "tags": []
   },
   "outputs": [],
   "source": [
    "from tensorflow.keras.models import Sequential\n",
    "from tensorflow.keras.layers import Dense,Dropout,Activation,Flatten\n",
    "from tensorflow.keras.optimizers import Adam\n",
    "from sklearn import metrics\n",
    "# No of classes\n",
    "num_labels=y.shape[1]"
   ]
  },
  {
   "cell_type": "code",
   "execution_count": 17,
   "id": "f862b380",
   "metadata": {
    "execution": {
     "iopub.execute_input": "2022-05-06T21:11:54.232951Z",
     "iopub.status.busy": "2022-05-06T21:11:54.232216Z",
     "iopub.status.idle": "2022-05-06T21:11:54.396806Z",
     "shell.execute_reply": "2022-05-06T21:11:54.396166Z",
     "shell.execute_reply.started": "2022-05-06T20:49:36.708142Z"
    },
    "papermill": {
     "duration": 0.674065,
     "end_time": "2022-05-06T21:11:54.396947",
     "exception": false,
     "start_time": "2022-05-06T21:11:53.722882",
     "status": "completed"
    },
    "tags": []
   },
   "outputs": [
    {
     "name": "stderr",
     "output_type": "stream",
     "text": [
      "2022-05-06 21:11:54.270904: I tensorflow/core/common_runtime/process_util.cc:146] Creating new thread pool with default inter op setting: 2. Tune using inter_op_parallelism_threads for best performance.\n"
     ]
    }
   ],
   "source": [
    "\n",
    "model=Sequential()\n",
    "###first layer\n",
    "model.add(Dense(100,input_shape=(7,)))\n",
    "model.add(Activation('sigmoid'))\n",
    "model.add(Dropout(0.5))\n",
    "###second layer\n",
    "model.add(Dense(200))\n",
    "model.add(Activation('sigmoid'))\n",
    "model.add(Dropout(0.5))\n",
    "###third layer\n",
    "model.add(Dense(100))\n",
    "model.add(Activation('sigmoid'))\n",
    "model.add(Dropout(0.5))\n",
    "###final layer\n",
    "model.add(Dense(num_labels))\n",
    "model.add(Activation('softmax'))"
   ]
  },
  {
   "cell_type": "code",
   "execution_count": 18,
   "id": "8a89a476",
   "metadata": {
    "execution": {
     "iopub.execute_input": "2022-05-06T21:11:55.402103Z",
     "iopub.status.busy": "2022-05-06T21:11:55.401126Z",
     "iopub.status.idle": "2022-05-06T21:11:55.414982Z",
     "shell.execute_reply": "2022-05-06T21:11:55.415523Z",
     "shell.execute_reply.started": "2022-05-06T20:49:36.783261Z"
    },
    "papermill": {
     "duration": 0.513533,
     "end_time": "2022-05-06T21:11:55.415705",
     "exception": false,
     "start_time": "2022-05-06T21:11:54.902172",
     "status": "completed"
    },
    "tags": []
   },
   "outputs": [],
   "source": [
    "model.compile(loss='categorical_crossentropy',metrics=['accuracy'],optimizer='adam')"
   ]
  },
  {
   "cell_type": "code",
   "execution_count": 19,
   "id": "79423c31",
   "metadata": {
    "execution": {
     "iopub.execute_input": "2022-05-06T21:11:56.414722Z",
     "iopub.status.busy": "2022-05-06T21:11:56.414041Z",
     "iopub.status.idle": "2022-05-06T21:12:30.439941Z",
     "shell.execute_reply": "2022-05-06T21:12:30.439291Z",
     "shell.execute_reply.started": "2022-05-06T20:49:36.796543Z"
    },
    "papermill": {
     "duration": 34.529284,
     "end_time": "2022-05-06T21:12:30.440195",
     "exception": false,
     "start_time": "2022-05-06T21:11:55.910911",
     "status": "completed"
    },
    "tags": []
   },
   "outputs": [
    {
     "name": "stderr",
     "output_type": "stream",
     "text": [
      "2022-05-06 21:11:56.500997: I tensorflow/compiler/mlir/mlir_graph_optimization_pass.cc:185] None of the MLIR Optimization Passes are enabled (registered 2)\n"
     ]
    },
    {
     "name": "stdout",
     "output_type": "stream",
     "text": [
      "Epoch 1/200\n",
      "32/32 [==============================] - 1s 11ms/step - loss: 2.6238 - accuracy: 0.2549 - val_loss: 1.9962 - val_accuracy: 0.3937\n",
      "\n",
      "Epoch 00001: val_loss improved from inf to 1.99625, saving model to ./audio_classification.hdf5\n",
      "Epoch 2/200\n",
      "32/32 [==============================] - 0s 4ms/step - loss: 2.1271 - accuracy: 0.3449 - val_loss: 1.9593 - val_accuracy: 0.3937\n",
      "\n",
      "Epoch 00002: val_loss improved from 1.99625 to 1.95933, saving model to ./audio_classification.hdf5\n",
      "Epoch 3/200\n",
      "32/32 [==============================] - 0s 4ms/step - loss: 2.0771 - accuracy: 0.3745 - val_loss: 1.9589 - val_accuracy: 0.3937\n",
      "\n",
      "Epoch 00003: val_loss improved from 1.95933 to 1.95890, saving model to ./audio_classification.hdf5\n",
      "Epoch 4/200\n",
      "32/32 [==============================] - 0s 4ms/step - loss: 2.0545 - accuracy: 0.3379 - val_loss: 1.9532 - val_accuracy: 0.3937\n",
      "\n",
      "Epoch 00004: val_loss improved from 1.95890 to 1.95317, saving model to ./audio_classification.hdf5\n",
      "Epoch 5/200\n",
      "32/32 [==============================] - 0s 4ms/step - loss: 2.0564 - accuracy: 0.3706 - val_loss: 1.9559 - val_accuracy: 0.3937\n",
      "\n",
      "Epoch 00005: val_loss did not improve from 1.95317\n",
      "Epoch 6/200\n",
      "32/32 [==============================] - 0s 4ms/step - loss: 2.0503 - accuracy: 0.3646 - val_loss: 1.9474 - val_accuracy: 0.3937\n",
      "\n",
      "Epoch 00006: val_loss improved from 1.95317 to 1.94742, saving model to ./audio_classification.hdf5\n",
      "Epoch 7/200\n",
      "32/32 [==============================] - 0s 5ms/step - loss: 2.0539 - accuracy: 0.3676 - val_loss: 1.9460 - val_accuracy: 0.3937\n",
      "\n",
      "Epoch 00007: val_loss improved from 1.94742 to 1.94603, saving model to ./audio_classification.hdf5\n",
      "Epoch 8/200\n",
      "32/32 [==============================] - 0s 5ms/step - loss: 2.0245 - accuracy: 0.3715 - val_loss: 1.9376 - val_accuracy: 0.3937\n",
      "\n",
      "Epoch 00008: val_loss improved from 1.94603 to 1.93760, saving model to ./audio_classification.hdf5\n",
      "Epoch 9/200\n",
      "32/32 [==============================] - 0s 5ms/step - loss: 2.0260 - accuracy: 0.3725 - val_loss: 1.9323 - val_accuracy: 0.3937\n",
      "\n",
      "Epoch 00009: val_loss improved from 1.93760 to 1.93230, saving model to ./audio_classification.hdf5\n",
      "Epoch 10/200\n",
      "32/32 [==============================] - 0s 5ms/step - loss: 1.9895 - accuracy: 0.4022 - val_loss: 1.9235 - val_accuracy: 0.3937\n",
      "\n",
      "Epoch 00010: val_loss improved from 1.93230 to 1.92346, saving model to ./audio_classification.hdf5\n",
      "Epoch 11/200\n",
      "32/32 [==============================] - 0s 5ms/step - loss: 1.9957 - accuracy: 0.3725 - val_loss: 1.9131 - val_accuracy: 0.3937\n",
      "\n",
      "Epoch 00011: val_loss improved from 1.92346 to 1.91307, saving model to ./audio_classification.hdf5\n",
      "Epoch 12/200\n",
      "32/32 [==============================] - 0s 5ms/step - loss: 1.9547 - accuracy: 0.3834 - val_loss: 1.8988 - val_accuracy: 0.3937\n",
      "\n",
      "Epoch 00012: val_loss improved from 1.91307 to 1.89878, saving model to ./audio_classification.hdf5\n",
      "Epoch 13/200\n",
      "32/32 [==============================] - 0s 5ms/step - loss: 1.9475 - accuracy: 0.3824 - val_loss: 1.8814 - val_accuracy: 0.3937\n",
      "\n",
      "Epoch 00013: val_loss improved from 1.89878 to 1.88143, saving model to ./audio_classification.hdf5\n",
      "Epoch 14/200\n",
      "32/32 [==============================] - 0s 5ms/step - loss: 1.9369 - accuracy: 0.4071 - val_loss: 1.8684 - val_accuracy: 0.3937\n",
      "\n",
      "Epoch 00014: val_loss improved from 1.88143 to 1.86841, saving model to ./audio_classification.hdf5\n",
      "Epoch 15/200\n",
      "32/32 [==============================] - 0s 5ms/step - loss: 1.9179 - accuracy: 0.4042 - val_loss: 1.8698 - val_accuracy: 0.3937\n",
      "\n",
      "Epoch 00015: val_loss did not improve from 1.86841\n",
      "Epoch 16/200\n",
      "32/32 [==============================] - 0s 5ms/step - loss: 1.8994 - accuracy: 0.4160 - val_loss: 1.8335 - val_accuracy: 0.4016\n",
      "\n",
      "Epoch 00016: val_loss improved from 1.86841 to 1.83348, saving model to ./audio_classification.hdf5\n",
      "Epoch 17/200\n",
      "32/32 [==============================] - 0s 5ms/step - loss: 1.8915 - accuracy: 0.4101 - val_loss: 1.8209 - val_accuracy: 0.4646\n",
      "\n",
      "Epoch 00017: val_loss improved from 1.83348 to 1.82086, saving model to ./audio_classification.hdf5\n",
      "Epoch 18/200\n",
      "32/32 [==============================] - 0s 5ms/step - loss: 1.8898 - accuracy: 0.4081 - val_loss: 1.8077 - val_accuracy: 0.4685\n",
      "\n",
      "Epoch 00018: val_loss improved from 1.82086 to 1.80768, saving model to ./audio_classification.hdf5\n",
      "Epoch 19/200\n",
      "32/32 [==============================] - 0s 5ms/step - loss: 1.8287 - accuracy: 0.4654 - val_loss: 1.7910 - val_accuracy: 0.4764\n",
      "\n",
      "Epoch 00019: val_loss improved from 1.80768 to 1.79104, saving model to ./audio_classification.hdf5\n",
      "Epoch 20/200\n",
      "32/32 [==============================] - 0s 5ms/step - loss: 1.8503 - accuracy: 0.4407 - val_loss: 1.7802 - val_accuracy: 0.4764\n",
      "\n",
      "Epoch 00020: val_loss improved from 1.79104 to 1.78021, saving model to ./audio_classification.hdf5\n",
      "Epoch 21/200\n",
      "32/32 [==============================] - 0s 5ms/step - loss: 1.8287 - accuracy: 0.4476 - val_loss: 1.7973 - val_accuracy: 0.4528\n",
      "\n",
      "Epoch 00021: val_loss did not improve from 1.78021\n",
      "Epoch 22/200\n",
      "32/32 [==============================] - 0s 5ms/step - loss: 1.8054 - accuracy: 0.4555 - val_loss: 1.7532 - val_accuracy: 0.4882\n",
      "\n",
      "Epoch 00022: val_loss improved from 1.78021 to 1.75322, saving model to ./audio_classification.hdf5\n",
      "Epoch 23/200\n",
      "32/32 [==============================] - 0s 5ms/step - loss: 1.8157 - accuracy: 0.4615 - val_loss: 1.7464 - val_accuracy: 0.4803\n",
      "\n",
      "Epoch 00023: val_loss improved from 1.75322 to 1.74636, saving model to ./audio_classification.hdf5\n",
      "Epoch 24/200\n",
      "32/32 [==============================] - 0s 5ms/step - loss: 1.7773 - accuracy: 0.4753 - val_loss: 1.7328 - val_accuracy: 0.4843\n",
      "\n",
      "Epoch 00024: val_loss improved from 1.74636 to 1.73281, saving model to ./audio_classification.hdf5\n",
      "Epoch 25/200\n",
      "32/32 [==============================] - 0s 4ms/step - loss: 1.7958 - accuracy: 0.4773 - val_loss: 1.7261 - val_accuracy: 0.4921\n",
      "\n",
      "Epoch 00025: val_loss improved from 1.73281 to 1.72614, saving model to ./audio_classification.hdf5\n",
      "Epoch 26/200\n",
      "32/32 [==============================] - 0s 5ms/step - loss: 1.7584 - accuracy: 0.4694 - val_loss: 1.7231 - val_accuracy: 0.5118\n",
      "\n",
      "Epoch 00026: val_loss improved from 1.72614 to 1.72310, saving model to ./audio_classification.hdf5\n",
      "Epoch 27/200\n",
      "32/32 [==============================] - 0s 4ms/step - loss: 1.7788 - accuracy: 0.4881 - val_loss: 1.7195 - val_accuracy: 0.4882\n",
      "\n",
      "Epoch 00027: val_loss improved from 1.72310 to 1.71949, saving model to ./audio_classification.hdf5\n",
      "Epoch 28/200\n",
      "32/32 [==============================] - 0s 4ms/step - loss: 1.7516 - accuracy: 0.4921 - val_loss: 1.7163 - val_accuracy: 0.4921\n",
      "\n",
      "Epoch 00028: val_loss improved from 1.71949 to 1.71632, saving model to ./audio_classification.hdf5\n",
      "Epoch 29/200\n",
      "32/32 [==============================] - 0s 5ms/step - loss: 1.7570 - accuracy: 0.4674 - val_loss: 1.7124 - val_accuracy: 0.5000\n",
      "\n",
      "Epoch 00029: val_loss improved from 1.71632 to 1.71236, saving model to ./audio_classification.hdf5\n",
      "Epoch 30/200\n",
      "32/32 [==============================] - 0s 4ms/step - loss: 1.7700 - accuracy: 0.4832 - val_loss: 1.7229 - val_accuracy: 0.4803\n",
      "\n",
      "Epoch 00030: val_loss did not improve from 1.71236\n",
      "Epoch 31/200\n",
      "32/32 [==============================] - 0s 4ms/step - loss: 1.7630 - accuracy: 0.5000 - val_loss: 1.7048 - val_accuracy: 0.5079\n",
      "\n",
      "Epoch 00031: val_loss improved from 1.71236 to 1.70484, saving model to ./audio_classification.hdf5\n",
      "Epoch 32/200\n",
      "32/32 [==============================] - 0s 5ms/step - loss: 1.7370 - accuracy: 0.5000 - val_loss: 1.7054 - val_accuracy: 0.5118\n",
      "\n",
      "Epoch 00032: val_loss did not improve from 1.70484\n",
      "Epoch 33/200\n",
      "32/32 [==============================] - 0s 5ms/step - loss: 1.7188 - accuracy: 0.5069 - val_loss: 1.7151 - val_accuracy: 0.4961\n",
      "\n",
      "Epoch 00033: val_loss did not improve from 1.70484\n",
      "Epoch 34/200\n",
      "32/32 [==============================] - 0s 5ms/step - loss: 1.7094 - accuracy: 0.4970 - val_loss: 1.6983 - val_accuracy: 0.4921\n",
      "\n",
      "Epoch 00034: val_loss improved from 1.70484 to 1.69829, saving model to ./audio_classification.hdf5\n",
      "Epoch 35/200\n",
      "32/32 [==============================] - 0s 4ms/step - loss: 1.7546 - accuracy: 0.5000 - val_loss: 1.6968 - val_accuracy: 0.5000\n",
      "\n",
      "Epoch 00035: val_loss improved from 1.69829 to 1.69683, saving model to ./audio_classification.hdf5\n",
      "Epoch 36/200\n",
      "32/32 [==============================] - 0s 4ms/step - loss: 1.7340 - accuracy: 0.5049 - val_loss: 1.6909 - val_accuracy: 0.4921\n",
      "\n",
      "Epoch 00036: val_loss improved from 1.69683 to 1.69094, saving model to ./audio_classification.hdf5\n",
      "Epoch 37/200\n",
      "32/32 [==============================] - 0s 5ms/step - loss: 1.7160 - accuracy: 0.5030 - val_loss: 1.6919 - val_accuracy: 0.5118\n",
      "\n",
      "Epoch 00037: val_loss did not improve from 1.69094\n",
      "Epoch 38/200\n",
      "32/32 [==============================] - 0s 7ms/step - loss: 1.6986 - accuracy: 0.5148 - val_loss: 1.6821 - val_accuracy: 0.5197\n",
      "\n",
      "Epoch 00038: val_loss improved from 1.69094 to 1.68214, saving model to ./audio_classification.hdf5\n",
      "Epoch 39/200\n",
      "32/32 [==============================] - 0s 4ms/step - loss: 1.7050 - accuracy: 0.4990 - val_loss: 1.7150 - val_accuracy: 0.4843\n",
      "\n",
      "Epoch 00039: val_loss did not improve from 1.68214\n",
      "Epoch 40/200\n",
      "32/32 [==============================] - 0s 5ms/step - loss: 1.7253 - accuracy: 0.4881 - val_loss: 1.6946 - val_accuracy: 0.4961\n",
      "\n",
      "Epoch 00040: val_loss did not improve from 1.68214\n",
      "Epoch 41/200\n",
      "32/32 [==============================] - 0s 5ms/step - loss: 1.6911 - accuracy: 0.5069 - val_loss: 1.6861 - val_accuracy: 0.5079\n",
      "\n",
      "Epoch 00041: val_loss did not improve from 1.68214\n",
      "Epoch 42/200\n",
      "32/32 [==============================] - 0s 5ms/step - loss: 1.7131 - accuracy: 0.5089 - val_loss: 1.6816 - val_accuracy: 0.5118\n",
      "\n",
      "Epoch 00042: val_loss improved from 1.68214 to 1.68164, saving model to ./audio_classification.hdf5\n",
      "Epoch 43/200\n",
      "32/32 [==============================] - 0s 5ms/step - loss: 1.6895 - accuracy: 0.4921 - val_loss: 1.6867 - val_accuracy: 0.5157\n",
      "\n",
      "Epoch 00043: val_loss did not improve from 1.68164\n",
      "Epoch 44/200\n",
      "32/32 [==============================] - 0s 5ms/step - loss: 1.6930 - accuracy: 0.5168 - val_loss: 1.6814 - val_accuracy: 0.5039\n",
      "\n",
      "Epoch 00044: val_loss improved from 1.68164 to 1.68135, saving model to ./audio_classification.hdf5\n",
      "Epoch 45/200\n",
      "32/32 [==============================] - 0s 5ms/step - loss: 1.6868 - accuracy: 0.5099 - val_loss: 1.6845 - val_accuracy: 0.5118\n",
      "\n",
      "Epoch 00045: val_loss did not improve from 1.68135\n",
      "Epoch 46/200\n",
      "32/32 [==============================] - 0s 5ms/step - loss: 1.6825 - accuracy: 0.5257 - val_loss: 1.6947 - val_accuracy: 0.5197\n",
      "\n",
      "Epoch 00046: val_loss did not improve from 1.68135\n",
      "Epoch 47/200\n",
      "32/32 [==============================] - 0s 5ms/step - loss: 1.6854 - accuracy: 0.5010 - val_loss: 1.6859 - val_accuracy: 0.5118\n",
      "\n",
      "Epoch 00047: val_loss did not improve from 1.68135\n",
      "Epoch 48/200\n",
      "32/32 [==============================] - 0s 5ms/step - loss: 1.6806 - accuracy: 0.5079 - val_loss: 1.6807 - val_accuracy: 0.5039\n",
      "\n",
      "Epoch 00048: val_loss improved from 1.68135 to 1.68068, saving model to ./audio_classification.hdf5\n",
      "Epoch 49/200\n",
      "32/32 [==============================] - 0s 6ms/step - loss: 1.6769 - accuracy: 0.5148 - val_loss: 1.6924 - val_accuracy: 0.4921\n",
      "\n",
      "Epoch 00049: val_loss did not improve from 1.68068\n",
      "Epoch 50/200\n",
      "32/32 [==============================] - 0s 5ms/step - loss: 1.6627 - accuracy: 0.5217 - val_loss: 1.6690 - val_accuracy: 0.5157\n",
      "\n",
      "Epoch 00050: val_loss improved from 1.68068 to 1.66902, saving model to ./audio_classification.hdf5\n",
      "Epoch 51/200\n",
      "32/32 [==============================] - 0s 5ms/step - loss: 1.6693 - accuracy: 0.5257 - val_loss: 1.6772 - val_accuracy: 0.5118\n",
      "\n",
      "Epoch 00051: val_loss did not improve from 1.66902\n",
      "Epoch 52/200\n",
      "32/32 [==============================] - 0s 5ms/step - loss: 1.6858 - accuracy: 0.5000 - val_loss: 1.6859 - val_accuracy: 0.5118\n",
      "\n",
      "Epoch 00052: val_loss did not improve from 1.66902\n",
      "Epoch 53/200\n",
      "32/32 [==============================] - 0s 5ms/step - loss: 1.6921 - accuracy: 0.5049 - val_loss: 1.6783 - val_accuracy: 0.5236\n",
      "\n",
      "Epoch 00053: val_loss did not improve from 1.66902\n",
      "Epoch 54/200\n",
      "32/32 [==============================] - 0s 5ms/step - loss: 1.6543 - accuracy: 0.5247 - val_loss: 1.6875 - val_accuracy: 0.5236\n",
      "\n",
      "Epoch 00054: val_loss did not improve from 1.66902\n",
      "Epoch 55/200\n",
      "32/32 [==============================] - 0s 5ms/step - loss: 1.6664 - accuracy: 0.5178 - val_loss: 1.6723 - val_accuracy: 0.5118\n",
      "\n",
      "Epoch 00055: val_loss did not improve from 1.66902\n",
      "Epoch 56/200\n",
      "32/32 [==============================] - 0s 5ms/step - loss: 1.6758 - accuracy: 0.5227 - val_loss: 1.6745 - val_accuracy: 0.5197\n",
      "\n",
      "Epoch 00056: val_loss did not improve from 1.66902\n",
      "Epoch 57/200\n",
      "32/32 [==============================] - 0s 5ms/step - loss: 1.6565 - accuracy: 0.5257 - val_loss: 1.6701 - val_accuracy: 0.5157\n",
      "\n",
      "Epoch 00057: val_loss did not improve from 1.66902\n",
      "Epoch 58/200\n",
      "32/32 [==============================] - 0s 5ms/step - loss: 1.6812 - accuracy: 0.5128 - val_loss: 1.6603 - val_accuracy: 0.5118\n",
      "\n",
      "Epoch 00058: val_loss improved from 1.66902 to 1.66032, saving model to ./audio_classification.hdf5\n",
      "Epoch 59/200\n",
      "32/32 [==============================] - 0s 5ms/step - loss: 1.6696 - accuracy: 0.5227 - val_loss: 1.6784 - val_accuracy: 0.5236\n",
      "\n",
      "Epoch 00059: val_loss did not improve from 1.66032\n",
      "Epoch 60/200\n",
      "32/32 [==============================] - 0s 4ms/step - loss: 1.6637 - accuracy: 0.5119 - val_loss: 1.6697 - val_accuracy: 0.5039\n",
      "\n",
      "Epoch 00060: val_loss did not improve from 1.66032\n",
      "Epoch 61/200\n",
      "32/32 [==============================] - 0s 5ms/step - loss: 1.7008 - accuracy: 0.5079 - val_loss: 1.6662 - val_accuracy: 0.5157\n",
      "\n",
      "Epoch 00061: val_loss did not improve from 1.66032\n",
      "Epoch 62/200\n",
      "32/32 [==============================] - 0s 4ms/step - loss: 1.6605 - accuracy: 0.5277 - val_loss: 1.6723 - val_accuracy: 0.5197\n",
      "\n",
      "Epoch 00062: val_loss did not improve from 1.66032\n",
      "Epoch 63/200\n",
      "32/32 [==============================] - 0s 5ms/step - loss: 1.6948 - accuracy: 0.5198 - val_loss: 1.6617 - val_accuracy: 0.5079\n",
      "\n",
      "Epoch 00063: val_loss did not improve from 1.66032\n",
      "Epoch 64/200\n",
      "32/32 [==============================] - 0s 5ms/step - loss: 1.6679 - accuracy: 0.5158 - val_loss: 1.6677 - val_accuracy: 0.5197\n",
      "\n",
      "Epoch 00064: val_loss did not improve from 1.66032\n",
      "Epoch 65/200\n",
      "32/32 [==============================] - 0s 5ms/step - loss: 1.6509 - accuracy: 0.5188 - val_loss: 1.6665 - val_accuracy: 0.5079\n",
      "\n",
      "Epoch 00065: val_loss did not improve from 1.66032\n",
      "Epoch 66/200\n",
      "32/32 [==============================] - 0s 5ms/step - loss: 1.6682 - accuracy: 0.5138 - val_loss: 1.6775 - val_accuracy: 0.5118\n",
      "\n",
      "Epoch 00066: val_loss did not improve from 1.66032\n",
      "Epoch 67/200\n",
      "32/32 [==============================] - 0s 5ms/step - loss: 1.6457 - accuracy: 0.5247 - val_loss: 1.6701 - val_accuracy: 0.5000\n",
      "\n",
      "Epoch 00067: val_loss did not improve from 1.66032\n",
      "Epoch 68/200\n",
      "32/32 [==============================] - 0s 5ms/step - loss: 1.6514 - accuracy: 0.5148 - val_loss: 1.6695 - val_accuracy: 0.5079\n",
      "\n",
      "Epoch 00068: val_loss did not improve from 1.66032\n",
      "Epoch 69/200\n",
      "32/32 [==============================] - 0s 5ms/step - loss: 1.6296 - accuracy: 0.5188 - val_loss: 1.6570 - val_accuracy: 0.5000\n",
      "\n",
      "Epoch 00069: val_loss improved from 1.66032 to 1.65696, saving model to ./audio_classification.hdf5\n",
      "Epoch 70/200\n",
      "32/32 [==============================] - 0s 5ms/step - loss: 1.6398 - accuracy: 0.5208 - val_loss: 1.6546 - val_accuracy: 0.5157\n",
      "\n",
      "Epoch 00070: val_loss improved from 1.65696 to 1.65463, saving model to ./audio_classification.hdf5\n",
      "Epoch 71/200\n",
      "32/32 [==============================] - 0s 5ms/step - loss: 1.6196 - accuracy: 0.5306 - val_loss: 1.6548 - val_accuracy: 0.5118\n",
      "\n",
      "Epoch 00071: val_loss did not improve from 1.65463\n",
      "Epoch 72/200\n",
      "32/32 [==============================] - 0s 5ms/step - loss: 1.6313 - accuracy: 0.5296 - val_loss: 1.6531 - val_accuracy: 0.5315\n",
      "\n",
      "Epoch 00072: val_loss improved from 1.65463 to 1.65311, saving model to ./audio_classification.hdf5\n",
      "Epoch 73/200\n",
      "32/32 [==============================] - 0s 4ms/step - loss: 1.6374 - accuracy: 0.5208 - val_loss: 1.6608 - val_accuracy: 0.5157\n",
      "\n",
      "Epoch 00073: val_loss did not improve from 1.65311\n",
      "Epoch 74/200\n",
      "32/32 [==============================] - 0s 5ms/step - loss: 1.6437 - accuracy: 0.5277 - val_loss: 1.6514 - val_accuracy: 0.5118\n",
      "\n",
      "Epoch 00074: val_loss improved from 1.65311 to 1.65136, saving model to ./audio_classification.hdf5\n",
      "Epoch 75/200\n",
      "32/32 [==============================] - 0s 4ms/step - loss: 1.6509 - accuracy: 0.5306 - val_loss: 1.6505 - val_accuracy: 0.5157\n",
      "\n",
      "Epoch 00075: val_loss improved from 1.65136 to 1.65053, saving model to ./audio_classification.hdf5\n",
      "Epoch 76/200\n",
      "32/32 [==============================] - 0s 4ms/step - loss: 1.6272 - accuracy: 0.5326 - val_loss: 1.6472 - val_accuracy: 0.5157\n",
      "\n",
      "Epoch 00076: val_loss improved from 1.65053 to 1.64721, saving model to ./audio_classification.hdf5\n",
      "Epoch 77/200\n",
      "32/32 [==============================] - 0s 5ms/step - loss: 1.6337 - accuracy: 0.5267 - val_loss: 1.6576 - val_accuracy: 0.5157\n",
      "\n",
      "Epoch 00077: val_loss did not improve from 1.64721\n",
      "Epoch 78/200\n",
      "32/32 [==============================] - 0s 5ms/step - loss: 1.6112 - accuracy: 0.5188 - val_loss: 1.6526 - val_accuracy: 0.5118\n",
      "\n",
      "Epoch 00078: val_loss did not improve from 1.64721\n",
      "Epoch 79/200\n",
      "32/32 [==============================] - 0s 5ms/step - loss: 1.6160 - accuracy: 0.5267 - val_loss: 1.6623 - val_accuracy: 0.5157\n",
      "\n",
      "Epoch 00079: val_loss did not improve from 1.64721\n",
      "Epoch 80/200\n",
      "32/32 [==============================] - 0s 5ms/step - loss: 1.6244 - accuracy: 0.5168 - val_loss: 1.6595 - val_accuracy: 0.5236\n",
      "\n",
      "Epoch 00080: val_loss did not improve from 1.64721\n",
      "Epoch 81/200\n",
      "32/32 [==============================] - 0s 4ms/step - loss: 1.6413 - accuracy: 0.5237 - val_loss: 1.6628 - val_accuracy: 0.5157\n",
      "\n",
      "Epoch 00081: val_loss did not improve from 1.64721\n",
      "Epoch 82/200\n",
      "32/32 [==============================] - 0s 5ms/step - loss: 1.6397 - accuracy: 0.5158 - val_loss: 1.6503 - val_accuracy: 0.5157\n",
      "\n",
      "Epoch 00082: val_loss did not improve from 1.64721\n",
      "Epoch 83/200\n",
      "32/32 [==============================] - 0s 5ms/step - loss: 1.6302 - accuracy: 0.5237 - val_loss: 1.6490 - val_accuracy: 0.5079\n",
      "\n",
      "Epoch 00083: val_loss did not improve from 1.64721\n",
      "Epoch 84/200\n",
      "32/32 [==============================] - 0s 5ms/step - loss: 1.6207 - accuracy: 0.5267 - val_loss: 1.6473 - val_accuracy: 0.5118\n",
      "\n",
      "Epoch 00084: val_loss did not improve from 1.64721\n",
      "Epoch 85/200\n",
      "32/32 [==============================] - 0s 5ms/step - loss: 1.6009 - accuracy: 0.5267 - val_loss: 1.6540 - val_accuracy: 0.5197\n",
      "\n",
      "Epoch 00085: val_loss did not improve from 1.64721\n",
      "Epoch 86/200\n",
      "32/32 [==============================] - 0s 5ms/step - loss: 1.6103 - accuracy: 0.5257 - val_loss: 1.6496 - val_accuracy: 0.5197\n",
      "\n",
      "Epoch 00086: val_loss did not improve from 1.64721\n",
      "Epoch 87/200\n",
      "32/32 [==============================] - 0s 5ms/step - loss: 1.6037 - accuracy: 0.5257 - val_loss: 1.6549 - val_accuracy: 0.5039\n",
      "\n",
      "Epoch 00087: val_loss did not improve from 1.64721\n",
      "Epoch 88/200\n",
      "32/32 [==============================] - 0s 5ms/step - loss: 1.6066 - accuracy: 0.5296 - val_loss: 1.6518 - val_accuracy: 0.5197\n",
      "\n",
      "Epoch 00088: val_loss did not improve from 1.64721\n",
      "Epoch 89/200\n",
      "32/32 [==============================] - 0s 4ms/step - loss: 1.6320 - accuracy: 0.5237 - val_loss: 1.6456 - val_accuracy: 0.5236\n",
      "\n",
      "Epoch 00089: val_loss improved from 1.64721 to 1.64560, saving model to ./audio_classification.hdf5\n",
      "Epoch 90/200\n",
      "32/32 [==============================] - 0s 5ms/step - loss: 1.5993 - accuracy: 0.5237 - val_loss: 1.6360 - val_accuracy: 0.5315\n",
      "\n",
      "Epoch 00090: val_loss improved from 1.64560 to 1.63600, saving model to ./audio_classification.hdf5\n",
      "Epoch 91/200\n",
      "32/32 [==============================] - 0s 5ms/step - loss: 1.6073 - accuracy: 0.5217 - val_loss: 1.6457 - val_accuracy: 0.5236\n",
      "\n",
      "Epoch 00091: val_loss did not improve from 1.63600\n",
      "Epoch 92/200\n",
      "32/32 [==============================] - 0s 5ms/step - loss: 1.6104 - accuracy: 0.5237 - val_loss: 1.6385 - val_accuracy: 0.5315\n",
      "\n",
      "Epoch 00092: val_loss did not improve from 1.63600\n",
      "Epoch 93/200\n",
      "32/32 [==============================] - 0s 5ms/step - loss: 1.6036 - accuracy: 0.5346 - val_loss: 1.6437 - val_accuracy: 0.5236\n",
      "\n",
      "Epoch 00093: val_loss did not improve from 1.63600\n",
      "Epoch 94/200\n",
      "32/32 [==============================] - 0s 5ms/step - loss: 1.6112 - accuracy: 0.5247 - val_loss: 1.6487 - val_accuracy: 0.5197\n",
      "\n",
      "Epoch 00094: val_loss did not improve from 1.63600\n",
      "Epoch 95/200\n",
      "32/32 [==============================] - 0s 5ms/step - loss: 1.6028 - accuracy: 0.5366 - val_loss: 1.6455 - val_accuracy: 0.5157\n",
      "\n",
      "Epoch 00095: val_loss did not improve from 1.63600\n",
      "Epoch 96/200\n",
      "32/32 [==============================] - 0s 5ms/step - loss: 1.6231 - accuracy: 0.5267 - val_loss: 1.6512 - val_accuracy: 0.5039\n",
      "\n",
      "Epoch 00096: val_loss did not improve from 1.63600\n",
      "Epoch 97/200\n",
      "32/32 [==============================] - 0s 5ms/step - loss: 1.6138 - accuracy: 0.5296 - val_loss: 1.6490 - val_accuracy: 0.5079\n",
      "\n",
      "Epoch 00097: val_loss did not improve from 1.63600\n",
      "Epoch 98/200\n",
      "32/32 [==============================] - 0s 5ms/step - loss: 1.5945 - accuracy: 0.5346 - val_loss: 1.6484 - val_accuracy: 0.5118\n",
      "\n",
      "Epoch 00098: val_loss did not improve from 1.63600\n",
      "Epoch 99/200\n",
      "32/32 [==============================] - 0s 5ms/step - loss: 1.5897 - accuracy: 0.5395 - val_loss: 1.6392 - val_accuracy: 0.5276\n",
      "\n",
      "Epoch 00099: val_loss did not improve from 1.63600\n",
      "Epoch 100/200\n",
      "32/32 [==============================] - 0s 5ms/step - loss: 1.5960 - accuracy: 0.5336 - val_loss: 1.6504 - val_accuracy: 0.5079\n",
      "\n",
      "Epoch 00100: val_loss did not improve from 1.63600\n",
      "Epoch 101/200\n",
      "32/32 [==============================] - 0s 5ms/step - loss: 1.6176 - accuracy: 0.5208 - val_loss: 1.6456 - val_accuracy: 0.5118\n",
      "\n",
      "Epoch 00101: val_loss did not improve from 1.63600\n",
      "Epoch 102/200\n",
      "32/32 [==============================] - 0s 5ms/step - loss: 1.6051 - accuracy: 0.5257 - val_loss: 1.6344 - val_accuracy: 0.5354\n",
      "\n",
      "Epoch 00102: val_loss improved from 1.63600 to 1.63436, saving model to ./audio_classification.hdf5\n",
      "Epoch 103/200\n",
      "32/32 [==============================] - 0s 5ms/step - loss: 1.6094 - accuracy: 0.5257 - val_loss: 1.6395 - val_accuracy: 0.5276\n",
      "\n",
      "Epoch 00103: val_loss did not improve from 1.63436\n",
      "Epoch 104/200\n",
      "32/32 [==============================] - 0s 5ms/step - loss: 1.6204 - accuracy: 0.5336 - val_loss: 1.6427 - val_accuracy: 0.5157\n",
      "\n",
      "Epoch 00104: val_loss did not improve from 1.63436\n",
      "Epoch 105/200\n",
      "32/32 [==============================] - 0s 5ms/step - loss: 1.6109 - accuracy: 0.5208 - val_loss: 1.6573 - val_accuracy: 0.5079\n",
      "\n",
      "Epoch 00105: val_loss did not improve from 1.63436\n",
      "Epoch 106/200\n",
      "32/32 [==============================] - 0s 6ms/step - loss: 1.6132 - accuracy: 0.5356 - val_loss: 1.6293 - val_accuracy: 0.5276\n",
      "\n",
      "Epoch 00106: val_loss improved from 1.63436 to 1.62930, saving model to ./audio_classification.hdf5\n",
      "Epoch 107/200\n",
      "32/32 [==============================] - 0s 5ms/step - loss: 1.5696 - accuracy: 0.5336 - val_loss: 1.6455 - val_accuracy: 0.5197\n",
      "\n",
      "Epoch 00107: val_loss did not improve from 1.62930\n",
      "Epoch 108/200\n",
      "32/32 [==============================] - 0s 5ms/step - loss: 1.5897 - accuracy: 0.5306 - val_loss: 1.6352 - val_accuracy: 0.5079\n",
      "\n",
      "Epoch 00108: val_loss did not improve from 1.62930\n",
      "Epoch 109/200\n",
      "32/32 [==============================] - 0s 5ms/step - loss: 1.5925 - accuracy: 0.5158 - val_loss: 1.6265 - val_accuracy: 0.5197\n",
      "\n",
      "Epoch 00109: val_loss improved from 1.62930 to 1.62652, saving model to ./audio_classification.hdf5\n",
      "Epoch 110/200\n",
      "32/32 [==============================] - 0s 5ms/step - loss: 1.5930 - accuracy: 0.5257 - val_loss: 1.6224 - val_accuracy: 0.5236\n",
      "\n",
      "Epoch 00110: val_loss improved from 1.62652 to 1.62242, saving model to ./audio_classification.hdf5\n",
      "Epoch 111/200\n",
      "32/32 [==============================] - 0s 5ms/step - loss: 1.5621 - accuracy: 0.5316 - val_loss: 1.6286 - val_accuracy: 0.5276\n",
      "\n",
      "Epoch 00111: val_loss did not improve from 1.62242\n",
      "Epoch 112/200\n",
      "32/32 [==============================] - 0s 5ms/step - loss: 1.5590 - accuracy: 0.5464 - val_loss: 1.6294 - val_accuracy: 0.5315\n",
      "\n",
      "Epoch 00112: val_loss did not improve from 1.62242\n",
      "Epoch 113/200\n",
      "32/32 [==============================] - 0s 5ms/step - loss: 1.5886 - accuracy: 0.5316 - val_loss: 1.6378 - val_accuracy: 0.5276\n",
      "\n",
      "Epoch 00113: val_loss did not improve from 1.62242\n",
      "Epoch 114/200\n",
      "32/32 [==============================] - 0s 5ms/step - loss: 1.5894 - accuracy: 0.5296 - val_loss: 1.6205 - val_accuracy: 0.5236\n",
      "\n",
      "Epoch 00114: val_loss improved from 1.62242 to 1.62047, saving model to ./audio_classification.hdf5\n",
      "Epoch 115/200\n",
      "32/32 [==============================] - 0s 4ms/step - loss: 1.6032 - accuracy: 0.5346 - val_loss: 1.6422 - val_accuracy: 0.5197\n",
      "\n",
      "Epoch 00115: val_loss did not improve from 1.62047\n",
      "Epoch 116/200\n",
      "32/32 [==============================] - 0s 5ms/step - loss: 1.5925 - accuracy: 0.5455 - val_loss: 1.6285 - val_accuracy: 0.5433\n",
      "\n",
      "Epoch 00116: val_loss did not improve from 1.62047\n",
      "Epoch 117/200\n",
      "32/32 [==============================] - 0s 4ms/step - loss: 1.5735 - accuracy: 0.5326 - val_loss: 1.6296 - val_accuracy: 0.5236\n",
      "\n",
      "Epoch 00117: val_loss did not improve from 1.62047\n",
      "Epoch 118/200\n",
      "32/32 [==============================] - 0s 5ms/step - loss: 1.5818 - accuracy: 0.5247 - val_loss: 1.6296 - val_accuracy: 0.5276\n",
      "\n",
      "Epoch 00118: val_loss did not improve from 1.62047\n",
      "Epoch 119/200\n",
      "32/32 [==============================] - 0s 4ms/step - loss: 1.5790 - accuracy: 0.5316 - val_loss: 1.6337 - val_accuracy: 0.5236\n",
      "\n",
      "Epoch 00119: val_loss did not improve from 1.62047\n",
      "Epoch 120/200\n",
      "32/32 [==============================] - 0s 5ms/step - loss: 1.5738 - accuracy: 0.5326 - val_loss: 1.6226 - val_accuracy: 0.5433\n",
      "\n",
      "Epoch 00120: val_loss did not improve from 1.62047\n",
      "Epoch 121/200\n",
      "32/32 [==============================] - 0s 4ms/step - loss: 1.5703 - accuracy: 0.5247 - val_loss: 1.6324 - val_accuracy: 0.5118\n",
      "\n",
      "Epoch 00121: val_loss did not improve from 1.62047\n",
      "Epoch 122/200\n",
      "32/32 [==============================] - 0s 4ms/step - loss: 1.5844 - accuracy: 0.5237 - val_loss: 1.6332 - val_accuracy: 0.5276\n",
      "\n",
      "Epoch 00122: val_loss did not improve from 1.62047\n",
      "Epoch 123/200\n",
      "32/32 [==============================] - 0s 4ms/step - loss: 1.5895 - accuracy: 0.5059 - val_loss: 1.6288 - val_accuracy: 0.5157\n",
      "\n",
      "Epoch 00123: val_loss did not improve from 1.62047\n",
      "Epoch 124/200\n",
      "32/32 [==============================] - 0s 4ms/step - loss: 1.6022 - accuracy: 0.5287 - val_loss: 1.6336 - val_accuracy: 0.5354\n",
      "\n",
      "Epoch 00124: val_loss did not improve from 1.62047\n",
      "Epoch 125/200\n",
      "32/32 [==============================] - 0s 5ms/step - loss: 1.5547 - accuracy: 0.5435 - val_loss: 1.6286 - val_accuracy: 0.5236\n",
      "\n",
      "Epoch 00125: val_loss did not improve from 1.62047\n",
      "Epoch 126/200\n",
      "32/32 [==============================] - 0s 4ms/step - loss: 1.5910 - accuracy: 0.5306 - val_loss: 1.6454 - val_accuracy: 0.5118\n",
      "\n",
      "Epoch 00126: val_loss did not improve from 1.62047\n",
      "Epoch 127/200\n",
      "32/32 [==============================] - 0s 5ms/step - loss: 1.5830 - accuracy: 0.5287 - val_loss: 1.6397 - val_accuracy: 0.5079\n",
      "\n",
      "Epoch 00127: val_loss did not improve from 1.62047\n",
      "Epoch 128/200\n",
      "32/32 [==============================] - 0s 4ms/step - loss: 1.5787 - accuracy: 0.5366 - val_loss: 1.6364 - val_accuracy: 0.5197\n",
      "\n",
      "Epoch 00128: val_loss did not improve from 1.62047\n",
      "Epoch 129/200\n",
      "32/32 [==============================] - 0s 4ms/step - loss: 1.5914 - accuracy: 0.5168 - val_loss: 1.6324 - val_accuracy: 0.5118\n",
      "\n",
      "Epoch 00129: val_loss did not improve from 1.62047\n",
      "Epoch 130/200\n",
      "32/32 [==============================] - 0s 5ms/step - loss: 1.5301 - accuracy: 0.5593 - val_loss: 1.6321 - val_accuracy: 0.5236\n",
      "\n",
      "Epoch 00130: val_loss did not improve from 1.62047\n",
      "Epoch 131/200\n",
      "32/32 [==============================] - 0s 4ms/step - loss: 1.5748 - accuracy: 0.5336 - val_loss: 1.6245 - val_accuracy: 0.5236\n",
      "\n",
      "Epoch 00131: val_loss did not improve from 1.62047\n",
      "Epoch 132/200\n",
      "32/32 [==============================] - 0s 5ms/step - loss: 1.5613 - accuracy: 0.5237 - val_loss: 1.6370 - val_accuracy: 0.5354\n",
      "\n",
      "Epoch 00132: val_loss did not improve from 1.62047\n",
      "Epoch 133/200\n",
      "32/32 [==============================] - 0s 4ms/step - loss: 1.5756 - accuracy: 0.5306 - val_loss: 1.6265 - val_accuracy: 0.5157\n",
      "\n",
      "Epoch 00133: val_loss did not improve from 1.62047\n",
      "Epoch 134/200\n",
      "32/32 [==============================] - 0s 4ms/step - loss: 1.5551 - accuracy: 0.5425 - val_loss: 1.6226 - val_accuracy: 0.5118\n",
      "\n",
      "Epoch 00134: val_loss did not improve from 1.62047\n",
      "Epoch 135/200\n",
      "32/32 [==============================] - 0s 4ms/step - loss: 1.5586 - accuracy: 0.5296 - val_loss: 1.6181 - val_accuracy: 0.5236\n",
      "\n",
      "Epoch 00135: val_loss improved from 1.62047 to 1.61813, saving model to ./audio_classification.hdf5\n",
      "Epoch 136/200\n",
      "32/32 [==============================] - 0s 4ms/step - loss: 1.5759 - accuracy: 0.5405 - val_loss: 1.6191 - val_accuracy: 0.5157\n",
      "\n",
      "Epoch 00136: val_loss did not improve from 1.61813\n",
      "Epoch 137/200\n",
      "32/32 [==============================] - 0s 4ms/step - loss: 1.5774 - accuracy: 0.5326 - val_loss: 1.6191 - val_accuracy: 0.5276\n",
      "\n",
      "Epoch 00137: val_loss did not improve from 1.61813\n",
      "Epoch 138/200\n",
      "32/32 [==============================] - 0s 4ms/step - loss: 1.5748 - accuracy: 0.5356 - val_loss: 1.6282 - val_accuracy: 0.5079\n",
      "\n",
      "Epoch 00138: val_loss did not improve from 1.61813\n",
      "Epoch 139/200\n",
      "32/32 [==============================] - 0s 5ms/step - loss: 1.5739 - accuracy: 0.5346 - val_loss: 1.6307 - val_accuracy: 0.5197\n",
      "\n",
      "Epoch 00139: val_loss did not improve from 1.61813\n",
      "Epoch 140/200\n",
      "32/32 [==============================] - 0s 5ms/step - loss: 1.5581 - accuracy: 0.5455 - val_loss: 1.6168 - val_accuracy: 0.5276\n",
      "\n",
      "Epoch 00140: val_loss improved from 1.61813 to 1.61683, saving model to ./audio_classification.hdf5\n",
      "Epoch 141/200\n",
      "32/32 [==============================] - 0s 5ms/step - loss: 1.5771 - accuracy: 0.5346 - val_loss: 1.6217 - val_accuracy: 0.5157\n",
      "\n",
      "Epoch 00141: val_loss did not improve from 1.61683\n",
      "Epoch 142/200\n",
      "32/32 [==============================] - 0s 5ms/step - loss: 1.5676 - accuracy: 0.5336 - val_loss: 1.6262 - val_accuracy: 0.5197\n",
      "\n",
      "Epoch 00142: val_loss did not improve from 1.61683\n",
      "Epoch 143/200\n",
      "32/32 [==============================] - 0s 5ms/step - loss: 1.5796 - accuracy: 0.5306 - val_loss: 1.6287 - val_accuracy: 0.5118\n",
      "\n",
      "Epoch 00143: val_loss did not improve from 1.61683\n",
      "Epoch 144/200\n",
      "32/32 [==============================] - 0s 5ms/step - loss: 1.5698 - accuracy: 0.5415 - val_loss: 1.6179 - val_accuracy: 0.5276\n",
      "\n",
      "Epoch 00144: val_loss did not improve from 1.61683\n",
      "Epoch 145/200\n",
      "32/32 [==============================] - 0s 5ms/step - loss: 1.5580 - accuracy: 0.5356 - val_loss: 1.6166 - val_accuracy: 0.5276\n",
      "\n",
      "Epoch 00145: val_loss improved from 1.61683 to 1.61656, saving model to ./audio_classification.hdf5\n",
      "Epoch 146/200\n",
      "32/32 [==============================] - 0s 5ms/step - loss: 1.5604 - accuracy: 0.5326 - val_loss: 1.6193 - val_accuracy: 0.5276\n",
      "\n",
      "Epoch 00146: val_loss did not improve from 1.61656\n",
      "Epoch 147/200\n",
      "32/32 [==============================] - 0s 5ms/step - loss: 1.5656 - accuracy: 0.5366 - val_loss: 1.6223 - val_accuracy: 0.5197\n",
      "\n",
      "Epoch 00147: val_loss did not improve from 1.61656\n",
      "Epoch 148/200\n",
      "32/32 [==============================] - 0s 5ms/step - loss: 1.5733 - accuracy: 0.5287 - val_loss: 1.6233 - val_accuracy: 0.5236\n",
      "\n",
      "Epoch 00148: val_loss did not improve from 1.61656\n",
      "Epoch 149/200\n",
      "32/32 [==============================] - 0s 4ms/step - loss: 1.5375 - accuracy: 0.5405 - val_loss: 1.6286 - val_accuracy: 0.5236\n",
      "\n",
      "Epoch 00149: val_loss did not improve from 1.61656\n",
      "Epoch 150/200\n",
      "32/32 [==============================] - 0s 5ms/step - loss: 1.5540 - accuracy: 0.5346 - val_loss: 1.6255 - val_accuracy: 0.5276\n",
      "\n",
      "Epoch 00150: val_loss did not improve from 1.61656\n",
      "Epoch 151/200\n",
      "32/32 [==============================] - 0s 5ms/step - loss: 1.5739 - accuracy: 0.5375 - val_loss: 1.6289 - val_accuracy: 0.5157\n",
      "\n",
      "Epoch 00151: val_loss did not improve from 1.61656\n",
      "Epoch 152/200\n",
      "32/32 [==============================] - 0s 5ms/step - loss: 1.5609 - accuracy: 0.5455 - val_loss: 1.6169 - val_accuracy: 0.5276\n",
      "\n",
      "Epoch 00152: val_loss did not improve from 1.61656\n",
      "Epoch 153/200\n",
      "32/32 [==============================] - 0s 4ms/step - loss: 1.5728 - accuracy: 0.5375 - val_loss: 1.6150 - val_accuracy: 0.5354\n",
      "\n",
      "Epoch 00153: val_loss improved from 1.61656 to 1.61504, saving model to ./audio_classification.hdf5\n",
      "Epoch 154/200\n",
      "32/32 [==============================] - 0s 5ms/step - loss: 1.5573 - accuracy: 0.5366 - val_loss: 1.6195 - val_accuracy: 0.5197\n",
      "\n",
      "Epoch 00154: val_loss did not improve from 1.61504\n",
      "Epoch 155/200\n",
      "32/32 [==============================] - 0s 5ms/step - loss: 1.5741 - accuracy: 0.5395 - val_loss: 1.6209 - val_accuracy: 0.5236\n",
      "\n",
      "Epoch 00155: val_loss did not improve from 1.61504\n",
      "Epoch 156/200\n",
      "32/32 [==============================] - 0s 5ms/step - loss: 1.5703 - accuracy: 0.5395 - val_loss: 1.6184 - val_accuracy: 0.5236\n",
      "\n",
      "Epoch 00156: val_loss did not improve from 1.61504\n",
      "Epoch 157/200\n",
      "32/32 [==============================] - 0s 5ms/step - loss: 1.5789 - accuracy: 0.5375 - val_loss: 1.6287 - val_accuracy: 0.5118\n",
      "\n",
      "Epoch 00157: val_loss did not improve from 1.61504\n",
      "Epoch 158/200\n",
      "32/32 [==============================] - 0s 4ms/step - loss: 1.5569 - accuracy: 0.5415 - val_loss: 1.6129 - val_accuracy: 0.5315\n",
      "\n",
      "Epoch 00158: val_loss improved from 1.61504 to 1.61294, saving model to ./audio_classification.hdf5\n",
      "Epoch 159/200\n",
      "32/32 [==============================] - 0s 5ms/step - loss: 1.5426 - accuracy: 0.5395 - val_loss: 1.6173 - val_accuracy: 0.5236\n",
      "\n",
      "Epoch 00159: val_loss did not improve from 1.61294\n",
      "Epoch 160/200\n",
      "32/32 [==============================] - 0s 4ms/step - loss: 1.5604 - accuracy: 0.5336 - val_loss: 1.6294 - val_accuracy: 0.5000\n",
      "\n",
      "Epoch 00160: val_loss did not improve from 1.61294\n",
      "Epoch 161/200\n",
      "32/32 [==============================] - 0s 11ms/step - loss: 1.5530 - accuracy: 0.5395 - val_loss: 1.6199 - val_accuracy: 0.5118\n",
      "\n",
      "Epoch 00161: val_loss did not improve from 1.61294\n",
      "Epoch 162/200\n",
      "32/32 [==============================] - 0s 11ms/step - loss: 1.5640 - accuracy: 0.5336 - val_loss: 1.6151 - val_accuracy: 0.5197\n",
      "\n",
      "Epoch 00162: val_loss did not improve from 1.61294\n",
      "Epoch 163/200\n",
      "32/32 [==============================] - 0s 10ms/step - loss: 1.5265 - accuracy: 0.5336 - val_loss: 1.6269 - val_accuracy: 0.5157\n",
      "\n",
      "Epoch 00163: val_loss did not improve from 1.61294\n",
      "Epoch 164/200\n",
      "32/32 [==============================] - 0s 4ms/step - loss: 1.5389 - accuracy: 0.5445 - val_loss: 1.6256 - val_accuracy: 0.5197\n",
      "\n",
      "Epoch 00164: val_loss did not improve from 1.61294\n",
      "Epoch 165/200\n",
      "32/32 [==============================] - 0s 5ms/step - loss: 1.5629 - accuracy: 0.5356 - val_loss: 1.6211 - val_accuracy: 0.5236\n",
      "\n",
      "Epoch 00165: val_loss did not improve from 1.61294\n",
      "Epoch 166/200\n",
      "32/32 [==============================] - 0s 4ms/step - loss: 1.5408 - accuracy: 0.5375 - val_loss: 1.6306 - val_accuracy: 0.5118\n",
      "\n",
      "Epoch 00166: val_loss did not improve from 1.61294\n",
      "Epoch 167/200\n",
      "32/32 [==============================] - 0s 5ms/step - loss: 1.5349 - accuracy: 0.5395 - val_loss: 1.6179 - val_accuracy: 0.5315\n",
      "\n",
      "Epoch 00167: val_loss did not improve from 1.61294\n",
      "Epoch 168/200\n",
      "32/32 [==============================] - 0s 5ms/step - loss: 1.5478 - accuracy: 0.5415 - val_loss: 1.6231 - val_accuracy: 0.5118\n",
      "\n",
      "Epoch 00168: val_loss did not improve from 1.61294\n",
      "Epoch 169/200\n",
      "32/32 [==============================] - 0s 5ms/step - loss: 1.5387 - accuracy: 0.5375 - val_loss: 1.6208 - val_accuracy: 0.5236\n",
      "\n",
      "Epoch 00169: val_loss did not improve from 1.61294\n",
      "Epoch 170/200\n",
      "32/32 [==============================] - 0s 5ms/step - loss: 1.5366 - accuracy: 0.5445 - val_loss: 1.6126 - val_accuracy: 0.5394\n",
      "\n",
      "Epoch 00170: val_loss improved from 1.61294 to 1.61260, saving model to ./audio_classification.hdf5\n",
      "Epoch 171/200\n",
      "32/32 [==============================] - 0s 5ms/step - loss: 1.5348 - accuracy: 0.5346 - val_loss: 1.6109 - val_accuracy: 0.5197\n",
      "\n",
      "Epoch 00171: val_loss improved from 1.61260 to 1.61089, saving model to ./audio_classification.hdf5\n",
      "Epoch 172/200\n",
      "32/32 [==============================] - 0s 5ms/step - loss: 1.5469 - accuracy: 0.5306 - val_loss: 1.6247 - val_accuracy: 0.5236\n",
      "\n",
      "Epoch 00172: val_loss did not improve from 1.61089\n",
      "Epoch 173/200\n",
      "32/32 [==============================] - 0s 7ms/step - loss: 1.5415 - accuracy: 0.5405 - val_loss: 1.6251 - val_accuracy: 0.5276\n",
      "\n",
      "Epoch 00173: val_loss did not improve from 1.61089\n",
      "Epoch 174/200\n",
      "32/32 [==============================] - 0s 5ms/step - loss: 1.5460 - accuracy: 0.5455 - val_loss: 1.6225 - val_accuracy: 0.5276\n",
      "\n",
      "Epoch 00174: val_loss did not improve from 1.61089\n",
      "Epoch 175/200\n",
      "32/32 [==============================] - 0s 5ms/step - loss: 1.5627 - accuracy: 0.5435 - val_loss: 1.6164 - val_accuracy: 0.5315\n",
      "\n",
      "Epoch 00175: val_loss did not improve from 1.61089\n",
      "Epoch 176/200\n",
      "32/32 [==============================] - 0s 6ms/step - loss: 1.5385 - accuracy: 0.5474 - val_loss: 1.6316 - val_accuracy: 0.5157\n",
      "\n",
      "Epoch 00176: val_loss did not improve from 1.61089\n",
      "Epoch 177/200\n",
      "32/32 [==============================] - 0s 5ms/step - loss: 1.5476 - accuracy: 0.5346 - val_loss: 1.6207 - val_accuracy: 0.5079\n",
      "\n",
      "Epoch 00177: val_loss did not improve from 1.61089\n",
      "Epoch 178/200\n",
      "32/32 [==============================] - 0s 5ms/step - loss: 1.5360 - accuracy: 0.5425 - val_loss: 1.6262 - val_accuracy: 0.5197\n",
      "\n",
      "Epoch 00178: val_loss did not improve from 1.61089\n",
      "Epoch 179/200\n",
      "32/32 [==============================] - 0s 5ms/step - loss: 1.5337 - accuracy: 0.5464 - val_loss: 1.6241 - val_accuracy: 0.5236\n",
      "\n",
      "Epoch 00179: val_loss did not improve from 1.61089\n",
      "Epoch 180/200\n",
      "32/32 [==============================] - 0s 5ms/step - loss: 1.5525 - accuracy: 0.5306 - val_loss: 1.6061 - val_accuracy: 0.5236\n",
      "\n",
      "Epoch 00180: val_loss improved from 1.61089 to 1.60609, saving model to ./audio_classification.hdf5\n",
      "Epoch 181/200\n",
      "32/32 [==============================] - 0s 5ms/step - loss: 1.5404 - accuracy: 0.5306 - val_loss: 1.6319 - val_accuracy: 0.5157\n",
      "\n",
      "Epoch 00181: val_loss did not improve from 1.60609\n",
      "Epoch 182/200\n",
      "32/32 [==============================] - 0s 6ms/step - loss: 1.5328 - accuracy: 0.5445 - val_loss: 1.6353 - val_accuracy: 0.5197\n",
      "\n",
      "Epoch 00182: val_loss did not improve from 1.60609\n",
      "Epoch 183/200\n",
      "32/32 [==============================] - 0s 5ms/step - loss: 1.5322 - accuracy: 0.5366 - val_loss: 1.6233 - val_accuracy: 0.5157\n",
      "\n",
      "Epoch 00183: val_loss did not improve from 1.60609\n",
      "Epoch 184/200\n",
      "32/32 [==============================] - 0s 5ms/step - loss: 1.5465 - accuracy: 0.5366 - val_loss: 1.6175 - val_accuracy: 0.5236\n",
      "\n",
      "Epoch 00184: val_loss did not improve from 1.60609\n",
      "Epoch 185/200\n",
      "32/32 [==============================] - 0s 5ms/step - loss: 1.5443 - accuracy: 0.5346 - val_loss: 1.6167 - val_accuracy: 0.5197\n",
      "\n",
      "Epoch 00185: val_loss did not improve from 1.60609\n",
      "Epoch 186/200\n",
      "32/32 [==============================] - 0s 5ms/step - loss: 1.5349 - accuracy: 0.5346 - val_loss: 1.6155 - val_accuracy: 0.5157\n",
      "\n",
      "Epoch 00186: val_loss did not improve from 1.60609\n",
      "Epoch 187/200\n",
      "32/32 [==============================] - 0s 5ms/step - loss: 1.5348 - accuracy: 0.5415 - val_loss: 1.6128 - val_accuracy: 0.5276\n",
      "\n",
      "Epoch 00187: val_loss did not improve from 1.60609\n",
      "Epoch 188/200\n",
      "32/32 [==============================] - 0s 4ms/step - loss: 1.5395 - accuracy: 0.5326 - val_loss: 1.6163 - val_accuracy: 0.5354\n",
      "\n",
      "Epoch 00188: val_loss did not improve from 1.60609\n",
      "Epoch 189/200\n",
      "32/32 [==============================] - 0s 4ms/step - loss: 1.5196 - accuracy: 0.5524 - val_loss: 1.6293 - val_accuracy: 0.5118\n",
      "\n",
      "Epoch 00189: val_loss did not improve from 1.60609\n",
      "Epoch 190/200\n",
      "32/32 [==============================] - 0s 4ms/step - loss: 1.5223 - accuracy: 0.5395 - val_loss: 1.6247 - val_accuracy: 0.5236\n",
      "\n",
      "Epoch 00190: val_loss did not improve from 1.60609\n",
      "Epoch 191/200\n",
      "32/32 [==============================] - 0s 4ms/step - loss: 1.5371 - accuracy: 0.5593 - val_loss: 1.6351 - val_accuracy: 0.5236\n",
      "\n",
      "Epoch 00191: val_loss did not improve from 1.60609\n",
      "Epoch 192/200\n",
      "32/32 [==============================] - 0s 5ms/step - loss: 1.5391 - accuracy: 0.5425 - val_loss: 1.6399 - val_accuracy: 0.5197\n",
      "\n",
      "Epoch 00192: val_loss did not improve from 1.60609\n",
      "Epoch 193/200\n",
      "32/32 [==============================] - 0s 5ms/step - loss: 1.5300 - accuracy: 0.5435 - val_loss: 1.6282 - val_accuracy: 0.5315\n",
      "\n",
      "Epoch 00193: val_loss did not improve from 1.60609\n",
      "Epoch 194/200\n",
      "32/32 [==============================] - 0s 5ms/step - loss: 1.5358 - accuracy: 0.5484 - val_loss: 1.6162 - val_accuracy: 0.4961\n",
      "\n",
      "Epoch 00194: val_loss did not improve from 1.60609\n",
      "Epoch 195/200\n",
      "32/32 [==============================] - 0s 5ms/step - loss: 1.5311 - accuracy: 0.5534 - val_loss: 1.6218 - val_accuracy: 0.5236\n",
      "\n",
      "Epoch 00195: val_loss did not improve from 1.60609\n",
      "Epoch 196/200\n",
      "32/32 [==============================] - 0s 5ms/step - loss: 1.5218 - accuracy: 0.5287 - val_loss: 1.6126 - val_accuracy: 0.5157\n",
      "\n",
      "Epoch 00196: val_loss did not improve from 1.60609\n",
      "Epoch 197/200\n",
      "32/32 [==============================] - 0s 5ms/step - loss: 1.5349 - accuracy: 0.5385 - val_loss: 1.6293 - val_accuracy: 0.5157\n",
      "\n",
      "Epoch 00197: val_loss did not improve from 1.60609\n",
      "Epoch 198/200\n",
      "32/32 [==============================] - 0s 5ms/step - loss: 1.5286 - accuracy: 0.5405 - val_loss: 1.6305 - val_accuracy: 0.5157\n",
      "\n",
      "Epoch 00198: val_loss did not improve from 1.60609\n",
      "Epoch 199/200\n",
      "32/32 [==============================] - 0s 5ms/step - loss: 1.5418 - accuracy: 0.5375 - val_loss: 1.6322 - val_accuracy: 0.5197\n",
      "\n",
      "Epoch 00199: val_loss did not improve from 1.60609\n",
      "Epoch 200/200\n",
      "32/32 [==============================] - 0s 5ms/step - loss: 1.5284 - accuracy: 0.5415 - val_loss: 1.6373 - val_accuracy: 0.5157\n",
      "\n",
      "Epoch 00200: val_loss did not improve from 1.60609\n",
      "Training completed in time:  0:00:34.017023\n"
     ]
    }
   ],
   "source": [
    "## Trianing my model\n",
    "from tensorflow.keras.callbacks import ModelCheckpoint\n",
    "from datetime import datetime \n",
    "num_epochs = 200\n",
    "num_batch_size = 32\n",
    "checkpointer = ModelCheckpoint(filepath='./audio_classification.hdf5', \n",
    "                               verbose=1, save_best_only=True)\n",
    "start = datetime.now()\n",
    "model.fit(X_train, y_train, batch_size=num_batch_size, epochs=num_epochs, validation_data=(X_test, y_test), callbacks=[checkpointer], verbose=1)\n",
    "duration = datetime.now() - start\n",
    "print(\"Training completed in time: \", duration)"
   ]
  },
  {
   "cell_type": "code",
   "execution_count": 20,
   "id": "a55a44e6",
   "metadata": {
    "execution": {
     "iopub.execute_input": "2022-05-06T21:12:32.005748Z",
     "iopub.status.busy": "2022-05-06T21:12:32.005086Z",
     "iopub.status.idle": "2022-05-06T21:12:32.081904Z",
     "shell.execute_reply": "2022-05-06T21:12:32.081284Z",
     "shell.execute_reply.started": "2022-05-06T20:50:11.629321Z"
    },
    "papermill": {
     "duration": 0.860494,
     "end_time": "2022-05-06T21:12:32.082044",
     "exception": false,
     "start_time": "2022-05-06T21:12:31.221550",
     "status": "completed"
    },
    "tags": []
   },
   "outputs": [
    {
     "name": "stdout",
     "output_type": "stream",
     "text": [
      "0.5157480239868164\n"
     ]
    }
   ],
   "source": [
    "\n",
    "# Let's check the accuracy!\n",
    "test_accuracy=model.evaluate(X_test,y_test,verbose=0)\n",
    "print(test_accuracy[1])"
   ]
  },
  {
   "cell_type": "code",
   "execution_count": 21,
   "id": "8a45b6a5",
   "metadata": {
    "execution": {
     "iopub.execute_input": "2022-05-06T21:12:33.650103Z",
     "iopub.status.busy": "2022-05-06T21:12:33.649457Z",
     "iopub.status.idle": "2022-05-06T21:12:33.805921Z",
     "shell.execute_reply": "2022-05-06T21:12:33.805296Z",
     "shell.execute_reply.started": "2022-05-06T20:50:12.118307Z"
    },
    "papermill": {
     "duration": 0.940507,
     "end_time": "2022-05-06T21:12:33.806095",
     "exception": false,
     "start_time": "2022-05-06T21:12:32.865588",
     "status": "completed"
    },
    "tags": []
   },
   "outputs": [
    {
     "data": {
      "text/plain": [
       "array([3.8066977e-05, 1.0176649e-03, 1.1161550e-02, 6.2730483e-05,\n",
       "       2.8034467e-06, 2.1750096e-04, 1.4353900e-07, 1.9553704e-03,\n",
       "       4.5733535e-04, 1.5003020e-06, 9.1867873e-09, 1.1035526e-08,\n",
       "       9.1460183e-02, 1.1447530e-03, 5.5621995e-04, 7.6845674e-12,\n",
       "       5.5624911e-05, 2.0802236e-06, 8.8127518e-01, 1.7620972e-03,\n",
       "       8.8292435e-03], dtype=float32)"
      ]
     },
     "execution_count": 21,
     "metadata": {},
     "output_type": "execute_result"
    }
   ],
   "source": [
    "predict_x = model.predict(X_test)\n",
    "classes_x = np.argmax(predict_x, axis = 1)\n",
    "predict_x[1]"
   ]
  },
  {
   "cell_type": "code",
   "execution_count": 22,
   "id": "6c5ebaa7",
   "metadata": {
    "execution": {
     "iopub.execute_input": "2022-05-06T21:12:35.371933Z",
     "iopub.status.busy": "2022-05-06T21:12:35.371167Z",
     "iopub.status.idle": "2022-05-06T21:12:35.380360Z",
     "shell.execute_reply": "2022-05-06T21:12:35.380946Z",
     "shell.execute_reply.started": "2022-05-06T20:50:12.259499Z"
    },
    "papermill": {
     "duration": 0.797416,
     "end_time": "2022-05-06T21:12:35.381158",
     "exception": false,
     "start_time": "2022-05-06T21:12:34.583742",
     "status": "completed"
    },
    "tags": []
   },
   "outputs": [],
   "source": [
    "test_audio_dir = '../input/birdclef-2022/test_soundscapes/'\n",
    "file_list = [f.split('.')[0] for f in sorted(os.listdir(test_audio_dir))]"
   ]
  },
  {
   "cell_type": "code",
   "execution_count": 23,
   "id": "e3369b61",
   "metadata": {
    "execution": {
     "iopub.execute_input": "2022-05-06T21:12:36.963170Z",
     "iopub.status.busy": "2022-05-06T21:12:36.962407Z",
     "iopub.status.idle": "2022-05-06T21:12:36.965752Z",
     "shell.execute_reply": "2022-05-06T21:12:36.965097Z",
     "shell.execute_reply.started": "2022-05-06T20:50:12.268705Z"
    },
    "papermill": {
     "duration": 0.788199,
     "end_time": "2022-05-06T21:12:36.965896",
     "exception": false,
     "start_time": "2022-05-06T21:12:36.177697",
     "status": "completed"
    },
    "tags": []
   },
   "outputs": [],
   "source": [
    "with open('../input/birdclef-2022/scored_birds.json') as sbfile:\n",
    "    scored_birds = json.load(sbfile)"
   ]
  },
  {
   "cell_type": "code",
   "execution_count": 24,
   "id": "9dc6c274",
   "metadata": {
    "execution": {
     "iopub.execute_input": "2022-05-06T21:12:38.564769Z",
     "iopub.status.busy": "2022-05-06T21:12:38.563924Z",
     "iopub.status.idle": "2022-05-06T21:12:38.566768Z",
     "shell.execute_reply": "2022-05-06T21:12:38.566240Z",
     "shell.execute_reply.started": "2022-05-06T20:50:12.283303Z"
    },
    "papermill": {
     "duration": 0.789332,
     "end_time": "2022-05-06T21:12:38.566905",
     "exception": false,
     "start_time": "2022-05-06T21:12:37.777573",
     "status": "completed"
    },
    "tags": []
   },
   "outputs": [],
   "source": [
    "pred = {'row_id': [], 'target': []}"
   ]
  },
  {
   "cell_type": "code",
   "execution_count": 25,
   "id": "a40152ee",
   "metadata": {
    "execution": {
     "iopub.execute_input": "2022-05-06T21:12:40.135038Z",
     "iopub.status.busy": "2022-05-06T21:12:40.133978Z",
     "iopub.status.idle": "2022-05-06T21:12:40.136318Z",
     "shell.execute_reply": "2022-05-06T21:12:40.136803Z",
     "shell.execute_reply.started": "2022-05-06T20:50:12.300554Z"
    },
    "papermill": {
     "duration": 0.788019,
     "end_time": "2022-05-06T21:12:40.136971",
     "exception": false,
     "start_time": "2022-05-06T21:12:39.348952",
     "status": "completed"
    },
    "tags": []
   },
   "outputs": [],
   "source": [
    "# Process audio files and make predictions\n",
    "for afile in file_list:\n",
    "    \n",
    "    # Complete file path\n",
    "    path = test_audio_dir + afile + '.ogg'\n",
    "    \n",
    "    # Open file with librosa and split signal into 5-second chunks\n",
    "    # sig, rate = librosa.load(path)\n",
    "    # ...\n",
    "    \n",
    "    # Let's assume we have a list of 12 audio chunks (1min / 5s == 12 segments)\n",
    "    chunks = [[] for i in range(12)]"
   ]
  },
  {
   "cell_type": "code",
   "execution_count": 26,
   "id": "38ccaf3b",
   "metadata": {
    "execution": {
     "iopub.execute_input": "2022-05-06T21:12:41.703774Z",
     "iopub.status.busy": "2022-05-06T21:12:41.702905Z",
     "iopub.status.idle": "2022-05-06T21:12:41.706436Z",
     "shell.execute_reply": "2022-05-06T21:12:41.705940Z",
     "shell.execute_reply.started": "2022-05-06T20:50:12.310722Z"
    },
    "papermill": {
     "duration": 0.791823,
     "end_time": "2022-05-06T21:12:41.706587",
     "exception": false,
     "start_time": "2022-05-06T21:12:40.914764",
     "status": "completed"
    },
    "tags": []
   },
   "outputs": [
    {
     "data": {
      "text/plain": [
       "[[], [], [], [], [], [], [], [], [], [], [], []]"
      ]
     },
     "execution_count": 26,
     "metadata": {},
     "output_type": "execute_result"
    }
   ],
   "source": [
    "chunks"
   ]
  },
  {
   "cell_type": "code",
   "execution_count": 27,
   "id": "20003149",
   "metadata": {
    "execution": {
     "iopub.execute_input": "2022-05-06T21:12:43.277777Z",
     "iopub.status.busy": "2022-05-06T21:12:43.276832Z",
     "iopub.status.idle": "2022-05-06T21:12:43.280377Z",
     "shell.execute_reply": "2022-05-06T21:12:43.280823Z",
     "shell.execute_reply.started": "2022-05-06T20:50:12.491521Z"
    },
    "papermill": {
     "duration": 0.792123,
     "end_time": "2022-05-06T21:12:43.280995",
     "exception": false,
     "start_time": "2022-05-06T21:12:42.488872",
     "status": "completed"
    },
    "tags": []
   },
   "outputs": [
    {
     "data": {
      "text/plain": [
       "array([[1., 0., 0., ..., 0., 0., 0.],\n",
       "       [1., 0., 0., ..., 0., 0., 0.],\n",
       "       [1., 0., 0., ..., 0., 0., 0.],\n",
       "       ...,\n",
       "       [0., 0., 0., ..., 0., 0., 1.],\n",
       "       [0., 0., 0., ..., 0., 0., 1.],\n",
       "       [0., 0., 0., ..., 0., 0., 1.]], dtype=float32)"
      ]
     },
     "execution_count": 27,
     "metadata": {},
     "output_type": "execute_result"
    }
   ],
   "source": [
    "y_test.shape\n",
    "predict_x.shape\n",
    "from sklearn.metrics import accuracy_score\n",
    "from sklearn.metrics import f1_score\n",
    "#score = f1_score(str(y_test[1]),str(predict_x[1]).replace(\".\", \"\"), average = None)\n",
    "#fil_acc_orig = accuracy_score(X_test,predict_x)\n",
    "\n",
    "X_test\n",
    "\n",
    "y\n",
    "\n"
   ]
  },
  {
   "cell_type": "markdown",
   "id": "bce8d74a",
   "metadata": {
    "papermill": {
     "duration": 0.775187,
     "end_time": "2022-05-06T21:12:44.831430",
     "exception": false,
     "start_time": "2022-05-06T21:12:44.056243",
     "status": "completed"
    },
    "tags": []
   },
   "source": [
    "Let's prepare the test file to create the submision csv"
   ]
  },
  {
   "cell_type": "code",
   "execution_count": 28,
   "id": "ca520240",
   "metadata": {
    "execution": {
     "iopub.execute_input": "2022-05-06T21:12:46.405546Z",
     "iopub.status.busy": "2022-05-06T21:12:46.404626Z",
     "iopub.status.idle": "2022-05-06T21:12:49.181945Z",
     "shell.execute_reply": "2022-05-06T21:12:49.181338Z",
     "shell.execute_reply.started": "2022-05-06T20:50:12.501461Z"
    },
    "papermill": {
     "duration": 3.57281,
     "end_time": "2022-05-06T21:12:49.182140",
     "exception": false,
     "start_time": "2022-05-06T21:12:45.609330",
     "status": "completed"
    },
    "tags": []
   },
   "outputs": [
    {
     "name": "stdout",
     "output_type": "stream",
     "text": [
      "exporting 0.ogg\n",
      "exporting 1.ogg\n",
      "exporting 2.ogg\n",
      "exporting 3.ogg\n",
      "exporting 4.ogg\n",
      "exporting 5.ogg\n",
      "exporting 6.ogg\n",
      "exporting 7.ogg\n",
      "exporting 8.ogg\n",
      "exporting 9.ogg\n",
      "exporting 10.ogg\n",
      "exporting 11.ogg\n"
     ]
    }
   ],
   "source": [
    "# we will divide the test audio in 12 audios of 5 seconds.\n",
    "\n",
    "from pydub import AudioSegment\n",
    "from pydub.utils import make_chunks \n",
    "sound = AudioSegment.from_file(\"../input/birdclef-2022/test_soundscapes/soundscape_453028782.ogg\")\n",
    "\n",
    "chunk_length_ms = 5000 # pydub calculates in millisec \n",
    "chunks = make_chunks(sound,chunk_length_ms) #Make chunks of one sec \n",
    "for i, chunk in enumerate(chunks): \n",
    "    chunk_name = \"{0}.ogg\".format(i) \n",
    "    print (\"exporting\", chunk_name) \n",
    "    chunk.export(chunk_name, format=\"ogg\") \n"
   ]
  },
  {
   "cell_type": "code",
   "execution_count": 29,
   "id": "7ef284a5",
   "metadata": {
    "execution": {
     "iopub.execute_input": "2022-05-06T21:12:50.794735Z",
     "iopub.status.busy": "2022-05-06T21:12:50.793709Z",
     "iopub.status.idle": "2022-05-06T21:12:52.021747Z",
     "shell.execute_reply": "2022-05-06T21:12:52.022747Z",
     "shell.execute_reply.started": "2022-05-06T20:50:14.649422Z"
    },
    "papermill": {
     "duration": 2.008597,
     "end_time": "2022-05-06T21:12:52.023024",
     "exception": false,
     "start_time": "2022-05-06T21:12:50.014427",
     "status": "completed"
    },
    "tags": []
   },
   "outputs": [],
   "source": [
    "# Lets stract the features\n",
    "import librosa\n",
    "import numpy as np\n",
    "\n",
    "def features_extractor(file):\n",
    "    #load the file (audio)\n",
    "    audio, sample_rate = librosa.load(file_name, res_type='kaiser_fast') \n",
    "    #we extract mfcc\n",
    "    mfccs_features = librosa.feature.mfcc(y=audio, sr=sample_rate, n_mfcc=40)\n",
    "    #in order to find out scaled feature we do mean of transpose of value\n",
    "    mfccs_scaled_features = np.mean(mfccs_features.T,axis=0)\n",
    "    return mfccs_scaled_features\n",
    "\n",
    "\n",
    "import os\n",
    "extracted_features_=[]\n",
    "for i in range(0,12):\n",
    "    file_name = os.path.join(os.path.abspath(\"./\"),str(i) + \".ogg\")\n",
    "    data=features_extractor(file_name)\n",
    "    extracted_features_.append([data])"
   ]
  },
  {
   "cell_type": "code",
   "execution_count": 30,
   "id": "59db12d3",
   "metadata": {
    "execution": {
     "iopub.execute_input": "2022-05-06T21:12:53.642867Z",
     "iopub.status.busy": "2022-05-06T21:12:53.641844Z",
     "iopub.status.idle": "2022-05-06T21:12:53.644120Z",
     "shell.execute_reply": "2022-05-06T21:12:53.644587Z",
     "shell.execute_reply.started": "2022-05-06T20:50:16.089756Z"
    },
    "papermill": {
     "duration": 0.79091,
     "end_time": "2022-05-06T21:12:53.644755",
     "exception": false,
     "start_time": "2022-05-06T21:12:52.853845",
     "status": "completed"
    },
    "tags": []
   },
   "outputs": [],
   "source": [
    "import pandas as pd\n",
    "extracted_features_df_=pd.DataFrame(extracted_features_,columns=['feature'])"
   ]
  },
  {
   "cell_type": "code",
   "execution_count": 31,
   "id": "56e660e7",
   "metadata": {
    "execution": {
     "iopub.execute_input": "2022-05-06T21:12:55.217118Z",
     "iopub.status.busy": "2022-05-06T21:12:55.216307Z",
     "iopub.status.idle": "2022-05-06T21:12:55.218783Z",
     "shell.execute_reply": "2022-05-06T21:12:55.219336Z",
     "shell.execute_reply.started": "2022-05-06T20:50:16.104985Z"
    },
    "papermill": {
     "duration": 0.78998,
     "end_time": "2022-05-06T21:12:55.219508",
     "exception": false,
     "start_time": "2022-05-06T21:12:54.429528",
     "status": "completed"
    },
    "tags": []
   },
   "outputs": [],
   "source": [
    "X_=np.array(extracted_features_df_['feature'].tolist())"
   ]
  },
  {
   "cell_type": "code",
   "execution_count": 32,
   "id": "1da2066a",
   "metadata": {
    "execution": {
     "iopub.execute_input": "2022-05-06T21:12:56.891178Z",
     "iopub.status.busy": "2022-05-06T21:12:56.890086Z",
     "iopub.status.idle": "2022-05-06T21:12:56.899631Z",
     "shell.execute_reply": "2022-05-06T21:12:56.900188Z",
     "shell.execute_reply.started": "2022-05-06T20:50:16.123651Z"
    },
    "papermill": {
     "duration": 0.840762,
     "end_time": "2022-05-06T21:12:56.900356",
     "exception": false,
     "start_time": "2022-05-06T21:12:56.059594",
     "status": "completed"
    },
    "tags": []
   },
   "outputs": [],
   "source": [
    "X_prueba = X_\n",
    "X_prueb = X_prueba.tolist()\n",
    "X_pru = []\n",
    "X_pri = []\n",
    "\n",
    "for i in range(len(X_)):\n",
    "    for j in range(0,40):\n",
    "        if j==6 or j==8 or j==9 or j==4 or j==0 or j==5 or j==12:\n",
    "            X_pru.append(X_prueb[i][j])\n",
    "    X_pri.append(X_pru)\n",
    "    X_pru = []\n",
    "            \n",
    "                \n",
    "X_pro = np.array([np.array(xi) for xi in X_pri])"
   ]
  },
  {
   "cell_type": "code",
   "execution_count": 33,
   "id": "3bffe726",
   "metadata": {
    "execution": {
     "iopub.execute_input": "2022-05-06T21:12:58.464576Z",
     "iopub.status.busy": "2022-05-06T21:12:58.463571Z",
     "iopub.status.idle": "2022-05-06T21:12:58.470341Z",
     "shell.execute_reply": "2022-05-06T21:12:58.470897Z",
     "shell.execute_reply.started": "2022-05-06T20:50:16.169469Z"
    },
    "papermill": {
     "duration": 0.790061,
     "end_time": "2022-05-06T21:12:58.471098",
     "exception": false,
     "start_time": "2022-05-06T21:12:57.681037",
     "status": "completed"
    },
    "tags": []
   },
   "outputs": [],
   "source": [
    "with open('../input/birdclef-2022/scored_birds.json') as sbfile:\n",
    "    scored_birds = json.load(sbfile)"
   ]
  },
  {
   "cell_type": "code",
   "execution_count": 34,
   "id": "1d913caa",
   "metadata": {
    "execution": {
     "iopub.execute_input": "2022-05-06T21:13:00.102582Z",
     "iopub.status.busy": "2022-05-06T21:13:00.101919Z",
     "iopub.status.idle": "2022-05-06T21:13:00.166200Z",
     "shell.execute_reply": "2022-05-06T21:13:00.166733Z",
     "shell.execute_reply.started": "2022-05-06T20:50:19.398363Z"
    },
    "papermill": {
     "duration": 0.866458,
     "end_time": "2022-05-06T21:13:00.166924",
     "exception": false,
     "start_time": "2022-05-06T21:12:59.300466",
     "status": "completed"
    },
    "tags": []
   },
   "outputs": [],
   "source": [
    "predict__=model.predict(X_pro)"
   ]
  },
  {
   "cell_type": "code",
   "execution_count": 35,
   "id": "83555ef4",
   "metadata": {
    "execution": {
     "iopub.execute_input": "2022-05-06T21:13:01.742026Z",
     "iopub.status.busy": "2022-05-06T21:13:01.741333Z",
     "iopub.status.idle": "2022-05-06T21:13:01.750170Z",
     "shell.execute_reply": "2022-05-06T21:13:01.750716Z",
     "shell.execute_reply.started": "2022-05-06T20:50:19.473881Z"
    },
    "papermill": {
     "duration": 0.800689,
     "end_time": "2022-05-06T21:13:01.750899",
     "exception": false,
     "start_time": "2022-05-06T21:13:00.950210",
     "status": "completed"
    },
    "tags": []
   },
   "outputs": [],
   "source": [
    "# This is where we will store our results\n",
    "pred = {'row_id': [], 'target': []}\n",
    "\n",
    "# Process audio files and make predictions\n",
    "for afile in file_list:\n",
    "    \n",
    "    # Complete file path\n",
    "    path = test_audio_dir + afile + '.ogg'\n",
    "    \n",
    "    # Open file with librosa and split signal into 5-second chunks\n",
    "    # sig, rate = librosa.load(path)\n",
    "    # ...\n",
    "    \n",
    "    # Let's assume we have a list of 12 audio chunks (1min / 5s == 12 segments)\n",
    "    chunks = [[] for i in range(12)]\n",
    "    \n",
    "    # Make prediction for each chunk\n",
    "    # Each scored bird gets a random value in our case\n",
    "    # since we don't actually have a model\n",
    "    for i in range(len(chunks)):        \n",
    "        chunk_end_time = (i + 1) * 5\n",
    "        j=0\n",
    "        for bird in scored_birds:\n",
    "            \n",
    "            # This is our random prediction score for this bird\n",
    "            score = predict__[i][j]\n",
    "            j=j+1\n",
    "            # Assemble the row_id which we need to do for each scored bird\n",
    "            row_id = afile + '_' + bird + '_' + str(chunk_end_time)\n",
    "            \n",
    "            # Put the result into our prediction dict and\n",
    "            # apply a \"confidence\" threshold of 0.5\n",
    "            pred['row_id'].append(row_id)\n",
    "            pred['target'].append(True if score > 0.5 else False)"
   ]
  },
  {
   "cell_type": "code",
   "execution_count": 36,
   "id": "e79d710f",
   "metadata": {
    "execution": {
     "iopub.execute_input": "2022-05-06T21:13:03.328909Z",
     "iopub.status.busy": "2022-05-06T21:13:03.328257Z",
     "iopub.status.idle": "2022-05-06T21:13:03.344046Z",
     "shell.execute_reply": "2022-05-06T21:13:03.344671Z",
     "shell.execute_reply.started": "2022-05-06T20:50:21.697740Z"
    },
    "papermill": {
     "duration": 0.807408,
     "end_time": "2022-05-06T21:13:03.344838",
     "exception": false,
     "start_time": "2022-05-06T21:13:02.537430",
     "status": "completed"
    },
    "tags": []
   },
   "outputs": [
    {
     "name": "stdout",
     "output_type": "stream",
     "text": [
      "                          row_id  target\n",
      "0  soundscape_453028782_akiapo_5   False\n",
      "1  soundscape_453028782_aniani_5   False\n",
      "2  soundscape_453028782_apapan_5   False\n",
      "3  soundscape_453028782_barpet_5   False\n",
      "4  soundscape_453028782_crehon_5   False\n"
     ]
    }
   ],
   "source": [
    "results = pd.DataFrame(pred, columns = ['row_id', 'target'])\n",
    "\n",
    "# Quick sanity check\n",
    "print(results.head()) \n",
    "    \n",
    "# Convert our results to csv\n",
    "results.to_csv(\"submission.csv\", index=False)"
   ]
  }
 ],
 "metadata": {
  "kernelspec": {
   "display_name": "Python 3",
   "language": "python",
   "name": "python3"
  },
  "language_info": {
   "codemirror_mode": {
    "name": "ipython",
    "version": 3
   },
   "file_extension": ".py",
   "mimetype": "text/x-python",
   "name": "python",
   "nbconvert_exporter": "python",
   "pygments_lexer": "ipython3",
   "version": "3.7.12"
  },
  "papermill": {
   "default_parameters": {},
   "duration": 962.785762,
   "end_time": "2022-05-06T21:13:07.143341",
   "environment_variables": {},
   "exception": null,
   "input_path": "__notebook__.ipynb",
   "output_path": "__notebook__.ipynb",
   "parameters": {},
   "start_time": "2022-05-06T20:57:04.357579",
   "version": "2.3.3"
  }
 },
 "nbformat": 4,
 "nbformat_minor": 5
}
