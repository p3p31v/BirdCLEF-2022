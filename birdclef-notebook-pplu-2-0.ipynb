{
 "cells": [
  {
   "cell_type": "code",
   "execution_count": 1,
   "id": "0500f983",
   "metadata": {
    "_cell_guid": "b1076dfc-b9ad-4769-8c92-a6c4dae69d19",
    "_uuid": "8f2839f25d086af736a60e9eeb907d3b93b6e0e5",
    "execution": {
     "iopub.execute_input": "2022-05-06T19:58:55.236304Z",
     "iopub.status.busy": "2022-05-06T19:58:55.235095Z",
     "iopub.status.idle": "2022-05-06T19:58:58.398497Z",
     "shell.execute_reply": "2022-05-06T19:58:58.399132Z",
     "shell.execute_reply.started": "2022-05-06T19:22:48.931731Z"
    },
    "papermill": {
     "duration": 3.23625,
     "end_time": "2022-05-06T19:58:58.399520",
     "exception": false,
     "start_time": "2022-05-06T19:58:55.163270",
     "status": "completed"
    },
    "tags": []
   },
   "outputs": [
    {
     "data": {
      "text/html": [
       "<div>\n",
       "<style scoped>\n",
       "    .dataframe tbody tr th:only-of-type {\n",
       "        vertical-align: middle;\n",
       "    }\n",
       "\n",
       "    .dataframe tbody tr th {\n",
       "        vertical-align: top;\n",
       "    }\n",
       "\n",
       "    .dataframe thead th {\n",
       "        text-align: right;\n",
       "    }\n",
       "</style>\n",
       "<table border=\"1\" class=\"dataframe\">\n",
       "  <thead>\n",
       "    <tr style=\"text-align: right;\">\n",
       "      <th></th>\n",
       "      <th>TAXON_ORDER</th>\n",
       "      <th>CATEGORY</th>\n",
       "      <th>SPECIES_CODE</th>\n",
       "      <th>PRIMARY_COM_NAME</th>\n",
       "      <th>SCI_NAME</th>\n",
       "      <th>ORDER1</th>\n",
       "      <th>FAMILY</th>\n",
       "      <th>SPECIES_GROUP</th>\n",
       "      <th>REPORT_AS</th>\n",
       "    </tr>\n",
       "  </thead>\n",
       "  <tbody>\n",
       "    <tr>\n",
       "      <th>0</th>\n",
       "      <td>1</td>\n",
       "      <td>species</td>\n",
       "      <td>ostric2</td>\n",
       "      <td>Common Ostrich</td>\n",
       "      <td>Struthio camelus</td>\n",
       "      <td>Struthioniformes</td>\n",
       "      <td>Struthionidae (Ostriches)</td>\n",
       "      <td>Ostriches</td>\n",
       "      <td>NaN</td>\n",
       "    </tr>\n",
       "    <tr>\n",
       "      <th>1</th>\n",
       "      <td>6</td>\n",
       "      <td>species</td>\n",
       "      <td>ostric3</td>\n",
       "      <td>Somali Ostrich</td>\n",
       "      <td>Struthio molybdophanes</td>\n",
       "      <td>Struthioniformes</td>\n",
       "      <td>Struthionidae (Ostriches)</td>\n",
       "      <td>NaN</td>\n",
       "      <td>NaN</td>\n",
       "    </tr>\n",
       "    <tr>\n",
       "      <th>2</th>\n",
       "      <td>7</td>\n",
       "      <td>slash</td>\n",
       "      <td>y00934</td>\n",
       "      <td>Common/Somali Ostrich</td>\n",
       "      <td>Struthio camelus/molybdophanes</td>\n",
       "      <td>Struthioniformes</td>\n",
       "      <td>Struthionidae (Ostriches)</td>\n",
       "      <td>NaN</td>\n",
       "      <td>NaN</td>\n",
       "    </tr>\n",
       "    <tr>\n",
       "      <th>3</th>\n",
       "      <td>8</td>\n",
       "      <td>species</td>\n",
       "      <td>grerhe1</td>\n",
       "      <td>Greater Rhea</td>\n",
       "      <td>Rhea americana</td>\n",
       "      <td>Rheiformes</td>\n",
       "      <td>Rheidae (Rheas)</td>\n",
       "      <td>Rheas</td>\n",
       "      <td>NaN</td>\n",
       "    </tr>\n",
       "    <tr>\n",
       "      <th>4</th>\n",
       "      <td>14</td>\n",
       "      <td>species</td>\n",
       "      <td>lesrhe2</td>\n",
       "      <td>Lesser Rhea</td>\n",
       "      <td>Rhea pennata</td>\n",
       "      <td>Rheiformes</td>\n",
       "      <td>Rheidae (Rheas)</td>\n",
       "      <td>NaN</td>\n",
       "      <td>NaN</td>\n",
       "    </tr>\n",
       "  </tbody>\n",
       "</table>\n",
       "</div>"
      ],
      "text/plain": [
       "   TAXON_ORDER CATEGORY SPECIES_CODE       PRIMARY_COM_NAME  \\\n",
       "0            1  species      ostric2         Common Ostrich   \n",
       "1            6  species      ostric3         Somali Ostrich   \n",
       "2            7    slash       y00934  Common/Somali Ostrich   \n",
       "3            8  species      grerhe1           Greater Rhea   \n",
       "4           14  species      lesrhe2            Lesser Rhea   \n",
       "\n",
       "                         SCI_NAME            ORDER1  \\\n",
       "0                Struthio camelus  Struthioniformes   \n",
       "1          Struthio molybdophanes  Struthioniformes   \n",
       "2  Struthio camelus/molybdophanes  Struthioniformes   \n",
       "3                  Rhea americana        Rheiformes   \n",
       "4                    Rhea pennata        Rheiformes   \n",
       "\n",
       "                      FAMILY SPECIES_GROUP REPORT_AS  \n",
       "0  Struthionidae (Ostriches)     Ostriches       NaN  \n",
       "1  Struthionidae (Ostriches)           NaN       NaN  \n",
       "2  Struthionidae (Ostriches)           NaN       NaN  \n",
       "3            Rheidae (Rheas)         Rheas       NaN  \n",
       "4            Rheidae (Rheas)           NaN       NaN  "
      ]
     },
     "execution_count": 1,
     "metadata": {},
     "output_type": "execute_result"
    }
   ],
   "source": [
    "                                                                                # This Python 3 environment comes with many helpful analytics libraries installed\n",
    "# It is defined by the kaggle/python Docker image: https://github.com/kaggle/docker-python\n",
    "# For example, here's several helpful packages to load\n",
    "\n",
    "import numpy as np # linear algebra\n",
    "import pandas as pd # data processing, CSV file I/O (e.g. pd.read_csv)\n",
    "import os\n",
    "import json\n",
    "import librosa\n",
    "import librosa.display\n",
    "import matplotlib.pyplot as plt\n",
    "from scipy import signal\n",
    "from scipy.io import wavfile\n",
    "#reading CSV with pandas\n",
    "Taxonomy = pd.read_csv('../input/birdclef-2022/eBird_Taxonomy_v2021.csv')\n",
    "test = pd.read_csv('../input/birdclef-2022/test.csv')\n",
    "train_metadata = pd.read_csv('../input/birdclef-2022/train_metadata.csv')\n",
    "submission = pd.read_csv('../input/birdclef-2022/sample_submission.csv')\n",
    "from os import path\n",
    "from pydub import AudioSegment\n",
    "import seaborn as sns\n",
    "from scipy.io.wavfile import read\n",
    "from statsmodels.graphics.tsaplots import plot_acf\n",
    "from scipy import signal\n",
    "from scipy.io import wavfile\n",
    "\n",
    "\n",
    "#transform into dataframe\n",
    "df_taxonomy = pd.DataFrame(Taxonomy)\n",
    "\n",
    "df_test = pd.DataFrame(test)\n",
    "\n",
    "df_train = pd.DataFrame(train_metadata)\n",
    "\n",
    "df_submission = pd.DataFrame(submission)\n",
    "\n",
    "df_taxonomy.head()\n",
    "\n",
    "\n",
    "\n",
    "\n",
    "\n",
    "\n",
    "\n"
   ]
  },
  {
   "cell_type": "markdown",
   "id": "ed713d48",
   "metadata": {
    "papermill": {
     "duration": 0.066663,
     "end_time": "2022-05-06T19:58:58.539598",
     "exception": false,
     "start_time": "2022-05-06T19:58:58.472935",
     "status": "completed"
    },
    "tags": []
   },
   "source": []
  },
  {
   "cell_type": "code",
   "execution_count": 2,
   "id": "bc4b6300",
   "metadata": {
    "execution": {
     "iopub.execute_input": "2022-05-06T19:58:58.679901Z",
     "iopub.status.busy": "2022-05-06T19:58:58.678813Z",
     "iopub.status.idle": "2022-05-06T19:58:58.687465Z",
     "shell.execute_reply": "2022-05-06T19:58:58.688175Z",
     "shell.execute_reply.started": "2022-05-06T19:22:49.214385Z"
    },
    "papermill": {
     "duration": 0.082072,
     "end_time": "2022-05-06T19:58:58.688396",
     "exception": false,
     "start_time": "2022-05-06T19:58:58.606324",
     "status": "completed"
    },
    "tags": []
   },
   "outputs": [],
   "source": [
    "#opening the scored bird file\n",
    "with open('../input/birdclef-2022/scored_birds.json','r') as f:\n",
    "    data = json.load(f)\n",
    "    "
   ]
  },
  {
   "cell_type": "code",
   "execution_count": 3,
   "id": "2c3d37a6",
   "metadata": {
    "execution": {
     "iopub.execute_input": "2022-05-06T19:58:58.826458Z",
     "iopub.status.busy": "2022-05-06T19:58:58.825442Z",
     "iopub.status.idle": "2022-05-06T19:59:01.593571Z",
     "shell.execute_reply": "2022-05-06T19:59:01.592909Z",
     "shell.execute_reply.started": "2022-05-06T19:22:49.226568Z"
    },
    "papermill": {
     "duration": 2.837522,
     "end_time": "2022-05-06T19:59:01.593731",
     "exception": false,
     "start_time": "2022-05-06T19:58:58.756209",
     "status": "completed"
    },
    "tags": []
   },
   "outputs": [
    {
     "name": "stderr",
     "output_type": "stream",
     "text": [
      "/opt/conda/lib/python3.7/site-packages/seaborn/_decorators.py:43: FutureWarning: Pass the following variable as a keyword arg: x. From version 0.12, the only valid positional argument will be `data`, and passing other arguments without an explicit keyword will result in an error or misinterpretation.\n",
      "  FutureWarning\n"
     ]
    },
    {
     "data": {
      "image/png": "[encoded data removed]",
      "text/plain": [
       "<Figure size 1440x432 with 1 Axes>"
      ]
     },
     "metadata": {
      "needs_background": "light"
     },
     "output_type": "display_data"
    }
   ],
   "source": [
    "#let's check the primary_label of scored birds\n",
    "index_row_scored = []\n",
    "for i in data:\n",
    "    a=i.strip('\"')\n",
    "    for j in range(len(df_train[\"primary_label\"])):\n",
    "        if df_train[\"primary_label\"][j] == a:\n",
    "            index_row_scored.append(j)\n",
    "\n",
    "label_row_scored = []\n",
    "for i in index_row_scored:\n",
    "    label_row_scored.append(df_train[\"primary_label\"][i])\n",
    "    \n",
    "\n",
    "plt.figure(figsize=(20, 6))\n",
    "sns.countplot(label_row_scored)\n",
    "plt.title(\"primary_label scored birds\", fontsize=20)\n",
    "\n",
    "plt.show()"
   ]
  },
  {
   "cell_type": "code",
   "execution_count": 4,
   "id": "97ee067c",
   "metadata": {
    "execution": {
     "iopub.execute_input": "2022-05-06T19:59:01.741563Z",
     "iopub.status.busy": "2022-05-06T19:59:01.740638Z",
     "iopub.status.idle": "2022-05-06T19:59:02.019384Z",
     "shell.execute_reply": "2022-05-06T19:59:02.018737Z",
     "shell.execute_reply.started": "2022-05-06T19:22:52.020271Z"
    },
    "papermill": {
     "duration": 0.356702,
     "end_time": "2022-05-06T19:59:02.019568",
     "exception": false,
     "start_time": "2022-05-06T19:59:01.662866",
     "status": "completed"
    },
    "tags": []
   },
   "outputs": [],
   "source": [
    "\n",
    "from os import listdir\n",
    "from os.path import isfile, join\n",
    "rated_list = []\n",
    "for i in data:\n",
    "    onlyfiles = [f for f in listdir(\"../input/birdclef-2022/train_audio/\"+i) if isfile(join(\"../input/birdclef-2022/train_audio/\"+i,f))]\n",
    "    rated_list.append(i)\n",
    "    rated_list.append(onlyfiles)\n",
    "    "
   ]
  },
  {
   "cell_type": "code",
   "execution_count": 5,
   "id": "d54cfd93",
   "metadata": {
    "execution": {
     "iopub.execute_input": "2022-05-06T19:59:02.193189Z",
     "iopub.status.busy": "2022-05-06T19:59:02.171856Z",
     "iopub.status.idle": "2022-05-06T19:59:03.956224Z",
     "shell.execute_reply": "2022-05-06T19:59:03.955702Z",
     "shell.execute_reply.started": "2022-05-06T19:22:52.613920Z"
    },
    "papermill": {
     "duration": 1.866738,
     "end_time": "2022-05-06T19:59:03.956370",
     "exception": false,
     "start_time": "2022-05-06T19:59:02.089632",
     "status": "completed"
    },
    "tags": []
   },
   "outputs": [
    {
     "name": "stderr",
     "output_type": "stream",
     "text": [
      "/opt/conda/lib/python3.7/site-packages/seaborn/_decorators.py:43: FutureWarning: Pass the following variable as a keyword arg: x. From version 0.12, the only valid positional argument will be `data`, and passing other arguments without an explicit keyword will result in an error or misinterpretation.\n",
      "  FutureWarning\n"
     ]
    },
    {
     "data": {
      "image/png": "[encoded data removed]",
      "text/plain": [
       "<Figure size 1440x432 with 1 Axes>"
      ]
     },
     "metadata": {
      "needs_background": "light"
     },
     "output_type": "display_data"
    }
   ],
   "source": [
    "#Distribution of time of each scored audio\n",
    "#Times goes from 0 to max(time_row_scored)=1414 sec.\n",
    "counter = 0\n",
    "time_row_scored = []\n",
    "for i in index_row_scored:\n",
    "    counter = counter +1\n",
    "    if df_train[\"time\"][i][0] not in [\"?\",\"x\"] and df_train[\"time\"][i][1] not in [\":\"]:\n",
    "        time = int(df_train[\"time\"][i][0])*10*60 + int(df_train[\"time\"][i][1])*60 + int(df_train[\"time\"][i][3])*10 +int(df_train[\"time\"][i][4])\n",
    "        time_row_scored.append(time)\n",
    "    elif df_train[\"time\"][i][0] not in [\"?\",\"x\"]:\n",
    "        time = int(df_train[\"time\"][i][0])*60 + int(df_train[\"time\"][i][2])*10 +int(df_train[\"time\"][i][3])\n",
    "        time_row_scored.append(time)\n",
    "        \n",
    "    \n",
    "plt.figure(figsize=(20, 6))\n",
    "sns.countplot(time_row_scored)\n",
    "plt.title(\"time scored birds, max = 1414 sec.\", fontsize=20)\n",
    "plt.tick_params(axis = 'x', which = 'both', bottom = False,top = False, labelbottom = False )\n",
    "plt.xticks(rotation=90)\n",
    "\n",
    "plt.show()"
   ]
  },
  {
   "cell_type": "code",
   "execution_count": 6,
   "id": "4de23caf",
   "metadata": {
    "execution": {
     "iopub.execute_input": "2022-05-06T19:59:04.123956Z",
     "iopub.status.busy": "2022-05-06T19:59:04.122738Z",
     "iopub.status.idle": "2022-05-06T19:59:04.208619Z",
     "shell.execute_reply": "2022-05-06T19:59:04.207947Z",
     "shell.execute_reply.started": "2022-05-06T19:22:54.545572Z"
    },
    "papermill": {
     "duration": 0.180236,
     "end_time": "2022-05-06T19:59:04.208814",
     "exception": false,
     "start_time": "2022-05-06T19:59:04.028578",
     "status": "completed"
    },
    "tags": []
   },
   "outputs": [],
   "source": [
    "#Let's calculate how many seconds of audio we have for each scored bird if possible and \n",
    "#let save it in a dictionary\n",
    "\n",
    "counter = 0\n",
    "time_row_scored = []\n",
    "for i in index_row_scored:\n",
    "    counter = counter +1\n",
    "    if df_train[\"time\"][i][0] not in [\"?\",\"x\"] and df_train[\"time\"][i][1] not in [\":\"]:\n",
    "        time = int(df_train[\"time\"][i][0])*10*60 + int(df_train[\"time\"][i][1])*60 + int(df_train[\"time\"][i][3])*10 +int(df_train[\"time\"][i][4])\n",
    "        time_row_scored.append(time)\n",
    "    elif df_train[\"time\"][i][0] not in [\"?\",\"x\"]:\n",
    "        time = int(df_train[\"time\"][i][0])*60 + int(df_train[\"time\"][i][2])*10 +int(df_train[\"time\"][i][3])\n",
    "        time_row_scored.append(time)\n",
    "    else:\n",
    "        time_row_scored.append(['Undefined'])\n",
    "\n",
    "\n",
    "    "
   ]
  },
  {
   "cell_type": "code",
   "execution_count": 7,
   "id": "34a5002c",
   "metadata": {
    "execution": {
     "iopub.execute_input": "2022-05-06T19:59:04.392250Z",
     "iopub.status.busy": "2022-05-06T19:59:04.391222Z",
     "iopub.status.idle": "2022-05-06T19:59:04.394035Z",
     "shell.execute_reply": "2022-05-06T19:59:04.394783Z",
     "shell.execute_reply.started": "2022-05-06T19:22:54.618632Z"
    },
    "papermill": {
     "duration": 0.113697,
     "end_time": "2022-05-06T19:59:04.395041",
     "exception": false,
     "start_time": "2022-05-06T19:59:04.281344",
     "status": "completed"
    },
    "tags": []
   },
   "outputs": [],
   "source": [
    "from collections import defaultdict\n",
    "label_row_scored.sort()\n",
    "outputlist = defaultdict(list)\n",
    "for A, B in zip(label_row_scored, time_row_scored):\n",
    "    outputlist[A].append(B)\n",
    "time_scored_sum = []\n",
    "for i in data:\n",
    "    try:\n",
    "        suma = sum(outputlist[i])\n",
    "        time_scored_sum.append(suma)\n",
    "    except:\n",
    "        time_scored_sum.append([\"?\"])"
   ]
  },
  {
   "cell_type": "code",
   "execution_count": 8,
   "id": "97397c4f",
   "metadata": {
    "execution": {
     "iopub.execute_input": "2022-05-06T19:59:04.566183Z",
     "iopub.status.busy": "2022-05-06T19:59:04.565518Z",
     "iopub.status.idle": "2022-05-06T19:59:04.573310Z",
     "shell.execute_reply": "2022-05-06T19:59:04.572805Z",
     "shell.execute_reply.started": "2022-05-06T19:22:54.629053Z"
    },
    "papermill": {
     "duration": 0.082911,
     "end_time": "2022-05-06T19:59:04.573469",
     "exception": false,
     "start_time": "2022-05-06T19:59:04.490558",
     "status": "completed"
    },
    "tags": []
   },
   "outputs": [],
   "source": [
    "dict_species_time = dict(zip(data,time_scored_sum))"
   ]
  },
  {
   "cell_type": "code",
   "execution_count": 9,
   "id": "da027caf",
   "metadata": {
    "execution": {
     "iopub.execute_input": "2022-05-06T19:59:04.727738Z",
     "iopub.status.busy": "2022-05-06T19:59:04.727006Z",
     "iopub.status.idle": "2022-05-06T19:59:04.731604Z",
     "shell.execute_reply": "2022-05-06T19:59:04.730943Z",
     "shell.execute_reply.started": "2022-05-06T19:22:54.647448Z"
    },
    "papermill": {
     "duration": 0.084411,
     "end_time": "2022-05-06T19:59:04.731760",
     "exception": false,
     "start_time": "2022-05-06T19:59:04.647349",
     "status": "completed"
    },
    "tags": []
   },
   "outputs": [
    {
     "data": {
      "text/plain": [
       "{'akiapo': 11671,\n",
       " 'aniani': 8360,\n",
       " 'apapan': 29820,\n",
       " 'barpet': 18374,\n",
       " 'crehon': 1157,\n",
       " 'elepai': 9790,\n",
       " 'ercfra': 2966,\n",
       " 'hawama': 15575,\n",
       " 'hawcre': 15832,\n",
       " 'hawgoo': 7040,\n",
       " 'hawhaw': 2373,\n",
       " 'hawpet1': 3704,\n",
       " 'houfin': ['?'],\n",
       " 'iiwi': 23748,\n",
       " 'jabwar': ['?'],\n",
       " 'maupar': 738,\n",
       " 'omao': 11694,\n",
       " 'puaioh': 2010,\n",
       " 'skylar': ['?'],\n",
       " 'warwhe1': ['?'],\n",
       " 'yefcan': ['?']}"
      ]
     },
     "execution_count": 9,
     "metadata": {},
     "output_type": "execute_result"
    }
   ],
   "source": [
    "dict_species_time"
   ]
  },
  {
   "cell_type": "code",
   "execution_count": 10,
   "id": "19e8c6da",
   "metadata": {
    "execution": {
     "iopub.execute_input": "2022-05-06T19:59:04.890885Z",
     "iopub.status.busy": "2022-05-06T19:59:04.890155Z",
     "iopub.status.idle": "2022-05-06T19:59:06.685303Z",
     "shell.execute_reply": "2022-05-06T19:59:06.685854Z",
     "shell.execute_reply.started": "2022-05-06T19:22:54.666883Z"
    },
    "papermill": {
     "duration": 1.884062,
     "end_time": "2022-05-06T19:59:06.686056",
     "exception": false,
     "start_time": "2022-05-06T19:59:04.801994",
     "status": "completed"
    },
    "tags": []
   },
   "outputs": [
    {
     "name": "stderr",
     "output_type": "stream",
     "text": [
      "/opt/conda/lib/python3.7/site-packages/seaborn/_decorators.py:43: FutureWarning: Pass the following variable as a keyword arg: x. From version 0.12, the only valid positional argument will be `data`, and passing other arguments without an explicit keyword will result in an error or misinterpretation.\n",
      "  FutureWarning\n"
     ]
    },
    {
     "data": {
      "image/png": "[encoded data removed]",
      "text/plain": [
       "<Figure size 1440x432 with 1 Axes>"
      ]
     },
     "metadata": {
      "needs_background": "light"
     },
     "output_type": "display_data"
    }
   ],
   "source": [
    "#we can try to find how many audios we have of each scored species and check the rating of\n",
    "# them, for crehon for example, there are only 2 audios and with low quality.\n",
    "scoredbird_rating = []\n",
    "for i in index_row_scored:\n",
    "    try:\n",
    "        scoredbird_rating.append(str(df_train['primary_label'][i])+ \" \" +str(df_train['rating'][i]))\n",
    "    except:\n",
    "        print('error')\n",
    "scoredbird_rating\n",
    "plt.figure(figsize=(20, 6))\n",
    "sns.countplot(scoredbird_rating)\n",
    "plt.xticks(rotation=90)\n",
    "plt.title(\"rating of scored birds\", fontsize=20)\n",
    "\n",
    "plt.show()\n"
   ]
  },
  {
   "cell_type": "code",
   "execution_count": null,
   "id": "2ef2de37",
   "metadata": {
    "execution": {
     "iopub.execute_input": "2022-05-06T19:22:57.001743Z",
     "iopub.status.busy": "2022-05-06T19:22:57.001415Z",
     "iopub.status.idle": "2022-05-06T19:22:57.007030Z",
     "shell.execute_reply": "2022-05-06T19:22:57.006075Z",
     "shell.execute_reply.started": "2022-05-06T19:22:57.001714Z"
    },
    "papermill": {
     "duration": 0.071666,
     "end_time": "2022-05-06T19:59:06.830754",
     "exception": false,
     "start_time": "2022-05-06T19:59:06.759088",
     "status": "completed"
    },
    "tags": []
   },
   "outputs": [],
   "source": []
  },
  {
   "cell_type": "code",
   "execution_count": 11,
   "id": "fad8d621",
   "metadata": {
    "execution": {
     "iopub.execute_input": "2022-05-06T19:59:06.983795Z",
     "iopub.status.busy": "2022-05-06T19:59:06.982663Z",
     "iopub.status.idle": "2022-05-06T19:59:06.984653Z",
     "shell.execute_reply": "2022-05-06T19:59:06.985160Z",
     "shell.execute_reply.started": "2022-05-06T19:22:57.008564Z"
    },
    "papermill": {
     "duration": 0.082097,
     "end_time": "2022-05-06T19:59:06.985339",
     "exception": false,
     "start_time": "2022-05-06T19:59:06.903242",
     "status": "completed"
    },
    "tags": []
   },
   "outputs": [],
   "source": [
    "#the list with the indexes like line [80] is\n",
    "\n",
    "indexes = [10,17,30,78,88,97,105,111,138,152,160,163,175,501,525,603,611,625,629,1129,1205]"
   ]
  },
  {
   "cell_type": "code",
   "execution_count": 12,
   "id": "0b91bd80",
   "metadata": {
    "execution": {
     "iopub.execute_input": "2022-05-06T19:59:07.133464Z",
     "iopub.status.busy": "2022-05-06T19:59:07.132391Z",
     "iopub.status.idle": "2022-05-06T19:59:07.136322Z",
     "shell.execute_reply": "2022-05-06T19:59:07.136822Z",
     "shell.execute_reply.started": "2022-05-06T19:22:57.020933Z"
    },
    "papermill": {
     "duration": 0.079036,
     "end_time": "2022-05-06T19:59:07.137004",
     "exception": false,
     "start_time": "2022-05-06T19:59:07.057968",
     "status": "completed"
    },
    "tags": []
   },
   "outputs": [],
   "source": [
    "#let's get our data from the dataframe\n",
    "indexes_high_rate = []\n",
    "for i in indexes:\n",
    "    indexes_high_rate.append(index_row_scored[i])\n",
    "\n",
    "    \n",
    "    "
   ]
  },
  {
   "cell_type": "code",
   "execution_count": 13,
   "id": "c827362c",
   "metadata": {
    "execution": {
     "iopub.execute_input": "2022-05-06T19:59:07.286842Z",
     "iopub.status.busy": "2022-05-06T19:59:07.280819Z",
     "iopub.status.idle": "2022-05-06T19:59:41.944351Z",
     "shell.execute_reply": "2022-05-06T19:59:41.943542Z",
     "shell.execute_reply.started": "2022-05-06T19:22:57.043761Z"
    },
    "papermill": {
     "duration": 34.737171,
     "end_time": "2022-05-06T19:59:41.944674",
     "exception": false,
     "start_time": "2022-05-06T19:59:07.207503",
     "status": "completed"
    },
    "tags": []
   },
   "outputs": [
    {
     "name": "stdout",
     "output_type": "stream",
     "text": [
      "[[ 17260  58119]\n",
      " [-60749 -29850]\n",
      " [-36259 -11703]\n",
      " ...\n",
      " [  3738  -1281]\n",
      " [ -8997 -17722]\n",
      " [ -4334 -12304]]\n"
     ]
    },
    {
     "data": {
      "image/png": "[encoded data removed]",
      "text/plain": [
       "<Figure size 540x252 with 1 Axes>"
      ]
     },
     "metadata": {
      "needs_background": "light"
     },
     "output_type": "display_data"
    },
    {
     "name": "stdout",
     "output_type": "stream",
     "text": [
      "[[   927   9941]\n",
      " [-12454 -15278]\n",
      " [ 10030 -10508]\n",
      " ...\n",
      " [ -7186   9405]\n",
      " [-17542    569]\n",
      " [ -5080  17592]]\n"
     ]
    },
    {
     "data": {
      "image/png": "[encoded data removed]",
      "text/plain": [
       "<Figure size 540x252 with 1 Axes>"
      ]
     },
     "metadata": {
      "needs_background": "light"
     },
     "output_type": "display_data"
    },
    {
     "name": "stdout",
     "output_type": "stream",
     "text": [
      "[ -1819   3848 -18640 ... -62915 275534 140544]\n"
     ]
    },
    {
     "data": {
      "image/png": "[encoded data removed]",
      "text/plain": [
       "<Figure size 540x252 with 1 Axes>"
      ]
     },
     "metadata": {
      "needs_background": "light"
     },
     "output_type": "display_data"
    },
    {
     "name": "stdout",
     "output_type": "stream",
     "text": [
      "[  -16910   -62685      506 ... 13727468  9767640  7493745]\n"
     ]
    },
    {
     "data": {
      "image/png": "[encoded data removed]",
      "text/plain": [
       "<Figure size 540x252 with 1 Axes>"
      ]
     },
     "metadata": {
      "needs_background": "light"
     },
     "output_type": "display_data"
    },
    {
     "name": "stdout",
     "output_type": "stream",
     "text": [
      "[[  -28242   -62231]\n",
      " [  -17075   -46525]\n",
      " [  -17517   -55595]\n",
      " ...\n",
      " [  -30218   482833]\n",
      " [-1587246 -1303263]\n",
      " [   82822  -854425]]\n"
     ]
    },
    {
     "data": {
      "image/png": "[encoded data removed]",
      "text/plain": [
       "<Figure size 540x252 with 1 Axes>"
      ]
     },
     "metadata": {
      "needs_background": "light"
     },
     "output_type": "display_data"
    },
    {
     "name": "stdout",
     "output_type": "stream",
     "text": [
      "[-5854 -2758 59505 ... -6493  5115   748]\n"
     ]
    },
    {
     "data": {
      "image/png": "[encoded data removed]",
      "text/plain": [
       "<Figure size 540x252 with 1 Axes>"
      ]
     },
     "metadata": {
      "needs_background": "light"
     },
     "output_type": "display_data"
    },
    {
     "name": "stdout",
     "output_type": "stream",
     "text": [
      "[[-36888  20135]\n",
      " [  5908  34487]\n",
      " [ 88668  86230]\n",
      " ...\n",
      " [  5860   9642]\n",
      " [  -939  -5628]\n",
      " [  -642  -3142]]\n"
     ]
    },
    {
     "data": {
      "image/png": "[encoded data removed]",
      "text/plain": [
       "<Figure size 540x252 with 1 Axes>"
      ]
     },
     "metadata": {
      "needs_background": "light"
     },
     "output_type": "display_data"
    },
    {
     "name": "stdout",
     "output_type": "stream",
     "text": [
      "[ -3120  20545  -3630 ...   1816   9858 -13796]\n"
     ]
    },
    {
     "data": {
      "image/png": "[encoded data removed]",
      "text/plain": [
       "<Figure size 540x252 with 1 Axes>"
      ]
     },
     "metadata": {
      "needs_background": "light"
     },
     "output_type": "display_data"
    },
    {
     "name": "stdout",
     "output_type": "stream",
     "text": [
      "[[-46051 -27246]\n",
      " [ 14780  13572]\n",
      " [ -1965 -15538]\n",
      " ...\n",
      " [   308    135]\n",
      " [   -76    797]\n",
      " [  -123   1205]]\n"
     ]
    },
    {
     "data": {
      "image/png": "[encoded data removed]",
      "text/plain": [
       "<Figure size 540x252 with 1 Axes>"
      ]
     },
     "metadata": {
      "needs_background": "light"
     },
     "output_type": "display_data"
    },
    {
     "name": "stdout",
     "output_type": "stream",
     "text": [
      "[[   9013    4313]\n",
      " [   5013   -9482]\n",
      " [  -1363  -27967]\n",
      " ...\n",
      " [2826039  825901]\n",
      " [3429432 1576045]\n",
      " [1403199 -399445]]\n"
     ]
    },
    {
     "data": {
      "image/png": "[encoded data removed]",
      "text/plain": [
       "<Figure size 540x252 with 1 Axes>"
      ]
     },
     "metadata": {
      "needs_background": "light"
     },
     "output_type": "display_data"
    },
    {
     "name": "stdout",
     "output_type": "stream",
     "text": [
      "[[ 30256  48111]\n",
      " [-22352 -35788]\n",
      " [ -2534   -317]\n",
      " ...\n",
      " [  5456   9414]\n",
      " [  5102  32849]\n",
      " [ 10403  30032]]\n"
     ]
    },
    {
     "data": {
      "image/png": "[encoded data removed]",
      "text/plain": [
       "<Figure size 540x252 with 1 Axes>"
      ]
     },
     "metadata": {
      "needs_background": "light"
     },
     "output_type": "display_data"
    },
    {
     "name": "stdout",
     "output_type": "stream",
     "text": [
      "[-77143  -5196 -55581 ...  -1483   -996   -372]\n"
     ]
    },
    {
     "data": {
      "image/png": "[encoded data removed]",
      "text/plain": [
       "<Figure size 540x252 with 1 Axes>"
      ]
     },
     "metadata": {
      "needs_background": "light"
     },
     "output_type": "display_data"
    },
    {
     "name": "stdout",
     "output_type": "stream",
     "text": [
      "[[ 21564  62117]\n",
      " [  9933  47225]\n",
      " [-19661   2720]\n",
      " ...\n",
      " [  9767  21818]\n",
      " [ -8778   4490]\n",
      " [  -674  15847]]\n"
     ]
    },
    {
     "data": {
      "image/png": "[encoded data removed]",
      "text/plain": [
       "<Figure size 540x252 with 1 Axes>"
      ]
     },
     "metadata": {
      "needs_background": "light"
     },
     "output_type": "display_data"
    },
    {
     "name": "stdout",
     "output_type": "stream",
     "text": [
      "[ 49582   4498 -34531 ...      1     -1      0]\n"
     ]
    },
    {
     "data": {
      "image/png": "[encoded data removed]",
      "text/plain": [
       "<Figure size 540x252 with 1 Axes>"
      ]
     },
     "metadata": {
      "needs_background": "light"
     },
     "output_type": "display_data"
    },
    {
     "name": "stdout",
     "output_type": "stream",
     "text": [
      "[[  1083 -16321]\n",
      " [-23526 -68767]\n",
      " [ 29227  -9179]\n",
      " ...\n",
      " [     2      1]\n",
      " [     0     -1]\n",
      " [     0      0]]\n"
     ]
    },
    {
     "data": {
      "image/png": "[encoded data removed]",
      "text/plain": [
       "<Figure size 540x252 with 1 Axes>"
      ]
     },
     "metadata": {
      "needs_background": "light"
     },
     "output_type": "display_data"
    },
    {
     "name": "stdout",
     "output_type": "stream",
     "text": [
      "[[ 72769  63875]\n",
      " [  2107   5879]\n",
      " [-12801  -2098]\n",
      " ...\n",
      " [-33766 -13556]\n",
      " [ -9364  -2932]\n",
      " [ 12862  -3401]]\n"
     ]
    },
    {
     "data": {
      "image/png": "[encoded data removed]",
      "text/plain": [
       "<Figure size 540x252 with 1 Axes>"
      ]
     },
     "metadata": {
      "needs_background": "light"
     },
     "output_type": "display_data"
    },
    {
     "name": "stdout",
     "output_type": "stream",
     "text": [
      "[-5848  2790 -8053 ...   529   194  -928]\n"
     ]
    },
    {
     "data": {
      "image/png": "[encoded data removed]",
      "text/plain": [
       "<Figure size 540x252 with 1 Axes>"
      ]
     },
     "metadata": {
      "needs_background": "light"
     },
     "output_type": "display_data"
    },
    {
     "name": "stdout",
     "output_type": "stream",
     "text": [
      "[-59009 -10108  -2232 ...  32570  40716  13963]\n"
     ]
    },
    {
     "data": {
      "image/png": "[encoded data removed]",
      "text/plain": [
       "<Figure size 540x252 with 1 Axes>"
      ]
     },
     "metadata": {
      "needs_background": "light"
     },
     "output_type": "display_data"
    },
    {
     "name": "stdout",
     "output_type": "stream",
     "text": [
      "[-6839   613 -6308 ... -2638  2821  2334]\n"
     ]
    },
    {
     "data": {
      "image/png": "[encoded data removed]",
      "text/plain": [
       "<Figure size 540x252 with 1 Axes>"
      ]
     },
     "metadata": {
      "needs_background": "light"
     },
     "output_type": "display_data"
    },
    {
     "name": "stdout",
     "output_type": "stream",
     "text": [
      "[-16663  70792   7037 ...  -8642  -1834   7962]\n"
     ]
    },
    {
     "data": {
      "image/png": "[encoded data removed]",
      "text/plain": [
       "<Figure size 540x252 with 1 Axes>"
      ]
     },
     "metadata": {
      "needs_background": "light"
     },
     "output_type": "display_data"
    },
    {
     "name": "stdout",
     "output_type": "stream",
     "text": [
      "[[  19399   36068]\n",
      " [  26892   50328]\n",
      " [ -63071  -68410]\n",
      " ...\n",
      " [-276434 1853790]\n",
      " [-279332 1409572]\n",
      " [ 207900 1369016]]\n"
     ]
    },
    {
     "data": {
      "image/png": "[encoded data removed]",
      "text/plain": [
       "<Figure size 540x252 with 1 Axes>"
      ]
     },
     "metadata": {
      "needs_background": "light"
     },
     "output_type": "display_data"
    }
   ],
   "source": [
    "#Let's loop our first code with the random audio but for our list of rated birds\n",
    "for i in indexes_high_rate:\n",
    "    src = \"../input/birdclef-2022/train_audio/\" + str(df_train['filename'][i])\n",
    "    dst = \"/kaggle/working/\" + str(df_train['primary_label'][i]) + \".wav\"\n",
    "\n",
    "# convert ogg to wav\n",
    "    sound = AudioSegment.from_ogg(src)\n",
    "    sound.export(dst, format=\"wav\")\n",
    "    \n",
    "    plt.rcParams[\"figure.figsize\"] = [7.50, 3.50]\n",
    "    plt.rcParams[\"figure.autolayout\"] = True\n",
    "    input_data = read(dst)\n",
    "    audio = input_data[1]\n",
    "    print(audio)\n",
    "    plt.plot(audio)\n",
    "    plt.ylabel(\"Amplitude\"+' ' +str(df_train['primary_label'][i]) + ' ' + str(df_train['rating'][i]))\n",
    "    plt.xlabel(\"Time\")\n",
    "    plt.show()\n"
   ]
  },
  {
   "cell_type": "code",
   "execution_count": 14,
   "id": "3387e8d6",
   "metadata": {
    "execution": {
     "iopub.execute_input": "2022-05-06T19:59:42.160269Z",
     "iopub.status.busy": "2022-05-06T19:59:42.159547Z",
     "iopub.status.idle": "2022-05-06T19:59:42.165587Z",
     "shell.execute_reply": "2022-05-06T19:59:42.166164Z",
     "shell.execute_reply.started": "2022-05-06T19:23:26.840055Z"
    },
    "papermill": {
     "duration": 0.116822,
     "end_time": "2022-05-06T19:59:42.166376",
     "exception": false,
     "start_time": "2022-05-06T19:59:42.049554",
     "status": "completed"
    },
    "tags": []
   },
   "outputs": [],
   "source": [
    "#Let's do the same for all the audios\n",
    "def features_extractor(file):\n",
    "    #load the file (audio)\n",
    "    audio, sample_rate = librosa.load(file_name, res_type='kaiser_fast') \n",
    "    #we extract mfcc\n",
    "    mfccs_features = librosa.feature.mfcc(y=audio, sr=sample_rate, n_mfcc=40)\n",
    "    #in order to find out scaled feature we do mean of transpose of value\n",
    "    mfccs_scaled_features = np.mean(mfccs_features.T,axis=0)\n",
    "    return mfccs_scaled_features\n"
   ]
  },
  {
   "cell_type": "code",
   "execution_count": 15,
   "id": "26d83b8a",
   "metadata": {
    "execution": {
     "iopub.execute_input": "2022-05-06T19:59:42.378039Z",
     "iopub.status.busy": "2022-05-06T19:59:42.377336Z",
     "iopub.status.idle": "2022-05-06T19:59:59.658472Z",
     "shell.execute_reply": "2022-05-06T19:59:59.657884Z",
     "shell.execute_reply.started": "2022-05-06T19:56:08.984445Z"
    },
    "papermill": {
     "duration": 17.388792,
     "end_time": "2022-05-06T19:59:59.658638",
     "exception": false,
     "start_time": "2022-05-06T19:59:42.269846",
     "status": "completed"
    },
    "tags": []
   },
   "outputs": [],
   "source": [
    "#We will use a dataframe with the scored birds just to see that everything works fine \n",
    "#without spending so much time\n",
    "df_scored = df_train.copy()\n",
    "for i in df_train.index:\n",
    "    #if df_train['rating'][i]<2.5:\n",
    "        #df_train.drop([i],axis = 0, inplace = True)\n",
    "    if i not in index_row_scored:\n",
    "        df_scored.drop([i],axis = 0, inplace = True)"
   ]
  },
  {
   "cell_type": "code",
   "execution_count": 16,
   "id": "8a80c15c",
   "metadata": {
    "execution": {
     "iopub.execute_input": "2022-05-06T19:59:59.870043Z",
     "iopub.status.busy": "2022-05-06T19:59:59.869325Z",
     "iopub.status.idle": "2022-05-06T20:13:34.269208Z",
     "shell.execute_reply": "2022-05-06T20:13:34.271842Z",
     "shell.execute_reply.started": "2022-05-06T19:23:47.911061Z"
    },
    "papermill": {
     "duration": 814.509241,
     "end_time": "2022-05-06T20:13:34.272474",
     "exception": false,
     "start_time": "2022-05-06T19:59:59.763233",
     "status": "completed"
    },
    "tags": []
   },
   "outputs": [
    {
     "name": "stderr",
     "output_type": "stream",
     "text": [
      "1266it [13:34,  1.55it/s]\n"
     ]
    }
   ],
   "source": [
    "#We will use a method that stract features from the audios\n",
    "from tqdm import tqdm\n",
    "# Now we iterate through every audio file and extract features \n",
    "# using Mel-Frequency Cepstral Coefficients\n",
    "extracted_features=[]\n",
    "for index_num,row in tqdm(df_scored.iterrows()):\n",
    "    file_name = os.path.join(os.path.abspath(\"../input/birdclef-2022/train_audio/\"),str(row[\"filename\"]))\n",
    "    final_class_labels=row[\"primary_label\"]\n",
    "    data=features_extractor(file_name)\n",
    "    extracted_features.append([data,final_class_labels])"
   ]
  },
  {
   "cell_type": "code",
   "execution_count": 17,
   "id": "344a0ec8",
   "metadata": {
    "execution": {
     "iopub.execute_input": "2022-05-06T20:13:35.477045Z",
     "iopub.status.busy": "2022-05-06T20:13:35.475941Z",
     "iopub.status.idle": "2022-05-06T20:13:35.491164Z",
     "shell.execute_reply": "2022-05-06T20:13:35.491993Z",
     "shell.execute_reply.started": "2022-05-06T19:37:43.787884Z"
    },
    "papermill": {
     "duration": 0.621262,
     "end_time": "2022-05-06T20:13:35.492266",
     "exception": false,
     "start_time": "2022-05-06T20:13:34.871004",
     "status": "completed"
    },
    "tags": []
   },
   "outputs": [
    {
     "data": {
      "text/html": [
       "<div>\n",
       "<style scoped>\n",
       "    .dataframe tbody tr th:only-of-type {\n",
       "        vertical-align: middle;\n",
       "    }\n",
       "\n",
       "    .dataframe tbody tr th {\n",
       "        vertical-align: top;\n",
       "    }\n",
       "\n",
       "    .dataframe thead th {\n",
       "        text-align: right;\n",
       "    }\n",
       "</style>\n",
       "<table border=\"1\" class=\"dataframe\">\n",
       "  <thead>\n",
       "    <tr style=\"text-align: right;\">\n",
       "      <th></th>\n",
       "      <th>feature</th>\n",
       "      <th>primary_label</th>\n",
       "    </tr>\n",
       "  </thead>\n",
       "  <tbody>\n",
       "    <tr>\n",
       "      <th>0</th>\n",
       "      <td>[-472.28574, 60.7976, -25.217098, 57.126324, 1...</td>\n",
       "      <td>akiapo</td>\n",
       "    </tr>\n",
       "    <tr>\n",
       "      <th>1</th>\n",
       "      <td>[-446.27298, 55.930138, -19.547518, 57.774445,...</td>\n",
       "      <td>akiapo</td>\n",
       "    </tr>\n",
       "    <tr>\n",
       "      <th>2</th>\n",
       "      <td>[-266.47318, 75.57892, -7.943713, 50.27808, -4...</td>\n",
       "      <td>akiapo</td>\n",
       "    </tr>\n",
       "    <tr>\n",
       "      <th>3</th>\n",
       "      <td>[-404.56955, 26.65804, -27.88428, 29.090647, -...</td>\n",
       "      <td>akiapo</td>\n",
       "    </tr>\n",
       "    <tr>\n",
       "      <th>4</th>\n",
       "      <td>[-381.15158, 27.375917, -63.842342, 60.094864,...</td>\n",
       "      <td>akiapo</td>\n",
       "    </tr>\n",
       "  </tbody>\n",
       "</table>\n",
       "</div>"
      ],
      "text/plain": [
       "                                             feature primary_label\n",
       "0  [-472.28574, 60.7976, -25.217098, 57.126324, 1...        akiapo\n",
       "1  [-446.27298, 55.930138, -19.547518, 57.774445,...        akiapo\n",
       "2  [-266.47318, 75.57892, -7.943713, 50.27808, -4...        akiapo\n",
       "3  [-404.56955, 26.65804, -27.88428, 29.090647, -...        akiapo\n",
       "4  [-381.15158, 27.375917, -63.842342, 60.094864,...        akiapo"
      ]
     },
     "execution_count": 17,
     "metadata": {},
     "output_type": "execute_result"
    }
   ],
   "source": [
    "extracted_features_df=pd.DataFrame(extracted_features,columns=['feature','primary_label'])\n",
    "extracted_features_df.head()"
   ]
  },
  {
   "cell_type": "code",
   "execution_count": 18,
   "id": "8f8ffc35",
   "metadata": {
    "execution": {
     "iopub.execute_input": "2022-05-06T20:13:36.631756Z",
     "iopub.status.busy": "2022-05-06T20:13:36.630934Z",
     "iopub.status.idle": "2022-05-06T20:13:43.497878Z",
     "shell.execute_reply": "2022-05-06T20:13:43.498510Z",
     "shell.execute_reply.started": "2022-05-06T19:37:43.829872Z"
    },
    "papermill": {
     "duration": 7.431869,
     "end_time": "2022-05-06T20:13:43.498740",
     "exception": false,
     "start_time": "2022-05-06T20:13:36.066871",
     "status": "completed"
    },
    "tags": []
   },
   "outputs": [],
   "source": [
    "#Now we split the data into train and test\n",
    "from imblearn.over_sampling import RandomOverSampler #we improved accuracy with this!\n",
    "oversample = RandomOverSampler(sampling_strategy='minority')\n",
    "# Split the dataset into independent and dependent dataset\n",
    "X=np.array(extracted_features_df['feature'].tolist())\n",
    "y=np.array(extracted_features_df['primary_label'].tolist())\n",
    "# Label Encoding -> Label Encoder\n",
    "from tensorflow.keras.utils import to_categorical\n",
    "from sklearn.preprocessing import LabelEncoder\n",
    "labelencoder=LabelEncoder()\n",
    "y=to_categorical(labelencoder.fit_transform(y))\n",
    "### Train Test Split\n",
    "from sklearn.model_selection import train_test_split\n",
    "#X,y = oversample.fit_resample(X, y)\n",
    "X_train,X_test,y_train,y_test=train_test_split(X,y,test_size=0.02)"
   ]
  },
  {
   "cell_type": "code",
   "execution_count": 19,
   "id": "12bf3e47",
   "metadata": {
    "execution": {
     "iopub.execute_input": "2022-05-06T20:13:44.672339Z",
     "iopub.status.busy": "2022-05-06T20:13:44.671263Z",
     "iopub.status.idle": "2022-05-06T20:13:57.316562Z",
     "shell.execute_reply": "2022-05-06T20:13:57.316019Z",
     "shell.execute_reply.started": "2022-05-06T19:37:51.859888Z"
    },
    "papermill": {
     "duration": 13.232575,
     "end_time": "2022-05-06T20:13:57.316721",
     "exception": false,
     "start_time": "2022-05-06T20:13:44.084146",
     "status": "completed"
    },
    "tags": []
   },
   "outputs": [
    {
     "name": "stdout",
     "output_type": "stream",
     "text": [
      "              precision    recall  f1-score   support\n",
      "\n",
      "           0       0.00      0.00      0.00         0\n",
      "           1       0.00      0.00      0.00         0\n",
      "           2       0.00      0.00      0.00         2\n",
      "           3       0.00      0.00      0.00         0\n",
      "           4       0.00      0.00      0.00         0\n",
      "           5       0.00      0.00      0.00         0\n",
      "           6       0.00      0.00      0.00         0\n",
      "           7       0.00      0.00      0.00         0\n",
      "           8       0.00      0.00      0.00         0\n",
      "           9       0.00      0.00      0.00         0\n",
      "          10       0.00      0.00      0.00         1\n",
      "          11       0.00      0.00      0.00         0\n",
      "          12       1.00      0.29      0.44         7\n",
      "          13       0.00      0.00      0.00         1\n",
      "          14       0.00      0.00      0.00         2\n",
      "          15       0.00      0.00      0.00         0\n",
      "          16       0.00      0.00      0.00         0\n",
      "          17       0.00      0.00      0.00         0\n",
      "          18       0.71      0.56      0.63         9\n",
      "          19       0.00      0.00      0.00         2\n",
      "          20       0.00      0.00      0.00         2\n",
      "\n",
      "   micro avg       0.78      0.27      0.40        26\n",
      "   macro avg       0.08      0.04      0.05        26\n",
      "weighted avg       0.52      0.27      0.34        26\n",
      " samples avg       0.27      0.27      0.27        26\n",
      "\n"
     ]
    },
    {
     "name": "stderr",
     "output_type": "stream",
     "text": [
      "/opt/conda/lib/python3.7/site-packages/sklearn/metrics/_classification.py:1308: UndefinedMetricWarning: Precision and F-score are ill-defined and being set to 0.0 in labels with no predicted samples. Use `zero_division` parameter to control this behavior.\n",
      "  _warn_prf(average, modifier, msg_start, len(result))\n",
      "/opt/conda/lib/python3.7/site-packages/sklearn/metrics/_classification.py:1308: UndefinedMetricWarning: Recall and F-score are ill-defined and being set to 0.0 in labels with no true samples. Use `zero_division` parameter to control this behavior.\n",
      "  _warn_prf(average, modifier, msg_start, len(result))\n",
      "/opt/conda/lib/python3.7/site-packages/sklearn/metrics/_classification.py:1308: UndefinedMetricWarning: Precision and F-score are ill-defined and being set to 0.0 in samples with no predicted labels. Use `zero_division` parameter to control this behavior.\n",
      "  _warn_prf(average, modifier, msg_start, len(result))\n"
     ]
    }
   ],
   "source": [
    "from sklearn.metrics import classification_report\n",
    "from sklearn.ensemble import RandomForestClassifier\n",
    "trainedforest = RandomForestClassifier(n_estimators = 700).fit(X_train, y_train)\n",
    "predictionforest = trainedforest.predict(X_test)\n",
    "print(classification_report(y_test,predictionforest))"
   ]
  },
  {
   "cell_type": "markdown",
   "id": "c831689b",
   "metadata": {
    "papermill": {
     "duration": 0.552786,
     "end_time": "2022-05-06T20:13:58.419376",
     "exception": false,
     "start_time": "2022-05-06T20:13:57.866590",
     "status": "completed"
    },
    "tags": []
   },
   "source": []
  },
  {
   "cell_type": "code",
   "execution_count": 20,
   "id": "abf7f8ec",
   "metadata": {
    "execution": {
     "iopub.execute_input": "2022-05-06T20:13:59.540533Z",
     "iopub.status.busy": "2022-05-06T20:13:59.539522Z",
     "iopub.status.idle": "2022-05-06T20:13:59.576879Z",
     "shell.execute_reply": "2022-05-06T20:13:59.577384Z",
     "shell.execute_reply.started": "2022-05-06T19:38:05.211166Z"
    },
    "papermill": {
     "duration": 0.594145,
     "end_time": "2022-05-06T20:13:59.577576",
     "exception": false,
     "start_time": "2022-05-06T20:13:58.983431",
     "status": "completed"
    },
    "tags": []
   },
   "outputs": [],
   "source": [
    "X=np.array(extracted_features_df['feature'].tolist())\n",
    "X_t = []\n",
    "X__t = []\n",
    "for j in range(0,40):\n",
    "    X_t = []\n",
    "    for i in range(len(X)):\n",
    "        X_t.append(X[i][j])\n",
    "    X__t.append(X_t)\n",
    "    \n",
    "feature_names = [f\"feature {i}\" for i in range(X.shape[1])]\n"
   ]
  },
  {
   "cell_type": "code",
   "execution_count": 21,
   "id": "405cb00a",
   "metadata": {
    "execution": {
     "iopub.execute_input": "2022-05-06T20:14:00.771250Z",
     "iopub.status.busy": "2022-05-06T20:14:00.770472Z",
     "iopub.status.idle": "2022-05-06T20:14:01.345440Z",
     "shell.execute_reply": "2022-05-06T20:14:01.345997Z",
     "shell.execute_reply.started": "2022-05-06T19:47:54.355401Z"
    },
    "papermill": {
     "duration": 1.129942,
     "end_time": "2022-05-06T20:14:01.346200",
     "exception": false,
     "start_time": "2022-05-06T20:14:00.216258",
     "status": "completed"
    },
    "tags": []
   },
   "outputs": [
    {
     "data": {
      "text/plain": [
       "<AxesSubplot:>"
      ]
     },
     "execution_count": 21,
     "metadata": {},
     "output_type": "execute_result"
    },
    {
     "data": {
      "image/png": "[encoded data removed]",
      "text/plain": [
       "<Figure size 800x880 with 1 Axes>"
      ]
     },
     "metadata": {},
     "output_type": "display_data"
    }
   ],
   "source": [
    "#Feature importance\n",
    "from matplotlib.pyplot import figure\n",
    "figure(num = None, figsize=(10,11), dpi = 80, facecolor = 'w', edgecolor = 'k')\n",
    "feat_importances = pd.Series(trainedforest.feature_importances_, index = feature_names)\n",
    "feat_importances.nlargest(40).plot(kind = 'barh')"
   ]
  },
  {
   "cell_type": "code",
   "execution_count": 22,
   "id": "b572aaba",
   "metadata": {
    "execution": {
     "iopub.execute_input": "2022-05-06T20:14:02.471364Z",
     "iopub.status.busy": "2022-05-06T20:14:02.470696Z",
     "iopub.status.idle": "2022-05-06T20:14:02.831482Z",
     "shell.execute_reply": "2022-05-06T20:14:02.832152Z",
     "shell.execute_reply.started": "2022-05-06T19:38:05.261810Z"
    },
    "papermill": {
     "duration": 0.929071,
     "end_time": "2022-05-06T20:14:02.832380",
     "exception": false,
     "start_time": "2022-05-06T20:14:01.903309",
     "status": "completed"
    },
    "tags": []
   },
   "outputs": [
    {
     "data": {
      "text/plain": [
       "<AxesSubplot:>"
      ]
     },
     "execution_count": 22,
     "metadata": {},
     "output_type": "execute_result"
    },
    {
     "data": {
      "image/png": "[encoded data removed]",
      "text/plain": [
       "<Figure size 800x880 with 1 Axes>"
      ]
     },
     "metadata": {},
     "output_type": "display_data"
    }
   ],
   "source": [
    "\n",
    "\n",
    "from matplotlib.pyplot import figure\n",
    "figure(num = None, figsize=(10,11), dpi = 80, facecolor = 'w', edgecolor = 'k')\n",
    "feat_importances = pd.Series(trainedforest.feature_importances_, index = feature_names)\n",
    "feat_importances.nlargest(7).plot(kind = 'barh')"
   ]
  },
  {
   "cell_type": "code",
   "execution_count": 23,
   "id": "e198d0c5",
   "metadata": {
    "execution": {
     "iopub.execute_input": "2022-05-06T20:14:03.960235Z",
     "iopub.status.busy": "2022-05-06T20:14:03.954844Z",
     "iopub.status.idle": "2022-05-06T20:14:03.984708Z",
     "shell.execute_reply": "2022-05-06T20:14:03.985365Z",
     "shell.execute_reply.started": "2022-05-06T19:38:05.694673Z"
    },
    "papermill": {
     "duration": 0.59609,
     "end_time": "2022-05-06T20:14:03.985588",
     "exception": false,
     "start_time": "2022-05-06T20:14:03.389498",
     "status": "completed"
    },
    "tags": []
   },
   "outputs": [
    {
     "name": "stdout",
     "output_type": "stream",
     "text": [
      "[[-472.28573608   11.26227093   18.62749672 ...   -5.06986189\n",
      "    17.48283386   -1.81247914]\n",
      " [-446.27297974   -4.24799156    7.91808462 ...   -8.31196499\n",
      "    16.52576447   -3.09710312]\n",
      " [-266.47317505   -4.90197325   10.85512543 ...  -10.55334282\n",
      "    13.49816227   -9.29772758]\n",
      " ...\n",
      " [-560.30517578  -56.60279083   -2.87694883 ...   -6.43454218\n",
      "     5.96341133   -4.90424633]\n",
      " [-481.96133423  -31.65890312  -23.69248009 ...  -19.49150467\n",
      "    -8.04002953   -9.09109688]\n",
      " [-461.07327271  -65.89056396   -0.76734853 ...  -15.94899559\n",
      "    -5.16784239   -8.86606216]]\n"
     ]
    },
    {
     "data": {
      "text/plain": [
       "1266"
      ]
     },
     "execution_count": 23,
     "metadata": {},
     "output_type": "execute_result"
    }
   ],
   "source": [
    "#We select the 7 features in our data\n",
    "X_prueba = X\n",
    "X_prueb = X_prueba.tolist()\n",
    "X_pru = []\n",
    "X_pri = []\n",
    "\n",
    "for i in range(len(X)):\n",
    "    for j in range(0,40):\n",
    "        if j==6 or j==8 or j==9 or j==4 or j==0 or j==5 or j==12:\n",
    "            X_pru.append(X_prueb[i][j])\n",
    "    X_pri.append(X_pru)\n",
    "    X_pru = []\n",
    "            \n",
    "                \n",
    "X_pro = np.array([np.array(xi) for xi in X_pri])\n",
    "print(X_pro)\n",
    "len(X_pro)"
   ]
  },
  {
   "cell_type": "code",
   "execution_count": 24,
   "id": "8bfefe8e",
   "metadata": {
    "execution": {
     "iopub.execute_input": "2022-05-06T20:14:05.112153Z",
     "iopub.status.busy": "2022-05-06T20:14:05.111473Z",
     "iopub.status.idle": "2022-05-06T20:14:05.116508Z",
     "shell.execute_reply": "2022-05-06T20:14:05.117109Z",
     "shell.execute_reply.started": "2022-05-06T19:38:05.738597Z"
    },
    "papermill": {
     "duration": 0.568917,
     "end_time": "2022-05-06T20:14:05.117299",
     "exception": false,
     "start_time": "2022-05-06T20:14:04.548382",
     "status": "completed"
    },
    "tags": []
   },
   "outputs": [
    {
     "data": {
      "text/plain": [
       "(254, 7)"
      ]
     },
     "execution_count": 24,
     "metadata": {},
     "output_type": "execute_result"
    }
   ],
   "source": [
    "X_train,X_test,y_train,y_test=train_test_split(X_pro,y,test_size=0.2)\n",
    "X_train.shape\n",
    "X_test.shape"
   ]
  },
  {
   "cell_type": "code",
   "execution_count": 25,
   "id": "a9457386",
   "metadata": {
    "execution": {
     "iopub.execute_input": "2022-05-06T20:14:06.238706Z",
     "iopub.status.busy": "2022-05-06T20:14:06.237984Z",
     "iopub.status.idle": "2022-05-06T20:14:06.245955Z",
     "shell.execute_reply": "2022-05-06T20:14:06.245368Z",
     "shell.execute_reply.started": "2022-05-06T19:38:05.748609Z"
    },
    "papermill": {
     "duration": 0.570368,
     "end_time": "2022-05-06T20:14:06.246117",
     "exception": false,
     "start_time": "2022-05-06T20:14:05.675749",
     "status": "completed"
    },
    "tags": []
   },
   "outputs": [],
   "source": [
    "from tensorflow.keras.models import Sequential\n",
    "from tensorflow.keras.layers import Dense,Dropout,Activation,Flatten\n",
    "from tensorflow.keras.optimizers import Adam\n",
    "from sklearn import metrics\n",
    "# No of classes\n",
    "num_labels=y.shape[1]"
   ]
  },
  {
   "cell_type": "code",
   "execution_count": 26,
   "id": "3e8eafe8",
   "metadata": {
    "execution": {
     "iopub.execute_input": "2022-05-06T20:14:07.477212Z",
     "iopub.status.busy": "2022-05-06T20:14:07.476260Z",
     "iopub.status.idle": "2022-05-06T20:14:07.651347Z",
     "shell.execute_reply": "2022-05-06T20:14:07.651898Z",
     "shell.execute_reply.started": "2022-05-06T19:38:05.769419Z"
    },
    "papermill": {
     "duration": 0.818417,
     "end_time": "2022-05-06T20:14:07.652065",
     "exception": false,
     "start_time": "2022-05-06T20:14:06.833648",
     "status": "completed"
    },
    "tags": []
   },
   "outputs": [
    {
     "name": "stderr",
     "output_type": "stream",
     "text": [
      "2022-05-06 20:14:07.521102: I tensorflow/core/common_runtime/process_util.cc:146] Creating new thread pool with default inter op setting: 2. Tune using inter_op_parallelism_threads for best performance.\n"
     ]
    }
   ],
   "source": [
    "\n",
    "model=Sequential()\n",
    "###first layer\n",
    "model.add(Dense(100,input_shape=(7,)))\n",
    "model.add(Activation('sigmoid'))\n",
    "model.add(Dropout(0.5))\n",
    "###second layer\n",
    "model.add(Dense(200))\n",
    "model.add(Activation('sigmoid'))\n",
    "model.add(Dropout(0.5))\n",
    "###third layer\n",
    "model.add(Dense(100))\n",
    "model.add(Activation('sigmoid'))\n",
    "model.add(Dropout(0.5))\n",
    "###final layer\n",
    "model.add(Dense(num_labels))\n",
    "model.add(Activation('softmax'))"
   ]
  },
  {
   "cell_type": "code",
   "execution_count": 27,
   "id": "a7569917",
   "metadata": {
    "execution": {
     "iopub.execute_input": "2022-05-06T20:14:08.811778Z",
     "iopub.status.busy": "2022-05-06T20:14:08.810971Z",
     "iopub.status.idle": "2022-05-06T20:14:08.819777Z",
     "shell.execute_reply": "2022-05-06T20:14:08.819034Z",
     "shell.execute_reply.started": "2022-05-06T19:38:06.007446Z"
    },
    "papermill": {
     "duration": 0.593646,
     "end_time": "2022-05-06T20:14:08.819946",
     "exception": false,
     "start_time": "2022-05-06T20:14:08.226300",
     "status": "completed"
    },
    "tags": []
   },
   "outputs": [],
   "source": [
    "model.compile(loss='categorical_crossentropy',metrics=['accuracy'],optimizer='adam')"
   ]
  },
  {
   "cell_type": "code",
   "execution_count": null,
   "id": "408672a2",
   "metadata": {
    "papermill": {
     "duration": 0.559609,
     "end_time": "2022-05-06T20:14:09.941446",
     "exception": false,
     "start_time": "2022-05-06T20:14:09.381837",
     "status": "completed"
    },
    "tags": []
   },
   "outputs": [],
   "source": []
  },
  {
   "cell_type": "code",
   "execution_count": 28,
   "id": "c629c9f5",
   "metadata": {
    "execution": {
     "iopub.execute_input": "2022-05-06T20:14:11.063690Z",
     "iopub.status.busy": "2022-05-06T20:14:11.062993Z",
     "iopub.status.idle": "2022-05-06T20:14:52.866072Z",
     "shell.execute_reply": "2022-05-06T20:14:52.865446Z",
     "shell.execute_reply.started": "2022-05-06T19:38:06.030124Z"
    },
    "papermill": {
     "duration": 42.365121,
     "end_time": "2022-05-06T20:14:52.866251",
     "exception": false,
     "start_time": "2022-05-06T20:14:10.501130",
     "status": "completed"
    },
    "tags": []
   },
   "outputs": [
    {
     "name": "stderr",
     "output_type": "stream",
     "text": [
      "2022-05-06 20:14:11.169377: I tensorflow/compiler/mlir/mlir_graph_optimization_pass.cc:185] None of the MLIR Optimization Passes are enabled (registered 2)\n"
     ]
    },
    {
     "name": "stdout",
     "output_type": "stream",
     "text": [
      "Epoch 1/200\n",
      "32/32 [==============================] - 1s 13ms/step - loss: 2.3961 - accuracy: 0.3014 - val_loss: 2.0302 - val_accuracy: 0.4213\n",
      "\n",
      "Epoch 00001: val_loss improved from inf to 2.03016, saving model to ./audio_classification.hdf5\n",
      "Epoch 2/200\n",
      "32/32 [==============================] - 0s 6ms/step - loss: 2.1375 - accuracy: 0.3340 - val_loss: 1.9767 - val_accuracy: 0.4213\n",
      "\n",
      "Epoch 00002: val_loss improved from 2.03016 to 1.97667, saving model to ./audio_classification.hdf5\n",
      "Epoch 3/200\n",
      "32/32 [==============================] - 0s 6ms/step - loss: 2.0876 - accuracy: 0.3557 - val_loss: 1.9871 - val_accuracy: 0.4213\n",
      "\n",
      "Epoch 00003: val_loss did not improve from 1.97667\n",
      "Epoch 4/200\n",
      "32/32 [==============================] - 0s 6ms/step - loss: 2.0653 - accuracy: 0.3567 - val_loss: 1.9765 - val_accuracy: 0.4213\n",
      "\n",
      "Epoch 00004: val_loss improved from 1.97667 to 1.97651, saving model to ./audio_classification.hdf5\n",
      "Epoch 5/200\n",
      "32/32 [==============================] - 0s 6ms/step - loss: 2.0600 - accuracy: 0.3508 - val_loss: 1.9751 - val_accuracy: 0.4213\n",
      "\n",
      "Epoch 00005: val_loss improved from 1.97651 to 1.97514, saving model to ./audio_classification.hdf5\n",
      "Epoch 6/200\n",
      "32/32 [==============================] - 0s 6ms/step - loss: 2.0390 - accuracy: 0.3646 - val_loss: 1.9766 - val_accuracy: 0.4213\n",
      "\n",
      "Epoch 00006: val_loss did not improve from 1.97514\n",
      "Epoch 7/200\n",
      "32/32 [==============================] - 0s 5ms/step - loss: 2.0324 - accuracy: 0.3745 - val_loss: 1.9843 - val_accuracy: 0.4213\n",
      "\n",
      "Epoch 00007: val_loss did not improve from 1.97514\n",
      "Epoch 8/200\n",
      "32/32 [==============================] - 0s 5ms/step - loss: 2.0033 - accuracy: 0.3775 - val_loss: 1.9771 - val_accuracy: 0.4213\n",
      "\n",
      "Epoch 00008: val_loss did not improve from 1.97514\n",
      "Epoch 9/200\n",
      "32/32 [==============================] - 0s 5ms/step - loss: 2.0240 - accuracy: 0.3597 - val_loss: 1.9706 - val_accuracy: 0.4213\n",
      "\n",
      "Epoch 00009: val_loss improved from 1.97514 to 1.97056, saving model to ./audio_classification.hdf5\n",
      "Epoch 10/200\n",
      "32/32 [==============================] - 0s 5ms/step - loss: 1.9915 - accuracy: 0.3706 - val_loss: 1.9679 - val_accuracy: 0.4213\n",
      "\n",
      "Epoch 00010: val_loss improved from 1.97056 to 1.96787, saving model to ./audio_classification.hdf5\n",
      "Epoch 11/200\n",
      "32/32 [==============================] - 0s 6ms/step - loss: 1.9597 - accuracy: 0.3745 - val_loss: 1.9478 - val_accuracy: 0.4213\n",
      "\n",
      "Epoch 00011: val_loss improved from 1.96787 to 1.94776, saving model to ./audio_classification.hdf5\n",
      "Epoch 12/200\n",
      "32/32 [==============================] - 0s 5ms/step - loss: 1.9735 - accuracy: 0.3597 - val_loss: 1.9516 - val_accuracy: 0.4213\n",
      "\n",
      "Epoch 00012: val_loss did not improve from 1.94776\n",
      "Epoch 13/200\n",
      "32/32 [==============================] - 0s 5ms/step - loss: 1.9298 - accuracy: 0.3745 - val_loss: 1.9280 - val_accuracy: 0.4213\n",
      "\n",
      "Epoch 00013: val_loss improved from 1.94776 to 1.92799, saving model to ./audio_classification.hdf5\n",
      "Epoch 14/200\n",
      "32/32 [==============================] - 0s 5ms/step - loss: 1.9136 - accuracy: 0.3804 - val_loss: 1.9245 - val_accuracy: 0.4213\n",
      "\n",
      "Epoch 00014: val_loss improved from 1.92799 to 1.92449, saving model to ./audio_classification.hdf5\n",
      "Epoch 15/200\n",
      "32/32 [==============================] - 0s 5ms/step - loss: 1.8946 - accuracy: 0.3725 - val_loss: 1.9168 - val_accuracy: 0.4213\n",
      "\n",
      "Epoch 00015: val_loss improved from 1.92449 to 1.91676, saving model to ./audio_classification.hdf5\n",
      "Epoch 16/200\n",
      "32/32 [==============================] - 0s 5ms/step - loss: 1.8974 - accuracy: 0.3725 - val_loss: 1.9025 - val_accuracy: 0.4213\n",
      "\n",
      "Epoch 00016: val_loss improved from 1.91676 to 1.90250, saving model to ./audio_classification.hdf5\n",
      "Epoch 17/200\n",
      "32/32 [==============================] - 0s 5ms/step - loss: 1.8803 - accuracy: 0.3785 - val_loss: 1.8856 - val_accuracy: 0.4213\n",
      "\n",
      "Epoch 00017: val_loss improved from 1.90250 to 1.88556, saving model to ./audio_classification.hdf5\n",
      "Epoch 18/200\n",
      "32/32 [==============================] - 0s 5ms/step - loss: 1.8651 - accuracy: 0.3785 - val_loss: 1.8864 - val_accuracy: 0.4291\n",
      "\n",
      "Epoch 00018: val_loss did not improve from 1.88556\n",
      "Epoch 19/200\n",
      "32/32 [==============================] - 0s 5ms/step - loss: 1.8702 - accuracy: 0.3874 - val_loss: 1.8757 - val_accuracy: 0.4213\n",
      "\n",
      "Epoch 00019: val_loss improved from 1.88556 to 1.87569, saving model to ./audio_classification.hdf5\n",
      "Epoch 20/200\n",
      "32/32 [==============================] - 0s 5ms/step - loss: 1.8380 - accuracy: 0.3834 - val_loss: 1.8867 - val_accuracy: 0.4685\n",
      "\n",
      "Epoch 00020: val_loss did not improve from 1.87569\n",
      "Epoch 21/200\n",
      "32/32 [==============================] - 0s 6ms/step - loss: 1.8541 - accuracy: 0.3834 - val_loss: 1.8715 - val_accuracy: 0.4213\n",
      "\n",
      "Epoch 00021: val_loss improved from 1.87569 to 1.87145, saving model to ./audio_classification.hdf5\n",
      "Epoch 22/200\n",
      "32/32 [==============================] - 0s 5ms/step - loss: 1.8555 - accuracy: 0.3834 - val_loss: 1.8659 - val_accuracy: 0.4291\n",
      "\n",
      "Epoch 00022: val_loss improved from 1.87145 to 1.86585, saving model to ./audio_classification.hdf5\n",
      "Epoch 23/200\n",
      "32/32 [==============================] - 0s 5ms/step - loss: 1.8553 - accuracy: 0.3874 - val_loss: 1.8602 - val_accuracy: 0.4213\n",
      "\n",
      "Epoch 00023: val_loss improved from 1.86585 to 1.86023, saving model to ./audio_classification.hdf5\n",
      "Epoch 24/200\n",
      "32/32 [==============================] - 0s 5ms/step - loss: 1.8274 - accuracy: 0.3883 - val_loss: 1.8576 - val_accuracy: 0.4252\n",
      "\n",
      "Epoch 00024: val_loss improved from 1.86023 to 1.85759, saving model to ./audio_classification.hdf5\n",
      "Epoch 25/200\n",
      "32/32 [==============================] - 0s 6ms/step - loss: 1.8196 - accuracy: 0.3943 - val_loss: 1.8552 - val_accuracy: 0.4409\n",
      "\n",
      "Epoch 00025: val_loss improved from 1.85759 to 1.85521, saving model to ./audio_classification.hdf5\n",
      "Epoch 26/200\n",
      "32/32 [==============================] - 0s 8ms/step - loss: 1.8301 - accuracy: 0.3962 - val_loss: 1.8719 - val_accuracy: 0.4843\n",
      "\n",
      "Epoch 00026: val_loss did not improve from 1.85521\n",
      "Epoch 27/200\n",
      "32/32 [==============================] - 0s 6ms/step - loss: 1.8069 - accuracy: 0.4051 - val_loss: 1.8602 - val_accuracy: 0.4961\n",
      "\n",
      "Epoch 00027: val_loss did not improve from 1.85521\n",
      "Epoch 28/200\n",
      "32/32 [==============================] - 0s 6ms/step - loss: 1.8524 - accuracy: 0.3794 - val_loss: 1.8510 - val_accuracy: 0.4291\n",
      "\n",
      "Epoch 00028: val_loss improved from 1.85521 to 1.85100, saving model to ./audio_classification.hdf5\n",
      "Epoch 29/200\n",
      "32/32 [==============================] - 0s 5ms/step - loss: 1.8175 - accuracy: 0.3933 - val_loss: 1.8621 - val_accuracy: 0.4843\n",
      "\n",
      "Epoch 00029: val_loss did not improve from 1.85100\n",
      "Epoch 30/200\n",
      "32/32 [==============================] - 0s 5ms/step - loss: 1.7999 - accuracy: 0.4061 - val_loss: 1.8480 - val_accuracy: 0.4882\n",
      "\n",
      "Epoch 00030: val_loss improved from 1.85100 to 1.84799, saving model to ./audio_classification.hdf5\n",
      "Epoch 31/200\n",
      "32/32 [==============================] - 0s 5ms/step - loss: 1.8032 - accuracy: 0.4308 - val_loss: 1.8451 - val_accuracy: 0.5118\n",
      "\n",
      "Epoch 00031: val_loss improved from 1.84799 to 1.84511, saving model to ./audio_classification.hdf5\n",
      "Epoch 32/200\n",
      "32/32 [==============================] - 0s 6ms/step - loss: 1.7747 - accuracy: 0.4289 - val_loss: 1.8349 - val_accuracy: 0.4961\n",
      "\n",
      "Epoch 00032: val_loss improved from 1.84511 to 1.83495, saving model to ./audio_classification.hdf5\n",
      "Epoch 33/200\n",
      "32/32 [==============================] - 0s 5ms/step - loss: 1.8048 - accuracy: 0.4170 - val_loss: 1.8239 - val_accuracy: 0.4921\n",
      "\n",
      "Epoch 00033: val_loss improved from 1.83495 to 1.82391, saving model to ./audio_classification.hdf5\n",
      "Epoch 34/200\n",
      "32/32 [==============================] - 0s 6ms/step - loss: 1.7843 - accuracy: 0.4269 - val_loss: 1.8178 - val_accuracy: 0.5000\n",
      "\n",
      "Epoch 00034: val_loss improved from 1.82391 to 1.81777, saving model to ./audio_classification.hdf5\n",
      "Epoch 35/200\n",
      "32/32 [==============================] - 0s 5ms/step - loss: 1.7722 - accuracy: 0.4397 - val_loss: 1.8029 - val_accuracy: 0.5000\n",
      "\n",
      "Epoch 00035: val_loss improved from 1.81777 to 1.80289, saving model to ./audio_classification.hdf5\n",
      "Epoch 36/200\n",
      "32/32 [==============================] - 0s 5ms/step - loss: 1.7740 - accuracy: 0.4526 - val_loss: 1.7990 - val_accuracy: 0.4961\n",
      "\n",
      "Epoch 00036: val_loss improved from 1.80289 to 1.79895, saving model to ./audio_classification.hdf5\n",
      "Epoch 37/200\n",
      "32/32 [==============================] - 0s 5ms/step - loss: 1.7694 - accuracy: 0.4338 - val_loss: 1.7926 - val_accuracy: 0.5157\n",
      "\n",
      "Epoch 00037: val_loss improved from 1.79895 to 1.79259, saving model to ./audio_classification.hdf5\n",
      "Epoch 38/200\n",
      "32/32 [==============================] - 0s 6ms/step - loss: 1.7493 - accuracy: 0.4555 - val_loss: 1.7833 - val_accuracy: 0.5276\n",
      "\n",
      "Epoch 00038: val_loss improved from 1.79259 to 1.78329, saving model to ./audio_classification.hdf5\n",
      "Epoch 39/200\n",
      "32/32 [==============================] - 0s 5ms/step - loss: 1.7664 - accuracy: 0.4496 - val_loss: 1.7915 - val_accuracy: 0.5236\n",
      "\n",
      "Epoch 00039: val_loss did not improve from 1.78329\n",
      "Epoch 40/200\n",
      "32/32 [==============================] - 0s 6ms/step - loss: 1.7238 - accuracy: 0.4792 - val_loss: 1.7745 - val_accuracy: 0.5354\n",
      "\n",
      "Epoch 00040: val_loss improved from 1.78329 to 1.77451, saving model to ./audio_classification.hdf5\n",
      "Epoch 41/200\n",
      "32/32 [==============================] - 0s 5ms/step - loss: 1.7224 - accuracy: 0.4891 - val_loss: 1.7618 - val_accuracy: 0.5236\n",
      "\n",
      "Epoch 00041: val_loss improved from 1.77451 to 1.76182, saving model to ./audio_classification.hdf5\n",
      "Epoch 42/200\n",
      "32/32 [==============================] - 0s 5ms/step - loss: 1.7279 - accuracy: 0.4783 - val_loss: 1.7589 - val_accuracy: 0.5236\n",
      "\n",
      "Epoch 00042: val_loss improved from 1.76182 to 1.75886, saving model to ./audio_classification.hdf5\n",
      "Epoch 43/200\n",
      "32/32 [==============================] - 0s 6ms/step - loss: 1.7333 - accuracy: 0.4694 - val_loss: 1.7637 - val_accuracy: 0.5394\n",
      "\n",
      "Epoch 00043: val_loss did not improve from 1.75886\n",
      "Epoch 44/200\n",
      "32/32 [==============================] - 0s 6ms/step - loss: 1.7165 - accuracy: 0.4644 - val_loss: 1.7589 - val_accuracy: 0.5472\n",
      "\n",
      "Epoch 00044: val_loss did not improve from 1.75886\n",
      "Epoch 45/200\n",
      "32/32 [==============================] - 0s 6ms/step - loss: 1.7172 - accuracy: 0.4802 - val_loss: 1.7431 - val_accuracy: 0.5197\n",
      "\n",
      "Epoch 00045: val_loss improved from 1.75886 to 1.74308, saving model to ./audio_classification.hdf5\n",
      "Epoch 46/200\n",
      "32/32 [==============================] - 0s 6ms/step - loss: 1.7030 - accuracy: 0.4901 - val_loss: 1.7409 - val_accuracy: 0.5197\n",
      "\n",
      "Epoch 00046: val_loss improved from 1.74308 to 1.74087, saving model to ./audio_classification.hdf5\n",
      "Epoch 47/200\n",
      "32/32 [==============================] - 0s 6ms/step - loss: 1.7051 - accuracy: 0.4832 - val_loss: 1.7404 - val_accuracy: 0.5118\n",
      "\n",
      "Epoch 00047: val_loss improved from 1.74087 to 1.74042, saving model to ./audio_classification.hdf5\n",
      "Epoch 48/200\n",
      "32/32 [==============================] - 0s 5ms/step - loss: 1.7107 - accuracy: 0.4822 - val_loss: 1.7377 - val_accuracy: 0.5276\n",
      "\n",
      "Epoch 00048: val_loss improved from 1.74042 to 1.73766, saving model to ./audio_classification.hdf5\n",
      "Epoch 49/200\n",
      "32/32 [==============================] - 0s 6ms/step - loss: 1.6982 - accuracy: 0.4812 - val_loss: 1.7402 - val_accuracy: 0.5157\n",
      "\n",
      "Epoch 00049: val_loss did not improve from 1.73766\n",
      "Epoch 50/200\n",
      "32/32 [==============================] - 0s 6ms/step - loss: 1.6838 - accuracy: 0.4881 - val_loss: 1.7320 - val_accuracy: 0.5276\n",
      "\n",
      "Epoch 00050: val_loss improved from 1.73766 to 1.73203, saving model to ./audio_classification.hdf5\n",
      "Epoch 51/200\n",
      "32/32 [==============================] - 0s 6ms/step - loss: 1.7259 - accuracy: 0.4832 - val_loss: 1.7430 - val_accuracy: 0.5236\n",
      "\n",
      "Epoch 00051: val_loss did not improve from 1.73203\n",
      "Epoch 52/200\n",
      "32/32 [==============================] - 0s 6ms/step - loss: 1.7039 - accuracy: 0.4881 - val_loss: 1.7481 - val_accuracy: 0.5276\n",
      "\n",
      "Epoch 00052: val_loss did not improve from 1.73203\n",
      "Epoch 53/200\n",
      "32/32 [==============================] - 0s 6ms/step - loss: 1.6999 - accuracy: 0.4842 - val_loss: 1.7297 - val_accuracy: 0.5197\n",
      "\n",
      "Epoch 00053: val_loss improved from 1.73203 to 1.72965, saving model to ./audio_classification.hdf5\n",
      "Epoch 54/200\n",
      "32/32 [==============================] - 0s 5ms/step - loss: 1.6843 - accuracy: 0.4970 - val_loss: 1.7411 - val_accuracy: 0.5157\n",
      "\n",
      "Epoch 00054: val_loss did not improve from 1.72965\n",
      "Epoch 55/200\n",
      "32/32 [==============================] - 0s 6ms/step - loss: 1.6604 - accuracy: 0.4960 - val_loss: 1.7345 - val_accuracy: 0.5315\n",
      "\n",
      "Epoch 00055: val_loss did not improve from 1.72965\n",
      "Epoch 56/200\n",
      "32/32 [==============================] - 0s 7ms/step - loss: 1.6841 - accuracy: 0.4951 - val_loss: 1.7336 - val_accuracy: 0.5276\n",
      "\n",
      "Epoch 00056: val_loss did not improve from 1.72965\n",
      "Epoch 57/200\n",
      "32/32 [==============================] - 0s 6ms/step - loss: 1.6642 - accuracy: 0.5030 - val_loss: 1.7338 - val_accuracy: 0.5236\n",
      "\n",
      "Epoch 00057: val_loss did not improve from 1.72965\n",
      "Epoch 58/200\n",
      "32/32 [==============================] - 0s 6ms/step - loss: 1.6770 - accuracy: 0.5168 - val_loss: 1.7317 - val_accuracy: 0.5315\n",
      "\n",
      "Epoch 00058: val_loss did not improve from 1.72965\n",
      "Epoch 59/200\n",
      "32/32 [==============================] - 0s 6ms/step - loss: 1.6732 - accuracy: 0.5030 - val_loss: 1.7222 - val_accuracy: 0.5512\n",
      "\n",
      "Epoch 00059: val_loss improved from 1.72965 to 1.72224, saving model to ./audio_classification.hdf5\n",
      "Epoch 60/200\n",
      "32/32 [==============================] - 0s 6ms/step - loss: 1.6897 - accuracy: 0.4891 - val_loss: 1.7285 - val_accuracy: 0.5315\n",
      "\n",
      "Epoch 00060: val_loss did not improve from 1.72224\n",
      "Epoch 61/200\n",
      "32/32 [==============================] - 0s 6ms/step - loss: 1.6848 - accuracy: 0.5040 - val_loss: 1.7322 - val_accuracy: 0.5157\n",
      "\n",
      "Epoch 00061: val_loss did not improve from 1.72224\n",
      "Epoch 62/200\n",
      "32/32 [==============================] - 0s 5ms/step - loss: 1.7039 - accuracy: 0.4872 - val_loss: 1.7462 - val_accuracy: 0.5236\n",
      "\n",
      "Epoch 00062: val_loss did not improve from 1.72224\n",
      "Epoch 63/200\n",
      "32/32 [==============================] - 0s 6ms/step - loss: 1.6884 - accuracy: 0.4951 - val_loss: 1.7205 - val_accuracy: 0.5433\n",
      "\n",
      "Epoch 00063: val_loss improved from 1.72224 to 1.72046, saving model to ./audio_classification.hdf5\n",
      "Epoch 64/200\n",
      "32/32 [==============================] - 0s 5ms/step - loss: 1.6690 - accuracy: 0.4931 - val_loss: 1.7216 - val_accuracy: 0.5276\n",
      "\n",
      "Epoch 00064: val_loss did not improve from 1.72046\n",
      "Epoch 65/200\n",
      "32/32 [==============================] - 0s 5ms/step - loss: 1.6811 - accuracy: 0.4812 - val_loss: 1.7283 - val_accuracy: 0.5236\n",
      "\n",
      "Epoch 00065: val_loss did not improve from 1.72046\n",
      "Epoch 66/200\n",
      "32/32 [==============================] - 0s 5ms/step - loss: 1.6473 - accuracy: 0.5000 - val_loss: 1.7298 - val_accuracy: 0.5315\n",
      "\n",
      "Epoch 00066: val_loss did not improve from 1.72046\n",
      "Epoch 67/200\n",
      "32/32 [==============================] - 0s 5ms/step - loss: 1.6456 - accuracy: 0.5168 - val_loss: 1.7318 - val_accuracy: 0.5315\n",
      "\n",
      "Epoch 00067: val_loss did not improve from 1.72046\n",
      "Epoch 68/200\n",
      "32/32 [==============================] - 0s 5ms/step - loss: 1.6465 - accuracy: 0.5099 - val_loss: 1.7238 - val_accuracy: 0.5512\n",
      "\n",
      "Epoch 00068: val_loss did not improve from 1.72046\n",
      "Epoch 69/200\n",
      "32/32 [==============================] - 0s 6ms/step - loss: 1.6412 - accuracy: 0.5148 - val_loss: 1.7196 - val_accuracy: 0.5433\n",
      "\n",
      "Epoch 00069: val_loss improved from 1.72046 to 1.71959, saving model to ./audio_classification.hdf5\n",
      "Epoch 70/200\n",
      "32/32 [==============================] - 0s 5ms/step - loss: 1.6506 - accuracy: 0.5059 - val_loss: 1.7350 - val_accuracy: 0.5315\n",
      "\n",
      "Epoch 00070: val_loss did not improve from 1.71959\n",
      "Epoch 71/200\n",
      "32/32 [==============================] - 0s 6ms/step - loss: 1.6527 - accuracy: 0.4960 - val_loss: 1.7401 - val_accuracy: 0.5276\n",
      "\n",
      "Epoch 00071: val_loss did not improve from 1.71959\n",
      "Epoch 72/200\n",
      "32/32 [==============================] - 0s 6ms/step - loss: 1.6675 - accuracy: 0.5128 - val_loss: 1.7293 - val_accuracy: 0.5394\n",
      "\n",
      "Epoch 00072: val_loss did not improve from 1.71959\n",
      "Epoch 73/200\n",
      "32/32 [==============================] - 0s 6ms/step - loss: 1.6567 - accuracy: 0.5119 - val_loss: 1.7105 - val_accuracy: 0.5433\n",
      "\n",
      "Epoch 00073: val_loss improved from 1.71959 to 1.71051, saving model to ./audio_classification.hdf5\n",
      "Epoch 74/200\n",
      "32/32 [==============================] - 0s 5ms/step - loss: 1.6552 - accuracy: 0.5020 - val_loss: 1.7206 - val_accuracy: 0.5551\n",
      "\n",
      "Epoch 00074: val_loss did not improve from 1.71051\n",
      "Epoch 75/200\n",
      "32/32 [==============================] - 0s 6ms/step - loss: 1.6592 - accuracy: 0.5059 - val_loss: 1.7233 - val_accuracy: 0.5551\n",
      "\n",
      "Epoch 00075: val_loss did not improve from 1.71051\n",
      "Epoch 76/200\n",
      "32/32 [==============================] - 0s 5ms/step - loss: 1.6524 - accuracy: 0.4980 - val_loss: 1.7165 - val_accuracy: 0.5591\n",
      "\n",
      "Epoch 00076: val_loss did not improve from 1.71051\n",
      "Epoch 77/200\n",
      "32/32 [==============================] - 0s 6ms/step - loss: 1.6461 - accuracy: 0.5099 - val_loss: 1.7240 - val_accuracy: 0.5472\n",
      "\n",
      "Epoch 00077: val_loss did not improve from 1.71051\n",
      "Epoch 78/200\n",
      "32/32 [==============================] - 0s 5ms/step - loss: 1.6379 - accuracy: 0.4990 - val_loss: 1.7176 - val_accuracy: 0.5354\n",
      "\n",
      "Epoch 00078: val_loss did not improve from 1.71051\n",
      "Epoch 79/200\n",
      "32/32 [==============================] - 0s 5ms/step - loss: 1.6481 - accuracy: 0.5059 - val_loss: 1.7246 - val_accuracy: 0.5630\n",
      "\n",
      "Epoch 00079: val_loss did not improve from 1.71051\n",
      "Epoch 80/200\n",
      "32/32 [==============================] - 0s 6ms/step - loss: 1.6602 - accuracy: 0.5079 - val_loss: 1.7273 - val_accuracy: 0.5315\n",
      "\n",
      "Epoch 00080: val_loss did not improve from 1.71051\n",
      "Epoch 81/200\n",
      "32/32 [==============================] - 0s 6ms/step - loss: 1.6428 - accuracy: 0.5049 - val_loss: 1.7345 - val_accuracy: 0.5315\n",
      "\n",
      "Epoch 00081: val_loss did not improve from 1.71051\n",
      "Epoch 82/200\n",
      "32/32 [==============================] - 0s 6ms/step - loss: 1.6233 - accuracy: 0.5138 - val_loss: 1.7127 - val_accuracy: 0.5512\n",
      "\n",
      "Epoch 00082: val_loss did not improve from 1.71051\n",
      "Epoch 83/200\n",
      "32/32 [==============================] - 0s 8ms/step - loss: 1.6325 - accuracy: 0.5168 - val_loss: 1.7194 - val_accuracy: 0.5433\n",
      "\n",
      "Epoch 00083: val_loss did not improve from 1.71051\n",
      "Epoch 84/200\n",
      "32/32 [==============================] - 0s 6ms/step - loss: 1.6616 - accuracy: 0.5188 - val_loss: 1.7274 - val_accuracy: 0.5315\n",
      "\n",
      "Epoch 00084: val_loss did not improve from 1.71051\n",
      "Epoch 85/200\n",
      "32/32 [==============================] - 0s 6ms/step - loss: 1.6077 - accuracy: 0.5227 - val_loss: 1.7153 - val_accuracy: 0.5394\n",
      "\n",
      "Epoch 00085: val_loss did not improve from 1.71051\n",
      "Epoch 86/200\n",
      "32/32 [==============================] - 0s 6ms/step - loss: 1.6563 - accuracy: 0.5010 - val_loss: 1.7154 - val_accuracy: 0.5394\n",
      "\n",
      "Epoch 00086: val_loss did not improve from 1.71051\n",
      "Epoch 87/200\n",
      "32/32 [==============================] - 0s 6ms/step - loss: 1.6442 - accuracy: 0.4960 - val_loss: 1.7355 - val_accuracy: 0.5551\n",
      "\n",
      "Epoch 00087: val_loss did not improve from 1.71051\n",
      "Epoch 88/200\n",
      "32/32 [==============================] - 0s 6ms/step - loss: 1.6385 - accuracy: 0.5040 - val_loss: 1.7204 - val_accuracy: 0.5472\n",
      "\n",
      "Epoch 00088: val_loss did not improve from 1.71051\n",
      "Epoch 89/200\n",
      "32/32 [==============================] - 0s 5ms/step - loss: 1.6111 - accuracy: 0.5198 - val_loss: 1.7351 - val_accuracy: 0.5433\n",
      "\n",
      "Epoch 00089: val_loss did not improve from 1.71051\n",
      "Epoch 90/200\n",
      "32/32 [==============================] - 0s 6ms/step - loss: 1.6257 - accuracy: 0.5059 - val_loss: 1.7243 - val_accuracy: 0.5315\n",
      "\n",
      "Epoch 00090: val_loss did not improve from 1.71051\n",
      "Epoch 91/200\n",
      "32/32 [==============================] - 0s 6ms/step - loss: 1.6511 - accuracy: 0.5128 - val_loss: 1.7135 - val_accuracy: 0.5512\n",
      "\n",
      "Epoch 00091: val_loss did not improve from 1.71051\n",
      "Epoch 92/200\n",
      "32/32 [==============================] - 0s 6ms/step - loss: 1.6421 - accuracy: 0.5099 - val_loss: 1.7209 - val_accuracy: 0.5512\n",
      "\n",
      "Epoch 00092: val_loss did not improve from 1.71051\n",
      "Epoch 93/200\n",
      "32/32 [==============================] - 0s 6ms/step - loss: 1.6206 - accuracy: 0.5247 - val_loss: 1.7215 - val_accuracy: 0.5472\n",
      "\n",
      "Epoch 00093: val_loss did not improve from 1.71051\n",
      "Epoch 94/200\n",
      "32/32 [==============================] - 0s 6ms/step - loss: 1.6270 - accuracy: 0.5010 - val_loss: 1.7174 - val_accuracy: 0.5551\n",
      "\n",
      "Epoch 00094: val_loss did not improve from 1.71051\n",
      "Epoch 95/200\n",
      "32/32 [==============================] - 0s 5ms/step - loss: 1.6319 - accuracy: 0.5178 - val_loss: 1.7094 - val_accuracy: 0.5433\n",
      "\n",
      "Epoch 00095: val_loss improved from 1.71051 to 1.70936, saving model to ./audio_classification.hdf5\n",
      "Epoch 96/200\n",
      "32/32 [==============================] - 0s 5ms/step - loss: 1.6295 - accuracy: 0.5079 - val_loss: 1.7160 - val_accuracy: 0.5433\n",
      "\n",
      "Epoch 00096: val_loss did not improve from 1.70936\n",
      "Epoch 97/200\n",
      "32/32 [==============================] - 0s 5ms/step - loss: 1.6106 - accuracy: 0.4931 - val_loss: 1.7121 - val_accuracy: 0.5512\n",
      "\n",
      "Epoch 00097: val_loss did not improve from 1.70936\n",
      "Epoch 98/200\n",
      "32/32 [==============================] - 0s 6ms/step - loss: 1.6207 - accuracy: 0.5040 - val_loss: 1.7168 - val_accuracy: 0.5551\n",
      "\n",
      "Epoch 00098: val_loss did not improve from 1.70936\n",
      "Epoch 99/200\n",
      "32/32 [==============================] - 0s 6ms/step - loss: 1.6257 - accuracy: 0.5089 - val_loss: 1.7130 - val_accuracy: 0.5669\n",
      "\n",
      "Epoch 00099: val_loss did not improve from 1.70936\n",
      "Epoch 100/200\n",
      "32/32 [==============================] - 0s 6ms/step - loss: 1.6331 - accuracy: 0.5049 - val_loss: 1.7049 - val_accuracy: 0.5472\n",
      "\n",
      "Epoch 00100: val_loss improved from 1.70936 to 1.70486, saving model to ./audio_classification.hdf5\n",
      "Epoch 101/200\n",
      "32/32 [==============================] - 0s 6ms/step - loss: 1.5937 - accuracy: 0.5138 - val_loss: 1.7324 - val_accuracy: 0.5394\n",
      "\n",
      "Epoch 00101: val_loss did not improve from 1.70486\n",
      "Epoch 102/200\n",
      "32/32 [==============================] - 0s 6ms/step - loss: 1.5974 - accuracy: 0.5089 - val_loss: 1.7070 - val_accuracy: 0.5472\n",
      "\n",
      "Epoch 00102: val_loss did not improve from 1.70486\n",
      "Epoch 103/200\n",
      "32/32 [==============================] - 0s 6ms/step - loss: 1.6063 - accuracy: 0.5128 - val_loss: 1.7193 - val_accuracy: 0.5433\n",
      "\n",
      "Epoch 00103: val_loss did not improve from 1.70486\n",
      "Epoch 104/200\n",
      "32/32 [==============================] - 0s 6ms/step - loss: 1.5953 - accuracy: 0.5296 - val_loss: 1.7123 - val_accuracy: 0.5591\n",
      "\n",
      "Epoch 00104: val_loss did not improve from 1.70486\n",
      "Epoch 105/200\n",
      "32/32 [==============================] - 0s 6ms/step - loss: 1.6058 - accuracy: 0.5148 - val_loss: 1.7185 - val_accuracy: 0.5472\n",
      "\n",
      "Epoch 00105: val_loss did not improve from 1.70486\n",
      "Epoch 106/200\n",
      "32/32 [==============================] - 0s 6ms/step - loss: 1.6173 - accuracy: 0.5109 - val_loss: 1.7249 - val_accuracy: 0.5472\n",
      "\n",
      "Epoch 00106: val_loss did not improve from 1.70486\n",
      "Epoch 107/200\n",
      "32/32 [==============================] - 0s 6ms/step - loss: 1.6094 - accuracy: 0.5148 - val_loss: 1.7264 - val_accuracy: 0.5591\n",
      "\n",
      "Epoch 00107: val_loss did not improve from 1.70486\n",
      "Epoch 108/200\n",
      "32/32 [==============================] - 0s 6ms/step - loss: 1.5975 - accuracy: 0.5198 - val_loss: 1.7246 - val_accuracy: 0.5551\n",
      "\n",
      "Epoch 00108: val_loss did not improve from 1.70486\n",
      "Epoch 109/200\n",
      "32/32 [==============================] - 0s 6ms/step - loss: 1.6110 - accuracy: 0.5217 - val_loss: 1.7166 - val_accuracy: 0.5591\n",
      "\n",
      "Epoch 00109: val_loss did not improve from 1.70486\n",
      "Epoch 110/200\n",
      "32/32 [==============================] - 0s 6ms/step - loss: 1.6010 - accuracy: 0.5366 - val_loss: 1.7214 - val_accuracy: 0.5394\n",
      "\n",
      "Epoch 00110: val_loss did not improve from 1.70486\n",
      "Epoch 111/200\n",
      "32/32 [==============================] - 0s 6ms/step - loss: 1.6197 - accuracy: 0.5089 - val_loss: 1.7212 - val_accuracy: 0.5512\n",
      "\n",
      "Epoch 00111: val_loss did not improve from 1.70486\n",
      "Epoch 112/200\n",
      "32/32 [==============================] - 0s 6ms/step - loss: 1.5979 - accuracy: 0.5119 - val_loss: 1.7156 - val_accuracy: 0.5591\n",
      "\n",
      "Epoch 00112: val_loss did not improve from 1.70486\n",
      "Epoch 113/200\n",
      "32/32 [==============================] - 0s 6ms/step - loss: 1.5914 - accuracy: 0.5208 - val_loss: 1.7320 - val_accuracy: 0.5433\n",
      "\n",
      "Epoch 00113: val_loss did not improve from 1.70486\n",
      "Epoch 114/200\n",
      "32/32 [==============================] - 0s 6ms/step - loss: 1.5967 - accuracy: 0.5208 - val_loss: 1.7394 - val_accuracy: 0.5472\n",
      "\n",
      "Epoch 00114: val_loss did not improve from 1.70486\n",
      "Epoch 115/200\n",
      "32/32 [==============================] - 0s 6ms/step - loss: 1.5703 - accuracy: 0.5336 - val_loss: 1.7129 - val_accuracy: 0.5512\n",
      "\n",
      "Epoch 00115: val_loss did not improve from 1.70486\n",
      "Epoch 116/200\n",
      "32/32 [==============================] - 0s 6ms/step - loss: 1.5948 - accuracy: 0.5267 - val_loss: 1.7265 - val_accuracy: 0.5512\n",
      "\n",
      "Epoch 00116: val_loss did not improve from 1.70486\n",
      "Epoch 117/200\n",
      "32/32 [==============================] - 0s 6ms/step - loss: 1.5926 - accuracy: 0.5148 - val_loss: 1.7128 - val_accuracy: 0.5551\n",
      "\n",
      "Epoch 00117: val_loss did not improve from 1.70486\n",
      "Epoch 118/200\n",
      "32/32 [==============================] - 0s 6ms/step - loss: 1.5983 - accuracy: 0.5128 - val_loss: 1.7238 - val_accuracy: 0.5512\n",
      "\n",
      "Epoch 00118: val_loss did not improve from 1.70486\n",
      "Epoch 119/200\n",
      "32/32 [==============================] - 0s 5ms/step - loss: 1.5776 - accuracy: 0.5326 - val_loss: 1.7183 - val_accuracy: 0.5433\n",
      "\n",
      "Epoch 00119: val_loss did not improve from 1.70486\n",
      "Epoch 120/200\n",
      "32/32 [==============================] - 0s 5ms/step - loss: 1.5967 - accuracy: 0.5217 - val_loss: 1.7096 - val_accuracy: 0.5512\n",
      "\n",
      "Epoch 00120: val_loss did not improve from 1.70486\n",
      "Epoch 121/200\n",
      "32/32 [==============================] - 0s 6ms/step - loss: 1.5833 - accuracy: 0.5326 - val_loss: 1.7074 - val_accuracy: 0.5551\n",
      "\n",
      "Epoch 00121: val_loss did not improve from 1.70486\n",
      "Epoch 122/200\n",
      "32/32 [==============================] - 0s 6ms/step - loss: 1.5848 - accuracy: 0.5227 - val_loss: 1.7131 - val_accuracy: 0.5512\n",
      "\n",
      "Epoch 00122: val_loss did not improve from 1.70486\n",
      "Epoch 123/200\n",
      "32/32 [==============================] - 0s 6ms/step - loss: 1.6137 - accuracy: 0.5237 - val_loss: 1.7129 - val_accuracy: 0.5591\n",
      "\n",
      "Epoch 00123: val_loss did not improve from 1.70486\n",
      "Epoch 124/200\n",
      "32/32 [==============================] - 0s 6ms/step - loss: 1.5954 - accuracy: 0.5128 - val_loss: 1.7216 - val_accuracy: 0.5551\n",
      "\n",
      "Epoch 00124: val_loss did not improve from 1.70486\n",
      "Epoch 125/200\n",
      "32/32 [==============================] - 0s 6ms/step - loss: 1.6025 - accuracy: 0.5158 - val_loss: 1.7131 - val_accuracy: 0.5591\n",
      "\n",
      "Epoch 00125: val_loss did not improve from 1.70486\n",
      "Epoch 126/200\n",
      "32/32 [==============================] - 0s 6ms/step - loss: 1.5689 - accuracy: 0.5247 - val_loss: 1.7158 - val_accuracy: 0.5551\n",
      "\n",
      "Epoch 00126: val_loss did not improve from 1.70486\n",
      "Epoch 127/200\n",
      "32/32 [==============================] - 0s 6ms/step - loss: 1.5688 - accuracy: 0.5287 - val_loss: 1.7159 - val_accuracy: 0.5630\n",
      "\n",
      "Epoch 00127: val_loss did not improve from 1.70486\n",
      "Epoch 128/200\n",
      "32/32 [==============================] - 0s 6ms/step - loss: 1.5829 - accuracy: 0.5198 - val_loss: 1.7169 - val_accuracy: 0.5433\n",
      "\n",
      "Epoch 00128: val_loss did not improve from 1.70486\n",
      "Epoch 129/200\n",
      "32/32 [==============================] - 0s 6ms/step - loss: 1.5811 - accuracy: 0.5287 - val_loss: 1.7240 - val_accuracy: 0.5472\n",
      "\n",
      "Epoch 00129: val_loss did not improve from 1.70486\n",
      "Epoch 130/200\n",
      "32/32 [==============================] - 0s 6ms/step - loss: 1.5812 - accuracy: 0.5148 - val_loss: 1.7314 - val_accuracy: 0.5512\n",
      "\n",
      "Epoch 00130: val_loss did not improve from 1.70486\n",
      "Epoch 131/200\n",
      "32/32 [==============================] - 0s 6ms/step - loss: 1.5997 - accuracy: 0.5306 - val_loss: 1.7056 - val_accuracy: 0.5512\n",
      "\n",
      "Epoch 00131: val_loss did not improve from 1.70486\n",
      "Epoch 132/200\n",
      "32/32 [==============================] - 0s 6ms/step - loss: 1.5817 - accuracy: 0.5277 - val_loss: 1.7275 - val_accuracy: 0.5512\n",
      "\n",
      "Epoch 00132: val_loss did not improve from 1.70486\n",
      "Epoch 133/200\n",
      "32/32 [==============================] - 0s 5ms/step - loss: 1.5998 - accuracy: 0.5148 - val_loss: 1.7316 - val_accuracy: 0.5472\n",
      "\n",
      "Epoch 00133: val_loss did not improve from 1.70486\n",
      "Epoch 134/200\n",
      "32/32 [==============================] - 0s 6ms/step - loss: 1.5746 - accuracy: 0.5198 - val_loss: 1.7262 - val_accuracy: 0.5472\n",
      "\n",
      "Epoch 00134: val_loss did not improve from 1.70486\n",
      "Epoch 135/200\n",
      "32/32 [==============================] - 0s 6ms/step - loss: 1.5723 - accuracy: 0.5247 - val_loss: 1.7210 - val_accuracy: 0.5433\n",
      "\n",
      "Epoch 00135: val_loss did not improve from 1.70486\n",
      "Epoch 136/200\n",
      "32/32 [==============================] - 0s 5ms/step - loss: 1.5987 - accuracy: 0.5296 - val_loss: 1.7149 - val_accuracy: 0.5472\n",
      "\n",
      "Epoch 00136: val_loss did not improve from 1.70486\n",
      "Epoch 137/200\n",
      "32/32 [==============================] - 0s 5ms/step - loss: 1.5730 - accuracy: 0.5148 - val_loss: 1.7144 - val_accuracy: 0.5472\n",
      "\n",
      "Epoch 00137: val_loss did not improve from 1.70486\n",
      "Epoch 138/200\n",
      "32/32 [==============================] - 0s 6ms/step - loss: 1.5793 - accuracy: 0.5128 - val_loss: 1.7215 - val_accuracy: 0.5354\n",
      "\n",
      "Epoch 00138: val_loss did not improve from 1.70486\n",
      "Epoch 139/200\n",
      "32/32 [==============================] - 0s 5ms/step - loss: 1.5701 - accuracy: 0.5277 - val_loss: 1.7174 - val_accuracy: 0.5433\n",
      "\n",
      "Epoch 00139: val_loss did not improve from 1.70486\n",
      "Epoch 140/200\n",
      "32/32 [==============================] - 0s 10ms/step - loss: 1.5582 - accuracy: 0.5277 - val_loss: 1.7230 - val_accuracy: 0.5512\n",
      "\n",
      "Epoch 00140: val_loss did not improve from 1.70486\n",
      "Epoch 141/200\n",
      "32/32 [==============================] - 0s 11ms/step - loss: 1.5715 - accuracy: 0.5326 - val_loss: 1.7130 - val_accuracy: 0.5551\n",
      "\n",
      "Epoch 00141: val_loss did not improve from 1.70486\n",
      "Epoch 142/200\n",
      "32/32 [==============================] - 0s 11ms/step - loss: 1.5682 - accuracy: 0.5158 - val_loss: 1.7219 - val_accuracy: 0.5472\n",
      "\n",
      "Epoch 00142: val_loss did not improve from 1.70486\n",
      "Epoch 143/200\n",
      "32/32 [==============================] - 0s 6ms/step - loss: 1.5804 - accuracy: 0.5296 - val_loss: 1.7132 - val_accuracy: 0.5551\n",
      "\n",
      "Epoch 00143: val_loss did not improve from 1.70486\n",
      "Epoch 144/200\n",
      "32/32 [==============================] - 0s 6ms/step - loss: 1.5575 - accuracy: 0.5217 - val_loss: 1.7125 - val_accuracy: 0.5472\n",
      "\n",
      "Epoch 00144: val_loss did not improve from 1.70486\n",
      "Epoch 145/200\n",
      "32/32 [==============================] - 0s 6ms/step - loss: 1.5884 - accuracy: 0.5168 - val_loss: 1.7052 - val_accuracy: 0.5512\n",
      "\n",
      "Epoch 00145: val_loss did not improve from 1.70486\n",
      "Epoch 146/200\n",
      "32/32 [==============================] - 0s 6ms/step - loss: 1.5635 - accuracy: 0.5306 - val_loss: 1.6970 - val_accuracy: 0.5512\n",
      "\n",
      "Epoch 00146: val_loss improved from 1.70486 to 1.69699, saving model to ./audio_classification.hdf5\n",
      "Epoch 147/200\n",
      "32/32 [==============================] - 0s 5ms/step - loss: 1.5650 - accuracy: 0.5217 - val_loss: 1.7064 - val_accuracy: 0.5512\n",
      "\n",
      "Epoch 00147: val_loss did not improve from 1.69699\n",
      "Epoch 148/200\n",
      "32/32 [==============================] - 0s 6ms/step - loss: 1.5626 - accuracy: 0.5287 - val_loss: 1.7198 - val_accuracy: 0.5472\n",
      "\n",
      "Epoch 00148: val_loss did not improve from 1.69699\n",
      "Epoch 149/200\n",
      "32/32 [==============================] - 0s 6ms/step - loss: 1.5450 - accuracy: 0.5326 - val_loss: 1.7237 - val_accuracy: 0.5551\n",
      "\n",
      "Epoch 00149: val_loss did not improve from 1.69699\n",
      "Epoch 150/200\n",
      "32/32 [==============================] - 0s 6ms/step - loss: 1.5608 - accuracy: 0.5326 - val_loss: 1.7108 - val_accuracy: 0.5512\n",
      "\n",
      "Epoch 00150: val_loss did not improve from 1.69699\n",
      "Epoch 151/200\n",
      "32/32 [==============================] - 0s 6ms/step - loss: 1.5722 - accuracy: 0.5277 - val_loss: 1.7083 - val_accuracy: 0.5551\n",
      "\n",
      "Epoch 00151: val_loss did not improve from 1.69699\n",
      "Epoch 152/200\n",
      "32/32 [==============================] - 0s 5ms/step - loss: 1.5759 - accuracy: 0.5375 - val_loss: 1.7228 - val_accuracy: 0.5433\n",
      "\n",
      "Epoch 00152: val_loss did not improve from 1.69699\n",
      "Epoch 153/200\n",
      "32/32 [==============================] - 0s 6ms/step - loss: 1.5702 - accuracy: 0.5296 - val_loss: 1.7020 - val_accuracy: 0.5433\n",
      "\n",
      "Epoch 00153: val_loss did not improve from 1.69699\n",
      "Epoch 154/200\n",
      "32/32 [==============================] - 0s 6ms/step - loss: 1.5855 - accuracy: 0.5158 - val_loss: 1.7145 - val_accuracy: 0.5551\n",
      "\n",
      "Epoch 00154: val_loss did not improve from 1.69699\n",
      "Epoch 155/200\n",
      "32/32 [==============================] - 0s 6ms/step - loss: 1.5549 - accuracy: 0.5237 - val_loss: 1.7123 - val_accuracy: 0.5512\n",
      "\n",
      "Epoch 00155: val_loss did not improve from 1.69699\n",
      "Epoch 156/200\n",
      "32/32 [==============================] - 0s 6ms/step - loss: 1.5895 - accuracy: 0.5336 - val_loss: 1.7097 - val_accuracy: 0.5472\n",
      "\n",
      "Epoch 00156: val_loss did not improve from 1.69699\n",
      "Epoch 157/200\n",
      "32/32 [==============================] - 0s 6ms/step - loss: 1.5514 - accuracy: 0.5227 - val_loss: 1.7114 - val_accuracy: 0.5472\n",
      "\n",
      "Epoch 00157: val_loss did not improve from 1.69699\n",
      "Epoch 158/200\n",
      "32/32 [==============================] - 0s 6ms/step - loss: 1.5629 - accuracy: 0.5277 - val_loss: 1.7142 - val_accuracy: 0.5433\n",
      "\n",
      "Epoch 00158: val_loss did not improve from 1.69699\n",
      "Epoch 159/200\n",
      "32/32 [==============================] - 0s 6ms/step - loss: 1.5463 - accuracy: 0.5267 - val_loss: 1.7369 - val_accuracy: 0.5472\n",
      "\n",
      "Epoch 00159: val_loss did not improve from 1.69699\n",
      "Epoch 160/200\n",
      "32/32 [==============================] - 0s 6ms/step - loss: 1.5725 - accuracy: 0.5138 - val_loss: 1.7207 - val_accuracy: 0.5512\n",
      "\n",
      "Epoch 00160: val_loss did not improve from 1.69699\n",
      "Epoch 161/200\n",
      "32/32 [==============================] - 0s 6ms/step - loss: 1.5553 - accuracy: 0.5267 - val_loss: 1.7113 - val_accuracy: 0.5512\n",
      "\n",
      "Epoch 00161: val_loss did not improve from 1.69699\n",
      "Epoch 162/200\n",
      "32/32 [==============================] - 0s 6ms/step - loss: 1.5452 - accuracy: 0.5257 - val_loss: 1.7125 - val_accuracy: 0.5472\n",
      "\n",
      "Epoch 00162: val_loss did not improve from 1.69699\n",
      "Epoch 163/200\n",
      "32/32 [==============================] - 0s 6ms/step - loss: 1.5451 - accuracy: 0.5385 - val_loss: 1.7160 - val_accuracy: 0.5472\n",
      "\n",
      "Epoch 00163: val_loss did not improve from 1.69699\n",
      "Epoch 164/200\n",
      "32/32 [==============================] - 0s 6ms/step - loss: 1.5482 - accuracy: 0.5346 - val_loss: 1.7219 - val_accuracy: 0.5591\n",
      "\n",
      "Epoch 00164: val_loss did not improve from 1.69699\n",
      "Epoch 165/200\n",
      "32/32 [==============================] - 0s 6ms/step - loss: 1.5503 - accuracy: 0.5287 - val_loss: 1.7345 - val_accuracy: 0.5394\n",
      "\n",
      "Epoch 00165: val_loss did not improve from 1.69699\n",
      "Epoch 166/200\n",
      "32/32 [==============================] - 0s 6ms/step - loss: 1.5378 - accuracy: 0.5385 - val_loss: 1.7252 - val_accuracy: 0.5472\n",
      "\n",
      "Epoch 00166: val_loss did not improve from 1.69699\n",
      "Epoch 167/200\n",
      "32/32 [==============================] - 0s 6ms/step - loss: 1.5504 - accuracy: 0.5385 - val_loss: 1.7256 - val_accuracy: 0.5472\n",
      "\n",
      "Epoch 00167: val_loss did not improve from 1.69699\n",
      "Epoch 168/200\n",
      "32/32 [==============================] - 0s 5ms/step - loss: 1.5513 - accuracy: 0.5247 - val_loss: 1.7175 - val_accuracy: 0.5512\n",
      "\n",
      "Epoch 00168: val_loss did not improve from 1.69699\n",
      "Epoch 169/200\n",
      "32/32 [==============================] - 0s 5ms/step - loss: 1.5438 - accuracy: 0.5405 - val_loss: 1.7175 - val_accuracy: 0.5512\n",
      "\n",
      "Epoch 00169: val_loss did not improve from 1.69699\n",
      "Epoch 170/200\n",
      "32/32 [==============================] - 0s 6ms/step - loss: 1.5594 - accuracy: 0.5267 - val_loss: 1.7159 - val_accuracy: 0.5512\n",
      "\n",
      "Epoch 00170: val_loss did not improve from 1.69699\n",
      "Epoch 171/200\n",
      "32/32 [==============================] - 0s 6ms/step - loss: 1.5723 - accuracy: 0.5247 - val_loss: 1.7118 - val_accuracy: 0.5551\n",
      "\n",
      "Epoch 00171: val_loss did not improve from 1.69699\n",
      "Epoch 172/200\n",
      "32/32 [==============================] - 0s 6ms/step - loss: 1.5357 - accuracy: 0.5366 - val_loss: 1.7079 - val_accuracy: 0.5512\n",
      "\n",
      "Epoch 00172: val_loss did not improve from 1.69699\n",
      "Epoch 173/200\n",
      "32/32 [==============================] - 0s 6ms/step - loss: 1.5389 - accuracy: 0.5277 - val_loss: 1.7107 - val_accuracy: 0.5512\n",
      "\n",
      "Epoch 00173: val_loss did not improve from 1.69699\n",
      "Epoch 174/200\n",
      "32/32 [==============================] - 0s 6ms/step - loss: 1.5909 - accuracy: 0.5178 - val_loss: 1.7041 - val_accuracy: 0.5551\n",
      "\n",
      "Epoch 00174: val_loss did not improve from 1.69699\n",
      "Epoch 175/200\n",
      "32/32 [==============================] - 0s 6ms/step - loss: 1.5329 - accuracy: 0.5435 - val_loss: 1.7177 - val_accuracy: 0.5472\n",
      "\n",
      "Epoch 00175: val_loss did not improve from 1.69699\n",
      "Epoch 176/200\n",
      "32/32 [==============================] - 0s 5ms/step - loss: 1.5592 - accuracy: 0.5306 - val_loss: 1.7084 - val_accuracy: 0.5512\n",
      "\n",
      "Epoch 00176: val_loss did not improve from 1.69699\n",
      "Epoch 177/200\n",
      "32/32 [==============================] - 0s 5ms/step - loss: 1.5384 - accuracy: 0.5168 - val_loss: 1.7185 - val_accuracy: 0.5433\n",
      "\n",
      "Epoch 00177: val_loss did not improve from 1.69699\n",
      "Epoch 178/200\n",
      "32/32 [==============================] - 0s 6ms/step - loss: 1.5386 - accuracy: 0.5306 - val_loss: 1.7187 - val_accuracy: 0.5472\n",
      "\n",
      "Epoch 00178: val_loss did not improve from 1.69699\n",
      "Epoch 179/200\n",
      "32/32 [==============================] - 0s 5ms/step - loss: 1.5316 - accuracy: 0.5277 - val_loss: 1.7096 - val_accuracy: 0.5472\n",
      "\n",
      "Epoch 00179: val_loss did not improve from 1.69699\n",
      "Epoch 180/200\n",
      "32/32 [==============================] - 0s 5ms/step - loss: 1.5344 - accuracy: 0.5237 - val_loss: 1.7110 - val_accuracy: 0.5551\n",
      "\n",
      "Epoch 00180: val_loss did not improve from 1.69699\n",
      "Epoch 181/200\n",
      "32/32 [==============================] - 0s 5ms/step - loss: 1.5339 - accuracy: 0.5356 - val_loss: 1.7139 - val_accuracy: 0.5551\n",
      "\n",
      "Epoch 00181: val_loss did not improve from 1.69699\n",
      "Epoch 182/200\n",
      "32/32 [==============================] - 0s 5ms/step - loss: 1.5378 - accuracy: 0.5227 - val_loss: 1.6949 - val_accuracy: 0.5512\n",
      "\n",
      "Epoch 00182: val_loss improved from 1.69699 to 1.69488, saving model to ./audio_classification.hdf5\n",
      "Epoch 183/200\n",
      "32/32 [==============================] - 0s 5ms/step - loss: 1.5297 - accuracy: 0.5287 - val_loss: 1.7165 - val_accuracy: 0.5433\n",
      "\n",
      "Epoch 00183: val_loss did not improve from 1.69488\n",
      "Epoch 184/200\n",
      "32/32 [==============================] - 0s 5ms/step - loss: 1.5275 - accuracy: 0.5326 - val_loss: 1.7189 - val_accuracy: 0.5354\n",
      "\n",
      "Epoch 00184: val_loss did not improve from 1.69488\n",
      "Epoch 185/200\n",
      "32/32 [==============================] - 0s 5ms/step - loss: 1.5228 - accuracy: 0.5267 - val_loss: 1.7072 - val_accuracy: 0.5433\n",
      "\n",
      "Epoch 00185: val_loss did not improve from 1.69488\n",
      "Epoch 186/200\n",
      "32/32 [==============================] - 0s 5ms/step - loss: 1.5372 - accuracy: 0.5188 - val_loss: 1.6985 - val_accuracy: 0.5394\n",
      "\n",
      "Epoch 00186: val_loss did not improve from 1.69488\n",
      "Epoch 187/200\n",
      "32/32 [==============================] - 0s 5ms/step - loss: 1.5477 - accuracy: 0.5306 - val_loss: 1.6925 - val_accuracy: 0.5512\n",
      "\n",
      "Epoch 00187: val_loss improved from 1.69488 to 1.69246, saving model to ./audio_classification.hdf5\n",
      "Epoch 188/200\n",
      "32/32 [==============================] - 0s 5ms/step - loss: 1.5610 - accuracy: 0.5198 - val_loss: 1.7177 - val_accuracy: 0.5512\n",
      "\n",
      "Epoch 00188: val_loss did not improve from 1.69246\n",
      "Epoch 189/200\n",
      "32/32 [==============================] - 0s 6ms/step - loss: 1.5416 - accuracy: 0.5237 - val_loss: 1.6978 - val_accuracy: 0.5472\n",
      "\n",
      "Epoch 00189: val_loss did not improve from 1.69246\n",
      "Epoch 190/200\n",
      "32/32 [==============================] - 0s 6ms/step - loss: 1.5283 - accuracy: 0.5326 - val_loss: 1.7163 - val_accuracy: 0.5551\n",
      "\n",
      "Epoch 00190: val_loss did not improve from 1.69246\n",
      "Epoch 191/200\n",
      "32/32 [==============================] - 0s 6ms/step - loss: 1.5378 - accuracy: 0.5336 - val_loss: 1.7361 - val_accuracy: 0.5354\n",
      "\n",
      "Epoch 00191: val_loss did not improve from 1.69246\n",
      "Epoch 192/200\n",
      "32/32 [==============================] - 0s 6ms/step - loss: 1.5415 - accuracy: 0.5366 - val_loss: 1.7226 - val_accuracy: 0.5512\n",
      "\n",
      "Epoch 00192: val_loss did not improve from 1.69246\n",
      "Epoch 193/200\n",
      "32/32 [==============================] - 0s 6ms/step - loss: 1.5510 - accuracy: 0.5247 - val_loss: 1.7149 - val_accuracy: 0.5472\n",
      "\n",
      "Epoch 00193: val_loss did not improve from 1.69246\n",
      "Epoch 194/200\n",
      "32/32 [==============================] - 0s 6ms/step - loss: 1.5530 - accuracy: 0.5217 - val_loss: 1.7089 - val_accuracy: 0.5512\n",
      "\n",
      "Epoch 00194: val_loss did not improve from 1.69246\n",
      "Epoch 195/200\n",
      "32/32 [==============================] - 0s 6ms/step - loss: 1.5164 - accuracy: 0.5405 - val_loss: 1.7108 - val_accuracy: 0.5433\n",
      "\n",
      "Epoch 00195: val_loss did not improve from 1.69246\n",
      "Epoch 196/200\n",
      "32/32 [==============================] - 0s 6ms/step - loss: 1.5366 - accuracy: 0.5227 - val_loss: 1.7434 - val_accuracy: 0.5512\n",
      "\n",
      "Epoch 00196: val_loss did not improve from 1.69246\n",
      "Epoch 197/200\n",
      "32/32 [==============================] - 0s 8ms/step - loss: 1.5689 - accuracy: 0.5306 - val_loss: 1.7271 - val_accuracy: 0.5472\n",
      "\n",
      "Epoch 00197: val_loss did not improve from 1.69246\n",
      "Epoch 198/200\n",
      "32/32 [==============================] - 0s 5ms/step - loss: 1.5387 - accuracy: 0.5158 - val_loss: 1.7292 - val_accuracy: 0.5354\n",
      "\n",
      "Epoch 00198: val_loss did not improve from 1.69246\n",
      "Epoch 199/200\n",
      "32/32 [==============================] - 0s 6ms/step - loss: 1.5427 - accuracy: 0.5267 - val_loss: 1.7185 - val_accuracy: 0.5472\n",
      "\n",
      "Epoch 00199: val_loss did not improve from 1.69246\n",
      "Epoch 200/200\n",
      "32/32 [==============================] - 0s 6ms/step - loss: 1.5397 - accuracy: 0.5267 - val_loss: 1.7194 - val_accuracy: 0.5472\n",
      "\n",
      "Epoch 00200: val_loss did not improve from 1.69246\n",
      "Training completed in time:  0:00:41.793117\n"
     ]
    }
   ],
   "source": [
    "## Trianing my model\n",
    "from tensorflow.keras.callbacks import ModelCheckpoint\n",
    "from datetime import datetime \n",
    "num_epochs = 200\n",
    "num_batch_size = 32\n",
    "checkpointer = ModelCheckpoint(filepath='./audio_classification.hdf5', \n",
    "                               verbose=1, save_best_only=True)\n",
    "start = datetime.now()\n",
    "model.fit(X_train, y_train, batch_size=num_batch_size, epochs=num_epochs, validation_data=(X_test, y_test), callbacks=[checkpointer], verbose=1)\n",
    "duration = datetime.now() - start\n",
    "print(\"Training completed in time: \", duration)"
   ]
  },
  {
   "cell_type": "markdown",
   "id": "d2ad5863",
   "metadata": {
    "papermill": {
     "duration": 0.950464,
     "end_time": "2022-05-06T20:14:54.716617",
     "exception": false,
     "start_time": "2022-05-06T20:14:53.766153",
     "status": "completed"
    },
    "tags": []
   },
   "source": [
    "To fully understand what we are doing and change our code propperly we will make a little explanation"
   ]
  },
  {
   "cell_type": "code",
   "execution_count": 29,
   "id": "f6637be1",
   "metadata": {
    "execution": {
     "iopub.execute_input": "2022-05-06T20:14:56.515576Z",
     "iopub.status.busy": "2022-05-06T20:14:56.514871Z",
     "iopub.status.idle": "2022-05-06T20:14:56.519685Z",
     "shell.execute_reply": "2022-05-06T20:14:56.520231Z",
     "shell.execute_reply.started": "2022-05-06T19:38:49.467744Z"
    },
    "papermill": {
     "duration": 0.907922,
     "end_time": "2022-05-06T20:14:56.520431",
     "exception": false,
     "start_time": "2022-05-06T20:14:55.612509",
     "status": "completed"
    },
    "tags": []
   },
   "outputs": [],
   "source": [
    "y = np.array(extracted_features_df['primary_label'].tolist())"
   ]
  },
  {
   "cell_type": "code",
   "execution_count": 30,
   "id": "b364abed",
   "metadata": {
    "execution": {
     "iopub.execute_input": "2022-05-06T20:14:58.312178Z",
     "iopub.status.busy": "2022-05-06T20:14:58.311523Z",
     "iopub.status.idle": "2022-05-06T20:14:58.317017Z",
     "shell.execute_reply": "2022-05-06T20:14:58.317585Z",
     "shell.execute_reply.started": "2022-05-06T19:38:49.475822Z"
    },
    "papermill": {
     "duration": 0.898642,
     "end_time": "2022-05-06T20:14:58.317767",
     "exception": false,
     "start_time": "2022-05-06T20:14:57.419125",
     "status": "completed"
    },
    "tags": []
   },
   "outputs": [
    {
     "data": {
      "text/plain": [
       "array(['akiapo', 'akiapo', 'akiapo', ..., 'yefcan', 'yefcan', 'yefcan'],\n",
       "      dtype='<U7')"
      ]
     },
     "execution_count": 30,
     "metadata": {},
     "output_type": "execute_result"
    }
   ],
   "source": [
    "y"
   ]
  },
  {
   "cell_type": "markdown",
   "id": "4f906257",
   "metadata": {
    "papermill": {
     "duration": 0.888915,
     "end_time": "2022-05-06T20:15:00.105459",
     "exception": false,
     "start_time": "2022-05-06T20:14:59.216544",
     "status": "completed"
    },
    "tags": []
   },
   "source": [
    "we our dataset getting x and y being x the feature column and y the prymary label column"
   ]
  },
  {
   "cell_type": "markdown",
   "id": "6d897fe4",
   "metadata": {
    "papermill": {
     "duration": 0.914302,
     "end_time": "2022-05-06T20:15:01.911195",
     "exception": false,
     "start_time": "2022-05-06T20:15:00.996893",
     "status": "completed"
    },
    "tags": []
   },
   "source": []
  },
  {
   "cell_type": "code",
   "execution_count": 31,
   "id": "d4c3f463",
   "metadata": {
    "execution": {
     "iopub.execute_input": "2022-05-06T20:15:03.701850Z",
     "iopub.status.busy": "2022-05-06T20:15:03.701158Z",
     "iopub.status.idle": "2022-05-06T20:15:03.708253Z",
     "shell.execute_reply": "2022-05-06T20:15:03.707742Z",
     "shell.execute_reply.started": "2022-05-06T19:38:49.497311Z"
    },
    "papermill": {
     "duration": 0.900586,
     "end_time": "2022-05-06T20:15:03.708394",
     "exception": false,
     "start_time": "2022-05-06T20:15:02.807808",
     "status": "completed"
    },
    "tags": []
   },
   "outputs": [
    {
     "data": {
      "text/plain": [
       "array([ 0,  0,  0, ..., 20, 20, 20])"
      ]
     },
     "execution_count": 31,
     "metadata": {},
     "output_type": "execute_result"
    }
   ],
   "source": [
    "labelencoder.fit_transform(y)"
   ]
  },
  {
   "cell_type": "markdown",
   "id": "9c11d387",
   "metadata": {
    "papermill": {
     "duration": 0.896251,
     "end_time": "2022-05-06T20:15:05.500491",
     "exception": false,
     "start_time": "2022-05-06T20:15:04.604240",
     "status": "completed"
    },
    "tags": []
   },
   "source": [
    "we trnasform into an array with the  names as numbers"
   ]
  },
  {
   "cell_type": "code",
   "execution_count": 32,
   "id": "a4b941fd",
   "metadata": {
    "execution": {
     "iopub.execute_input": "2022-05-06T20:15:07.287247Z",
     "iopub.status.busy": "2022-05-06T20:15:07.286444Z",
     "iopub.status.idle": "2022-05-06T20:15:07.290633Z",
     "shell.execute_reply": "2022-05-06T20:15:07.290034Z",
     "shell.execute_reply.started": "2022-05-06T19:38:49.514321Z"
    },
    "papermill": {
     "duration": 0.899321,
     "end_time": "2022-05-06T20:15:07.290799",
     "exception": false,
     "start_time": "2022-05-06T20:15:06.391478",
     "status": "completed"
    },
    "tags": []
   },
   "outputs": [],
   "source": [
    "y = to_categorical(labelencoder.fit_transform(y))"
   ]
  },
  {
   "cell_type": "code",
   "execution_count": 33,
   "id": "d78f416a",
   "metadata": {
    "execution": {
     "iopub.execute_input": "2022-05-06T20:15:09.151877Z",
     "iopub.status.busy": "2022-05-06T20:15:09.151187Z",
     "iopub.status.idle": "2022-05-06T20:15:09.156890Z",
     "shell.execute_reply": "2022-05-06T20:15:09.157404Z",
     "shell.execute_reply.started": "2022-05-06T19:38:49.548733Z"
    },
    "papermill": {
     "duration": 0.910717,
     "end_time": "2022-05-06T20:15:09.157606",
     "exception": false,
     "start_time": "2022-05-06T20:15:08.246889",
     "status": "completed"
    },
    "tags": []
   },
   "outputs": [],
   "source": [
    "X = np.array(extracted_features_df['feature'].tolist())"
   ]
  },
  {
   "cell_type": "code",
   "execution_count": 34,
   "id": "db5d69c6",
   "metadata": {
    "execution": {
     "iopub.execute_input": "2022-05-06T20:15:10.953661Z",
     "iopub.status.busy": "2022-05-06T20:15:10.952976Z",
     "iopub.status.idle": "2022-05-06T20:15:11.043170Z",
     "shell.execute_reply": "2022-05-06T20:15:11.043686Z",
     "shell.execute_reply.started": "2022-05-06T19:38:49.662923Z"
    },
    "papermill": {
     "duration": 0.988614,
     "end_time": "2022-05-06T20:15:11.043874",
     "exception": false,
     "start_time": "2022-05-06T20:15:10.055260",
     "status": "completed"
    },
    "tags": []
   },
   "outputs": [
    {
     "name": "stdout",
     "output_type": "stream",
     "text": [
      "0.5472440719604492\n"
     ]
    }
   ],
   "source": [
    "\n",
    "# Let's check the accuracy!\n",
    "test_accuracy=model.evaluate(X_test,y_test,verbose=0)\n",
    "print(test_accuracy[1])"
   ]
  },
  {
   "cell_type": "code",
   "execution_count": 35,
   "id": "c19c7f51",
   "metadata": {
    "execution": {
     "iopub.execute_input": "2022-05-06T20:15:12.929007Z",
     "iopub.status.busy": "2022-05-06T20:15:12.926401Z",
     "iopub.status.idle": "2022-05-06T20:15:13.107548Z",
     "shell.execute_reply": "2022-05-06T20:15:13.106940Z",
     "shell.execute_reply.started": "2022-05-06T19:38:49.761716Z"
    },
    "papermill": {
     "duration": 1.11463,
     "end_time": "2022-05-06T20:15:13.107731",
     "exception": false,
     "start_time": "2022-05-06T20:15:11.993101",
     "status": "completed"
    },
    "tags": []
   },
   "outputs": [
    {
     "data": {
      "text/plain": [
       "array([5.17239459e-05, 5.34936134e-03, 1.26874968e-02, 2.74022091e-02,\n",
       "       1.60916452e-03, 8.56379513e-03, 2.99809937e-04, 3.08247004e-02,\n",
       "       5.05272578e-03, 5.70100136e-02, 1.93473580e-03, 1.51218325e-02,\n",
       "       3.84078361e-02, 2.02207025e-02, 2.13849008e-01, 2.71161957e-06,\n",
       "       7.75614753e-03, 2.23963964e-03, 1.48060769e-01, 3.32042515e-01,\n",
       "       7.15131387e-02], dtype=float32)"
      ]
     },
     "execution_count": 35,
     "metadata": {},
     "output_type": "execute_result"
    }
   ],
   "source": [
    "predict_x = model.predict(X_test)\n",
    "classes_x = np.argmax(predict_x, axis = 1)\n",
    "predict_x[1]"
   ]
  },
  {
   "cell_type": "code",
   "execution_count": 36,
   "id": "86a08d1d",
   "metadata": {
    "execution": {
     "iopub.execute_input": "2022-05-06T20:15:14.930764Z",
     "iopub.status.busy": "2022-05-06T20:15:14.930055Z",
     "iopub.status.idle": "2022-05-06T20:15:14.936312Z",
     "shell.execute_reply": "2022-05-06T20:15:14.936900Z",
     "shell.execute_reply.started": "2022-05-06T19:38:49.959697Z"
    },
    "papermill": {
     "duration": 0.919165,
     "end_time": "2022-05-06T20:15:14.937083",
     "exception": false,
     "start_time": "2022-05-06T20:15:14.017918",
     "status": "completed"
    },
    "tags": []
   },
   "outputs": [],
   "source": [
    "test_audio_dir = '../input/birdclef-2022/test_soundscapes/'\n",
    "file_list = [f.split('.')[0] for f in sorted(os.listdir(test_audio_dir))]"
   ]
  },
  {
   "cell_type": "code",
   "execution_count": 37,
   "id": "9a53268a",
   "metadata": {
    "execution": {
     "iopub.execute_input": "2022-05-06T20:15:16.762576Z",
     "iopub.status.busy": "2022-05-06T20:15:16.761613Z",
     "iopub.status.idle": "2022-05-06T20:15:16.770299Z",
     "shell.execute_reply": "2022-05-06T20:15:16.770995Z",
     "shell.execute_reply.started": "2022-05-06T19:38:49.971293Z"
    },
    "papermill": {
     "duration": 0.93237,
     "end_time": "2022-05-06T20:15:16.771192",
     "exception": false,
     "start_time": "2022-05-06T20:15:15.838822",
     "status": "completed"
    },
    "tags": []
   },
   "outputs": [],
   "source": [
    "with open('../input/birdclef-2022/scored_birds.json') as sbfile:\n",
    "    scored_birds = json.load(sbfile)"
   ]
  },
  {
   "cell_type": "code",
   "execution_count": 38,
   "id": "e101dca4",
   "metadata": {
    "execution": {
     "iopub.execute_input": "2022-05-06T20:15:18.570219Z",
     "iopub.status.busy": "2022-05-06T20:15:18.569130Z",
     "iopub.status.idle": "2022-05-06T20:15:18.571520Z",
     "shell.execute_reply": "2022-05-06T20:15:18.571981Z",
     "shell.execute_reply.started": "2022-05-06T19:38:49.982868Z"
    },
    "papermill": {
     "duration": 0.901649,
     "end_time": "2022-05-06T20:15:18.572162",
     "exception": false,
     "start_time": "2022-05-06T20:15:17.670513",
     "status": "completed"
    },
    "tags": []
   },
   "outputs": [],
   "source": [
    "pred = {'row_id': [], 'target': []}"
   ]
  },
  {
   "cell_type": "code",
   "execution_count": 39,
   "id": "ec1f17d3",
   "metadata": {
    "execution": {
     "iopub.execute_input": "2022-05-06T20:15:20.375249Z",
     "iopub.status.busy": "2022-05-06T20:15:20.374285Z",
     "iopub.status.idle": "2022-05-06T20:15:20.377800Z",
     "shell.execute_reply": "2022-05-06T20:15:20.377236Z",
     "shell.execute_reply.started": "2022-05-06T19:38:49.997543Z"
    },
    "papermill": {
     "duration": 0.908617,
     "end_time": "2022-05-06T20:15:20.377946",
     "exception": false,
     "start_time": "2022-05-06T20:15:19.469329",
     "status": "completed"
    },
    "tags": []
   },
   "outputs": [],
   "source": [
    "# Process audio files and make predictions\n",
    "for afile in file_list:\n",
    "    \n",
    "    # Complete file path\n",
    "    path = test_audio_dir + afile + '.ogg'\n",
    "    \n",
    "    # Open file with librosa and split signal into 5-second chunks\n",
    "    # sig, rate = librosa.load(path)\n",
    "    # ...\n",
    "    \n",
    "    # Let's assume we have a list of 12 audio chunks (1min / 5s == 12 segments)\n",
    "    chunks = [[] for i in range(12)]"
   ]
  },
  {
   "cell_type": "code",
   "execution_count": 40,
   "id": "b53d2466",
   "metadata": {
    "execution": {
     "iopub.execute_input": "2022-05-06T20:15:22.174564Z",
     "iopub.status.busy": "2022-05-06T20:15:22.173907Z",
     "iopub.status.idle": "2022-05-06T20:15:22.176912Z",
     "shell.execute_reply": "2022-05-06T20:15:22.177358Z",
     "shell.execute_reply.started": "2022-05-06T19:38:50.016075Z"
    },
    "papermill": {
     "duration": 0.907972,
     "end_time": "2022-05-06T20:15:22.177547",
     "exception": false,
     "start_time": "2022-05-06T20:15:21.269575",
     "status": "completed"
    },
    "tags": []
   },
   "outputs": [
    {
     "data": {
      "text/plain": [
       "[[], [], [], [], [], [], [], [], [], [], [], []]"
      ]
     },
     "execution_count": 40,
     "metadata": {},
     "output_type": "execute_result"
    }
   ],
   "source": [
    "chunks"
   ]
  },
  {
   "cell_type": "code",
   "execution_count": 41,
   "id": "f95871b3",
   "metadata": {
    "execution": {
     "iopub.execute_input": "2022-05-06T20:15:24.071063Z",
     "iopub.status.busy": "2022-05-06T20:15:24.049797Z",
     "iopub.status.idle": "2022-05-06T20:15:24.206790Z",
     "shell.execute_reply": "2022-05-06T20:15:24.206194Z",
     "shell.execute_reply.started": "2022-05-06T19:38:50.034103Z"
    },
    "papermill": {
     "duration": 1.076846,
     "end_time": "2022-05-06T20:15:24.206944",
     "exception": false,
     "start_time": "2022-05-06T20:15:23.130098",
     "status": "completed"
    },
    "tags": []
   },
   "outputs": [
    {
     "name": "stdout",
     "output_type": "stream",
     "text": [
      "0\n",
      "0.0\n"
     ]
    }
   ],
   "source": [
    "# to check our prediction, those are the strings we need to compare:\n",
    "a = 0\n",
    "for i in range(len(y_test)):\n",
    "    if str(y_test[i])==str(predict_x[i]).replace(\".\", \"\"):\n",
    "        a=a+1\n",
    "print(a)\n",
    "print(a/len(y_test))"
   ]
  },
  {
   "cell_type": "code",
   "execution_count": 42,
   "id": "1344f7f7",
   "metadata": {
    "execution": {
     "iopub.execute_input": "2022-05-06T20:15:26.012487Z",
     "iopub.status.busy": "2022-05-06T20:15:26.011409Z",
     "iopub.status.idle": "2022-05-06T20:15:26.018809Z",
     "shell.execute_reply": "2022-05-06T20:15:26.019262Z",
     "shell.execute_reply.started": "2022-05-06T19:38:50.208210Z"
    },
    "papermill": {
     "duration": 0.907344,
     "end_time": "2022-05-06T20:15:26.019456",
     "exception": false,
     "start_time": "2022-05-06T20:15:25.112112",
     "status": "completed"
    },
    "tags": []
   },
   "outputs": [
    {
     "data": {
      "text/plain": [
       "array([[1., 0., 0., ..., 0., 0., 0.],\n",
       "       [1., 0., 0., ..., 0., 0., 0.],\n",
       "       [1., 0., 0., ..., 0., 0., 0.],\n",
       "       ...,\n",
       "       [0., 0., 0., ..., 0., 0., 1.],\n",
       "       [0., 0., 0., ..., 0., 0., 1.],\n",
       "       [0., 0., 0., ..., 0., 0., 1.]], dtype=float32)"
      ]
     },
     "execution_count": 42,
     "metadata": {},
     "output_type": "execute_result"
    }
   ],
   "source": [
    "y_test.shape\n",
    "predict_x.shape\n",
    "from sklearn.metrics import accuracy_score\n",
    "from sklearn.metrics import f1_score\n",
    "#score = f1_score(str(y_test[1]),str(predict_x[1]).replace(\".\", \"\"), average = None)\n",
    "#fil_acc_orig = accuracy_score(X_test,predict_x)\n",
    "\n",
    "X_test\n",
    "\n",
    "y\n",
    "\n"
   ]
  },
  {
   "cell_type": "markdown",
   "id": "9dc75e7b",
   "metadata": {
    "papermill": {
     "duration": 0.889981,
     "end_time": "2022-05-06T20:15:27.800109",
     "exception": false,
     "start_time": "2022-05-06T20:15:26.910128",
     "status": "completed"
    },
    "tags": []
   },
   "source": [
    "Let's prepare the test file to create the submision csv"
   ]
  },
  {
   "cell_type": "code",
   "execution_count": 43,
   "id": "e48eb4cc",
   "metadata": {
    "execution": {
     "iopub.execute_input": "2022-05-06T20:15:29.604790Z",
     "iopub.status.busy": "2022-05-06T20:15:29.601169Z",
     "iopub.status.idle": "2022-05-06T20:15:31.794170Z",
     "shell.execute_reply": "2022-05-06T20:15:31.793586Z",
     "shell.execute_reply.started": "2022-05-06T19:38:50.220375Z"
    },
    "papermill": {
     "duration": 3.096302,
     "end_time": "2022-05-06T20:15:31.794325",
     "exception": false,
     "start_time": "2022-05-06T20:15:28.698023",
     "status": "completed"
    },
    "tags": []
   },
   "outputs": [
    {
     "name": "stdout",
     "output_type": "stream",
     "text": [
      "exporting 0.ogg\n",
      "exporting 1.ogg\n",
      "exporting 2.ogg\n",
      "exporting 3.ogg\n",
      "exporting 4.ogg\n",
      "exporting 5.ogg\n",
      "exporting 6.ogg\n",
      "exporting 7.ogg\n",
      "exporting 8.ogg\n",
      "exporting 9.ogg\n",
      "exporting 10.ogg\n",
      "exporting 11.ogg\n"
     ]
    }
   ],
   "source": [
    "# we will divide the test audio in 12 audios of 5 seconds.\n",
    "\n",
    "from pydub import AudioSegment\n",
    "from pydub.utils import make_chunks \n",
    "sound = AudioSegment.from_file(\"../input/birdclef-2022/test_soundscapes/soundscape_453028782.ogg\")\n",
    "\n",
    "chunk_length_ms = 5000 # pydub calculates in millisec \n",
    "chunks = make_chunks(sound,chunk_length_ms) #Make chunks of one sec \n",
    "for i, chunk in enumerate(chunks): \n",
    "    chunk_name = \"{0}.ogg\".format(i) \n",
    "    print (\"exporting\", chunk_name) \n",
    "    chunk.export(chunk_name, format=\"ogg\") \n"
   ]
  },
  {
   "cell_type": "code",
   "execution_count": 44,
   "id": "c7ed1d17",
   "metadata": {
    "execution": {
     "iopub.execute_input": "2022-05-06T20:15:33.614296Z",
     "iopub.status.busy": "2022-05-06T20:15:33.613503Z",
     "iopub.status.idle": "2022-05-06T20:15:34.898842Z",
     "shell.execute_reply": "2022-05-06T20:15:34.899753Z",
     "shell.execute_reply.started": "2022-05-06T19:38:52.518970Z"
    },
    "papermill": {
     "duration": 2.206908,
     "end_time": "2022-05-06T20:15:34.900070",
     "exception": false,
     "start_time": "2022-05-06T20:15:32.693162",
     "status": "completed"
    },
    "tags": []
   },
   "outputs": [],
   "source": [
    "# Lets stract the features\n",
    "import librosa\n",
    "import numpy as np\n",
    "\n",
    "def features_extractor(file):\n",
    "    #load the file (audio)\n",
    "    audio, sample_rate = librosa.load(file_name, res_type='kaiser_fast') \n",
    "    #we extract mfcc\n",
    "    mfccs_features = librosa.feature.mfcc(y=audio, sr=sample_rate, n_mfcc=40)\n",
    "    #in order to find out scaled feature we do mean of transpose of value\n",
    "    mfccs_scaled_features = np.mean(mfccs_features.T,axis=0)\n",
    "    return mfccs_scaled_features\n",
    "\n",
    "\n",
    "import os\n",
    "extracted_features_=[]\n",
    "for i in range(0,12):\n",
    "    file_name = os.path.join(os.path.abspath(\"./\"),str(i) + \".ogg\")\n",
    "    data=features_extractor(file_name)\n",
    "    extracted_features_.append([data])"
   ]
  },
  {
   "cell_type": "code",
   "execution_count": 45,
   "id": "6962d782",
   "metadata": {
    "execution": {
     "iopub.execute_input": "2022-05-06T20:15:36.834617Z",
     "iopub.status.busy": "2022-05-06T20:15:36.833919Z",
     "iopub.status.idle": "2022-05-06T20:15:36.837266Z",
     "shell.execute_reply": "2022-05-06T20:15:36.836735Z",
     "shell.execute_reply.started": "2022-05-06T19:38:53.927110Z"
    },
    "papermill": {
     "duration": 0.989712,
     "end_time": "2022-05-06T20:15:36.837442",
     "exception": false,
     "start_time": "2022-05-06T20:15:35.847730",
     "status": "completed"
    },
    "tags": []
   },
   "outputs": [],
   "source": [
    "import pandas as pd\n",
    "extracted_features_df_=pd.DataFrame(extracted_features_,columns=['feature'])"
   ]
  },
  {
   "cell_type": "code",
   "execution_count": 46,
   "id": "b3db4c76",
   "metadata": {
    "execution": {
     "iopub.execute_input": "2022-05-06T20:15:38.808578Z",
     "iopub.status.busy": "2022-05-06T20:15:38.807890Z",
     "iopub.status.idle": "2022-05-06T20:15:38.814269Z",
     "shell.execute_reply": "2022-05-06T20:15:38.814882Z",
     "shell.execute_reply.started": "2022-05-06T19:38:53.939908Z"
    },
    "papermill": {
     "duration": 0.916194,
     "end_time": "2022-05-06T20:15:38.815057",
     "exception": false,
     "start_time": "2022-05-06T20:15:37.898863",
     "status": "completed"
    },
    "tags": []
   },
   "outputs": [
    {
     "data": {
      "text/plain": [
       "(12, 40)"
      ]
     },
     "execution_count": 46,
     "metadata": {},
     "output_type": "execute_result"
    }
   ],
   "source": [
    "X_=np.array(extracted_features_df_['feature'].tolist())\n",
    "X_.shape"
   ]
  },
  {
   "cell_type": "code",
   "execution_count": 47,
   "id": "ca51539b",
   "metadata": {
    "execution": {
     "iopub.execute_input": "2022-05-06T20:15:40.657511Z",
     "iopub.status.busy": "2022-05-06T20:15:40.656506Z",
     "iopub.status.idle": "2022-05-06T20:15:40.666571Z",
     "shell.execute_reply": "2022-05-06T20:15:40.667223Z",
     "shell.execute_reply.started": "2022-05-06T19:38:53.971217Z"
    },
    "papermill": {
     "duration": 0.923879,
     "end_time": "2022-05-06T20:15:40.667432",
     "exception": false,
     "start_time": "2022-05-06T20:15:39.743553",
     "status": "completed"
    },
    "tags": []
   },
   "outputs": [
    {
     "name": "stdout",
     "output_type": "stream",
     "text": [
      "[[-2.68570679e+02  4.70512772e+00  3.21278267e+01 -1.25231256e+01\n",
      "  -1.18632615e+00  2.94563313e+01  9.07198489e-02]\n",
      " [-2.72702209e+02  8.94261265e+00  3.13472729e+01 -1.08458481e+01\n",
      "   9.88035917e-01  2.80058937e+01  1.94024754e+00]\n",
      " [-2.57900238e+02  2.91942954e+00  3.10720539e+01 -1.11971140e+01\n",
      "  -2.63656330e+00  2.65794678e+01 -9.72614169e-01]\n",
      " [-2.72159210e+02  5.95474768e+00  2.95870686e+01 -8.96205902e+00\n",
      "  -5.22896111e-01  2.67548599e+01  1.50386417e+00]\n",
      " [-2.80691986e+02  8.83075428e+00  3.10932579e+01 -7.29495478e+00\n",
      "   1.49750245e+00  2.62910881e+01  1.86083746e+00]\n",
      " [-2.74872406e+02  5.19761133e+00  3.10166111e+01 -1.00028162e+01\n",
      "   4.59903508e-01  2.81969223e+01  6.38194621e-01]\n",
      " [-2.79120972e+02  3.11973858e+00  3.01768780e+01 -1.11472731e+01\n",
      "  -2.07206893e+00  2.92396030e+01 -9.34103370e-01]\n",
      " [-2.75581329e+02  2.34145832e+00  3.00929909e+01 -1.01638098e+01\n",
      "  -1.47564411e+00  2.83575916e+01 -4.37796950e-01]\n",
      " [-2.70145905e+02  3.81017947e+00  3.10983391e+01 -1.05802002e+01\n",
      "  -1.42007196e+00  2.79252396e+01  3.90367895e-01]\n",
      " [-2.60073425e+02  2.32584357e+00  3.16244736e+01 -1.08415184e+01\n",
      "  -3.18595147e+00  2.74968224e+01 -4.51277405e-01]\n",
      " [-2.66767944e+02  3.62964034e+00  3.08802147e+01 -1.14470415e+01\n",
      "  -4.00212049e+00  2.74267044e+01 -1.49581373e+00]\n",
      " [-2.72565308e+02  1.10379324e+01  3.09715862e+01 -6.67214632e+00\n",
      "   1.12226844e+00  2.61658726e+01  3.43583846e+00]]\n"
     ]
    },
    {
     "data": {
      "text/plain": [
       "12"
      ]
     },
     "execution_count": 47,
     "metadata": {},
     "output_type": "execute_result"
    }
   ],
   "source": [
    "X_prueba = X_\n",
    "X_prueb = X_prueba.tolist()\n",
    "X_pru = []\n",
    "X_pri = []\n",
    "\n",
    "for i in range(len(X_)):\n",
    "    for j in range(0,40):\n",
    "        if j==6 or j==8 or j==9 or j==4 or j==0 or j==5 or j==12:\n",
    "            X_pru.append(X_prueb[i][j])\n",
    "    X_pri.append(X_pru)\n",
    "    X_pru = []\n",
    "            \n",
    "                \n",
    "X_pro = np.array([np.array(xi) for xi in X_pri])\n",
    "print(X_pro)\n",
    "len(X_pro)"
   ]
  },
  {
   "cell_type": "code",
   "execution_count": 48,
   "id": "6b726167",
   "metadata": {
    "execution": {
     "iopub.execute_input": "2022-05-06T20:15:42.539250Z",
     "iopub.status.busy": "2022-05-06T20:15:42.538276Z",
     "iopub.status.idle": "2022-05-06T20:15:42.544203Z",
     "shell.execute_reply": "2022-05-06T20:15:42.544699Z",
     "shell.execute_reply.started": "2022-05-06T19:38:54.020684Z"
    },
    "papermill": {
     "duration": 0.966731,
     "end_time": "2022-05-06T20:15:42.544878",
     "exception": false,
     "start_time": "2022-05-06T20:15:41.578147",
     "status": "completed"
    },
    "tags": []
   },
   "outputs": [],
   "source": [
    "with open('../input/birdclef-2022/scored_birds.json') as sbfile:\n",
    "    scored_birds = json.load(sbfile)"
   ]
  },
  {
   "cell_type": "code",
   "execution_count": 49,
   "id": "66d88d15",
   "metadata": {
    "execution": {
     "iopub.execute_input": "2022-05-06T20:15:44.517615Z",
     "iopub.status.busy": "2022-05-06T20:15:44.516469Z",
     "iopub.status.idle": "2022-05-06T20:15:44.518679Z",
     "shell.execute_reply": "2022-05-06T20:15:44.519177Z",
     "shell.execute_reply.started": "2022-05-06T19:38:54.041359Z"
    },
    "papermill": {
     "duration": 0.952388,
     "end_time": "2022-05-06T20:15:44.519516",
     "exception": false,
     "start_time": "2022-05-06T20:15:43.567128",
     "status": "completed"
    },
    "tags": []
   },
   "outputs": [],
   "source": [
    "scored_birds_ = to_categorical(labelencoder.fit_transform(scored_birds))"
   ]
  },
  {
   "cell_type": "code",
   "execution_count": 50,
   "id": "5b346b25",
   "metadata": {
    "execution": {
     "iopub.execute_input": "2022-05-06T20:15:46.369618Z",
     "iopub.status.busy": "2022-05-06T20:15:46.368668Z",
     "iopub.status.idle": "2022-05-06T20:15:49.446661Z",
     "shell.execute_reply": "2022-05-06T20:15:49.447327Z",
     "shell.execute_reply.started": "2022-05-06T19:38:54.143086Z"
    },
    "papermill": {
     "duration": 3.994358,
     "end_time": "2022-05-06T20:15:49.447569",
     "exception": false,
     "start_time": "2022-05-06T20:15:45.453211",
     "status": "completed"
    },
    "tags": []
   },
   "outputs": [
    {
     "name": "stdout",
     "output_type": "stream",
     "text": [
      "[]\n"
     ]
    }
   ],
   "source": [
    "score = []\n",
    "scored_birds_.tolist()\n",
    "predict_x.tolist()\n",
    "for i in range(len(scored_birds_)):\n",
    "    for j in range(len(predict_x)):\n",
    "        if str(scored_birds_[i]).replace(\".\", \"\") == str(predict_x[j]).replace(\".\", \"\"):\n",
    "            score.append(scored_birds[i])\n",
    "print(score)\n"
   ]
  },
  {
   "cell_type": "code",
   "execution_count": 51,
   "id": "075606fa",
   "metadata": {
    "execution": {
     "iopub.execute_input": "2022-05-06T20:15:51.257251Z",
     "iopub.status.busy": "2022-05-06T20:15:51.256320Z",
     "iopub.status.idle": "2022-05-06T20:15:51.324753Z",
     "shell.execute_reply": "2022-05-06T20:15:51.323938Z",
     "shell.execute_reply.started": "2022-05-06T19:52:31.405639Z"
    },
    "papermill": {
     "duration": 0.973281,
     "end_time": "2022-05-06T20:15:51.324913",
     "exception": false,
     "start_time": "2022-05-06T20:15:50.351632",
     "status": "completed"
    },
    "tags": []
   },
   "outputs": [],
   "source": [
    "predict__=model.predict(X_pro)"
   ]
  },
  {
   "cell_type": "code",
   "execution_count": 52,
   "id": "5e42fd50",
   "metadata": {
    "execution": {
     "iopub.execute_input": "2022-05-06T20:15:53.171299Z",
     "iopub.status.busy": "2022-05-06T20:15:53.165164Z",
     "iopub.status.idle": "2022-05-06T20:15:53.174823Z",
     "shell.execute_reply": "2022-05-06T20:15:53.175291Z",
     "shell.execute_reply.started": "2022-05-06T19:38:57.740463Z"
    },
    "papermill": {
     "duration": 0.932329,
     "end_time": "2022-05-06T20:15:53.175525",
     "exception": false,
     "start_time": "2022-05-06T20:15:52.243196",
     "status": "completed"
    },
    "tags": []
   },
   "outputs": [],
   "source": [
    "# This is where we will store our results\n",
    "pred = {'row_id': [], 'target': []}\n",
    "\n",
    "# Process audio files and make predictions\n",
    "for afile in file_list:\n",
    "    \n",
    "    # Complete file path\n",
    "    path = test_audio_dir + afile + '.ogg'\n",
    "    \n",
    "    # Open file with librosa and split signal into 5-second chunks\n",
    "    # sig, rate = librosa.load(path)\n",
    "    # ...\n",
    "    \n",
    "    # Let's assume we have a list of 12 audio chunks (1min / 5s == 12 segments)\n",
    "    chunks = [[] for i in range(12)]\n",
    "    \n",
    "    # Make prediction for each chunk\n",
    "    # Each scored bird gets a random value in our case\n",
    "    # since we don't actually have a model\n",
    "    for i in range(len(chunks)):        \n",
    "        chunk_end_time = (i + 1) * 5\n",
    "        j=0\n",
    "        for bird in scored_birds:\n",
    "            \n",
    "            # This is our random prediction score for this bird\n",
    "            score = predict__[i][j]\n",
    "            j=j+1\n",
    "            # Assemble the row_id which we need to do for each scored bird\n",
    "            row_id = afile + '_' + bird + '_' + str(chunk_end_time)\n",
    "            \n",
    "            # Put the result into our prediction dict and\n",
    "            # apply a \"confidence\" threshold of 0.5\n",
    "            pred['row_id'].append(row_id)\n",
    "            pred['target'].append(True if score > 0.5 else False)"
   ]
  },
  {
   "cell_type": "code",
   "execution_count": 53,
   "id": "3d66e898",
   "metadata": {
    "execution": {
     "iopub.execute_input": "2022-05-06T20:15:54.992672Z",
     "iopub.status.busy": "2022-05-06T20:15:54.992005Z",
     "iopub.status.idle": "2022-05-06T20:15:55.864252Z",
     "shell.execute_reply": "2022-05-06T20:15:55.864898Z",
     "shell.execute_reply.started": "2022-05-06T19:38:57.755075Z"
    },
    "papermill": {
     "duration": 1.784797,
     "end_time": "2022-05-06T20:15:55.865131",
     "exception": false,
     "start_time": "2022-05-06T20:15:54.080334",
     "status": "completed"
    },
    "tags": []
   },
   "outputs": [],
   "source": [
    "from sklearn.ensemble import RandomForestClassifier\n",
    "\n",
    "cls = RandomForestClassifier(random_state=0)\n",
    "cls.fit(X_train, y_train)\n",
    "\n",
    "z = cls.predict_proba(X_test)"
   ]
  },
  {
   "cell_type": "code",
   "execution_count": 54,
   "id": "f15f66ea",
   "metadata": {
    "execution": {
     "iopub.execute_input": "2022-05-06T20:15:57.747601Z",
     "iopub.status.busy": "2022-05-06T20:15:57.746906Z",
     "iopub.status.idle": "2022-05-06T20:15:57.750982Z",
     "shell.execute_reply": "2022-05-06T20:15:57.751659Z",
     "shell.execute_reply.started": "2022-05-06T19:38:58.752084Z"
    },
    "papermill": {
     "duration": 0.937907,
     "end_time": "2022-05-06T20:15:57.751861",
     "exception": false,
     "start_time": "2022-05-06T20:15:56.813954",
     "status": "completed"
    },
    "tags": []
   },
   "outputs": [],
   "source": [
    "from sklearn.svm import LinearSVC\n",
    "from sklearn.pipeline import make_pipeline\n",
    "from sklearn.preprocessing import StandardScaler"
   ]
  },
  {
   "cell_type": "code",
   "execution_count": 55,
   "id": "8d288d23",
   "metadata": {
    "execution": {
     "iopub.execute_input": "2022-05-06T20:15:59.675965Z",
     "iopub.status.busy": "2022-05-06T20:15:59.671202Z",
     "iopub.status.idle": "2022-05-06T20:15:59.754970Z",
     "shell.execute_reply": "2022-05-06T20:15:59.755591Z",
     "shell.execute_reply.started": "2022-05-06T19:38:58.759756Z"
    },
    "papermill": {
     "duration": 1.063106,
     "end_time": "2022-05-06T20:15:59.755841",
     "exception": false,
     "start_time": "2022-05-06T20:15:58.692735",
     "status": "completed"
    },
    "tags": []
   },
   "outputs": [],
   "source": [
    "\n",
    "\n",
    "predict_prob=model.predict(X_test)\n",
    "\n",
    "predict_classes=np.argmax(predict_prob,axis=1)\n",
    "\n",
    "predict_prob\n",
    "\n",
    "clf = make_pipeline(StandardScaler(), LinearSVC(random_state=0, tol=1e-5))"
   ]
  },
  {
   "cell_type": "code",
   "execution_count": 56,
   "id": "7408d194",
   "metadata": {
    "execution": {
     "iopub.execute_input": "2022-05-06T20:16:01.647397Z",
     "iopub.status.busy": "2022-05-06T20:16:01.646743Z",
     "iopub.status.idle": "2022-05-06T20:16:01.649103Z",
     "shell.execute_reply": "2022-05-06T20:16:01.649717Z",
     "shell.execute_reply.started": "2022-05-06T19:38:58.868307Z"
    },
    "papermill": {
     "duration": 0.943782,
     "end_time": "2022-05-06T20:16:01.649904",
     "exception": false,
     "start_time": "2022-05-06T20:16:00.706122",
     "status": "completed"
    },
    "tags": []
   },
   "outputs": [],
   "source": [
    "y_train_ = [1,2,3,4,5,6,7,8,9,10,11,12,13,14,15,16,17,18,19,20,21]\n",
    "y_train_ = np.asarray(y_train_)\n",
    "y_train_.shape\n",
    "X_train.shape\n",
    "k=np.array(extracted_features_df['primary_label'].tolist())\n",
    "k = labelencoder.fit_transform(k)"
   ]
  },
  {
   "cell_type": "code",
   "execution_count": 57,
   "id": "11e4eed0",
   "metadata": {
    "execution": {
     "iopub.execute_input": "2022-05-06T20:16:03.647403Z",
     "iopub.status.busy": "2022-05-06T20:16:03.646777Z",
     "iopub.status.idle": "2022-05-06T20:16:04.812792Z",
     "shell.execute_reply": "2022-05-06T20:16:04.813238Z",
     "shell.execute_reply.started": "2022-05-06T19:38:58.880204Z"
    },
    "papermill": {
     "duration": 2.094802,
     "end_time": "2022-05-06T20:16:04.813437",
     "exception": false,
     "start_time": "2022-05-06T20:16:02.718635",
     "status": "completed"
    },
    "tags": []
   },
   "outputs": [
    {
     "name": "stderr",
     "output_type": "stream",
     "text": [
      "/opt/conda/lib/python3.7/site-packages/sklearn/svm/_base.py:1208: ConvergenceWarning: Liblinear failed to converge, increase the number of iterations.\n",
      "  ConvergenceWarning,\n"
     ]
    },
    {
     "data": {
      "text/plain": [
       "Pipeline(steps=[('standardscaler', StandardScaler()),\n",
       "                ('linearsvc', LinearSVC(random_state=0, tol=1e-05))])"
      ]
     },
     "execution_count": 57,
     "metadata": {},
     "output_type": "execute_result"
    }
   ],
   "source": [
    "clf.fit(X, k)"
   ]
  },
  {
   "cell_type": "code",
   "execution_count": 58,
   "id": "48b397da",
   "metadata": {
    "execution": {
     "iopub.execute_input": "2022-05-06T20:16:06.668570Z",
     "iopub.status.busy": "2022-05-06T20:16:06.667920Z",
     "iopub.status.idle": "2022-05-06T20:16:06.679251Z",
     "shell.execute_reply": "2022-05-06T20:16:06.680171Z",
     "shell.execute_reply.started": "2022-05-06T19:39:00.269345Z"
    },
    "papermill": {
     "duration": 0.964683,
     "end_time": "2022-05-06T20:16:06.680469",
     "exception": false,
     "start_time": "2022-05-06T20:16:05.715786",
     "status": "completed"
    },
    "tags": []
   },
   "outputs": [],
   "source": [
    "pre = clf.score(X,k)"
   ]
  },
  {
   "cell_type": "code",
   "execution_count": 59,
   "id": "81281f23",
   "metadata": {
    "execution": {
     "iopub.execute_input": "2022-05-06T20:16:08.597407Z",
     "iopub.status.busy": "2022-05-06T20:16:08.596248Z",
     "iopub.status.idle": "2022-05-06T20:16:08.603343Z",
     "shell.execute_reply": "2022-05-06T20:16:08.604561Z",
     "shell.execute_reply.started": "2022-05-06T19:39:00.317053Z"
    },
    "papermill": {
     "duration": 0.928481,
     "end_time": "2022-05-06T20:16:08.604866",
     "exception": false,
     "start_time": "2022-05-06T20:16:07.676385",
     "status": "completed"
    },
    "tags": []
   },
   "outputs": [],
   "source": [
    "prediction = clf.decision_function(X)"
   ]
  },
  {
   "cell_type": "code",
   "execution_count": 60,
   "id": "6ce2bddb",
   "metadata": {
    "execution": {
     "iopub.execute_input": "2022-05-06T20:16:10.471356Z",
     "iopub.status.busy": "2022-05-06T20:16:10.470656Z",
     "iopub.status.idle": "2022-05-06T20:16:10.486096Z",
     "shell.execute_reply": "2022-05-06T20:16:10.486873Z",
     "shell.execute_reply.started": "2022-05-06T19:39:01.004263Z"
    },
    "papermill": {
     "duration": 0.924327,
     "end_time": "2022-05-06T20:16:10.487107",
     "exception": false,
     "start_time": "2022-05-06T20:16:09.562780",
     "status": "completed"
    },
    "tags": []
   },
   "outputs": [
    {
     "name": "stdout",
     "output_type": "stream",
     "text": [
      "                          row_id  target\n",
      "0  soundscape_453028782_akiapo_5   False\n",
      "1  soundscape_453028782_aniani_5   False\n",
      "2  soundscape_453028782_apapan_5   False\n",
      "3  soundscape_453028782_barpet_5   False\n",
      "4  soundscape_453028782_crehon_5   False\n"
     ]
    }
   ],
   "source": [
    "results = pd.DataFrame(pred, columns = ['row_id', 'target'])\n",
    "\n",
    "# Quick sanity check\n",
    "print(results.head()) \n",
    "    \n",
    "# Convert our results to csv\n",
    "results.to_csv(\"submission.csv\", index=False)"
   ]
  }
 ],
 "metadata": {
  "kernelspec": {
   "display_name": "Python 3",
   "language": "python",
   "name": "python3"
  },
  "language_info": {
   "codemirror_mode": {
    "name": "ipython",
    "version": 3
   },
   "file_extension": ".py",
   "mimetype": "text/x-python",
   "name": "python",
   "nbconvert_exporter": "python",
   "pygments_lexer": "ipython3",
   "version": "3.7.12"
  },
  "papermill": {
   "default_parameters": {},
   "duration": 1049.658208,
   "end_time": "2022-05-06T20:16:14.371219",
   "environment_variables": {},
   "exception": null,
   "input_path": "__notebook__.ipynb",
   "output_path": "__notebook__.ipynb",
   "parameters": {},
   "start_time": "2022-05-06T19:58:44.713011",
   "version": "2.3.3"
  }
 },
 "nbformat": 4,
 "nbformat_minor": 5
}
